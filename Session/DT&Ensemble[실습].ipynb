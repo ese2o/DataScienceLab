{
  "nbformat": 4,
  "nbformat_minor": 0,
  "metadata": {
    "colab": {
      "provenance": [],
      "collapsed_sections": [
        "qHVqx2qOO1Xw",
        "w7OBvflgLhXB",
        "WWul7yu0RdQV",
        "JSkfXmqmWZH1",
        "MjeqTB0wWr7l",
        "oa-yrF0UWeHY",
        "1R83f3OI5ITU",
        "-wx2iSK6AY-S",
        "MfPRyjtW7OJh"
      ]
    },
    "kernelspec": {
      "name": "python3",
      "display_name": "Python 3"
    },
    "language_info": {
      "name": "python"
    }
  },
  "cells": [
    {
      "cell_type": "markdown",
      "source": [
        "# **Decision Tree & Ensemble**\n",
        "\n",
        "Data: 위스콘신 유방암 데이터셋\n",
        "\n",
        "Detail: 종양의 크기, 모양 등 다양한 속성 데이터를 기반으로 해당 종양이 악성(Malignmant)인지 양성(Benign)인지를 분류한 데이터셋이다.\n",
        "\n",
        "Task: 이 데이터셋을 Decision Tree와 Ensemble 기법을 이용하여 분석한다."
      ],
      "metadata": {
        "id": "qHVqx2qOO1Xw"
      }
    },
    {
      "cell_type": "markdown",
      "source": [
        "**Decision Tree 설명**\n",
        "\n",
        "DT 장점: 직관적으로 이해하기 쉽다, 스케일링 같은 전처리 작업 등이 필요 없다, 시각적으로 표현하기 쉽다 <br>\n",
        "DT 단점: 과적합되기 쉽다 > 이를 극복하기 위해 트리의 크기를 사전에 제한하는 튜닝 필요\n",
        "\n",
        "**결정트리 만들기: DecisionTreeClassifier 함수 이용** <br>\n",
        "\n",
        "호출 방법: *from sklearn.tree import DecisionTreeClassifier*\n",
        "\n",
        "DecisionTreeClassifier 함수의 (하이퍼) 파라미터: <br>\n",
        "- min_samples_split : 노드를 분할하기 위한 최소한의 샘플 데이터 수, <br>\n",
        "  디폴트는 2이고 작게 설정할 수록 분할되는 노드가 많아져서 과적합 가능성 증가 <br>\n",
        "\n",
        "- min_samples_leaf : 말단 노드가 되기 위한 최소한의 샘플 데이터 수\n",
        "\n",
        "- max_features : 최적의 분할을 위해 고려할 최대 피처 개수. <br>\n",
        "디폴트는 None으로 데이터 세트의 모든 피처를 사용해 분할 수행 <br>\n",
        "\n",
        "- max_depth : 트리의 최대 깊이를 규정 <br>\n",
        "디폴트는 None으로, 완벽하게 클래스 결정 값이 될 때까지 깊이를 계속 키우며 분할 <br>\n",
        "적절하게 깊이를 제한해야 과적합을 방지할 수 있음\n",
        "\n",
        "- max_leaf_nodes : 말단 노드의 최대 개수 <br>"
      ],
      "metadata": {
        "id": "rVNJbiO2SQHU"
      }
    },
    {
      "cell_type": "code",
      "execution_count": null,
      "metadata": {
        "colab": {
          "base_uri": "https://localhost:8080/"
        },
        "id": "kYD7QWPXKU5R",
        "outputId": "46c74c43-aae3-4275-e669-f1c67a43e85d"
      },
      "outputs": [
        {
          "output_type": "stream",
          "name": "stdout",
          "text": [
            "Drive already mounted at /content/drive; to attempt to forcibly remount, call drive.mount(\"/content/drive\", force_remount=True).\n"
          ]
        }
      ],
      "source": [
        "#구글 드라이브 접속 권한 획득\n",
        "from google.colab import drive\n",
        "drive.mount('/content/drive')"
      ]
    },
    {
      "cell_type": "markdown",
      "source": [
        "# 데이터 전처리"
      ],
      "metadata": {
        "id": "w7OBvflgLhXB"
      }
    },
    {
      "cell_type": "code",
      "source": [
        "#필요한 라이브러리를 import\n",
        "import numpy as np\n",
        "import pandas as pd\n",
        "\n",
        "#csv파일 읽어오기\n",
        "df = pd.read_csv('/content/drive/MyDrive/data.csv')\n",
        "df"
      ],
      "metadata": {
        "colab": {
          "base_uri": "https://localhost:8080/"
        },
        "id": "5gBK-AjaKY2I",
        "outputId": "3ac5cee3-609b-41b6-a7b5-e2771337b4f2"
      },
      "execution_count": null,
      "outputs": [
        {
          "output_type": "execute_result",
          "data": {
            "text/plain": [
              "         diagnosis  radius_mean  texture_mean  perimeter_mean  area_mean  \\\n",
              "id                                                                         \n",
              "842302           M        17.99         10.38          122.80     1001.0   \n",
              "842517           M        20.57         17.77          132.90     1326.0   \n",
              "84300903         M        19.69         21.25          130.00     1203.0   \n",
              "84348301         M        11.42         20.38           77.58      386.1   \n",
              "84358402         M        20.29         14.34          135.10     1297.0   \n",
              "...            ...          ...           ...             ...        ...   \n",
              "926424           M        21.56         22.39          142.00     1479.0   \n",
              "926682           M        20.13         28.25          131.20     1261.0   \n",
              "926954           M        16.60         28.08          108.30      858.1   \n",
              "927241           M        20.60         29.33          140.10     1265.0   \n",
              "92751            B         7.76         24.54           47.92      181.0   \n",
              "\n",
              "          smoothness_mean  compactness_mean  concavity_mean  \\\n",
              "id                                                            \n",
              "842302            0.11840           0.27760         0.30010   \n",
              "842517            0.08474           0.07864         0.08690   \n",
              "84300903          0.10960           0.15990         0.19740   \n",
              "84348301          0.14250           0.28390         0.24140   \n",
              "84358402          0.10030           0.13280         0.19800   \n",
              "...                   ...               ...             ...   \n",
              "926424            0.11100           0.11590         0.24390   \n",
              "926682            0.09780           0.10340         0.14400   \n",
              "926954            0.08455           0.10230         0.09251   \n",
              "927241            0.11780           0.27700         0.35140   \n",
              "92751             0.05263           0.04362         0.00000   \n",
              "\n",
              "          concave points_mean  symmetry_mean  ...  texture_worst  \\\n",
              "id                                            ...                  \n",
              "842302                0.14710         0.2419  ...          17.33   \n",
              "842517                0.07017         0.1812  ...          23.41   \n",
              "84300903              0.12790         0.2069  ...          25.53   \n",
              "84348301              0.10520         0.2597  ...          26.50   \n",
              "84358402              0.10430         0.1809  ...          16.67   \n",
              "...                       ...            ...  ...            ...   \n",
              "926424                0.13890         0.1726  ...          26.40   \n",
              "926682                0.09791         0.1752  ...          38.25   \n",
              "926954                0.05302         0.1590  ...          34.12   \n",
              "927241                0.15200         0.2397  ...          39.42   \n",
              "92751                 0.00000         0.1587  ...          30.37   \n",
              "\n",
              "          perimeter_worst  area_worst  smoothness_worst  compactness_worst  \\\n",
              "id                                                                           \n",
              "842302             184.60      2019.0           0.16220            0.66560   \n",
              "842517             158.80      1956.0           0.12380            0.18660   \n",
              "84300903           152.50      1709.0           0.14440            0.42450   \n",
              "84348301            98.87       567.7           0.20980            0.86630   \n",
              "84358402           152.20      1575.0           0.13740            0.20500   \n",
              "...                   ...         ...               ...                ...   \n",
              "926424             166.10      2027.0           0.14100            0.21130   \n",
              "926682             155.00      1731.0           0.11660            0.19220   \n",
              "926954             126.70      1124.0           0.11390            0.30940   \n",
              "927241             184.60      1821.0           0.16500            0.86810   \n",
              "92751               59.16       268.6           0.08996            0.06444   \n",
              "\n",
              "          concavity_worst  concave points_worst  symmetry_worst  \\\n",
              "id                                                                \n",
              "842302             0.7119                0.2654          0.4601   \n",
              "842517             0.2416                0.1860          0.2750   \n",
              "84300903           0.4504                0.2430          0.3613   \n",
              "84348301           0.6869                0.2575          0.6638   \n",
              "84358402           0.4000                0.1625          0.2364   \n",
              "...                   ...                   ...             ...   \n",
              "926424             0.4107                0.2216          0.2060   \n",
              "926682             0.3215                0.1628          0.2572   \n",
              "926954             0.3403                0.1418          0.2218   \n",
              "927241             0.9387                0.2650          0.4087   \n",
              "92751              0.0000                0.0000          0.2871   \n",
              "\n",
              "          fractal_dimension_worst  Unnamed: 32  \n",
              "id                                              \n",
              "842302                    0.11890          NaN  \n",
              "842517                    0.08902          NaN  \n",
              "84300903                  0.08758          NaN  \n",
              "84348301                  0.17300          NaN  \n",
              "84358402                  0.07678          NaN  \n",
              "...                           ...          ...  \n",
              "926424                    0.07115          NaN  \n",
              "926682                    0.06637          NaN  \n",
              "926954                    0.07820          NaN  \n",
              "927241                    0.12400          NaN  \n",
              "92751                     0.07039          NaN  \n",
              "\n",
              "[569 rows x 32 columns]"
            ],
            "text/html": [
              "\n",
              "\n",
              "  <div id=\"df-454501d9-e25f-4d3f-94a4-fc16bb0d93b5\">\n",
              "    <div class=\"colab-df-container\">\n",
              "      <div>\n",
              "<style scoped>\n",
              "    .dataframe tbody tr th:only-of-type {\n",
              "        vertical-align: middle;\n",
              "    }\n",
              "\n",
              "    .dataframe tbody tr th {\n",
              "        vertical-align: top;\n",
              "    }\n",
              "\n",
              "    .dataframe thead th {\n",
              "        text-align: right;\n",
              "    }\n",
              "</style>\n",
              "<table border=\"1\" class=\"dataframe\">\n",
              "  <thead>\n",
              "    <tr style=\"text-align: right;\">\n",
              "      <th></th>\n",
              "      <th>diagnosis</th>\n",
              "      <th>radius_mean</th>\n",
              "      <th>texture_mean</th>\n",
              "      <th>perimeter_mean</th>\n",
              "      <th>area_mean</th>\n",
              "      <th>smoothness_mean</th>\n",
              "      <th>compactness_mean</th>\n",
              "      <th>concavity_mean</th>\n",
              "      <th>concave points_mean</th>\n",
              "      <th>symmetry_mean</th>\n",
              "      <th>...</th>\n",
              "      <th>texture_worst</th>\n",
              "      <th>perimeter_worst</th>\n",
              "      <th>area_worst</th>\n",
              "      <th>smoothness_worst</th>\n",
              "      <th>compactness_worst</th>\n",
              "      <th>concavity_worst</th>\n",
              "      <th>concave points_worst</th>\n",
              "      <th>symmetry_worst</th>\n",
              "      <th>fractal_dimension_worst</th>\n",
              "      <th>Unnamed: 32</th>\n",
              "    </tr>\n",
              "    <tr>\n",
              "      <th>id</th>\n",
              "      <th></th>\n",
              "      <th></th>\n",
              "      <th></th>\n",
              "      <th></th>\n",
              "      <th></th>\n",
              "      <th></th>\n",
              "      <th></th>\n",
              "      <th></th>\n",
              "      <th></th>\n",
              "      <th></th>\n",
              "      <th></th>\n",
              "      <th></th>\n",
              "      <th></th>\n",
              "      <th></th>\n",
              "      <th></th>\n",
              "      <th></th>\n",
              "      <th></th>\n",
              "      <th></th>\n",
              "      <th></th>\n",
              "      <th></th>\n",
              "      <th></th>\n",
              "    </tr>\n",
              "  </thead>\n",
              "  <tbody>\n",
              "    <tr>\n",
              "      <th>842302</th>\n",
              "      <td>M</td>\n",
              "      <td>17.99</td>\n",
              "      <td>10.38</td>\n",
              "      <td>122.80</td>\n",
              "      <td>1001.0</td>\n",
              "      <td>0.11840</td>\n",
              "      <td>0.27760</td>\n",
              "      <td>0.30010</td>\n",
              "      <td>0.14710</td>\n",
              "      <td>0.2419</td>\n",
              "      <td>...</td>\n",
              "      <td>17.33</td>\n",
              "      <td>184.60</td>\n",
              "      <td>2019.0</td>\n",
              "      <td>0.16220</td>\n",
              "      <td>0.66560</td>\n",
              "      <td>0.7119</td>\n",
              "      <td>0.2654</td>\n",
              "      <td>0.4601</td>\n",
              "      <td>0.11890</td>\n",
              "      <td>NaN</td>\n",
              "    </tr>\n",
              "    <tr>\n",
              "      <th>842517</th>\n",
              "      <td>M</td>\n",
              "      <td>20.57</td>\n",
              "      <td>17.77</td>\n",
              "      <td>132.90</td>\n",
              "      <td>1326.0</td>\n",
              "      <td>0.08474</td>\n",
              "      <td>0.07864</td>\n",
              "      <td>0.08690</td>\n",
              "      <td>0.07017</td>\n",
              "      <td>0.1812</td>\n",
              "      <td>...</td>\n",
              "      <td>23.41</td>\n",
              "      <td>158.80</td>\n",
              "      <td>1956.0</td>\n",
              "      <td>0.12380</td>\n",
              "      <td>0.18660</td>\n",
              "      <td>0.2416</td>\n",
              "      <td>0.1860</td>\n",
              "      <td>0.2750</td>\n",
              "      <td>0.08902</td>\n",
              "      <td>NaN</td>\n",
              "    </tr>\n",
              "    <tr>\n",
              "      <th>84300903</th>\n",
              "      <td>M</td>\n",
              "      <td>19.69</td>\n",
              "      <td>21.25</td>\n",
              "      <td>130.00</td>\n",
              "      <td>1203.0</td>\n",
              "      <td>0.10960</td>\n",
              "      <td>0.15990</td>\n",
              "      <td>0.19740</td>\n",
              "      <td>0.12790</td>\n",
              "      <td>0.2069</td>\n",
              "      <td>...</td>\n",
              "      <td>25.53</td>\n",
              "      <td>152.50</td>\n",
              "      <td>1709.0</td>\n",
              "      <td>0.14440</td>\n",
              "      <td>0.42450</td>\n",
              "      <td>0.4504</td>\n",
              "      <td>0.2430</td>\n",
              "      <td>0.3613</td>\n",
              "      <td>0.08758</td>\n",
              "      <td>NaN</td>\n",
              "    </tr>\n",
              "    <tr>\n",
              "      <th>84348301</th>\n",
              "      <td>M</td>\n",
              "      <td>11.42</td>\n",
              "      <td>20.38</td>\n",
              "      <td>77.58</td>\n",
              "      <td>386.1</td>\n",
              "      <td>0.14250</td>\n",
              "      <td>0.28390</td>\n",
              "      <td>0.24140</td>\n",
              "      <td>0.10520</td>\n",
              "      <td>0.2597</td>\n",
              "      <td>...</td>\n",
              "      <td>26.50</td>\n",
              "      <td>98.87</td>\n",
              "      <td>567.7</td>\n",
              "      <td>0.20980</td>\n",
              "      <td>0.86630</td>\n",
              "      <td>0.6869</td>\n",
              "      <td>0.2575</td>\n",
              "      <td>0.6638</td>\n",
              "      <td>0.17300</td>\n",
              "      <td>NaN</td>\n",
              "    </tr>\n",
              "    <tr>\n",
              "      <th>84358402</th>\n",
              "      <td>M</td>\n",
              "      <td>20.29</td>\n",
              "      <td>14.34</td>\n",
              "      <td>135.10</td>\n",
              "      <td>1297.0</td>\n",
              "      <td>0.10030</td>\n",
              "      <td>0.13280</td>\n",
              "      <td>0.19800</td>\n",
              "      <td>0.10430</td>\n",
              "      <td>0.1809</td>\n",
              "      <td>...</td>\n",
              "      <td>16.67</td>\n",
              "      <td>152.20</td>\n",
              "      <td>1575.0</td>\n",
              "      <td>0.13740</td>\n",
              "      <td>0.20500</td>\n",
              "      <td>0.4000</td>\n",
              "      <td>0.1625</td>\n",
              "      <td>0.2364</td>\n",
              "      <td>0.07678</td>\n",
              "      <td>NaN</td>\n",
              "    </tr>\n",
              "    <tr>\n",
              "      <th>...</th>\n",
              "      <td>...</td>\n",
              "      <td>...</td>\n",
              "      <td>...</td>\n",
              "      <td>...</td>\n",
              "      <td>...</td>\n",
              "      <td>...</td>\n",
              "      <td>...</td>\n",
              "      <td>...</td>\n",
              "      <td>...</td>\n",
              "      <td>...</td>\n",
              "      <td>...</td>\n",
              "      <td>...</td>\n",
              "      <td>...</td>\n",
              "      <td>...</td>\n",
              "      <td>...</td>\n",
              "      <td>...</td>\n",
              "      <td>...</td>\n",
              "      <td>...</td>\n",
              "      <td>...</td>\n",
              "      <td>...</td>\n",
              "      <td>...</td>\n",
              "    </tr>\n",
              "    <tr>\n",
              "      <th>926424</th>\n",
              "      <td>M</td>\n",
              "      <td>21.56</td>\n",
              "      <td>22.39</td>\n",
              "      <td>142.00</td>\n",
              "      <td>1479.0</td>\n",
              "      <td>0.11100</td>\n",
              "      <td>0.11590</td>\n",
              "      <td>0.24390</td>\n",
              "      <td>0.13890</td>\n",
              "      <td>0.1726</td>\n",
              "      <td>...</td>\n",
              "      <td>26.40</td>\n",
              "      <td>166.10</td>\n",
              "      <td>2027.0</td>\n",
              "      <td>0.14100</td>\n",
              "      <td>0.21130</td>\n",
              "      <td>0.4107</td>\n",
              "      <td>0.2216</td>\n",
              "      <td>0.2060</td>\n",
              "      <td>0.07115</td>\n",
              "      <td>NaN</td>\n",
              "    </tr>\n",
              "    <tr>\n",
              "      <th>926682</th>\n",
              "      <td>M</td>\n",
              "      <td>20.13</td>\n",
              "      <td>28.25</td>\n",
              "      <td>131.20</td>\n",
              "      <td>1261.0</td>\n",
              "      <td>0.09780</td>\n",
              "      <td>0.10340</td>\n",
              "      <td>0.14400</td>\n",
              "      <td>0.09791</td>\n",
              "      <td>0.1752</td>\n",
              "      <td>...</td>\n",
              "      <td>38.25</td>\n",
              "      <td>155.00</td>\n",
              "      <td>1731.0</td>\n",
              "      <td>0.11660</td>\n",
              "      <td>0.19220</td>\n",
              "      <td>0.3215</td>\n",
              "      <td>0.1628</td>\n",
              "      <td>0.2572</td>\n",
              "      <td>0.06637</td>\n",
              "      <td>NaN</td>\n",
              "    </tr>\n",
              "    <tr>\n",
              "      <th>926954</th>\n",
              "      <td>M</td>\n",
              "      <td>16.60</td>\n",
              "      <td>28.08</td>\n",
              "      <td>108.30</td>\n",
              "      <td>858.1</td>\n",
              "      <td>0.08455</td>\n",
              "      <td>0.10230</td>\n",
              "      <td>0.09251</td>\n",
              "      <td>0.05302</td>\n",
              "      <td>0.1590</td>\n",
              "      <td>...</td>\n",
              "      <td>34.12</td>\n",
              "      <td>126.70</td>\n",
              "      <td>1124.0</td>\n",
              "      <td>0.11390</td>\n",
              "      <td>0.30940</td>\n",
              "      <td>0.3403</td>\n",
              "      <td>0.1418</td>\n",
              "      <td>0.2218</td>\n",
              "      <td>0.07820</td>\n",
              "      <td>NaN</td>\n",
              "    </tr>\n",
              "    <tr>\n",
              "      <th>927241</th>\n",
              "      <td>M</td>\n",
              "      <td>20.60</td>\n",
              "      <td>29.33</td>\n",
              "      <td>140.10</td>\n",
              "      <td>1265.0</td>\n",
              "      <td>0.11780</td>\n",
              "      <td>0.27700</td>\n",
              "      <td>0.35140</td>\n",
              "      <td>0.15200</td>\n",
              "      <td>0.2397</td>\n",
              "      <td>...</td>\n",
              "      <td>39.42</td>\n",
              "      <td>184.60</td>\n",
              "      <td>1821.0</td>\n",
              "      <td>0.16500</td>\n",
              "      <td>0.86810</td>\n",
              "      <td>0.9387</td>\n",
              "      <td>0.2650</td>\n",
              "      <td>0.4087</td>\n",
              "      <td>0.12400</td>\n",
              "      <td>NaN</td>\n",
              "    </tr>\n",
              "    <tr>\n",
              "      <th>92751</th>\n",
              "      <td>B</td>\n",
              "      <td>7.76</td>\n",
              "      <td>24.54</td>\n",
              "      <td>47.92</td>\n",
              "      <td>181.0</td>\n",
              "      <td>0.05263</td>\n",
              "      <td>0.04362</td>\n",
              "      <td>0.00000</td>\n",
              "      <td>0.00000</td>\n",
              "      <td>0.1587</td>\n",
              "      <td>...</td>\n",
              "      <td>30.37</td>\n",
              "      <td>59.16</td>\n",
              "      <td>268.6</td>\n",
              "      <td>0.08996</td>\n",
              "      <td>0.06444</td>\n",
              "      <td>0.0000</td>\n",
              "      <td>0.0000</td>\n",
              "      <td>0.2871</td>\n",
              "      <td>0.07039</td>\n",
              "      <td>NaN</td>\n",
              "    </tr>\n",
              "  </tbody>\n",
              "</table>\n",
              "<p>569 rows × 32 columns</p>\n",
              "</div>\n",
              "      <button class=\"colab-df-convert\" onclick=\"convertToInteractive('df-454501d9-e25f-4d3f-94a4-fc16bb0d93b5')\"\n",
              "              title=\"Convert this dataframe to an interactive table.\"\n",
              "              style=\"display:none;\">\n",
              "\n",
              "  <svg xmlns=\"http://www.w3.org/2000/svg\" height=\"24px\"viewBox=\"0 0 24 24\"\n",
              "       width=\"24px\">\n",
              "    <path d=\"M0 0h24v24H0V0z\" fill=\"none\"/>\n",
              "    <path d=\"M18.56 5.44l.94 2.06.94-2.06 2.06-.94-2.06-.94-.94-2.06-.94 2.06-2.06.94zm-11 1L8.5 8.5l.94-2.06 2.06-.94-2.06-.94L8.5 2.5l-.94 2.06-2.06.94zm10 10l.94 2.06.94-2.06 2.06-.94-2.06-.94-.94-2.06-.94 2.06-2.06.94z\"/><path d=\"M17.41 7.96l-1.37-1.37c-.4-.4-.92-.59-1.43-.59-.52 0-1.04.2-1.43.59L10.3 9.45l-7.72 7.72c-.78.78-.78 2.05 0 2.83L4 21.41c.39.39.9.59 1.41.59.51 0 1.02-.2 1.41-.59l7.78-7.78 2.81-2.81c.8-.78.8-2.07 0-2.86zM5.41 20L4 18.59l7.72-7.72 1.47 1.35L5.41 20z\"/>\n",
              "  </svg>\n",
              "      </button>\n",
              "\n",
              "\n",
              "\n",
              "    <div id=\"df-59654db6-3dbd-4f7b-982e-6f01a6dfc1c2\">\n",
              "      <button class=\"colab-df-quickchart\" onclick=\"quickchart('df-59654db6-3dbd-4f7b-982e-6f01a6dfc1c2')\"\n",
              "              title=\"Suggest charts.\"\n",
              "              style=\"display:none;\">\n",
              "\n",
              "<svg xmlns=\"http://www.w3.org/2000/svg\" height=\"24px\"viewBox=\"0 0 24 24\"\n",
              "     width=\"24px\">\n",
              "    <g>\n",
              "        <path d=\"M19 3H5c-1.1 0-2 .9-2 2v14c0 1.1.9 2 2 2h14c1.1 0 2-.9 2-2V5c0-1.1-.9-2-2-2zM9 17H7v-7h2v7zm4 0h-2V7h2v10zm4 0h-2v-4h2v4z\"/>\n",
              "    </g>\n",
              "</svg>\n",
              "      </button>\n",
              "    </div>\n",
              "\n",
              "<style>\n",
              "  .colab-df-quickchart {\n",
              "    background-color: #E8F0FE;\n",
              "    border: none;\n",
              "    border-radius: 50%;\n",
              "    cursor: pointer;\n",
              "    display: none;\n",
              "    fill: #1967D2;\n",
              "    height: 32px;\n",
              "    padding: 0 0 0 0;\n",
              "    width: 32px;\n",
              "  }\n",
              "\n",
              "  .colab-df-quickchart:hover {\n",
              "    background-color: #E2EBFA;\n",
              "    box-shadow: 0px 1px 2px rgba(60, 64, 67, 0.3), 0px 1px 3px 1px rgba(60, 64, 67, 0.15);\n",
              "    fill: #174EA6;\n",
              "  }\n",
              "\n",
              "  [theme=dark] .colab-df-quickchart {\n",
              "    background-color: #3B4455;\n",
              "    fill: #D2E3FC;\n",
              "  }\n",
              "\n",
              "  [theme=dark] .colab-df-quickchart:hover {\n",
              "    background-color: #434B5C;\n",
              "    box-shadow: 0px 1px 3px 1px rgba(0, 0, 0, 0.15);\n",
              "    filter: drop-shadow(0px 1px 2px rgba(0, 0, 0, 0.3));\n",
              "    fill: #FFFFFF;\n",
              "  }\n",
              "</style>\n",
              "\n",
              "    <script>\n",
              "      async function quickchart(key) {\n",
              "        const containerElement = document.querySelector('#' + key);\n",
              "        const charts = await google.colab.kernel.invokeFunction(\n",
              "            'suggestCharts', [key], {});\n",
              "      }\n",
              "    </script>\n",
              "\n",
              "      <script>\n",
              "\n",
              "function displayQuickchartButton(domScope) {\n",
              "  let quickchartButtonEl =\n",
              "    domScope.querySelector('#df-59654db6-3dbd-4f7b-982e-6f01a6dfc1c2 button.colab-df-quickchart');\n",
              "  quickchartButtonEl.style.display =\n",
              "    google.colab.kernel.accessAllowed ? 'block' : 'none';\n",
              "}\n",
              "\n",
              "        displayQuickchartButton(document);\n",
              "      </script>\n",
              "      <style>\n",
              "    .colab-df-container {\n",
              "      display:flex;\n",
              "      flex-wrap:wrap;\n",
              "      gap: 12px;\n",
              "    }\n",
              "\n",
              "    .colab-df-convert {\n",
              "      background-color: #E8F0FE;\n",
              "      border: none;\n",
              "      border-radius: 50%;\n",
              "      cursor: pointer;\n",
              "      display: none;\n",
              "      fill: #1967D2;\n",
              "      height: 32px;\n",
              "      padding: 0 0 0 0;\n",
              "      width: 32px;\n",
              "    }\n",
              "\n",
              "    .colab-df-convert:hover {\n",
              "      background-color: #E2EBFA;\n",
              "      box-shadow: 0px 1px 2px rgba(60, 64, 67, 0.3), 0px 1px 3px 1px rgba(60, 64, 67, 0.15);\n",
              "      fill: #174EA6;\n",
              "    }\n",
              "\n",
              "    [theme=dark] .colab-df-convert {\n",
              "      background-color: #3B4455;\n",
              "      fill: #D2E3FC;\n",
              "    }\n",
              "\n",
              "    [theme=dark] .colab-df-convert:hover {\n",
              "      background-color: #434B5C;\n",
              "      box-shadow: 0px 1px 3px 1px rgba(0, 0, 0, 0.15);\n",
              "      filter: drop-shadow(0px 1px 2px rgba(0, 0, 0, 0.3));\n",
              "      fill: #FFFFFF;\n",
              "    }\n",
              "  </style>\n",
              "\n",
              "      <script>\n",
              "        const buttonEl =\n",
              "          document.querySelector('#df-454501d9-e25f-4d3f-94a4-fc16bb0d93b5 button.colab-df-convert');\n",
              "        buttonEl.style.display =\n",
              "          google.colab.kernel.accessAllowed ? 'block' : 'none';\n",
              "\n",
              "        async function convertToInteractive(key) {\n",
              "          const element = document.querySelector('#df-454501d9-e25f-4d3f-94a4-fc16bb0d93b5');\n",
              "          const dataTable =\n",
              "            await google.colab.kernel.invokeFunction('convertToInteractive',\n",
              "                                                     [key], {});\n",
              "          if (!dataTable) return;\n",
              "\n",
              "          const docLinkHtml = 'Like what you see? Visit the ' +\n",
              "            '<a target=\"_blank\" href=https://colab.research.google.com/notebooks/data_table.ipynb>data table notebook</a>'\n",
              "            + ' to learn more about interactive tables.';\n",
              "          element.innerHTML = '';\n",
              "          dataTable['output_type'] = 'display_data';\n",
              "          await google.colab.output.renderOutput(dataTable, element);\n",
              "          const docLink = document.createElement('div');\n",
              "          docLink.innerHTML = docLinkHtml;\n",
              "          element.appendChild(docLink);\n",
              "        }\n",
              "      </script>\n",
              "    </div>\n",
              "  </div>\n"
            ]
          },
          "metadata": {},
          "execution_count": 1
        }
      ]
    },
    {
      "cell_type": "code",
      "source": [
        "#데이터의 통계량 확인\n",
        "df.describe()"
      ],
      "metadata": {
        "colab": {
          "base_uri": "https://localhost:8080/",
          "height": 411
        },
        "id": "lic5WCb6tGYR",
        "outputId": "9742f05e-09f2-44b9-9a9b-2ebcc3303223"
      },
      "execution_count": null,
      "outputs": [
        {
          "output_type": "execute_result",
          "data": {
            "text/plain": [
              "                 id  radius_mean  texture_mean  perimeter_mean    area_mean  \\\n",
              "count  5.690000e+02   569.000000    569.000000      569.000000   569.000000   \n",
              "mean   3.037183e+07    14.127292     19.289649       91.969033   654.889104   \n",
              "std    1.250206e+08     3.524049      4.301036       24.298981   351.914129   \n",
              "min    8.670000e+03     6.981000      9.710000       43.790000   143.500000   \n",
              "25%    8.692180e+05    11.700000     16.170000       75.170000   420.300000   \n",
              "50%    9.060240e+05    13.370000     18.840000       86.240000   551.100000   \n",
              "75%    8.813129e+06    15.780000     21.800000      104.100000   782.700000   \n",
              "max    9.113205e+08    28.110000     39.280000      188.500000  2501.000000   \n",
              "\n",
              "       smoothness_mean  compactness_mean  concavity_mean  concave points_mean  \\\n",
              "count       569.000000        569.000000      569.000000           569.000000   \n",
              "mean          0.096360          0.104341        0.088799             0.048919   \n",
              "std           0.014064          0.052813        0.079720             0.038803   \n",
              "min           0.052630          0.019380        0.000000             0.000000   \n",
              "25%           0.086370          0.064920        0.029560             0.020310   \n",
              "50%           0.095870          0.092630        0.061540             0.033500   \n",
              "75%           0.105300          0.130400        0.130700             0.074000   \n",
              "max           0.163400          0.345400        0.426800             0.201200   \n",
              "\n",
              "       symmetry_mean  ...  perimeter_worst   area_worst  smoothness_worst  \\\n",
              "count     569.000000  ...       569.000000   569.000000        569.000000   \n",
              "mean        0.181162  ...       107.261213   880.583128          0.132369   \n",
              "std         0.027414  ...        33.602542   569.356993          0.022832   \n",
              "min         0.106000  ...        50.410000   185.200000          0.071170   \n",
              "25%         0.161900  ...        84.110000   515.300000          0.116600   \n",
              "50%         0.179200  ...        97.660000   686.500000          0.131300   \n",
              "75%         0.195700  ...       125.400000  1084.000000          0.146000   \n",
              "max         0.304000  ...       251.200000  4254.000000          0.222600   \n",
              "\n",
              "       compactness_worst  concavity_worst  concave points_worst  \\\n",
              "count         569.000000       569.000000            569.000000   \n",
              "mean            0.254265         0.272188              0.114606   \n",
              "std             0.157336         0.208624              0.065732   \n",
              "min             0.027290         0.000000              0.000000   \n",
              "25%             0.147200         0.114500              0.064930   \n",
              "50%             0.211900         0.226700              0.099930   \n",
              "75%             0.339100         0.382900              0.161400   \n",
              "max             1.058000         1.252000              0.291000   \n",
              "\n",
              "       symmetry_worst  fractal_dimension_worst  Unnamed: 32  diagnosis1  \n",
              "count      569.000000               569.000000          0.0  569.000000  \n",
              "mean         0.290076                 0.083946          NaN    0.372583  \n",
              "std          0.061867                 0.018061          NaN    0.483918  \n",
              "min          0.156500                 0.055040          NaN    0.000000  \n",
              "25%          0.250400                 0.071460          NaN    0.000000  \n",
              "50%          0.282200                 0.080040          NaN    0.000000  \n",
              "75%          0.317900                 0.092080          NaN    1.000000  \n",
              "max          0.663800                 0.207500          NaN    1.000000  \n",
              "\n",
              "[8 rows x 33 columns]"
            ],
            "text/html": [
              "\n",
              "\n",
              "  <div id=\"df-5bab0baa-c90e-4b1f-b475-4cbcd3a217a6\">\n",
              "    <div class=\"colab-df-container\">\n",
              "      <div>\n",
              "<style scoped>\n",
              "    .dataframe tbody tr th:only-of-type {\n",
              "        vertical-align: middle;\n",
              "    }\n",
              "\n",
              "    .dataframe tbody tr th {\n",
              "        vertical-align: top;\n",
              "    }\n",
              "\n",
              "    .dataframe thead th {\n",
              "        text-align: right;\n",
              "    }\n",
              "</style>\n",
              "<table border=\"1\" class=\"dataframe\">\n",
              "  <thead>\n",
              "    <tr style=\"text-align: right;\">\n",
              "      <th></th>\n",
              "      <th>id</th>\n",
              "      <th>radius_mean</th>\n",
              "      <th>texture_mean</th>\n",
              "      <th>perimeter_mean</th>\n",
              "      <th>area_mean</th>\n",
              "      <th>smoothness_mean</th>\n",
              "      <th>compactness_mean</th>\n",
              "      <th>concavity_mean</th>\n",
              "      <th>concave points_mean</th>\n",
              "      <th>symmetry_mean</th>\n",
              "      <th>...</th>\n",
              "      <th>perimeter_worst</th>\n",
              "      <th>area_worst</th>\n",
              "      <th>smoothness_worst</th>\n",
              "      <th>compactness_worst</th>\n",
              "      <th>concavity_worst</th>\n",
              "      <th>concave points_worst</th>\n",
              "      <th>symmetry_worst</th>\n",
              "      <th>fractal_dimension_worst</th>\n",
              "      <th>Unnamed: 32</th>\n",
              "      <th>diagnosis1</th>\n",
              "    </tr>\n",
              "  </thead>\n",
              "  <tbody>\n",
              "    <tr>\n",
              "      <th>count</th>\n",
              "      <td>5.690000e+02</td>\n",
              "      <td>569.000000</td>\n",
              "      <td>569.000000</td>\n",
              "      <td>569.000000</td>\n",
              "      <td>569.000000</td>\n",
              "      <td>569.000000</td>\n",
              "      <td>569.000000</td>\n",
              "      <td>569.000000</td>\n",
              "      <td>569.000000</td>\n",
              "      <td>569.000000</td>\n",
              "      <td>...</td>\n",
              "      <td>569.000000</td>\n",
              "      <td>569.000000</td>\n",
              "      <td>569.000000</td>\n",
              "      <td>569.000000</td>\n",
              "      <td>569.000000</td>\n",
              "      <td>569.000000</td>\n",
              "      <td>569.000000</td>\n",
              "      <td>569.000000</td>\n",
              "      <td>0.0</td>\n",
              "      <td>569.000000</td>\n",
              "    </tr>\n",
              "    <tr>\n",
              "      <th>mean</th>\n",
              "      <td>3.037183e+07</td>\n",
              "      <td>14.127292</td>\n",
              "      <td>19.289649</td>\n",
              "      <td>91.969033</td>\n",
              "      <td>654.889104</td>\n",
              "      <td>0.096360</td>\n",
              "      <td>0.104341</td>\n",
              "      <td>0.088799</td>\n",
              "      <td>0.048919</td>\n",
              "      <td>0.181162</td>\n",
              "      <td>...</td>\n",
              "      <td>107.261213</td>\n",
              "      <td>880.583128</td>\n",
              "      <td>0.132369</td>\n",
              "      <td>0.254265</td>\n",
              "      <td>0.272188</td>\n",
              "      <td>0.114606</td>\n",
              "      <td>0.290076</td>\n",
              "      <td>0.083946</td>\n",
              "      <td>NaN</td>\n",
              "      <td>0.372583</td>\n",
              "    </tr>\n",
              "    <tr>\n",
              "      <th>std</th>\n",
              "      <td>1.250206e+08</td>\n",
              "      <td>3.524049</td>\n",
              "      <td>4.301036</td>\n",
              "      <td>24.298981</td>\n",
              "      <td>351.914129</td>\n",
              "      <td>0.014064</td>\n",
              "      <td>0.052813</td>\n",
              "      <td>0.079720</td>\n",
              "      <td>0.038803</td>\n",
              "      <td>0.027414</td>\n",
              "      <td>...</td>\n",
              "      <td>33.602542</td>\n",
              "      <td>569.356993</td>\n",
              "      <td>0.022832</td>\n",
              "      <td>0.157336</td>\n",
              "      <td>0.208624</td>\n",
              "      <td>0.065732</td>\n",
              "      <td>0.061867</td>\n",
              "      <td>0.018061</td>\n",
              "      <td>NaN</td>\n",
              "      <td>0.483918</td>\n",
              "    </tr>\n",
              "    <tr>\n",
              "      <th>min</th>\n",
              "      <td>8.670000e+03</td>\n",
              "      <td>6.981000</td>\n",
              "      <td>9.710000</td>\n",
              "      <td>43.790000</td>\n",
              "      <td>143.500000</td>\n",
              "      <td>0.052630</td>\n",
              "      <td>0.019380</td>\n",
              "      <td>0.000000</td>\n",
              "      <td>0.000000</td>\n",
              "      <td>0.106000</td>\n",
              "      <td>...</td>\n",
              "      <td>50.410000</td>\n",
              "      <td>185.200000</td>\n",
              "      <td>0.071170</td>\n",
              "      <td>0.027290</td>\n",
              "      <td>0.000000</td>\n",
              "      <td>0.000000</td>\n",
              "      <td>0.156500</td>\n",
              "      <td>0.055040</td>\n",
              "      <td>NaN</td>\n",
              "      <td>0.000000</td>\n",
              "    </tr>\n",
              "    <tr>\n",
              "      <th>25%</th>\n",
              "      <td>8.692180e+05</td>\n",
              "      <td>11.700000</td>\n",
              "      <td>16.170000</td>\n",
              "      <td>75.170000</td>\n",
              "      <td>420.300000</td>\n",
              "      <td>0.086370</td>\n",
              "      <td>0.064920</td>\n",
              "      <td>0.029560</td>\n",
              "      <td>0.020310</td>\n",
              "      <td>0.161900</td>\n",
              "      <td>...</td>\n",
              "      <td>84.110000</td>\n",
              "      <td>515.300000</td>\n",
              "      <td>0.116600</td>\n",
              "      <td>0.147200</td>\n",
              "      <td>0.114500</td>\n",
              "      <td>0.064930</td>\n",
              "      <td>0.250400</td>\n",
              "      <td>0.071460</td>\n",
              "      <td>NaN</td>\n",
              "      <td>0.000000</td>\n",
              "    </tr>\n",
              "    <tr>\n",
              "      <th>50%</th>\n",
              "      <td>9.060240e+05</td>\n",
              "      <td>13.370000</td>\n",
              "      <td>18.840000</td>\n",
              "      <td>86.240000</td>\n",
              "      <td>551.100000</td>\n",
              "      <td>0.095870</td>\n",
              "      <td>0.092630</td>\n",
              "      <td>0.061540</td>\n",
              "      <td>0.033500</td>\n",
              "      <td>0.179200</td>\n",
              "      <td>...</td>\n",
              "      <td>97.660000</td>\n",
              "      <td>686.500000</td>\n",
              "      <td>0.131300</td>\n",
              "      <td>0.211900</td>\n",
              "      <td>0.226700</td>\n",
              "      <td>0.099930</td>\n",
              "      <td>0.282200</td>\n",
              "      <td>0.080040</td>\n",
              "      <td>NaN</td>\n",
              "      <td>0.000000</td>\n",
              "    </tr>\n",
              "    <tr>\n",
              "      <th>75%</th>\n",
              "      <td>8.813129e+06</td>\n",
              "      <td>15.780000</td>\n",
              "      <td>21.800000</td>\n",
              "      <td>104.100000</td>\n",
              "      <td>782.700000</td>\n",
              "      <td>0.105300</td>\n",
              "      <td>0.130400</td>\n",
              "      <td>0.130700</td>\n",
              "      <td>0.074000</td>\n",
              "      <td>0.195700</td>\n",
              "      <td>...</td>\n",
              "      <td>125.400000</td>\n",
              "      <td>1084.000000</td>\n",
              "      <td>0.146000</td>\n",
              "      <td>0.339100</td>\n",
              "      <td>0.382900</td>\n",
              "      <td>0.161400</td>\n",
              "      <td>0.317900</td>\n",
              "      <td>0.092080</td>\n",
              "      <td>NaN</td>\n",
              "      <td>1.000000</td>\n",
              "    </tr>\n",
              "    <tr>\n",
              "      <th>max</th>\n",
              "      <td>9.113205e+08</td>\n",
              "      <td>28.110000</td>\n",
              "      <td>39.280000</td>\n",
              "      <td>188.500000</td>\n",
              "      <td>2501.000000</td>\n",
              "      <td>0.163400</td>\n",
              "      <td>0.345400</td>\n",
              "      <td>0.426800</td>\n",
              "      <td>0.201200</td>\n",
              "      <td>0.304000</td>\n",
              "      <td>...</td>\n",
              "      <td>251.200000</td>\n",
              "      <td>4254.000000</td>\n",
              "      <td>0.222600</td>\n",
              "      <td>1.058000</td>\n",
              "      <td>1.252000</td>\n",
              "      <td>0.291000</td>\n",
              "      <td>0.663800</td>\n",
              "      <td>0.207500</td>\n",
              "      <td>NaN</td>\n",
              "      <td>1.000000</td>\n",
              "    </tr>\n",
              "  </tbody>\n",
              "</table>\n",
              "<p>8 rows × 33 columns</p>\n",
              "</div>\n",
              "      <button class=\"colab-df-convert\" onclick=\"convertToInteractive('df-5bab0baa-c90e-4b1f-b475-4cbcd3a217a6')\"\n",
              "              title=\"Convert this dataframe to an interactive table.\"\n",
              "              style=\"display:none;\">\n",
              "\n",
              "  <svg xmlns=\"http://www.w3.org/2000/svg\" height=\"24px\"viewBox=\"0 0 24 24\"\n",
              "       width=\"24px\">\n",
              "    <path d=\"M0 0h24v24H0V0z\" fill=\"none\"/>\n",
              "    <path d=\"M18.56 5.44l.94 2.06.94-2.06 2.06-.94-2.06-.94-.94-2.06-.94 2.06-2.06.94zm-11 1L8.5 8.5l.94-2.06 2.06-.94-2.06-.94L8.5 2.5l-.94 2.06-2.06.94zm10 10l.94 2.06.94-2.06 2.06-.94-2.06-.94-.94-2.06-.94 2.06-2.06.94z\"/><path d=\"M17.41 7.96l-1.37-1.37c-.4-.4-.92-.59-1.43-.59-.52 0-1.04.2-1.43.59L10.3 9.45l-7.72 7.72c-.78.78-.78 2.05 0 2.83L4 21.41c.39.39.9.59 1.41.59.51 0 1.02-.2 1.41-.59l7.78-7.78 2.81-2.81c.8-.78.8-2.07 0-2.86zM5.41 20L4 18.59l7.72-7.72 1.47 1.35L5.41 20z\"/>\n",
              "  </svg>\n",
              "      </button>\n",
              "\n",
              "\n",
              "\n",
              "    <div id=\"df-ac918f01-ae5e-4e8c-b175-2c50b66d48b0\">\n",
              "      <button class=\"colab-df-quickchart\" onclick=\"quickchart('df-ac918f01-ae5e-4e8c-b175-2c50b66d48b0')\"\n",
              "              title=\"Suggest charts.\"\n",
              "              style=\"display:none;\">\n",
              "\n",
              "<svg xmlns=\"http://www.w3.org/2000/svg\" height=\"24px\"viewBox=\"0 0 24 24\"\n",
              "     width=\"24px\">\n",
              "    <g>\n",
              "        <path d=\"M19 3H5c-1.1 0-2 .9-2 2v14c0 1.1.9 2 2 2h14c1.1 0 2-.9 2-2V5c0-1.1-.9-2-2-2zM9 17H7v-7h2v7zm4 0h-2V7h2v10zm4 0h-2v-4h2v4z\"/>\n",
              "    </g>\n",
              "</svg>\n",
              "      </button>\n",
              "    </div>\n",
              "\n",
              "<style>\n",
              "  .colab-df-quickchart {\n",
              "    background-color: #E8F0FE;\n",
              "    border: none;\n",
              "    border-radius: 50%;\n",
              "    cursor: pointer;\n",
              "    display: none;\n",
              "    fill: #1967D2;\n",
              "    height: 32px;\n",
              "    padding: 0 0 0 0;\n",
              "    width: 32px;\n",
              "  }\n",
              "\n",
              "  .colab-df-quickchart:hover {\n",
              "    background-color: #E2EBFA;\n",
              "    box-shadow: 0px 1px 2px rgba(60, 64, 67, 0.3), 0px 1px 3px 1px rgba(60, 64, 67, 0.15);\n",
              "    fill: #174EA6;\n",
              "  }\n",
              "\n",
              "  [theme=dark] .colab-df-quickchart {\n",
              "    background-color: #3B4455;\n",
              "    fill: #D2E3FC;\n",
              "  }\n",
              "\n",
              "  [theme=dark] .colab-df-quickchart:hover {\n",
              "    background-color: #434B5C;\n",
              "    box-shadow: 0px 1px 3px 1px rgba(0, 0, 0, 0.15);\n",
              "    filter: drop-shadow(0px 1px 2px rgba(0, 0, 0, 0.3));\n",
              "    fill: #FFFFFF;\n",
              "  }\n",
              "</style>\n",
              "\n",
              "    <script>\n",
              "      async function quickchart(key) {\n",
              "        const containerElement = document.querySelector('#' + key);\n",
              "        const charts = await google.colab.kernel.invokeFunction(\n",
              "            'suggestCharts', [key], {});\n",
              "      }\n",
              "    </script>\n",
              "\n",
              "      <script>\n",
              "\n",
              "function displayQuickchartButton(domScope) {\n",
              "  let quickchartButtonEl =\n",
              "    domScope.querySelector('#df-ac918f01-ae5e-4e8c-b175-2c50b66d48b0 button.colab-df-quickchart');\n",
              "  quickchartButtonEl.style.display =\n",
              "    google.colab.kernel.accessAllowed ? 'block' : 'none';\n",
              "}\n",
              "\n",
              "        displayQuickchartButton(document);\n",
              "      </script>\n",
              "      <style>\n",
              "    .colab-df-container {\n",
              "      display:flex;\n",
              "      flex-wrap:wrap;\n",
              "      gap: 12px;\n",
              "    }\n",
              "\n",
              "    .colab-df-convert {\n",
              "      background-color: #E8F0FE;\n",
              "      border: none;\n",
              "      border-radius: 50%;\n",
              "      cursor: pointer;\n",
              "      display: none;\n",
              "      fill: #1967D2;\n",
              "      height: 32px;\n",
              "      padding: 0 0 0 0;\n",
              "      width: 32px;\n",
              "    }\n",
              "\n",
              "    .colab-df-convert:hover {\n",
              "      background-color: #E2EBFA;\n",
              "      box-shadow: 0px 1px 2px rgba(60, 64, 67, 0.3), 0px 1px 3px 1px rgba(60, 64, 67, 0.15);\n",
              "      fill: #174EA6;\n",
              "    }\n",
              "\n",
              "    [theme=dark] .colab-df-convert {\n",
              "      background-color: #3B4455;\n",
              "      fill: #D2E3FC;\n",
              "    }\n",
              "\n",
              "    [theme=dark] .colab-df-convert:hover {\n",
              "      background-color: #434B5C;\n",
              "      box-shadow: 0px 1px 3px 1px rgba(0, 0, 0, 0.15);\n",
              "      filter: drop-shadow(0px 1px 2px rgba(0, 0, 0, 0.3));\n",
              "      fill: #FFFFFF;\n",
              "    }\n",
              "  </style>\n",
              "\n",
              "      <script>\n",
              "        const buttonEl =\n",
              "          document.querySelector('#df-5bab0baa-c90e-4b1f-b475-4cbcd3a217a6 button.colab-df-convert');\n",
              "        buttonEl.style.display =\n",
              "          google.colab.kernel.accessAllowed ? 'block' : 'none';\n",
              "\n",
              "        async function convertToInteractive(key) {\n",
              "          const element = document.querySelector('#df-5bab0baa-c90e-4b1f-b475-4cbcd3a217a6');\n",
              "          const dataTable =\n",
              "            await google.colab.kernel.invokeFunction('convertToInteractive',\n",
              "                                                     [key], {});\n",
              "          if (!dataTable) return;\n",
              "\n",
              "          const docLinkHtml = 'Like what you see? Visit the ' +\n",
              "            '<a target=\"_blank\" href=https://colab.research.google.com/notebooks/data_table.ipynb>data table notebook</a>'\n",
              "            + ' to learn more about interactive tables.';\n",
              "          element.innerHTML = '';\n",
              "          dataTable['output_type'] = 'display_data';\n",
              "          await google.colab.output.renderOutput(dataTable, element);\n",
              "          const docLink = document.createElement('div');\n",
              "          docLink.innerHTML = docLinkHtml;\n",
              "          element.appendChild(docLink);\n",
              "        }\n",
              "      </script>\n",
              "    </div>\n",
              "  </div>\n"
            ]
          },
          "metadata": {},
          "execution_count": 139
        }
      ]
    },
    {
      "cell_type": "code",
      "source": [
        "#데이터 타입 및 non-null count확인\n",
        "df.info()"
      ],
      "metadata": {
        "id": "mhm7jAgCLItQ",
        "colab": {
          "base_uri": "https://localhost:8080/"
        },
        "outputId": "f14e8225-c2f4-4148-c130-a09ec711c2af"
      },
      "execution_count": null,
      "outputs": [
        {
          "output_type": "stream",
          "name": "stdout",
          "text": [
            "<class 'pandas.core.frame.DataFrame'>\n",
            "RangeIndex: 569 entries, 0 to 568\n",
            "Data columns (total 34 columns):\n",
            " #   Column                   Non-Null Count  Dtype  \n",
            "---  ------                   --------------  -----  \n",
            " 0   id                       569 non-null    int64  \n",
            " 1   diagnosis                569 non-null    object \n",
            " 2   radius_mean              569 non-null    float64\n",
            " 3   texture_mean             569 non-null    float64\n",
            " 4   perimeter_mean           569 non-null    float64\n",
            " 5   area_mean                569 non-null    float64\n",
            " 6   smoothness_mean          569 non-null    float64\n",
            " 7   compactness_mean         569 non-null    float64\n",
            " 8   concavity_mean           569 non-null    float64\n",
            " 9   concave points_mean      569 non-null    float64\n",
            " 10  symmetry_mean            569 non-null    float64\n",
            " 11  fractal_dimension_mean   569 non-null    float64\n",
            " 12  radius_se                569 non-null    float64\n",
            " 13  texture_se               569 non-null    float64\n",
            " 14  perimeter_se             569 non-null    float64\n",
            " 15  area_se                  569 non-null    float64\n",
            " 16  smoothness_se            569 non-null    float64\n",
            " 17  compactness_se           569 non-null    float64\n",
            " 18  concavity_se             569 non-null    float64\n",
            " 19  concave points_se        569 non-null    float64\n",
            " 20  symmetry_se              569 non-null    float64\n",
            " 21  fractal_dimension_se     569 non-null    float64\n",
            " 22  radius_worst             569 non-null    float64\n",
            " 23  texture_worst            569 non-null    float64\n",
            " 24  perimeter_worst          569 non-null    float64\n",
            " 25  area_worst               569 non-null    float64\n",
            " 26  smoothness_worst         569 non-null    float64\n",
            " 27  compactness_worst        569 non-null    float64\n",
            " 28  concavity_worst          569 non-null    float64\n",
            " 29  concave points_worst     569 non-null    float64\n",
            " 30  symmetry_worst           569 non-null    float64\n",
            " 31  fractal_dimension_worst  569 non-null    float64\n",
            " 32  Unnamed: 32              0 non-null      float64\n",
            " 33  diagnosis1               569 non-null    int64  \n",
            "dtypes: float64(31), int64(2), object(1)\n",
            "memory usage: 151.3+ KB\n"
          ]
        }
      ]
    },
    {
      "cell_type": "code",
      "source": [
        "#결측치 확인\n",
        "df.isnull().sum()"
      ],
      "metadata": {
        "colab": {
          "base_uri": "https://localhost:8080/"
        },
        "id": "PXd4JEHHuCl7",
        "outputId": "ed7f0cac-8cfc-4c36-8dc3-52590daa4036"
      },
      "execution_count": null,
      "outputs": [
        {
          "output_type": "execute_result",
          "data": {
            "text/plain": [
              "id                           0\n",
              "diagnosis                    0\n",
              "radius_mean                  0\n",
              "texture_mean                 0\n",
              "perimeter_mean               0\n",
              "area_mean                    0\n",
              "smoothness_mean              0\n",
              "compactness_mean             0\n",
              "concavity_mean               0\n",
              "concave points_mean          0\n",
              "symmetry_mean                0\n",
              "fractal_dimension_mean       0\n",
              "radius_se                    0\n",
              "texture_se                   0\n",
              "perimeter_se                 0\n",
              "area_se                      0\n",
              "smoothness_se                0\n",
              "compactness_se               0\n",
              "concavity_se                 0\n",
              "concave points_se            0\n",
              "symmetry_se                  0\n",
              "fractal_dimension_se         0\n",
              "radius_worst                 0\n",
              "texture_worst                0\n",
              "perimeter_worst              0\n",
              "area_worst                   0\n",
              "smoothness_worst             0\n",
              "compactness_worst            0\n",
              "concavity_worst              0\n",
              "concave points_worst         0\n",
              "symmetry_worst               0\n",
              "fractal_dimension_worst      0\n",
              "Unnamed: 32                569\n",
              "diagnosis1                   0\n",
              "dtype: int64"
            ]
          },
          "metadata": {},
          "execution_count": 140
        }
      ]
    },
    {
      "cell_type": "markdown",
      "source": [
        "1번째 컬럼을 제외한 모든 컬럼이 숫자형 데이터이고, 32번째 컬럼이 결측치임을 확인할 수 있다.\n",
        "\n",
        "종양의 크기와 모양에 관련된 속성들은 모두 숫자형태(float)이며, 타깃(y)값인 diagnosis는 문자형태(object)이다.\n",
        "\n",
        "모델을 훈련시킬 때는 숫자형 데이터여야 하기 때문에 diagnosis 컬럼도 숫자형 데이터로 바꿔줄 필요가 있다.\n",
        "\n",
        "데이터를 확인해보면, diagnosis는 M(악성)과 B(양성)의 문자값으로 이루어져 있다. 우리가 관심 있는 값은 악성 종양이기 때문에, M=1로 설정해주고, B=0으로 설정해주도록 한다. (보편적으로 내가 관심 있게 보는 항목을 1로 설정한다.)"
      ],
      "metadata": {
        "id": "xJ2jV5ufND8l"
      }
    },
    {
      "cell_type": "code",
      "source": [
        "def num(row):\n",
        "    if 'M' in row:\n",
        "        return 1\n",
        "    else:\n",
        "        return 0\n",
        "\n",
        "df['diagnosis1'] = df['diagnosis'].apply(num)\n",
        "df"
      ],
      "metadata": {
        "id": "J7t3BS1HQzHE",
        "colab": {
          "base_uri": "https://localhost:8080/",
          "height": 505
        },
        "outputId": "4ca7904c-7d13-4c26-a4c5-9b4e3a6cd195"
      },
      "execution_count": null,
      "outputs": [
        {
          "output_type": "execute_result",
          "data": {
            "text/plain": [
              "           id diagnosis  radius_mean  texture_mean  perimeter_mean  area_mean  \\\n",
              "0      842302         M        17.99         10.38          122.80     1001.0   \n",
              "1      842517         M        20.57         17.77          132.90     1326.0   \n",
              "2    84300903         M        19.69         21.25          130.00     1203.0   \n",
              "3    84348301         M        11.42         20.38           77.58      386.1   \n",
              "4    84358402         M        20.29         14.34          135.10     1297.0   \n",
              "..        ...       ...          ...           ...             ...        ...   \n",
              "564    926424         M        21.56         22.39          142.00     1479.0   \n",
              "565    926682         M        20.13         28.25          131.20     1261.0   \n",
              "566    926954         M        16.60         28.08          108.30      858.1   \n",
              "567    927241         M        20.60         29.33          140.10     1265.0   \n",
              "568     92751         B         7.76         24.54           47.92      181.0   \n",
              "\n",
              "     smoothness_mean  compactness_mean  concavity_mean  concave points_mean  \\\n",
              "0            0.11840           0.27760         0.30010              0.14710   \n",
              "1            0.08474           0.07864         0.08690              0.07017   \n",
              "2            0.10960           0.15990         0.19740              0.12790   \n",
              "3            0.14250           0.28390         0.24140              0.10520   \n",
              "4            0.10030           0.13280         0.19800              0.10430   \n",
              "..               ...               ...             ...                  ...   \n",
              "564          0.11100           0.11590         0.24390              0.13890   \n",
              "565          0.09780           0.10340         0.14400              0.09791   \n",
              "566          0.08455           0.10230         0.09251              0.05302   \n",
              "567          0.11780           0.27700         0.35140              0.15200   \n",
              "568          0.05263           0.04362         0.00000              0.00000   \n",
              "\n",
              "     ...  perimeter_worst  area_worst  smoothness_worst  compactness_worst  \\\n",
              "0    ...           184.60      2019.0           0.16220            0.66560   \n",
              "1    ...           158.80      1956.0           0.12380            0.18660   \n",
              "2    ...           152.50      1709.0           0.14440            0.42450   \n",
              "3    ...            98.87       567.7           0.20980            0.86630   \n",
              "4    ...           152.20      1575.0           0.13740            0.20500   \n",
              "..   ...              ...         ...               ...                ...   \n",
              "564  ...           166.10      2027.0           0.14100            0.21130   \n",
              "565  ...           155.00      1731.0           0.11660            0.19220   \n",
              "566  ...           126.70      1124.0           0.11390            0.30940   \n",
              "567  ...           184.60      1821.0           0.16500            0.86810   \n",
              "568  ...            59.16       268.6           0.08996            0.06444   \n",
              "\n",
              "     concavity_worst  concave points_worst  symmetry_worst  \\\n",
              "0             0.7119                0.2654          0.4601   \n",
              "1             0.2416                0.1860          0.2750   \n",
              "2             0.4504                0.2430          0.3613   \n",
              "3             0.6869                0.2575          0.6638   \n",
              "4             0.4000                0.1625          0.2364   \n",
              "..               ...                   ...             ...   \n",
              "564           0.4107                0.2216          0.2060   \n",
              "565           0.3215                0.1628          0.2572   \n",
              "566           0.3403                0.1418          0.2218   \n",
              "567           0.9387                0.2650          0.4087   \n",
              "568           0.0000                0.0000          0.2871   \n",
              "\n",
              "     fractal_dimension_worst  Unnamed: 32  diagnosis1  \n",
              "0                    0.11890          NaN           1  \n",
              "1                    0.08902          NaN           1  \n",
              "2                    0.08758          NaN           1  \n",
              "3                    0.17300          NaN           1  \n",
              "4                    0.07678          NaN           1  \n",
              "..                       ...          ...         ...  \n",
              "564                  0.07115          NaN           1  \n",
              "565                  0.06637          NaN           1  \n",
              "566                  0.07820          NaN           1  \n",
              "567                  0.12400          NaN           1  \n",
              "568                  0.07039          NaN           0  \n",
              "\n",
              "[569 rows x 34 columns]"
            ],
            "text/html": [
              "\n",
              "\n",
              "  <div id=\"df-29d514bb-541c-401b-a79e-fc414bf3abe5\">\n",
              "    <div class=\"colab-df-container\">\n",
              "      <div>\n",
              "<style scoped>\n",
              "    .dataframe tbody tr th:only-of-type {\n",
              "        vertical-align: middle;\n",
              "    }\n",
              "\n",
              "    .dataframe tbody tr th {\n",
              "        vertical-align: top;\n",
              "    }\n",
              "\n",
              "    .dataframe thead th {\n",
              "        text-align: right;\n",
              "    }\n",
              "</style>\n",
              "<table border=\"1\" class=\"dataframe\">\n",
              "  <thead>\n",
              "    <tr style=\"text-align: right;\">\n",
              "      <th></th>\n",
              "      <th>id</th>\n",
              "      <th>diagnosis</th>\n",
              "      <th>radius_mean</th>\n",
              "      <th>texture_mean</th>\n",
              "      <th>perimeter_mean</th>\n",
              "      <th>area_mean</th>\n",
              "      <th>smoothness_mean</th>\n",
              "      <th>compactness_mean</th>\n",
              "      <th>concavity_mean</th>\n",
              "      <th>concave points_mean</th>\n",
              "      <th>...</th>\n",
              "      <th>perimeter_worst</th>\n",
              "      <th>area_worst</th>\n",
              "      <th>smoothness_worst</th>\n",
              "      <th>compactness_worst</th>\n",
              "      <th>concavity_worst</th>\n",
              "      <th>concave points_worst</th>\n",
              "      <th>symmetry_worst</th>\n",
              "      <th>fractal_dimension_worst</th>\n",
              "      <th>Unnamed: 32</th>\n",
              "      <th>diagnosis1</th>\n",
              "    </tr>\n",
              "  </thead>\n",
              "  <tbody>\n",
              "    <tr>\n",
              "      <th>0</th>\n",
              "      <td>842302</td>\n",
              "      <td>M</td>\n",
              "      <td>17.99</td>\n",
              "      <td>10.38</td>\n",
              "      <td>122.80</td>\n",
              "      <td>1001.0</td>\n",
              "      <td>0.11840</td>\n",
              "      <td>0.27760</td>\n",
              "      <td>0.30010</td>\n",
              "      <td>0.14710</td>\n",
              "      <td>...</td>\n",
              "      <td>184.60</td>\n",
              "      <td>2019.0</td>\n",
              "      <td>0.16220</td>\n",
              "      <td>0.66560</td>\n",
              "      <td>0.7119</td>\n",
              "      <td>0.2654</td>\n",
              "      <td>0.4601</td>\n",
              "      <td>0.11890</td>\n",
              "      <td>NaN</td>\n",
              "      <td>1</td>\n",
              "    </tr>\n",
              "    <tr>\n",
              "      <th>1</th>\n",
              "      <td>842517</td>\n",
              "      <td>M</td>\n",
              "      <td>20.57</td>\n",
              "      <td>17.77</td>\n",
              "      <td>132.90</td>\n",
              "      <td>1326.0</td>\n",
              "      <td>0.08474</td>\n",
              "      <td>0.07864</td>\n",
              "      <td>0.08690</td>\n",
              "      <td>0.07017</td>\n",
              "      <td>...</td>\n",
              "      <td>158.80</td>\n",
              "      <td>1956.0</td>\n",
              "      <td>0.12380</td>\n",
              "      <td>0.18660</td>\n",
              "      <td>0.2416</td>\n",
              "      <td>0.1860</td>\n",
              "      <td>0.2750</td>\n",
              "      <td>0.08902</td>\n",
              "      <td>NaN</td>\n",
              "      <td>1</td>\n",
              "    </tr>\n",
              "    <tr>\n",
              "      <th>2</th>\n",
              "      <td>84300903</td>\n",
              "      <td>M</td>\n",
              "      <td>19.69</td>\n",
              "      <td>21.25</td>\n",
              "      <td>130.00</td>\n",
              "      <td>1203.0</td>\n",
              "      <td>0.10960</td>\n",
              "      <td>0.15990</td>\n",
              "      <td>0.19740</td>\n",
              "      <td>0.12790</td>\n",
              "      <td>...</td>\n",
              "      <td>152.50</td>\n",
              "      <td>1709.0</td>\n",
              "      <td>0.14440</td>\n",
              "      <td>0.42450</td>\n",
              "      <td>0.4504</td>\n",
              "      <td>0.2430</td>\n",
              "      <td>0.3613</td>\n",
              "      <td>0.08758</td>\n",
              "      <td>NaN</td>\n",
              "      <td>1</td>\n",
              "    </tr>\n",
              "    <tr>\n",
              "      <th>3</th>\n",
              "      <td>84348301</td>\n",
              "      <td>M</td>\n",
              "      <td>11.42</td>\n",
              "      <td>20.38</td>\n",
              "      <td>77.58</td>\n",
              "      <td>386.1</td>\n",
              "      <td>0.14250</td>\n",
              "      <td>0.28390</td>\n",
              "      <td>0.24140</td>\n",
              "      <td>0.10520</td>\n",
              "      <td>...</td>\n",
              "      <td>98.87</td>\n",
              "      <td>567.7</td>\n",
              "      <td>0.20980</td>\n",
              "      <td>0.86630</td>\n",
              "      <td>0.6869</td>\n",
              "      <td>0.2575</td>\n",
              "      <td>0.6638</td>\n",
              "      <td>0.17300</td>\n",
              "      <td>NaN</td>\n",
              "      <td>1</td>\n",
              "    </tr>\n",
              "    <tr>\n",
              "      <th>4</th>\n",
              "      <td>84358402</td>\n",
              "      <td>M</td>\n",
              "      <td>20.29</td>\n",
              "      <td>14.34</td>\n",
              "      <td>135.10</td>\n",
              "      <td>1297.0</td>\n",
              "      <td>0.10030</td>\n",
              "      <td>0.13280</td>\n",
              "      <td>0.19800</td>\n",
              "      <td>0.10430</td>\n",
              "      <td>...</td>\n",
              "      <td>152.20</td>\n",
              "      <td>1575.0</td>\n",
              "      <td>0.13740</td>\n",
              "      <td>0.20500</td>\n",
              "      <td>0.4000</td>\n",
              "      <td>0.1625</td>\n",
              "      <td>0.2364</td>\n",
              "      <td>0.07678</td>\n",
              "      <td>NaN</td>\n",
              "      <td>1</td>\n",
              "    </tr>\n",
              "    <tr>\n",
              "      <th>...</th>\n",
              "      <td>...</td>\n",
              "      <td>...</td>\n",
              "      <td>...</td>\n",
              "      <td>...</td>\n",
              "      <td>...</td>\n",
              "      <td>...</td>\n",
              "      <td>...</td>\n",
              "      <td>...</td>\n",
              "      <td>...</td>\n",
              "      <td>...</td>\n",
              "      <td>...</td>\n",
              "      <td>...</td>\n",
              "      <td>...</td>\n",
              "      <td>...</td>\n",
              "      <td>...</td>\n",
              "      <td>...</td>\n",
              "      <td>...</td>\n",
              "      <td>...</td>\n",
              "      <td>...</td>\n",
              "      <td>...</td>\n",
              "      <td>...</td>\n",
              "    </tr>\n",
              "    <tr>\n",
              "      <th>564</th>\n",
              "      <td>926424</td>\n",
              "      <td>M</td>\n",
              "      <td>21.56</td>\n",
              "      <td>22.39</td>\n",
              "      <td>142.00</td>\n",
              "      <td>1479.0</td>\n",
              "      <td>0.11100</td>\n",
              "      <td>0.11590</td>\n",
              "      <td>0.24390</td>\n",
              "      <td>0.13890</td>\n",
              "      <td>...</td>\n",
              "      <td>166.10</td>\n",
              "      <td>2027.0</td>\n",
              "      <td>0.14100</td>\n",
              "      <td>0.21130</td>\n",
              "      <td>0.4107</td>\n",
              "      <td>0.2216</td>\n",
              "      <td>0.2060</td>\n",
              "      <td>0.07115</td>\n",
              "      <td>NaN</td>\n",
              "      <td>1</td>\n",
              "    </tr>\n",
              "    <tr>\n",
              "      <th>565</th>\n",
              "      <td>926682</td>\n",
              "      <td>M</td>\n",
              "      <td>20.13</td>\n",
              "      <td>28.25</td>\n",
              "      <td>131.20</td>\n",
              "      <td>1261.0</td>\n",
              "      <td>0.09780</td>\n",
              "      <td>0.10340</td>\n",
              "      <td>0.14400</td>\n",
              "      <td>0.09791</td>\n",
              "      <td>...</td>\n",
              "      <td>155.00</td>\n",
              "      <td>1731.0</td>\n",
              "      <td>0.11660</td>\n",
              "      <td>0.19220</td>\n",
              "      <td>0.3215</td>\n",
              "      <td>0.1628</td>\n",
              "      <td>0.2572</td>\n",
              "      <td>0.06637</td>\n",
              "      <td>NaN</td>\n",
              "      <td>1</td>\n",
              "    </tr>\n",
              "    <tr>\n",
              "      <th>566</th>\n",
              "      <td>926954</td>\n",
              "      <td>M</td>\n",
              "      <td>16.60</td>\n",
              "      <td>28.08</td>\n",
              "      <td>108.30</td>\n",
              "      <td>858.1</td>\n",
              "      <td>0.08455</td>\n",
              "      <td>0.10230</td>\n",
              "      <td>0.09251</td>\n",
              "      <td>0.05302</td>\n",
              "      <td>...</td>\n",
              "      <td>126.70</td>\n",
              "      <td>1124.0</td>\n",
              "      <td>0.11390</td>\n",
              "      <td>0.30940</td>\n",
              "      <td>0.3403</td>\n",
              "      <td>0.1418</td>\n",
              "      <td>0.2218</td>\n",
              "      <td>0.07820</td>\n",
              "      <td>NaN</td>\n",
              "      <td>1</td>\n",
              "    </tr>\n",
              "    <tr>\n",
              "      <th>567</th>\n",
              "      <td>927241</td>\n",
              "      <td>M</td>\n",
              "      <td>20.60</td>\n",
              "      <td>29.33</td>\n",
              "      <td>140.10</td>\n",
              "      <td>1265.0</td>\n",
              "      <td>0.11780</td>\n",
              "      <td>0.27700</td>\n",
              "      <td>0.35140</td>\n",
              "      <td>0.15200</td>\n",
              "      <td>...</td>\n",
              "      <td>184.60</td>\n",
              "      <td>1821.0</td>\n",
              "      <td>0.16500</td>\n",
              "      <td>0.86810</td>\n",
              "      <td>0.9387</td>\n",
              "      <td>0.2650</td>\n",
              "      <td>0.4087</td>\n",
              "      <td>0.12400</td>\n",
              "      <td>NaN</td>\n",
              "      <td>1</td>\n",
              "    </tr>\n",
              "    <tr>\n",
              "      <th>568</th>\n",
              "      <td>92751</td>\n",
              "      <td>B</td>\n",
              "      <td>7.76</td>\n",
              "      <td>24.54</td>\n",
              "      <td>47.92</td>\n",
              "      <td>181.0</td>\n",
              "      <td>0.05263</td>\n",
              "      <td>0.04362</td>\n",
              "      <td>0.00000</td>\n",
              "      <td>0.00000</td>\n",
              "      <td>...</td>\n",
              "      <td>59.16</td>\n",
              "      <td>268.6</td>\n",
              "      <td>0.08996</td>\n",
              "      <td>0.06444</td>\n",
              "      <td>0.0000</td>\n",
              "      <td>0.0000</td>\n",
              "      <td>0.2871</td>\n",
              "      <td>0.07039</td>\n",
              "      <td>NaN</td>\n",
              "      <td>0</td>\n",
              "    </tr>\n",
              "  </tbody>\n",
              "</table>\n",
              "<p>569 rows × 34 columns</p>\n",
              "</div>\n",
              "      <button class=\"colab-df-convert\" onclick=\"convertToInteractive('df-29d514bb-541c-401b-a79e-fc414bf3abe5')\"\n",
              "              title=\"Convert this dataframe to an interactive table.\"\n",
              "              style=\"display:none;\">\n",
              "\n",
              "  <svg xmlns=\"http://www.w3.org/2000/svg\" height=\"24px\"viewBox=\"0 0 24 24\"\n",
              "       width=\"24px\">\n",
              "    <path d=\"M0 0h24v24H0V0z\" fill=\"none\"/>\n",
              "    <path d=\"M18.56 5.44l.94 2.06.94-2.06 2.06-.94-2.06-.94-.94-2.06-.94 2.06-2.06.94zm-11 1L8.5 8.5l.94-2.06 2.06-.94-2.06-.94L8.5 2.5l-.94 2.06-2.06.94zm10 10l.94 2.06.94-2.06 2.06-.94-2.06-.94-.94-2.06-.94 2.06-2.06.94z\"/><path d=\"M17.41 7.96l-1.37-1.37c-.4-.4-.92-.59-1.43-.59-.52 0-1.04.2-1.43.59L10.3 9.45l-7.72 7.72c-.78.78-.78 2.05 0 2.83L4 21.41c.39.39.9.59 1.41.59.51 0 1.02-.2 1.41-.59l7.78-7.78 2.81-2.81c.8-.78.8-2.07 0-2.86zM5.41 20L4 18.59l7.72-7.72 1.47 1.35L5.41 20z\"/>\n",
              "  </svg>\n",
              "      </button>\n",
              "\n",
              "\n",
              "\n",
              "    <div id=\"df-fed77ccb-0359-4c9c-b51e-32e718af941e\">\n",
              "      <button class=\"colab-df-quickchart\" onclick=\"quickchart('df-fed77ccb-0359-4c9c-b51e-32e718af941e')\"\n",
              "              title=\"Suggest charts.\"\n",
              "              style=\"display:none;\">\n",
              "\n",
              "<svg xmlns=\"http://www.w3.org/2000/svg\" height=\"24px\"viewBox=\"0 0 24 24\"\n",
              "     width=\"24px\">\n",
              "    <g>\n",
              "        <path d=\"M19 3H5c-1.1 0-2 .9-2 2v14c0 1.1.9 2 2 2h14c1.1 0 2-.9 2-2V5c0-1.1-.9-2-2-2zM9 17H7v-7h2v7zm4 0h-2V7h2v10zm4 0h-2v-4h2v4z\"/>\n",
              "    </g>\n",
              "</svg>\n",
              "      </button>\n",
              "    </div>\n",
              "\n",
              "<style>\n",
              "  .colab-df-quickchart {\n",
              "    background-color: #E8F0FE;\n",
              "    border: none;\n",
              "    border-radius: 50%;\n",
              "    cursor: pointer;\n",
              "    display: none;\n",
              "    fill: #1967D2;\n",
              "    height: 32px;\n",
              "    padding: 0 0 0 0;\n",
              "    width: 32px;\n",
              "  }\n",
              "\n",
              "  .colab-df-quickchart:hover {\n",
              "    background-color: #E2EBFA;\n",
              "    box-shadow: 0px 1px 2px rgba(60, 64, 67, 0.3), 0px 1px 3px 1px rgba(60, 64, 67, 0.15);\n",
              "    fill: #174EA6;\n",
              "  }\n",
              "\n",
              "  [theme=dark] .colab-df-quickchart {\n",
              "    background-color: #3B4455;\n",
              "    fill: #D2E3FC;\n",
              "  }\n",
              "\n",
              "  [theme=dark] .colab-df-quickchart:hover {\n",
              "    background-color: #434B5C;\n",
              "    box-shadow: 0px 1px 3px 1px rgba(0, 0, 0, 0.15);\n",
              "    filter: drop-shadow(0px 1px 2px rgba(0, 0, 0, 0.3));\n",
              "    fill: #FFFFFF;\n",
              "  }\n",
              "</style>\n",
              "\n",
              "    <script>\n",
              "      async function quickchart(key) {\n",
              "        const containerElement = document.querySelector('#' + key);\n",
              "        const charts = await google.colab.kernel.invokeFunction(\n",
              "            'suggestCharts', [key], {});\n",
              "      }\n",
              "    </script>\n",
              "\n",
              "      <script>\n",
              "\n",
              "function displayQuickchartButton(domScope) {\n",
              "  let quickchartButtonEl =\n",
              "    domScope.querySelector('#df-fed77ccb-0359-4c9c-b51e-32e718af941e button.colab-df-quickchart');\n",
              "  quickchartButtonEl.style.display =\n",
              "    google.colab.kernel.accessAllowed ? 'block' : 'none';\n",
              "}\n",
              "\n",
              "        displayQuickchartButton(document);\n",
              "      </script>\n",
              "      <style>\n",
              "    .colab-df-container {\n",
              "      display:flex;\n",
              "      flex-wrap:wrap;\n",
              "      gap: 12px;\n",
              "    }\n",
              "\n",
              "    .colab-df-convert {\n",
              "      background-color: #E8F0FE;\n",
              "      border: none;\n",
              "      border-radius: 50%;\n",
              "      cursor: pointer;\n",
              "      display: none;\n",
              "      fill: #1967D2;\n",
              "      height: 32px;\n",
              "      padding: 0 0 0 0;\n",
              "      width: 32px;\n",
              "    }\n",
              "\n",
              "    .colab-df-convert:hover {\n",
              "      background-color: #E2EBFA;\n",
              "      box-shadow: 0px 1px 2px rgba(60, 64, 67, 0.3), 0px 1px 3px 1px rgba(60, 64, 67, 0.15);\n",
              "      fill: #174EA6;\n",
              "    }\n",
              "\n",
              "    [theme=dark] .colab-df-convert {\n",
              "      background-color: #3B4455;\n",
              "      fill: #D2E3FC;\n",
              "    }\n",
              "\n",
              "    [theme=dark] .colab-df-convert:hover {\n",
              "      background-color: #434B5C;\n",
              "      box-shadow: 0px 1px 3px 1px rgba(0, 0, 0, 0.15);\n",
              "      filter: drop-shadow(0px 1px 2px rgba(0, 0, 0, 0.3));\n",
              "      fill: #FFFFFF;\n",
              "    }\n",
              "  </style>\n",
              "\n",
              "      <script>\n",
              "        const buttonEl =\n",
              "          document.querySelector('#df-29d514bb-541c-401b-a79e-fc414bf3abe5 button.colab-df-convert');\n",
              "        buttonEl.style.display =\n",
              "          google.colab.kernel.accessAllowed ? 'block' : 'none';\n",
              "\n",
              "        async function convertToInteractive(key) {\n",
              "          const element = document.querySelector('#df-29d514bb-541c-401b-a79e-fc414bf3abe5');\n",
              "          const dataTable =\n",
              "            await google.colab.kernel.invokeFunction('convertToInteractive',\n",
              "                                                     [key], {});\n",
              "          if (!dataTable) return;\n",
              "\n",
              "          const docLinkHtml = 'Like what you see? Visit the ' +\n",
              "            '<a target=\"_blank\" href=https://colab.research.google.com/notebooks/data_table.ipynb>data table notebook</a>'\n",
              "            + ' to learn more about interactive tables.';\n",
              "          element.innerHTML = '';\n",
              "          dataTable['output_type'] = 'display_data';\n",
              "          await google.colab.output.renderOutput(dataTable, element);\n",
              "          const docLink = document.createElement('div');\n",
              "          docLink.innerHTML = docLinkHtml;\n",
              "          element.appendChild(docLink);\n",
              "        }\n",
              "      </script>\n",
              "    </div>\n",
              "  </div>\n"
            ]
          },
          "metadata": {},
          "execution_count": 9
        }
      ]
    },
    {
      "cell_type": "code",
      "source": [
        "#결측치 및 필요 없는 column 제거\n",
        "data = df.drop(columns=['id', 'diagnosis', 'Unnamed: 32'])\n",
        "data"
      ],
      "metadata": {
        "id": "5JasBTx3MxOe",
        "colab": {
          "base_uri": "https://localhost:8080/",
          "height": 505
        },
        "outputId": "fa5215e8-c2bd-4ace-f748-b9313ad7fe23"
      },
      "execution_count": null,
      "outputs": [
        {
          "output_type": "execute_result",
          "data": {
            "text/plain": [
              "     radius_mean  texture_mean  perimeter_mean  area_mean  smoothness_mean  \\\n",
              "0          17.99         10.38          122.80     1001.0          0.11840   \n",
              "1          20.57         17.77          132.90     1326.0          0.08474   \n",
              "2          19.69         21.25          130.00     1203.0          0.10960   \n",
              "3          11.42         20.38           77.58      386.1          0.14250   \n",
              "4          20.29         14.34          135.10     1297.0          0.10030   \n",
              "..           ...           ...             ...        ...              ...   \n",
              "564        21.56         22.39          142.00     1479.0          0.11100   \n",
              "565        20.13         28.25          131.20     1261.0          0.09780   \n",
              "566        16.60         28.08          108.30      858.1          0.08455   \n",
              "567        20.60         29.33          140.10     1265.0          0.11780   \n",
              "568         7.76         24.54           47.92      181.0          0.05263   \n",
              "\n",
              "     compactness_mean  concavity_mean  concave points_mean  symmetry_mean  \\\n",
              "0             0.27760         0.30010              0.14710         0.2419   \n",
              "1             0.07864         0.08690              0.07017         0.1812   \n",
              "2             0.15990         0.19740              0.12790         0.2069   \n",
              "3             0.28390         0.24140              0.10520         0.2597   \n",
              "4             0.13280         0.19800              0.10430         0.1809   \n",
              "..                ...             ...                  ...            ...   \n",
              "564           0.11590         0.24390              0.13890         0.1726   \n",
              "565           0.10340         0.14400              0.09791         0.1752   \n",
              "566           0.10230         0.09251              0.05302         0.1590   \n",
              "567           0.27700         0.35140              0.15200         0.2397   \n",
              "568           0.04362         0.00000              0.00000         0.1587   \n",
              "\n",
              "     fractal_dimension_mean  ...  texture_worst  perimeter_worst  area_worst  \\\n",
              "0                   0.07871  ...          17.33           184.60      2019.0   \n",
              "1                   0.05667  ...          23.41           158.80      1956.0   \n",
              "2                   0.05999  ...          25.53           152.50      1709.0   \n",
              "3                   0.09744  ...          26.50            98.87       567.7   \n",
              "4                   0.05883  ...          16.67           152.20      1575.0   \n",
              "..                      ...  ...            ...              ...         ...   \n",
              "564                 0.05623  ...          26.40           166.10      2027.0   \n",
              "565                 0.05533  ...          38.25           155.00      1731.0   \n",
              "566                 0.05648  ...          34.12           126.70      1124.0   \n",
              "567                 0.07016  ...          39.42           184.60      1821.0   \n",
              "568                 0.05884  ...          30.37            59.16       268.6   \n",
              "\n",
              "     smoothness_worst  compactness_worst  concavity_worst  \\\n",
              "0             0.16220            0.66560           0.7119   \n",
              "1             0.12380            0.18660           0.2416   \n",
              "2             0.14440            0.42450           0.4504   \n",
              "3             0.20980            0.86630           0.6869   \n",
              "4             0.13740            0.20500           0.4000   \n",
              "..                ...                ...              ...   \n",
              "564           0.14100            0.21130           0.4107   \n",
              "565           0.11660            0.19220           0.3215   \n",
              "566           0.11390            0.30940           0.3403   \n",
              "567           0.16500            0.86810           0.9387   \n",
              "568           0.08996            0.06444           0.0000   \n",
              "\n",
              "     concave points_worst  symmetry_worst  fractal_dimension_worst  diagnosis1  \n",
              "0                  0.2654          0.4601                  0.11890           1  \n",
              "1                  0.1860          0.2750                  0.08902           1  \n",
              "2                  0.2430          0.3613                  0.08758           1  \n",
              "3                  0.2575          0.6638                  0.17300           1  \n",
              "4                  0.1625          0.2364                  0.07678           1  \n",
              "..                    ...             ...                      ...         ...  \n",
              "564                0.2216          0.2060                  0.07115           1  \n",
              "565                0.1628          0.2572                  0.06637           1  \n",
              "566                0.1418          0.2218                  0.07820           1  \n",
              "567                0.2650          0.4087                  0.12400           1  \n",
              "568                0.0000          0.2871                  0.07039           0  \n",
              "\n",
              "[569 rows x 31 columns]"
            ],
            "text/html": [
              "\n",
              "\n",
              "  <div id=\"df-34e8cf22-2173-4a24-9a3e-a42a92f0c596\">\n",
              "    <div class=\"colab-df-container\">\n",
              "      <div>\n",
              "<style scoped>\n",
              "    .dataframe tbody tr th:only-of-type {\n",
              "        vertical-align: middle;\n",
              "    }\n",
              "\n",
              "    .dataframe tbody tr th {\n",
              "        vertical-align: top;\n",
              "    }\n",
              "\n",
              "    .dataframe thead th {\n",
              "        text-align: right;\n",
              "    }\n",
              "</style>\n",
              "<table border=\"1\" class=\"dataframe\">\n",
              "  <thead>\n",
              "    <tr style=\"text-align: right;\">\n",
              "      <th></th>\n",
              "      <th>radius_mean</th>\n",
              "      <th>texture_mean</th>\n",
              "      <th>perimeter_mean</th>\n",
              "      <th>area_mean</th>\n",
              "      <th>smoothness_mean</th>\n",
              "      <th>compactness_mean</th>\n",
              "      <th>concavity_mean</th>\n",
              "      <th>concave points_mean</th>\n",
              "      <th>symmetry_mean</th>\n",
              "      <th>fractal_dimension_mean</th>\n",
              "      <th>...</th>\n",
              "      <th>texture_worst</th>\n",
              "      <th>perimeter_worst</th>\n",
              "      <th>area_worst</th>\n",
              "      <th>smoothness_worst</th>\n",
              "      <th>compactness_worst</th>\n",
              "      <th>concavity_worst</th>\n",
              "      <th>concave points_worst</th>\n",
              "      <th>symmetry_worst</th>\n",
              "      <th>fractal_dimension_worst</th>\n",
              "      <th>diagnosis1</th>\n",
              "    </tr>\n",
              "  </thead>\n",
              "  <tbody>\n",
              "    <tr>\n",
              "      <th>0</th>\n",
              "      <td>17.99</td>\n",
              "      <td>10.38</td>\n",
              "      <td>122.80</td>\n",
              "      <td>1001.0</td>\n",
              "      <td>0.11840</td>\n",
              "      <td>0.27760</td>\n",
              "      <td>0.30010</td>\n",
              "      <td>0.14710</td>\n",
              "      <td>0.2419</td>\n",
              "      <td>0.07871</td>\n",
              "      <td>...</td>\n",
              "      <td>17.33</td>\n",
              "      <td>184.60</td>\n",
              "      <td>2019.0</td>\n",
              "      <td>0.16220</td>\n",
              "      <td>0.66560</td>\n",
              "      <td>0.7119</td>\n",
              "      <td>0.2654</td>\n",
              "      <td>0.4601</td>\n",
              "      <td>0.11890</td>\n",
              "      <td>1</td>\n",
              "    </tr>\n",
              "    <tr>\n",
              "      <th>1</th>\n",
              "      <td>20.57</td>\n",
              "      <td>17.77</td>\n",
              "      <td>132.90</td>\n",
              "      <td>1326.0</td>\n",
              "      <td>0.08474</td>\n",
              "      <td>0.07864</td>\n",
              "      <td>0.08690</td>\n",
              "      <td>0.07017</td>\n",
              "      <td>0.1812</td>\n",
              "      <td>0.05667</td>\n",
              "      <td>...</td>\n",
              "      <td>23.41</td>\n",
              "      <td>158.80</td>\n",
              "      <td>1956.0</td>\n",
              "      <td>0.12380</td>\n",
              "      <td>0.18660</td>\n",
              "      <td>0.2416</td>\n",
              "      <td>0.1860</td>\n",
              "      <td>0.2750</td>\n",
              "      <td>0.08902</td>\n",
              "      <td>1</td>\n",
              "    </tr>\n",
              "    <tr>\n",
              "      <th>2</th>\n",
              "      <td>19.69</td>\n",
              "      <td>21.25</td>\n",
              "      <td>130.00</td>\n",
              "      <td>1203.0</td>\n",
              "      <td>0.10960</td>\n",
              "      <td>0.15990</td>\n",
              "      <td>0.19740</td>\n",
              "      <td>0.12790</td>\n",
              "      <td>0.2069</td>\n",
              "      <td>0.05999</td>\n",
              "      <td>...</td>\n",
              "      <td>25.53</td>\n",
              "      <td>152.50</td>\n",
              "      <td>1709.0</td>\n",
              "      <td>0.14440</td>\n",
              "      <td>0.42450</td>\n",
              "      <td>0.4504</td>\n",
              "      <td>0.2430</td>\n",
              "      <td>0.3613</td>\n",
              "      <td>0.08758</td>\n",
              "      <td>1</td>\n",
              "    </tr>\n",
              "    <tr>\n",
              "      <th>3</th>\n",
              "      <td>11.42</td>\n",
              "      <td>20.38</td>\n",
              "      <td>77.58</td>\n",
              "      <td>386.1</td>\n",
              "      <td>0.14250</td>\n",
              "      <td>0.28390</td>\n",
              "      <td>0.24140</td>\n",
              "      <td>0.10520</td>\n",
              "      <td>0.2597</td>\n",
              "      <td>0.09744</td>\n",
              "      <td>...</td>\n",
              "      <td>26.50</td>\n",
              "      <td>98.87</td>\n",
              "      <td>567.7</td>\n",
              "      <td>0.20980</td>\n",
              "      <td>0.86630</td>\n",
              "      <td>0.6869</td>\n",
              "      <td>0.2575</td>\n",
              "      <td>0.6638</td>\n",
              "      <td>0.17300</td>\n",
              "      <td>1</td>\n",
              "    </tr>\n",
              "    <tr>\n",
              "      <th>4</th>\n",
              "      <td>20.29</td>\n",
              "      <td>14.34</td>\n",
              "      <td>135.10</td>\n",
              "      <td>1297.0</td>\n",
              "      <td>0.10030</td>\n",
              "      <td>0.13280</td>\n",
              "      <td>0.19800</td>\n",
              "      <td>0.10430</td>\n",
              "      <td>0.1809</td>\n",
              "      <td>0.05883</td>\n",
              "      <td>...</td>\n",
              "      <td>16.67</td>\n",
              "      <td>152.20</td>\n",
              "      <td>1575.0</td>\n",
              "      <td>0.13740</td>\n",
              "      <td>0.20500</td>\n",
              "      <td>0.4000</td>\n",
              "      <td>0.1625</td>\n",
              "      <td>0.2364</td>\n",
              "      <td>0.07678</td>\n",
              "      <td>1</td>\n",
              "    </tr>\n",
              "    <tr>\n",
              "      <th>...</th>\n",
              "      <td>...</td>\n",
              "      <td>...</td>\n",
              "      <td>...</td>\n",
              "      <td>...</td>\n",
              "      <td>...</td>\n",
              "      <td>...</td>\n",
              "      <td>...</td>\n",
              "      <td>...</td>\n",
              "      <td>...</td>\n",
              "      <td>...</td>\n",
              "      <td>...</td>\n",
              "      <td>...</td>\n",
              "      <td>...</td>\n",
              "      <td>...</td>\n",
              "      <td>...</td>\n",
              "      <td>...</td>\n",
              "      <td>...</td>\n",
              "      <td>...</td>\n",
              "      <td>...</td>\n",
              "      <td>...</td>\n",
              "      <td>...</td>\n",
              "    </tr>\n",
              "    <tr>\n",
              "      <th>564</th>\n",
              "      <td>21.56</td>\n",
              "      <td>22.39</td>\n",
              "      <td>142.00</td>\n",
              "      <td>1479.0</td>\n",
              "      <td>0.11100</td>\n",
              "      <td>0.11590</td>\n",
              "      <td>0.24390</td>\n",
              "      <td>0.13890</td>\n",
              "      <td>0.1726</td>\n",
              "      <td>0.05623</td>\n",
              "      <td>...</td>\n",
              "      <td>26.40</td>\n",
              "      <td>166.10</td>\n",
              "      <td>2027.0</td>\n",
              "      <td>0.14100</td>\n",
              "      <td>0.21130</td>\n",
              "      <td>0.4107</td>\n",
              "      <td>0.2216</td>\n",
              "      <td>0.2060</td>\n",
              "      <td>0.07115</td>\n",
              "      <td>1</td>\n",
              "    </tr>\n",
              "    <tr>\n",
              "      <th>565</th>\n",
              "      <td>20.13</td>\n",
              "      <td>28.25</td>\n",
              "      <td>131.20</td>\n",
              "      <td>1261.0</td>\n",
              "      <td>0.09780</td>\n",
              "      <td>0.10340</td>\n",
              "      <td>0.14400</td>\n",
              "      <td>0.09791</td>\n",
              "      <td>0.1752</td>\n",
              "      <td>0.05533</td>\n",
              "      <td>...</td>\n",
              "      <td>38.25</td>\n",
              "      <td>155.00</td>\n",
              "      <td>1731.0</td>\n",
              "      <td>0.11660</td>\n",
              "      <td>0.19220</td>\n",
              "      <td>0.3215</td>\n",
              "      <td>0.1628</td>\n",
              "      <td>0.2572</td>\n",
              "      <td>0.06637</td>\n",
              "      <td>1</td>\n",
              "    </tr>\n",
              "    <tr>\n",
              "      <th>566</th>\n",
              "      <td>16.60</td>\n",
              "      <td>28.08</td>\n",
              "      <td>108.30</td>\n",
              "      <td>858.1</td>\n",
              "      <td>0.08455</td>\n",
              "      <td>0.10230</td>\n",
              "      <td>0.09251</td>\n",
              "      <td>0.05302</td>\n",
              "      <td>0.1590</td>\n",
              "      <td>0.05648</td>\n",
              "      <td>...</td>\n",
              "      <td>34.12</td>\n",
              "      <td>126.70</td>\n",
              "      <td>1124.0</td>\n",
              "      <td>0.11390</td>\n",
              "      <td>0.30940</td>\n",
              "      <td>0.3403</td>\n",
              "      <td>0.1418</td>\n",
              "      <td>0.2218</td>\n",
              "      <td>0.07820</td>\n",
              "      <td>1</td>\n",
              "    </tr>\n",
              "    <tr>\n",
              "      <th>567</th>\n",
              "      <td>20.60</td>\n",
              "      <td>29.33</td>\n",
              "      <td>140.10</td>\n",
              "      <td>1265.0</td>\n",
              "      <td>0.11780</td>\n",
              "      <td>0.27700</td>\n",
              "      <td>0.35140</td>\n",
              "      <td>0.15200</td>\n",
              "      <td>0.2397</td>\n",
              "      <td>0.07016</td>\n",
              "      <td>...</td>\n",
              "      <td>39.42</td>\n",
              "      <td>184.60</td>\n",
              "      <td>1821.0</td>\n",
              "      <td>0.16500</td>\n",
              "      <td>0.86810</td>\n",
              "      <td>0.9387</td>\n",
              "      <td>0.2650</td>\n",
              "      <td>0.4087</td>\n",
              "      <td>0.12400</td>\n",
              "      <td>1</td>\n",
              "    </tr>\n",
              "    <tr>\n",
              "      <th>568</th>\n",
              "      <td>7.76</td>\n",
              "      <td>24.54</td>\n",
              "      <td>47.92</td>\n",
              "      <td>181.0</td>\n",
              "      <td>0.05263</td>\n",
              "      <td>0.04362</td>\n",
              "      <td>0.00000</td>\n",
              "      <td>0.00000</td>\n",
              "      <td>0.1587</td>\n",
              "      <td>0.05884</td>\n",
              "      <td>...</td>\n",
              "      <td>30.37</td>\n",
              "      <td>59.16</td>\n",
              "      <td>268.6</td>\n",
              "      <td>0.08996</td>\n",
              "      <td>0.06444</td>\n",
              "      <td>0.0000</td>\n",
              "      <td>0.0000</td>\n",
              "      <td>0.2871</td>\n",
              "      <td>0.07039</td>\n",
              "      <td>0</td>\n",
              "    </tr>\n",
              "  </tbody>\n",
              "</table>\n",
              "<p>569 rows × 31 columns</p>\n",
              "</div>\n",
              "      <button class=\"colab-df-convert\" onclick=\"convertToInteractive('df-34e8cf22-2173-4a24-9a3e-a42a92f0c596')\"\n",
              "              title=\"Convert this dataframe to an interactive table.\"\n",
              "              style=\"display:none;\">\n",
              "\n",
              "  <svg xmlns=\"http://www.w3.org/2000/svg\" height=\"24px\"viewBox=\"0 0 24 24\"\n",
              "       width=\"24px\">\n",
              "    <path d=\"M0 0h24v24H0V0z\" fill=\"none\"/>\n",
              "    <path d=\"M18.56 5.44l.94 2.06.94-2.06 2.06-.94-2.06-.94-.94-2.06-.94 2.06-2.06.94zm-11 1L8.5 8.5l.94-2.06 2.06-.94-2.06-.94L8.5 2.5l-.94 2.06-2.06.94zm10 10l.94 2.06.94-2.06 2.06-.94-2.06-.94-.94-2.06-.94 2.06-2.06.94z\"/><path d=\"M17.41 7.96l-1.37-1.37c-.4-.4-.92-.59-1.43-.59-.52 0-1.04.2-1.43.59L10.3 9.45l-7.72 7.72c-.78.78-.78 2.05 0 2.83L4 21.41c.39.39.9.59 1.41.59.51 0 1.02-.2 1.41-.59l7.78-7.78 2.81-2.81c.8-.78.8-2.07 0-2.86zM5.41 20L4 18.59l7.72-7.72 1.47 1.35L5.41 20z\"/>\n",
              "  </svg>\n",
              "      </button>\n",
              "\n",
              "\n",
              "\n",
              "    <div id=\"df-4d63338c-24f0-41c0-b66e-699d3966d5ca\">\n",
              "      <button class=\"colab-df-quickchart\" onclick=\"quickchart('df-4d63338c-24f0-41c0-b66e-699d3966d5ca')\"\n",
              "              title=\"Suggest charts.\"\n",
              "              style=\"display:none;\">\n",
              "\n",
              "<svg xmlns=\"http://www.w3.org/2000/svg\" height=\"24px\"viewBox=\"0 0 24 24\"\n",
              "     width=\"24px\">\n",
              "    <g>\n",
              "        <path d=\"M19 3H5c-1.1 0-2 .9-2 2v14c0 1.1.9 2 2 2h14c1.1 0 2-.9 2-2V5c0-1.1-.9-2-2-2zM9 17H7v-7h2v7zm4 0h-2V7h2v10zm4 0h-2v-4h2v4z\"/>\n",
              "    </g>\n",
              "</svg>\n",
              "      </button>\n",
              "    </div>\n",
              "\n",
              "<style>\n",
              "  .colab-df-quickchart {\n",
              "    background-color: #E8F0FE;\n",
              "    border: none;\n",
              "    border-radius: 50%;\n",
              "    cursor: pointer;\n",
              "    display: none;\n",
              "    fill: #1967D2;\n",
              "    height: 32px;\n",
              "    padding: 0 0 0 0;\n",
              "    width: 32px;\n",
              "  }\n",
              "\n",
              "  .colab-df-quickchart:hover {\n",
              "    background-color: #E2EBFA;\n",
              "    box-shadow: 0px 1px 2px rgba(60, 64, 67, 0.3), 0px 1px 3px 1px rgba(60, 64, 67, 0.15);\n",
              "    fill: #174EA6;\n",
              "  }\n",
              "\n",
              "  [theme=dark] .colab-df-quickchart {\n",
              "    background-color: #3B4455;\n",
              "    fill: #D2E3FC;\n",
              "  }\n",
              "\n",
              "  [theme=dark] .colab-df-quickchart:hover {\n",
              "    background-color: #434B5C;\n",
              "    box-shadow: 0px 1px 3px 1px rgba(0, 0, 0, 0.15);\n",
              "    filter: drop-shadow(0px 1px 2px rgba(0, 0, 0, 0.3));\n",
              "    fill: #FFFFFF;\n",
              "  }\n",
              "</style>\n",
              "\n",
              "    <script>\n",
              "      async function quickchart(key) {\n",
              "        const containerElement = document.querySelector('#' + key);\n",
              "        const charts = await google.colab.kernel.invokeFunction(\n",
              "            'suggestCharts', [key], {});\n",
              "      }\n",
              "    </script>\n",
              "\n",
              "      <script>\n",
              "\n",
              "function displayQuickchartButton(domScope) {\n",
              "  let quickchartButtonEl =\n",
              "    domScope.querySelector('#df-4d63338c-24f0-41c0-b66e-699d3966d5ca button.colab-df-quickchart');\n",
              "  quickchartButtonEl.style.display =\n",
              "    google.colab.kernel.accessAllowed ? 'block' : 'none';\n",
              "}\n",
              "\n",
              "        displayQuickchartButton(document);\n",
              "      </script>\n",
              "      <style>\n",
              "    .colab-df-container {\n",
              "      display:flex;\n",
              "      flex-wrap:wrap;\n",
              "      gap: 12px;\n",
              "    }\n",
              "\n",
              "    .colab-df-convert {\n",
              "      background-color: #E8F0FE;\n",
              "      border: none;\n",
              "      border-radius: 50%;\n",
              "      cursor: pointer;\n",
              "      display: none;\n",
              "      fill: #1967D2;\n",
              "      height: 32px;\n",
              "      padding: 0 0 0 0;\n",
              "      width: 32px;\n",
              "    }\n",
              "\n",
              "    .colab-df-convert:hover {\n",
              "      background-color: #E2EBFA;\n",
              "      box-shadow: 0px 1px 2px rgba(60, 64, 67, 0.3), 0px 1px 3px 1px rgba(60, 64, 67, 0.15);\n",
              "      fill: #174EA6;\n",
              "    }\n",
              "\n",
              "    [theme=dark] .colab-df-convert {\n",
              "      background-color: #3B4455;\n",
              "      fill: #D2E3FC;\n",
              "    }\n",
              "\n",
              "    [theme=dark] .colab-df-convert:hover {\n",
              "      background-color: #434B5C;\n",
              "      box-shadow: 0px 1px 3px 1px rgba(0, 0, 0, 0.15);\n",
              "      filter: drop-shadow(0px 1px 2px rgba(0, 0, 0, 0.3));\n",
              "      fill: #FFFFFF;\n",
              "    }\n",
              "  </style>\n",
              "\n",
              "      <script>\n",
              "        const buttonEl =\n",
              "          document.querySelector('#df-34e8cf22-2173-4a24-9a3e-a42a92f0c596 button.colab-df-convert');\n",
              "        buttonEl.style.display =\n",
              "          google.colab.kernel.accessAllowed ? 'block' : 'none';\n",
              "\n",
              "        async function convertToInteractive(key) {\n",
              "          const element = document.querySelector('#df-34e8cf22-2173-4a24-9a3e-a42a92f0c596');\n",
              "          const dataTable =\n",
              "            await google.colab.kernel.invokeFunction('convertToInteractive',\n",
              "                                                     [key], {});\n",
              "          if (!dataTable) return;\n",
              "\n",
              "          const docLinkHtml = 'Like what you see? Visit the ' +\n",
              "            '<a target=\"_blank\" href=https://colab.research.google.com/notebooks/data_table.ipynb>data table notebook</a>'\n",
              "            + ' to learn more about interactive tables.';\n",
              "          element.innerHTML = '';\n",
              "          dataTable['output_type'] = 'display_data';\n",
              "          await google.colab.output.renderOutput(dataTable, element);\n",
              "          const docLink = document.createElement('div');\n",
              "          docLink.innerHTML = docLinkHtml;\n",
              "          element.appendChild(docLink);\n",
              "        }\n",
              "      </script>\n",
              "    </div>\n",
              "  </div>\n"
            ]
          },
          "metadata": {},
          "execution_count": 10
        }
      ]
    },
    {
      "cell_type": "markdown",
      "source": [
        "# Train set과 Test set 분할"
      ],
      "metadata": {
        "id": "WWul7yu0RdQV"
      }
    },
    {
      "cell_type": "code",
      "source": [
        "#X는 타깃값인 diagnosis1 컬럼을 제외한 모든 컬럼으로 설정한다.\n",
        "#y는 타깃값으로 설정한다.\n",
        "X = data.drop(['diagnosis1'], axis=1)\n",
        "y = data['diagnosis1']"
      ],
      "metadata": {
        "id": "gUTNKdw-RkPG"
      },
      "execution_count": null,
      "outputs": []
    },
    {
      "cell_type": "code",
      "source": [
        "from sklearn.model_selection import train_test_split\n",
        "#7:3의 비율로 train set과 test set를 분할해준다.\n",
        "X_train, X_test, y_train, y_test = train_test_split(X, y, test_size=0.3, random_state=10, stratify=y)"
      ],
      "metadata": {
        "id": "WEB1F1wIRv1z"
      },
      "execution_count": null,
      "outputs": []
    },
    {
      "cell_type": "markdown",
      "source": [
        "**random_state에 대한 추가 설명**\n",
        "\n",
        "random_state는 호출할 때마다 동일한 학습/테스트용 데이터셋을 생성하기 위해 주어지는 난수 값이다. random 함수의 seed값이라고 생각하면 된다. 이 값을 설정하지 않으면 결과값이 계속 다르게 나온다.\n",
        "\n",
        "가령 1 ~ 100까지 일련번호로 된 100개의 데이터를 train_test_split(.., test_size=0.2) 로 수행하면 해당 함수를 첫번째 수행할 때는 1 ~ 80 번이 train, 81 ~ 100번이 test가 될 수 있지만, 다시 수행하면 이번에 21 ~ 100번이 train, 1 ~ 20번이 test가 될 수 있다. 80%, 20% 로 나누는건 동일하지만 함수를 수행 시마다 추출한 레코드들이 달라질수 있다.\n",
        "\n",
        "random_state에는 어떤 숫자를 적든 그 기능은 같기 때문에 어떤 숫자를 적든 상관없다."
      ],
      "metadata": {
        "id": "zLVTatv4TLXL"
      }
    },
    {
      "cell_type": "markdown",
      "source": [
        "**stratify에 대한 추가 설명**\n",
        "\n",
        "data의 비율을 유지한다. 예를 들어, label set인 y가 25%의 0과 75%의 1로 이루어진 binary set일 때, stratify=y로 설정하면 나누어진 데이터셋들도 0과 1을 각각 25%, 75%로 유지한 채 분할된다."
      ],
      "metadata": {
        "id": "HVNGa1TFQQol"
      }
    },
    {
      "cell_type": "code",
      "source": [
        "y.value_counts()\n",
        "#1의 비율: 0.37"
      ],
      "metadata": {
        "colab": {
          "base_uri": "https://localhost:8080/"
        },
        "id": "InJh-N3KQRpm",
        "outputId": "e1344d39-72b6-4654-c7a1-359ac85baf22"
      },
      "execution_count": null,
      "outputs": [
        {
          "output_type": "execute_result",
          "data": {
            "text/plain": [
              "0    357\n",
              "1    212\n",
              "Name: diagnosis1, dtype: int64"
            ]
          },
          "metadata": {},
          "execution_count": 71
        }
      ]
    },
    {
      "cell_type": "code",
      "source": [
        "y_train.value_counts()\n",
        "#1의 비율: 0.37"
      ],
      "metadata": {
        "colab": {
          "base_uri": "https://localhost:8080/"
        },
        "id": "zCtR9F5BQaA_",
        "outputId": "d2a871a2-bd4e-4dcf-afba-d33c3ebb43d3"
      },
      "execution_count": null,
      "outputs": [
        {
          "output_type": "execute_result",
          "data": {
            "text/plain": [
              "0    250\n",
              "1    148\n",
              "Name: diagnosis1, dtype: int64"
            ]
          },
          "metadata": {},
          "execution_count": 72
        }
      ]
    },
    {
      "cell_type": "code",
      "source": [
        "y_test.value_counts()\n",
        "#1의 비율: 0.37"
      ],
      "metadata": {
        "colab": {
          "base_uri": "https://localhost:8080/"
        },
        "id": "wlKLKF4EQaaU",
        "outputId": "80278aa6-d8ab-43b1-b632-1aa147596ca2"
      },
      "execution_count": null,
      "outputs": [
        {
          "output_type": "execute_result",
          "data": {
            "text/plain": [
              "0    107\n",
              "1     64\n",
              "Name: diagnosis1, dtype: int64"
            ]
          },
          "metadata": {},
          "execution_count": 73
        }
      ]
    },
    {
      "cell_type": "markdown",
      "source": [
        "stratify = y의 적용으로 데이터셋의 비율이 일정하게 유지되는 것을 확인할 수 있다."
      ],
      "metadata": {
        "id": "zD_KdYepQ4zu"
      }
    },
    {
      "cell_type": "markdown",
      "source": [
        "# 모델 *구축*"
      ],
      "metadata": {
        "id": "JSkfXmqmWZH1"
      }
    },
    {
      "cell_type": "markdown",
      "source": [
        "## Decision Tree"
      ],
      "metadata": {
        "id": "MjeqTB0wWr7l"
      }
    },
    {
      "cell_type": "markdown",
      "source": [
        "Decision Tree를 통한 Classification"
      ],
      "metadata": {
        "id": "DPJH2_FdXdim"
      }
    },
    {
      "cell_type": "code",
      "source": [
        "from sklearn.tree import DecisionTreeClassifier\n",
        "#entropy를 불순도 계산 방법으로 적용\n",
        "tree = DecisionTreeClassifier(criterion = 'entropy',\n",
        "                              max_depth = 3,\n",
        "                              random_state = 10)\n",
        "tree.fit(X_train, y_train)\n",
        "y_pred = tree.predict(X_test)\n",
        "\n",
        "#sklearn에서 제공하는 metrics로 accuracy 평가\n",
        "from sklearn import metrics\n",
        "print(\"Accuracy:\", metrics.accuracy_score(y_test, y_pred))\n",
        "print(\"총 테스트 개수:%d, 오류 개수:%d\" %(len(y_test), (y_test!=y_pred).sum()))"
      ],
      "metadata": {
        "colab": {
          "base_uri": "https://localhost:8080/"
        },
        "id": "LQEGt5lTWxYg",
        "outputId": "492ded94-459f-4f84-8330-584b26d39a3f"
      },
      "execution_count": null,
      "outputs": [
        {
          "output_type": "stream",
          "name": "stdout",
          "text": [
            "Accuracy: 0.9298245614035088\n",
            "총 테스트 개수:171, 오류 개수:12\n"
          ]
        }
      ]
    },
    {
      "cell_type": "code",
      "source": [
        "#gini index를 불순도 계산 방법으로 적용\n",
        "tree = DecisionTreeClassifier(criterion = 'gini',\n",
        "                              max_depth = 3,\n",
        "                              random_state = 10)\n",
        "tree.fit(X_train, y_train)\n",
        "y_pred = tree.predict(X_test)\n",
        "print(\"Accuracy:\", metrics.accuracy_score(y_test, y_pred))\n",
        "print(\"총 테스트 개수:%d, 오류 개수:%d\" %(len(y_test), (y_test!=y_pred).sum()))"
      ],
      "metadata": {
        "colab": {
          "base_uri": "https://localhost:8080/"
        },
        "id": "G84I3CCjY-LN",
        "outputId": "37bdc1fb-f564-45b0-afa1-8e4f0b42fc26"
      },
      "execution_count": null,
      "outputs": [
        {
          "output_type": "stream",
          "name": "stdout",
          "text": [
            "Accuracy: 0.9064327485380117\n",
            "총 테스트 개수:171, 오류 개수:16\n"
          ]
        }
      ]
    },
    {
      "cell_type": "markdown",
      "source": [
        "Decision Tree 시각화\n",
        "\n",
        "**graphviz 모듈의 설치가 필요하다.**\n",
        "\n",
        "모듈 다운로드 링크: https://graphviz.org/download/\n",
        "\n",
        "**graphviz 설치할 때 환경변수를 설정해 주어야 한다!!**\n",
        "\n",
        "![graphviz 환경변수 설정.png](data:image/png;base64,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)"
      ],
      "metadata": {
        "id": "B0KoAmhTdaQh"
      }
    },
    {
      "cell_type": "code",
      "source": [
        "from sklearn.tree import export_graphviz\n",
        "export_graphviz(tree, class_names=['0','1'], filled=True, out_file='tree_dot.dot')"
      ],
      "metadata": {
        "id": "epQdYY46bdfl"
      },
      "execution_count": null,
      "outputs": []
    },
    {
      "cell_type": "code",
      "source": [
        "import os\n",
        "import graphviz\n",
        "from IPython.display import display\n",
        "with open(r'tree_dot.dot', encoding='utf-8') as f:\n",
        "    dot_graph = f.read()\n",
        "display(graphviz.Source(dot_graph))"
      ],
      "metadata": {
        "colab": {
          "base_uri": "https://localhost:8080/",
          "height": 618
        },
        "id": "ikP8k8tbdhaH",
        "outputId": "261756ed-1daf-4b6b-b34d-64976571a468"
      },
      "execution_count": null,
      "outputs": [
        {
          "output_type": "display_data",
          "data": {
            "image/svg+xml": "<?xml version=\"1.0\" encoding=\"UTF-8\" standalone=\"no\"?>\n<!DOCTYPE svg PUBLIC \"-//W3C//DTD SVG 1.1//EN\"\n \"http://www.w3.org/Graphics/SVG/1.1/DTD/svg11.dtd\">\n<!-- Generated by graphviz version 2.43.0 (0)\n -->\n<!-- Title: Tree Pages: 1 -->\n<svg width=\"940pt\" height=\"433pt\"\n viewBox=\"0.00 0.00 940.00 433.00\" xmlns=\"http://www.w3.org/2000/svg\" xmlns:xlink=\"http://www.w3.org/1999/xlink\">\n<g id=\"graph0\" class=\"graph\" transform=\"scale(1 1) rotate(0) translate(4 429)\">\n<title>Tree</title>\n<polygon fill=\"white\" stroke=\"transparent\" points=\"-4,4 -4,-429 936,-429 936,4 -4,4\"/>\n<!-- 0 -->\n<g id=\"node1\" class=\"node\">\n<title>0</title>\n<polygon fill=\"#f4ccae\" stroke=\"black\" points=\"525.5,-425 400.5,-425 400.5,-342 525.5,-342 525.5,-425\"/>\n<text text-anchor=\"middle\" x=\"463\" y=\"-409.8\" font-family=\"Helvetica,sans-Serif\" font-size=\"14.00\">x[23] &lt;= 884.55</text>\n<text text-anchor=\"middle\" x=\"463\" y=\"-394.8\" font-family=\"Helvetica,sans-Serif\" font-size=\"14.00\">gini = 0.467</text>\n<text text-anchor=\"middle\" x=\"463\" y=\"-379.8\" font-family=\"Helvetica,sans-Serif\" font-size=\"14.00\">samples = 398</text>\n<text text-anchor=\"middle\" x=\"463\" y=\"-364.8\" font-family=\"Helvetica,sans-Serif\" font-size=\"14.00\">value = [250, 148]</text>\n<text text-anchor=\"middle\" x=\"463\" y=\"-349.8\" font-family=\"Helvetica,sans-Serif\" font-size=\"14.00\">class = 0</text>\n</g>\n<!-- 1 -->\n<g id=\"node2\" class=\"node\">\n<title>1</title>\n<polygon fill=\"#e88f4f\" stroke=\"black\" points=\"409.5,-306 292.5,-306 292.5,-223 409.5,-223 409.5,-306\"/>\n<text text-anchor=\"middle\" x=\"351\" y=\"-290.8\" font-family=\"Helvetica,sans-Serif\" font-size=\"14.00\">x[27] &lt;= 0.132</text>\n<text text-anchor=\"middle\" x=\"351\" y=\"-275.8\" font-family=\"Helvetica,sans-Serif\" font-size=\"14.00\">gini = 0.178</text>\n<text text-anchor=\"middle\" x=\"351\" y=\"-260.8\" font-family=\"Helvetica,sans-Serif\" font-size=\"14.00\">samples = 274</text>\n<text text-anchor=\"middle\" x=\"351\" y=\"-245.8\" font-family=\"Helvetica,sans-Serif\" font-size=\"14.00\">value = [247, 27]</text>\n<text text-anchor=\"middle\" x=\"351\" y=\"-230.8\" font-family=\"Helvetica,sans-Serif\" font-size=\"14.00\">class = 0</text>\n</g>\n<!-- 0&#45;&gt;1 -->\n<g id=\"edge1\" class=\"edge\">\n<title>0&#45;&gt;1</title>\n<path fill=\"none\" stroke=\"black\" d=\"M424.14,-341.91C415.37,-332.74 405.97,-322.93 396.94,-313.49\"/>\n<polygon fill=\"black\" stroke=\"black\" points=\"399.23,-310.82 389.79,-306.02 394.18,-315.66 399.23,-310.82\"/>\n<text text-anchor=\"middle\" x=\"389.24\" y=\"-327.31\" font-family=\"Helvetica,sans-Serif\" font-size=\"14.00\">True</text>\n</g>\n<!-- 8 -->\n<g id=\"node9\" class=\"node\">\n<title>8</title>\n<polygon fill=\"#3e9fe6\" stroke=\"black\" points=\"637,-306 527,-306 527,-223 637,-223 637,-306\"/>\n<text text-anchor=\"middle\" x=\"582\" y=\"-290.8\" font-family=\"Helvetica,sans-Serif\" font-size=\"14.00\">x[1] &lt;= 14.135</text>\n<text text-anchor=\"middle\" x=\"582\" y=\"-275.8\" font-family=\"Helvetica,sans-Serif\" font-size=\"14.00\">gini = 0.047</text>\n<text text-anchor=\"middle\" x=\"582\" y=\"-260.8\" font-family=\"Helvetica,sans-Serif\" font-size=\"14.00\">samples = 124</text>\n<text text-anchor=\"middle\" x=\"582\" y=\"-245.8\" font-family=\"Helvetica,sans-Serif\" font-size=\"14.00\">value = [3, 121]</text>\n<text text-anchor=\"middle\" x=\"582\" y=\"-230.8\" font-family=\"Helvetica,sans-Serif\" font-size=\"14.00\">class = 1</text>\n</g>\n<!-- 0&#45;&gt;8 -->\n<g id=\"edge8\" class=\"edge\">\n<title>0&#45;&gt;8</title>\n<path fill=\"none\" stroke=\"black\" d=\"M504.29,-341.91C513.7,-332.65 523.79,-322.73 533.48,-313.21\"/>\n<polygon fill=\"black\" stroke=\"black\" points=\"536.11,-315.53 540.79,-306.02 531.2,-310.54 536.11,-315.53\"/>\n<text text-anchor=\"middle\" x=\"540.57\" y=\"-327.32\" font-family=\"Helvetica,sans-Serif\" font-size=\"14.00\">False</text>\n</g>\n<!-- 2 -->\n<g id=\"node3\" class=\"node\">\n<title>2</title>\n<polygon fill=\"#e5833c\" stroke=\"black\" points=\"231,-187 121,-187 121,-104 231,-104 231,-187\"/>\n<text text-anchor=\"middle\" x=\"176\" y=\"-171.8\" font-family=\"Helvetica,sans-Serif\" font-size=\"14.00\">x[13] &lt;= 48.7</text>\n<text text-anchor=\"middle\" x=\"176\" y=\"-156.8\" font-family=\"Helvetica,sans-Serif\" font-size=\"14.00\">gini = 0.033</text>\n<text text-anchor=\"middle\" x=\"176\" y=\"-141.8\" font-family=\"Helvetica,sans-Serif\" font-size=\"14.00\">samples = 235</text>\n<text text-anchor=\"middle\" x=\"176\" y=\"-126.8\" font-family=\"Helvetica,sans-Serif\" font-size=\"14.00\">value = [231, 4]</text>\n<text text-anchor=\"middle\" x=\"176\" y=\"-111.8\" font-family=\"Helvetica,sans-Serif\" font-size=\"14.00\">class = 0</text>\n</g>\n<!-- 1&#45;&gt;2 -->\n<g id=\"edge2\" class=\"edge\">\n<title>1&#45;&gt;2</title>\n<path fill=\"none\" stroke=\"black\" d=\"M292.24,-224.22C275.26,-212.86 256.65,-200.42 239.4,-188.89\"/>\n<polygon fill=\"black\" stroke=\"black\" points=\"241.32,-185.96 231.06,-183.31 237.42,-191.78 241.32,-185.96\"/>\n</g>\n<!-- 5 -->\n<g id=\"node6\" class=\"node\">\n<title>5</title>\n<polygon fill=\"#c3e1f7\" stroke=\"black\" points=\"406.5,-187 295.5,-187 295.5,-104 406.5,-104 406.5,-187\"/>\n<text text-anchor=\"middle\" x=\"351\" y=\"-171.8\" font-family=\"Helvetica,sans-Serif\" font-size=\"14.00\">x[21] &lt;= 27.415</text>\n<text text-anchor=\"middle\" x=\"351\" y=\"-156.8\" font-family=\"Helvetica,sans-Serif\" font-size=\"14.00\">gini = 0.484</text>\n<text text-anchor=\"middle\" x=\"351\" y=\"-141.8\" font-family=\"Helvetica,sans-Serif\" font-size=\"14.00\">samples = 39</text>\n<text text-anchor=\"middle\" x=\"351\" y=\"-126.8\" font-family=\"Helvetica,sans-Serif\" font-size=\"14.00\">value = [16, 23]</text>\n<text text-anchor=\"middle\" x=\"351\" y=\"-111.8\" font-family=\"Helvetica,sans-Serif\" font-size=\"14.00\">class = 1</text>\n</g>\n<!-- 1&#45;&gt;5 -->\n<g id=\"edge5\" class=\"edge\">\n<title>1&#45;&gt;5</title>\n<path fill=\"none\" stroke=\"black\" d=\"M351,-222.91C351,-214.65 351,-205.86 351,-197.3\"/>\n<polygon fill=\"black\" stroke=\"black\" points=\"354.5,-197.02 351,-187.02 347.5,-197.02 354.5,-197.02\"/>\n</g>\n<!-- 3 -->\n<g id=\"node4\" class=\"node\">\n<title>3</title>\n<polygon fill=\"#e5833c\" stroke=\"black\" points=\"110,-68 0,-68 0,0 110,0 110,-68\"/>\n<text text-anchor=\"middle\" x=\"55\" y=\"-52.8\" font-family=\"Helvetica,sans-Serif\" font-size=\"14.00\">gini = 0.025</text>\n<text text-anchor=\"middle\" x=\"55\" y=\"-37.8\" font-family=\"Helvetica,sans-Serif\" font-size=\"14.00\">samples = 234</text>\n<text text-anchor=\"middle\" x=\"55\" y=\"-22.8\" font-family=\"Helvetica,sans-Serif\" font-size=\"14.00\">value = [231, 3]</text>\n<text text-anchor=\"middle\" x=\"55\" y=\"-7.8\" font-family=\"Helvetica,sans-Serif\" font-size=\"14.00\">class = 0</text>\n</g>\n<!-- 2&#45;&gt;3 -->\n<g id=\"edge3\" class=\"edge\">\n<title>2&#45;&gt;3</title>\n<path fill=\"none\" stroke=\"black\" d=\"M130.94,-103.73C120.66,-94.42 109.75,-84.54 99.49,-75.26\"/>\n<polygon fill=\"black\" stroke=\"black\" points=\"101.56,-72.41 91.8,-68.3 96.86,-77.6 101.56,-72.41\"/>\n</g>\n<!-- 4 -->\n<g id=\"node5\" class=\"node\">\n<title>4</title>\n<polygon fill=\"#399de5\" stroke=\"black\" points=\"223.5,-68 128.5,-68 128.5,0 223.5,0 223.5,-68\"/>\n<text text-anchor=\"middle\" x=\"176\" y=\"-52.8\" font-family=\"Helvetica,sans-Serif\" font-size=\"14.00\">gini = 0.0</text>\n<text text-anchor=\"middle\" x=\"176\" y=\"-37.8\" font-family=\"Helvetica,sans-Serif\" font-size=\"14.00\">samples = 1</text>\n<text text-anchor=\"middle\" x=\"176\" y=\"-22.8\" font-family=\"Helvetica,sans-Serif\" font-size=\"14.00\">value = [0, 1]</text>\n<text text-anchor=\"middle\" x=\"176\" y=\"-7.8\" font-family=\"Helvetica,sans-Serif\" font-size=\"14.00\">class = 1</text>\n</g>\n<!-- 2&#45;&gt;4 -->\n<g id=\"edge4\" class=\"edge\">\n<title>2&#45;&gt;4</title>\n<path fill=\"none\" stroke=\"black\" d=\"M176,-103.73C176,-95.52 176,-86.86 176,-78.56\"/>\n<polygon fill=\"black\" stroke=\"black\" points=\"179.5,-78.3 176,-68.3 172.5,-78.3 179.5,-78.3\"/>\n</g>\n<!-- 6 -->\n<g id=\"node7\" class=\"node\">\n<title>6</title>\n<polygon fill=\"#eda877\" stroke=\"black\" points=\"344,-68 242,-68 242,0 344,0 344,-68\"/>\n<text text-anchor=\"middle\" x=\"293\" y=\"-52.8\" font-family=\"Helvetica,sans-Serif\" font-size=\"14.00\">gini = 0.363</text>\n<text text-anchor=\"middle\" x=\"293\" y=\"-37.8\" font-family=\"Helvetica,sans-Serif\" font-size=\"14.00\">samples = 21</text>\n<text text-anchor=\"middle\" x=\"293\" y=\"-22.8\" font-family=\"Helvetica,sans-Serif\" font-size=\"14.00\">value = [16, 5]</text>\n<text text-anchor=\"middle\" x=\"293\" y=\"-7.8\" font-family=\"Helvetica,sans-Serif\" font-size=\"14.00\">class = 0</text>\n</g>\n<!-- 5&#45;&gt;6 -->\n<g id=\"edge6\" class=\"edge\">\n<title>5&#45;&gt;6</title>\n<path fill=\"none\" stroke=\"black\" d=\"M329.4,-103.73C324.81,-95.06 319.96,-85.9 315.34,-77.18\"/>\n<polygon fill=\"black\" stroke=\"black\" points=\"318.41,-75.5 310.64,-68.3 312.23,-78.77 318.41,-75.5\"/>\n</g>\n<!-- 7 -->\n<g id=\"node8\" class=\"node\">\n<title>7</title>\n<polygon fill=\"#399de5\" stroke=\"black\" points=\"464,-68 362,-68 362,0 464,0 464,-68\"/>\n<text text-anchor=\"middle\" x=\"413\" y=\"-52.8\" font-family=\"Helvetica,sans-Serif\" font-size=\"14.00\">gini = 0.0</text>\n<text text-anchor=\"middle\" x=\"413\" y=\"-37.8\" font-family=\"Helvetica,sans-Serif\" font-size=\"14.00\">samples = 18</text>\n<text text-anchor=\"middle\" x=\"413\" y=\"-22.8\" font-family=\"Helvetica,sans-Serif\" font-size=\"14.00\">value = [0, 18]</text>\n<text text-anchor=\"middle\" x=\"413\" y=\"-7.8\" font-family=\"Helvetica,sans-Serif\" font-size=\"14.00\">class = 1</text>\n</g>\n<!-- 5&#45;&gt;7 -->\n<g id=\"edge7\" class=\"edge\">\n<title>5&#45;&gt;7</title>\n<path fill=\"none\" stroke=\"black\" d=\"M374.09,-103.73C378.99,-95.06 384.18,-85.9 389.12,-77.18\"/>\n<polygon fill=\"black\" stroke=\"black\" points=\"392.26,-78.73 394.15,-68.3 386.17,-75.28 392.26,-78.73\"/>\n</g>\n<!-- 9 -->\n<g id=\"node10\" class=\"node\">\n<title>9</title>\n<polygon fill=\"#f2c09c\" stroke=\"black\" points=\"630,-187 534,-187 534,-104 630,-104 630,-187\"/>\n<text text-anchor=\"middle\" x=\"582\" y=\"-171.8\" font-family=\"Helvetica,sans-Serif\" font-size=\"14.00\">x[5] &lt;= 0.186</text>\n<text text-anchor=\"middle\" x=\"582\" y=\"-156.8\" font-family=\"Helvetica,sans-Serif\" font-size=\"14.00\">gini = 0.444</text>\n<text text-anchor=\"middle\" x=\"582\" y=\"-141.8\" font-family=\"Helvetica,sans-Serif\" font-size=\"14.00\">samples = 3</text>\n<text text-anchor=\"middle\" x=\"582\" y=\"-126.8\" font-family=\"Helvetica,sans-Serif\" font-size=\"14.00\">value = [2, 1]</text>\n<text text-anchor=\"middle\" x=\"582\" y=\"-111.8\" font-family=\"Helvetica,sans-Serif\" font-size=\"14.00\">class = 0</text>\n</g>\n<!-- 8&#45;&gt;9 -->\n<g id=\"edge9\" class=\"edge\">\n<title>8&#45;&gt;9</title>\n<path fill=\"none\" stroke=\"black\" d=\"M582,-222.91C582,-214.65 582,-205.86 582,-197.3\"/>\n<polygon fill=\"black\" stroke=\"black\" points=\"585.5,-197.02 582,-187.02 578.5,-197.02 585.5,-197.02\"/>\n</g>\n<!-- 12 -->\n<g id=\"node13\" class=\"node\">\n<title>12</title>\n<polygon fill=\"#3b9ee5\" stroke=\"black\" points=\"811,-187 701,-187 701,-104 811,-104 811,-187\"/>\n<text text-anchor=\"middle\" x=\"756\" y=\"-171.8\" font-family=\"Helvetica,sans-Serif\" font-size=\"14.00\">x[26] &lt;= 0.187</text>\n<text text-anchor=\"middle\" x=\"756\" y=\"-156.8\" font-family=\"Helvetica,sans-Serif\" font-size=\"14.00\">gini = 0.016</text>\n<text text-anchor=\"middle\" x=\"756\" y=\"-141.8\" font-family=\"Helvetica,sans-Serif\" font-size=\"14.00\">samples = 121</text>\n<text text-anchor=\"middle\" x=\"756\" y=\"-126.8\" font-family=\"Helvetica,sans-Serif\" font-size=\"14.00\">value = [1, 120]</text>\n<text text-anchor=\"middle\" x=\"756\" y=\"-111.8\" font-family=\"Helvetica,sans-Serif\" font-size=\"14.00\">class = 1</text>\n</g>\n<!-- 8&#45;&gt;12 -->\n<g id=\"edge12\" class=\"edge\">\n<title>8&#45;&gt;12</title>\n<path fill=\"none\" stroke=\"black\" d=\"M637.05,-226.48C654.51,-214.74 673.96,-201.67 691.98,-189.54\"/>\n<polygon fill=\"black\" stroke=\"black\" points=\"694.36,-192.16 700.71,-183.68 690.45,-186.36 694.36,-192.16\"/>\n</g>\n<!-- 10 -->\n<g id=\"node11\" class=\"node\">\n<title>10</title>\n<polygon fill=\"#e58139\" stroke=\"black\" points=\"577.5,-68 482.5,-68 482.5,0 577.5,0 577.5,-68\"/>\n<text text-anchor=\"middle\" x=\"530\" y=\"-52.8\" font-family=\"Helvetica,sans-Serif\" font-size=\"14.00\">gini = 0.0</text>\n<text text-anchor=\"middle\" x=\"530\" y=\"-37.8\" font-family=\"Helvetica,sans-Serif\" font-size=\"14.00\">samples = 2</text>\n<text text-anchor=\"middle\" x=\"530\" y=\"-22.8\" font-family=\"Helvetica,sans-Serif\" font-size=\"14.00\">value = [2, 0]</text>\n<text text-anchor=\"middle\" x=\"530\" y=\"-7.8\" font-family=\"Helvetica,sans-Serif\" font-size=\"14.00\">class = 0</text>\n</g>\n<!-- 9&#45;&gt;10 -->\n<g id=\"edge10\" class=\"edge\">\n<title>9&#45;&gt;10</title>\n<path fill=\"none\" stroke=\"black\" d=\"M562.64,-103.73C558.57,-95.15 554.26,-86.09 550.16,-77.46\"/>\n<polygon fill=\"black\" stroke=\"black\" points=\"553.26,-75.83 545.81,-68.3 546.94,-78.83 553.26,-75.83\"/>\n</g>\n<!-- 11 -->\n<g id=\"node12\" class=\"node\">\n<title>11</title>\n<polygon fill=\"#399de5\" stroke=\"black\" points=\"690.5,-68 595.5,-68 595.5,0 690.5,0 690.5,-68\"/>\n<text text-anchor=\"middle\" x=\"643\" y=\"-52.8\" font-family=\"Helvetica,sans-Serif\" font-size=\"14.00\">gini = 0.0</text>\n<text text-anchor=\"middle\" x=\"643\" y=\"-37.8\" font-family=\"Helvetica,sans-Serif\" font-size=\"14.00\">samples = 1</text>\n<text text-anchor=\"middle\" x=\"643\" y=\"-22.8\" font-family=\"Helvetica,sans-Serif\" font-size=\"14.00\">value = [0, 1]</text>\n<text text-anchor=\"middle\" x=\"643\" y=\"-7.8\" font-family=\"Helvetica,sans-Serif\" font-size=\"14.00\">class = 1</text>\n</g>\n<!-- 9&#45;&gt;11 -->\n<g id=\"edge11\" class=\"edge\">\n<title>9&#45;&gt;11</title>\n<path fill=\"none\" stroke=\"black\" d=\"M604.71,-103.73C609.54,-95.06 614.65,-85.9 619.5,-77.18\"/>\n<polygon fill=\"black\" stroke=\"black\" points=\"622.64,-78.74 624.45,-68.3 616.53,-75.33 622.64,-78.74\"/>\n</g>\n<!-- 13 -->\n<g id=\"node14\" class=\"node\">\n<title>13</title>\n<polygon fill=\"#ffffff\" stroke=\"black\" points=\"803.5,-68 708.5,-68 708.5,0 803.5,0 803.5,-68\"/>\n<text text-anchor=\"middle\" x=\"756\" y=\"-52.8\" font-family=\"Helvetica,sans-Serif\" font-size=\"14.00\">gini = 0.5</text>\n<text text-anchor=\"middle\" x=\"756\" y=\"-37.8\" font-family=\"Helvetica,sans-Serif\" font-size=\"14.00\">samples = 2</text>\n<text text-anchor=\"middle\" x=\"756\" y=\"-22.8\" font-family=\"Helvetica,sans-Serif\" font-size=\"14.00\">value = [1, 1]</text>\n<text text-anchor=\"middle\" x=\"756\" y=\"-7.8\" font-family=\"Helvetica,sans-Serif\" font-size=\"14.00\">class = 0</text>\n</g>\n<!-- 12&#45;&gt;13 -->\n<g id=\"edge13\" class=\"edge\">\n<title>12&#45;&gt;13</title>\n<path fill=\"none\" stroke=\"black\" d=\"M756,-103.73C756,-95.52 756,-86.86 756,-78.56\"/>\n<polygon fill=\"black\" stroke=\"black\" points=\"759.5,-78.3 756,-68.3 752.5,-78.3 759.5,-78.3\"/>\n</g>\n<!-- 14 -->\n<g id=\"node15\" class=\"node\">\n<title>14</title>\n<polygon fill=\"#399de5\" stroke=\"black\" points=\"932,-68 822,-68 822,0 932,0 932,-68\"/>\n<text text-anchor=\"middle\" x=\"877\" y=\"-52.8\" font-family=\"Helvetica,sans-Serif\" font-size=\"14.00\">gini = 0.0</text>\n<text text-anchor=\"middle\" x=\"877\" y=\"-37.8\" font-family=\"Helvetica,sans-Serif\" font-size=\"14.00\">samples = 119</text>\n<text text-anchor=\"middle\" x=\"877\" y=\"-22.8\" font-family=\"Helvetica,sans-Serif\" font-size=\"14.00\">value = [0, 119]</text>\n<text text-anchor=\"middle\" x=\"877\" y=\"-7.8\" font-family=\"Helvetica,sans-Serif\" font-size=\"14.00\">class = 1</text>\n</g>\n<!-- 12&#45;&gt;14 -->\n<g id=\"edge14\" class=\"edge\">\n<title>12&#45;&gt;14</title>\n<path fill=\"none\" stroke=\"black\" d=\"M801.06,-103.73C811.34,-94.42 822.25,-84.54 832.51,-75.26\"/>\n<polygon fill=\"black\" stroke=\"black\" points=\"835.14,-77.6 840.2,-68.3 830.44,-72.41 835.14,-77.6\"/>\n</g>\n</g>\n</svg>\n",
            "text/plain": [
              "<graphviz.sources.Source at 0x784ec3f01ae0>"
            ]
          },
          "metadata": {}
        }
      ]
    },
    {
      "cell_type": "markdown",
      "source": [
        "**최적의 하이퍼 파라미터 찾기: 그리드 서치**\n",
        "\n",
        "![img.png](data:image/png;base64,iVBORw0KGgoAAAANSUhEUgAAA/wAAAJyCAYAAAB5bMvnAAAMZGlDQ1BJQ0MgUHJvZmlsZQAASImVVwdck0cbv3dkkrACEZAR9hJFZgAZIawIArJBVEISSBgxJgQVN1qqYB2oiOKoaFVEwToAqQMR6yyK2zqKA5VKLVZxofJdSEBrv/H7nt/v3vu/zz33f0bu8t4BoNPJl8nyUF0A8qUF8rjwYFZKahqL9AiQgB5AgC3w4wsUMk5sbBSAMtT/XV5fh5ZQrriouP45/l9FXyhSCABA0iHOFCoE+RC3AIAXC2TyAgCIIVBvPaNApsJiiA3kMECI56hwthqvVOFMNd4+aJMQx4W4CQAyjc+XZwOg3Qb1rEJBNuTRfgSxq1QokQKgYwBxgEDMF0KcAPGo/PxpKrwAYgdoL4N4F8TszC84s//GnznMz+dnD2N1XoNCDpEoZHn8Wf9naf635Ocph3zYwUYTyyPiVPnDGt7MnRapwjSIe6SZ0TGqWkP8ViJU1x0AlCpWRiSq7VFTgYIL6weYELsK+SGREJtCHCbNi47S6DOzJGE8iOFqQWdKCngJmrlLRIrQeA3nRvm0uJghnCXncjRz6/jyQb8q+zZlbiJHw39TLOIN8b8qEickQ0wFAKMWSpKiIdaG2ECRGx+ptsGsisTc6CEbuTJOFb8NxGyRNDxYzY+lZ8nD4jT2snzFUL5YiVjCi9bgygJxQoS6PthuAX8wfiOIG0RSTuIQj0iREjWUi1AUEqrOHWsXSRM1+WL3ZAXBcZq5vbK8WI09Thblhav0VhCbKArjNXPxcQVwcar58ShZQWyCOk48I4c/PlYdD14IogAXhAAWUMKWCaaBHCBp72nsgW/qkTDAB3KQDUTARaMZmpE8OCKFz3hQBP6ASAQUw/OCB0dFoBDqPw5r1U8XkDU4Wjg4Ixc8hjgfRII8+K4cnCUd9pYEHkGN5B/eBTDWPNhUY//UcaAmSqNRDvGydIYsiaHEEGIEMYzoiJvgAbgfHgWfQbC54WzcZyjaz/aEx4QOwgPCNUIn4dZUSbH8q1gmgE7IH6bJOPPLjHE7yOmJB+P+kB0y40zcBLjgHtAPBw+Enj2hlquJW5U769/kOZzBFzXX2FFcKShlBCWI4vD1TG0nbc9hFlVFv6yPOtbM4apyh0e+9s/9os5C2Ed+bYktwQ5gp7ET2FnsCNYIWNhxrAm7gB1V4eE19GhwDQ15ixuMJxfySP7hj6/xqaqkwrXWtdv1g2YMFIhmFqg2GHeabJZcki0uYHHgV0DE4kkFo0ex3FzdXAFQfVPUf1MvmYPfCoR57rOu+C4A/qkDAwNHPuui4D49+BRu857POvtaAOjHADjzjUApL1TrcNWDAP8NdOCOMgbmwBo4wIzcgBfwA0EgFIwHMSABpIIpsM5iuJ7lYAaYAxaCElAGVoK1YAPYAraBXWAv2A8awRFwAvwMzoNL4Bq4DddPF3gGesFr0I8gCAmhIwzEGLFAbBFnxA1hIwFIKBKFxCGpSAaSjUgRJTIHWYSUIeXIBmQrUoP8iBxGTiBnkQ7kFnIf6Ub+Qt6jGEpDDVAz1A4dg7JRDhqJJqCT0Wx0OlqELkaXo5VoNboHbUBPoOfRa2gn+gztwwCmhTExS8wFY2NcLAZLw7IwOTYPK8UqsGqsDmuGv/QVrBPrwd7hRJyBs3AXuIYj8ERcgE/H5+HL8A34LrwBb8Ov4PfxXvwTgU4wJTgTfAk8QgohmzCDUEKoIOwgHCKcgrupi/CaSCQyifZEb7gbU4k5xNnEZcRNxHpiC7GD+JDYRyKRjEnOJH9SDIlPKiCVkNaT9pCOky6TukhvyVpkC7IbOYycRpaSi8kV5N3kY+TL5CfkfoouxZbiS4mhCCmzKCso2ynNlIuULko/VY9qT/WnJlBzqAupldQ66inqHepLLS0tKy0frYlaEq0FWpVa+7TOaN3XekfTpznRuLR0mpK2nLaT1kK7RXtJp9Pt6EH0NHoBfTm9hn6Sfo/+VpuhPVqbpy3Unq9dpd2gfVn7uQ5Fx1aHozNFp0inQueAzkWdHl2Krp0uV5evO0+3Svew7g3dPj2G3li9GL18vWV6u/XO6j3VJ+nb6YfqC/UX62/TP6n/kIExrBlchoCxiLGdcYrRZUA0sDfgGeQYlBnsNWg36DXUN/QwTDKcaVhleNSwk4kx7Zg8Zh5zBXM/8zrz/QizEZwRohFLR9SNuDzijdFIoyAjkVGpUb3RNaP3xizjUONc41XGjcZ3TXATJ5OJJjNMNpucMukZaTDSb6RgZOnI/SN/NUVNnUzjTGebbjO9YNpnZm4WbiYzW2920qzHnGkeZJ5jvsb8mHm3BcMiwEJiscbiuMXvLEMWh5XHqmS1sXotTS0jLJWWWy3bLfut7K0SrYqt6q3uWlOt2dZZ1musW617bSxsJtjMsam1+dWWYsu2Fduusz1t+8bO3i7Z7lu7Rrun9kb2PPsi+1r7Ow50h0CH6Q7VDlcdiY5sx1zHTY6XnFAnTyexU5XTRWfU2ctZ4rzJuWMUYZTPKOmo6lE3XGguHJdCl1qX+6OZo6NGF49uHP18jM2YtDGrxpwe88nV0zXPdbvr7bH6Y8ePLR7bPPYvNyc3gVuV21V3unuY+3z3JvcXHs4eIo/NHjc9GZ4TPL/1bPX86OXtJfeq8+r2tvHO8N7ofYNtwI5lL2Of8SH4BPvM9zni887Xy7fAd7/vn34ufrl+u/2ejrMfJxq3fdxDfyt/vv9W/84AVkBGwPcBnYGWgfzA6sAHQdZBwqAdQU84jpwczh7O82DXYHnwoeA3XF/uXG5LCBYSHlIa0h6qH5oYuiH0XphVWHZYbVhvuGf47PCWCEJEZMSqiBs8M56AV8PrHe89fu74tkhaZHzkhsgHUU5R8qjmCeiE8RNWT7gTbRstjW6MATG8mNUxd2PtY6fH/jSRODF2YtXEx3Fj4+bEnY5nxE+N3x3/OiE4YUXC7USHRGVia5JOUnpSTdKb5JDk8uTOlDEpc1POp5qkSlKb0khpSWk70vomhU5aO6kr3TO9JP36ZPvJMyefnWIyJW/K0ak6U/lTD2QQMpIzdmd84Mfwq/l9mbzMjZm9Aq5gneCZMEi4Rtgt8heVi55k+WeVZz3N9s9end0tDhRXiHskXMkGyYuciJwtOW9yY3J35g7kJefV55PzM/IPS/WludK2aebTZk7rkDnLSmSd032nr53eK4+U71AgismKpgIDeHi/oHRQfqO8XxhQWFX4dkbSjAMz9WZKZ16Y5TRr6awnRWFFP8zGZwtmt86xnLNwzv25nLlb5yHzMue1zreev3h+14LwBbsWUhfmLvyl2LW4vPjVouRFzYvNFi9Y/PCb8G9qS7RL5CU3vvX7dssSfIlkSftS96Xrl34qFZaeK3Mtqyj7sEyw7Nx3Y7+r/G5gedby9hVeKzavJK6Urry+KnDVrnK98qLyh6snrG5Yw1pTuubV2qlrz1Z4VGxZR12nXNdZGVXZtN5m/cr1HzaIN1yrCq6q32i6cenGN5uEmy5vDtpct8VsS9mW999Lvr+5NXxrQ7VddcU24rbCbY+3J20//QP7h5odJjvKdnzcKd3ZuStuV1uNd03NbtPdK2rRWmVt9570PZf2huxtqnOp21rPrC/bB/Yp9/3+Y8aP1/dH7m89wD5Qd9D24MZDjEOlDUjDrIbeRnFjZ1NqU8fh8Ydbm/2aD/00+qedRyyPVB01PLriGPXY4mMDx4uO97XIWnpOZJ942Dq19fbJlJNX2ya2tZ+KPHXm57CfT57mnD5+xv/MkbO+Zw+fY59rPO91vuGC54VDv3j+cqjdq73hovfFpks+l5o7xnUcuxx4+cSVkCs/X+VdPX8t+lrH9cTrN2+k3+i8Kbz59FberRe/Fv7af3vBHcKd0ru6dyvumd6r/s3xt/pOr86j90PuX3gQ/+D2Q8HDZ48Ujz50LX5Mf1zxxOJJzVO3p0e6w7ov/T7p965nsmf9PSV/6P2x8bnD84N/Bv15oTelt+uF/MXAX8teGr/c+crjVWtfbN+91/mv+9+UvjV+u+sd+93p98nvn/TP+ED6UPnR8WPzp8hPdwbyBwZkfDl/8CiAwYZmZQHw1054TkgFgHEJnh8mqe98g4Ko76mDCPwnrL4XDooXAHWwUx3XuS0A7IPNbgHkhu+qo3pCEEDd3YebRhRZ7m5qLhq88RDeDgy8NAOA1AzAR/nAQP+mgYGP8I6K3QKgZbr6rqkSIrwbfB+gQteM0t+Cr0R9D/0ix697oIrAA3zd/wtCqIoWvoWn4wAAAIplWElmTU0AKgAAAAgABAEaAAUAAAABAAAAPgEbAAUAAAABAAAARgEoAAMAAAABAAIAAIdpAAQAAAABAAAATgAAAAAAAACQAAAAAQAAAJAAAAABAAOShgAHAAAAEgAAAHigAgAEAAAAAQAAA/ygAwAEAAAAAQAAAnIAAAAAQVNDSUkAAABTY3JlZW5zaG9073YuwgAAAAlwSFlzAAAWJQAAFiUBSVIk8AAAAddpVFh0WE1MOmNvbS5hZG9iZS54bXAAAAAAADx4OnhtcG1ldGEgeG1sbnM6eD0iYWRvYmU6bnM6bWV0YS8iIHg6eG1wdGs9IlhNUCBDb3JlIDUuNC4wIj4KICAgPHJkZjpSREYgeG1sbnM6cmRmPSJodHRwOi8vd3d3LnczLm9yZy8xOTk5LzAyLzIyLXJkZi1zeW50YXgtbnMjIj4KICAgICAgPHJkZjpEZXNjcmlwdGlvbiByZGY6YWJvdXQ9IiIKICAgICAgICAgICAgeG1sbnM6ZXhpZj0iaHR0cDovL25zLmFkb2JlLmNvbS9leGlmLzEuMC8iPgogICAgICAgICA8ZXhpZjpQaXhlbFhEaW1lbnNpb24+MTAyMDwvZXhpZjpQaXhlbFhEaW1lbnNpb24+CiAgICAgICAgIDxleGlmOlVzZXJDb21tZW50PlNjcmVlbnNob3Q8L2V4aWY6VXNlckNvbW1lbnQ+CiAgICAgICAgIDxleGlmOlBpeGVsWURpbWVuc2lvbj42MjY8L2V4aWY6UGl4ZWxZRGltZW5zaW9uPgogICAgICA8L3JkZjpEZXNjcmlwdGlvbj4KICAgPC9yZGY6UkRGPgo8L3g6eG1wbWV0YT4KcF0wuwAAABxpRE9UAAAAAgAAAAAAAAE5AAAAKAAAATkAAAE5AADnx5IZCHMAAEAASURBVHgB7J0HWFVHE4Y/qnRFxC4CioBYsfeu2LvRqDEmatQk9hK7/rHHGmPvLfYexR57L9gLoigqvfc6/5yDICig2KI453kM995zzp7dd3dv7rczO6NBfEAOISAEhIAQEAJCQAgIASEgBISAEBACQiBLEdAQwZ+l+lMaIwSEgBAQAkJACAgBISAEhIAQEAJCQCUggl8GghAQAkJACAgBISAEhIAQEAJCQAgIgSxIQAR/FuxUaZIQEAJCQAgIASEgBISAEBACQkAICAER/DIGhIAQEAJCQAgIASEgBISAEBACQkAIZEECIvizYKdKk4SAEBACQkAICAEhIASEgBAQAkJACIjglzEgBISAEBACQkAICAEhIASEgBAQAkIgCxIQwZ8FO1WaJASEgBAQAkJACAgBISAEhIAQEAJCQAS/jAEhIASEgBAQAkJACAgBISAEhIAQEAJZkIAI/izYqdIkISAEhIAQEAJCQAgIASEgBISAEBACIvhlDAgBISAEhIAQEAJCQAgIASEgBISAEMiCBETwZ8FOlSYJASEgBISAEBACQkAICAEhIASEgBAQwS9jQAgIASEgBISAEBACQkAICAEhIASEQBYkIII/C3aqNEkICAEhIASEgBAQAkJACAgBISAEhIAIfhkDQkAICAEhIASEgBAQAkJACAgBISAEsiABEfxZsFOlSUJACAgBISAEhIAQEAJCQAgIASEgBETwyxgQAkJACAgBISAEhIAQEAJCQAgIASGQBQmI4M+CnSpNEgJCQAgIASEgBISAEBACQkAICAEhIIJfxoAQEAJCQAgIASEgBISAEBACQkAICIEsSEAEfxbsVGmSEBACQkAICAEhIASEgBAQAkJACAgBEfwyBoSAEBACQkAICAEhIASEgBAQAkJACGRBAiL4s2CnSpOEgBAQAkJACAgBISAEhIAQEAJCQAiI4JcxIASEgBAQAkJACAgBISAEhIAQEAJCIAsSEMGfBTtVmiQEhIAQEAJCQAgIASEgBISAEBACQkAEv4wBISAEhIAQEAJCQAgIASEgBISAEBACWZCACP4s2KnSJCEgBISAEBACQkAICAEhIASEgBAQAiL4ZQwIASEgBISAEBACQkAICAEhIASEgBDIggRE8GfBTpUmCQEhIASEgBAQAkJACAgBISAEhIAQEMEvY0AICAEhIASEgBAQAkJACAgBISAEhEAWJCCCPwt2qjRJCAgBISAEhIAQEAJCQAgIASEgBISACH4ZA0JACAgBISAEhIAQEAJCQAgIASEgBLIggSwn+CkhAVFREfDzD4SGphZy5coFvWy6b9V1cbGxCAoKRERkJIyMs8PA0BDZdLShoaHxVve/elFCQjwC/AMQFRMDExMTGBsZJZZFhPi4WAQHByM8KgYGBgbIzue1tbVeLeKN7xPi4xEWGoLQiCgYGxvDyMgQmu9Y3zc+7JULiNsRERaGAGamoaEJ89x5oKurg3ej9Urh8vaLJhATE43gwCCERURAGSeZOZTrjYyMYZrTFLo6Opm5NdPXRkdHITAgENE8R81ymcOQ5+IHmz4JyvdJiDrHlfYoc1NLU2ZHpjtJbhACQkAICAEhIASEgBB4ZwJZTvDHxUbjiftDrF27HuGxmvjhxx9Q1NoC2pqab4Tk6/UUO3fuxJ17bmjUvDXKlC6F3Dmzv7Pgj4oIx7bNm3D3sSdq16mDqhUdoa+nB+KFgLAgXzjvd8a1e09Qskw5NK5fF9mNDd5Yx1cviAgLxZnj/+LMtTuoWbMWKpYrDQN9/Vcve6f3ikwjSuD/JN6uiPqUYiiWFy1uulzGlq3boJXNED16/4JCeXPxgsM7PU5uykIEPJ954MC+f3D1xi1ERcemapki6JMWATR4Xr46XOLi4lC+UjW0aN4M+fPmTjXmUhX0Ad48efQA23fswCN3D3T9/keUKlUCuu+w8JZWVRIiA7HP+QCu3H6ASjUaoWqF0jA2eLvFx7TKk8+EgBAQAkJACAgBISAEhEBmCWRBwR+D+3dvYfTwobjm+gyjfp+Gds0awsRI7w1sCFfOn8LvEyfjzkMvTJg0CXVrVUeuHMbvLPhD2fI9dsRwHHe5i569fsK37VqyqDdiwR+HgOcPMXPWLOw7eQ2NeXGhX99eyJcrxxvq+PrpIH9frFuxFOv3HsUPP/yIDq2aqt4Cr1+Z+U/iWXj5+zzHYw9PGJjkgJWVJS9YZEsWaNFRkSzqdmPM2HHQ1s+B5es3oVSxwnjz0krm6yJ3fFkEPB4/5MWujTh38QoioqK58kmyXvEKCcZj90cIjoiDja09cpoYqYtESX4AcbyQVK1WfXT5thMKFcz3UT1Wrl85j7HjxuOKy03M/msRmjZuBD1d7Q8COy7EE7Nnzcauo+fRvtsv6NKuCcyyG36QsqUQISAEhIAQEAJCQAgIASHwNgSynOBX3Oh9nz/F4jlTsXDdDjRo2RnjRg5GkcL5M+QRHRGCXVvWY/qchTDJVxyTfh+JsiXt+cf/u7sUK4L/t4EDcOTqLfTt+zO6dWzHYtyYrZvxCPH1xIZNm3DO5T4qV6uO9u3awMwk82IgyN8HKxYtwJpdh9CrDy8qtG2FHLw94EMcMZHhuPDvQazfuRcWxUrgh27fwdzMFJovTPix7LZ9/swpLFm6lAW/EUaMnYgihfKKhf9DwP/Cy4gID4OHx2P4+QUgLoGS5X5CfByeut3G3+tX47p7EH4ZNAQVS9hCh63qSVb/BN6WY54nLywLF2YX+w/jrZIeTrd7t7B02Qrce+CG/oOGo2qlirwtJfNba9IqPyEiABs3bsLxizdRt1lbNK5dFSaGb1p4TKsk+UwICAEhIASEgBAQAkJACLwbgSwn+BX386iIYJw4/A/6DRrF4r0Ipk+fjtpVy2VI6Pmje1i04C9s23MQzTr+gN49v2P39DzQ1np3e7Ui+EcMGoijLPj7sOD/7pu2LwQ/7+GPiYK7Owsi3uNrxnEGLCwKcbyAzC8uKIJ/5eKFiYK/90/o1LblhxP84SE4smsz5i5bD5uylTBsyCDkz2OevA9ZiZfg6+sLtweu0NDSgkPJMjAy1E8WdxkCl5NZmoCy8BYbG4d4jjGR8khg6/3D2xcxe8Z0nLrrg2mz56FupTJqrIwkwa9cr62tDR2eD+8aPyPlMzN6HRYaDNf7bggJC4FdcQde0DLnBa2M7sjEufhoPH7yBD5+QchdwAL5c5vzwsaHKjwT9ZBLhYAQEAJCQAgIASEgBL5aAllP8HNXKnvkPXhvbt9e3XHzoS9+GzMB3bt+w6IifcvdyUO7MXvun7jr7ofREyahuVNdGBnopRIcisCNiY1hEZPA1kiolm6tJGGSxhBKT/ArlyriRtmrrPzVZIWhxYI5XXHD10Tzc+Pi4llM8/Va2simq6ter7j0r1z8wsKfoeAnKJZT5ZmxajlK/ROfqwirtI5odr0+uO1vzFy6FraOVTBq+DAUyJc7WfAr9yiCLp6FXYIGsWU0W/ru12zlVdqgXJ/UZm1ugw63O6NDcfNOcgZXrlNiCkSzi3i8YjXmE1raOswi7fpnVK6c+28IEAeyc7txAdMnT8TxOz6YtWAxGlYuq1r4M64R8QICjzX2EOBonBzMT1sdv6/eowSxTJqjyjllXin/dPj61CMp8U51/PJ8SGCvGx0ej1oc6DPDg+diFAf6U+aSUl6GCxPKHOf6JLyY49pvGutcphI8UKmT8l2gzWNbKT/JoyajevEjuE7xPL9j+ZlK3V4umnyqIJ4Z1U/OCQEhIASEgBAQAkJACPw3BLKk4FdQKpbviaOHYsueo2jbtTdGDuuHXKbGaVPmH/srF83F4uVroGWSH1OnTkRlxzL8YzsxoJjy415xX1ei6vv5+SIsLJzdlIFsHP3fJHsOmJubczAuAxafivXupTx9k+CP4mwAivhWIttny8Z741NGxOOSFLEbx54A4RwJ39PTGyGhofyZBgw54rc5WwtNc+Tg4H8BWLNsEVv4D6JX795pWviV+sdERyIkJAT+7GKtlKNIAuWZObj+uZTo5EZc/2TTJvH1MQj09cK/e7bir1WbUaRUeQzq/6sq+JXAg9l4L79yvbKAEKVEYue6G3EWAmURIeWhLmwwu3B28fby5jaEhKpiXXm2KVtTzXiLgCEHGVREWeojcUFEYcTuA2rsAEXQBLPXhCeXExYWwZ9rIgczyJsvH3sWGL6FaEz9BHn36QkkxMeogv+PKZMSBf/8RWjAgl8R8CmPqMgIxMTEQTubHgfR00AEjzFl7gUHR8DAyAT5eeHJmMds0qEI/WgeZ4EB/pwZIxDhPG6UcZ9Nz4DHeHZ1vhiw94kWj5mUh+KFEMOxKJR5aMhR9FMvfiWo40yD55wOj1deSUQ4ewQ88/Tkz8N4WOpwZozsyMNeL9k5Q4YizlMfvDjAi1OxnP1Dl+/PpsMB+/jrQZ0T/FkUzzHltR7PJw1eMAsKCIC3jw9C+ftFkxcejHlu5uF5rmT4ULY8pHco7YyO5u8n/i4I8Pfn+3k+8sWGxib83WTG92eHPi9mKIsJyj8drocai+OV75v0ypfPhYAQEAJCQAgIASEgBL5cAllW8EdGhOGfLWsxfvIsFLQpi4lsUaxQqliaPRXi+wy//z4B+46cRs3G7TG8/0+wLJRPvVYRs17PnuI+u61fu+YCNzc3BAaHqVY05Yd6rtz5ULKkA8qVrwh7WxtOAfjS2py+4GcxGxuF82fPwu3hU1jb2sGxbBkY6KWI4M1CIIjFy7VrV+Dico0zB9yHLwsZxVpnksMU1tZFUap0aRTKnwcHd23H3/uO4Kc0BH8c/8D39nyGK1cu4y6X8ejRI95GEMxpAeOhzyI5T558sC9eHFWq14B1oYIsBHSREBeDB653sHu3M25duYQT5y8iV35L1KtbB7l4caN4CQc4cgaDnDlM8PTRQ5w6fgyRGtpo274DTDkA28slD/ACgzduXLuGmzdv8PNd2b3ZX/VUMDA0QsFChVGsWDGUK1eO21OY268I/0RBpgQ2fObujvMXL4J09PgaR37WfVziIHA379xBUHAIiyJtmJnnRlnH8qhQoQLsmH8qhmn2tnz4XxJ4W8F/8exJ3Lz7ABa2ZWDOul4Zvzdv3oZfaCQcSlVCq6b1YGNdSG2KItifPH6E69eVcXYbHk+fIjgkjBeWEtTUmnnz5ee5UobnaAXYFLFir5KXoj+AF7VOHzuBxyziGzZpjiJFLF8sCsQjIjwYRw4dQ7ymLuzs7RHMcTcuXbqIGzduwZ9TDmqwp03OnOaw5XOOPAbLlnZQFyFeLtwl4MrF87jn6o4SZcvD1sZazQCgBMN8zPPm5s2bCIyMQyn+/ojirB0XLl7ArTv31JSiWrwAkjNnbhR3KIlKlSqhdCkH6Kf4bknqw4T4WLWse/fucr1u4MHDRwgICOYFOF4MMzWDFX9PODg4cMaRkjyfHuDmvQewL1EKlcrxNgrxjEnCKH+FgBAQAkJACAgBIZBlCWRZwa9Y/B7evYY+fX6Fh384+g8ZhT7d26fZkZdOH8W4cRPwLDASg4aNYDHRiKP6G7B1PRquHPF/945tOHbsFJ75hSBvgbyqNVnZ2x/DVkRvb0+ONh6FyrUbof/PvVHa3ib5GekKfhbzkeFBmPPHdOw9eAJOrdqgT+9eHMH7hQcCm+cCWCifOHIQy1auwi3XR2zFLoDc5rlUS2gUB9Pz9fGFnokZKlaqjGBPd5y9cU8NDNixbYvkPfzKFoTnTx9j24a/sXXXHoRFxXO8AFOOI5BddctXPAd8fb0RGBqG+s3a4ZefeqCYVSFoJMTg7Kl/MXXGPHg8foynz72gb5wDlpYWqlW+dr36aKOkTMuTC2e5jhNGjUKIjj42bN8FG14oSRL8EeGh2LllHf7euBUPn3ip4jwX51ZX3KsjOGWhv68PIqPjULl6LXRo3w7F7W2RhxcUFMNjArv/Xzx+CDNmz4U/Z3Vr3awJTh47Ct+AUBixxVOPLaZxfI2X53MWX6Go79QCP/bojpLFbT5YWrXkjpQXH4zA2wr+v6aPx5qtzihXvz00A+/j5KmzvG1EE+b5LFGjrhM6tWkMextL1cX//u0b2Pz3euxxPgIeXKo1X/EaUWJLRvIc9Xr+HOEx8ajXuDlGDBmgxqFIatCDW9cxdcwYHL1wGbMXL0PjRg15/CgLAnHw836CQQOGwzcsBjVrVIMrX+v28AmM2atEsZArXj8B7HXg6ROAInZlMWhQfw76V1bdCpRYfgKW/DkDW3YdRufev6JNE84WYpiNvWeicOLQAaxdvx43nnijNpcd+PQh3J96qVZ5A309Htux8OPFCG/+zildrir6/doX1dkT4tXj0YO7WLt6JY6fOAWvgCD2eMnJcQj4e4IzDUTxQkhocLgaULNm3foIePIAB0+cRIfvfsSAn35gr4TMBwl99fnyXggIASEgBISAEBACQuAzJ8AupVn2CAkKoOF9ulOhAgWoT/8RFMXhwl8/EmjNkj+puI011anflI6dvkAxsfHqZWz9o6XzZlG5UiWoqE1x6jdoJF26ep18fP2JXcvp8aMHtH7FIqpasTQVtChCk2YtYI398gkhgQH0c/duZF+mPP25ZCWxVTrxJF8UEepPE0cOoQqO5WncpGnkG/TiHF8RExlBh/dsJ6fa1cg8d15q2qYDbdi6ix57PKdALvP+nVu0YPZ0ql2jClkXtSVbG1sqVsqRFq5cS4HBwcnPiAwLob3bNlDZ4rZUslR5Gj5yAp0+d5n8/AMoJCSY7t2+QUvmzaYKpYtTNj0jWrJ6EwWFhLFxPZZ8vZ/TkQP7adJvg6h0CQdqwXXYtGU7HTtxiu4/cKOw8AjitHx0ZPcOqmFfjEqUKk13Hz+jpOaz+z1dOnOUqlcqTYUsranT971o595D5OnlQ8HBQXT39k1aMn8uOdWtSQULFaLOP/SiXfsPU3RMrFr/+JhoOntgN7WoV5MK5MtL5R1LUdVa9WjBktV078EjZhlEz58+oW0b1lKFsiXJsogdTZy5hLx8gxLbL//9LAnEx0XT/asnqWcHJypW0pH+OXEhuc9TVnjOlNFU0sGe6rfpQoWtilLt+o1p1PjfadvOveRy4x4Fh4TzXEugQD8vmj9zKtkXLUrF7MvS1Nnz+fxtCggMpGD+53rnJs2fNY2KF7MiC6tidOjfkykfQ/dvuFC3Zo2pQK5ctH33Xop+MfeJeA54PaD2LZpQ4YIFyYHnQPXademPOfPp9n1XtXxOPUg7t2yg5o3rkp6BCXX9aRi5PvJIUX4CLZw1mWrVqEXLNu6k4LAo9Zwybw7s2k4dWjQlU/M8VMiqCNVr1JjmLlpKt+668vwIIS9PD9q9fSM1qV+bzMzz0ve9hxEvjr0sOyGOIoL9acbkcVSsiBUz4jnW7UfavGMPuT95TkH8/fTg/m1as2IJfdOuNZUqV5VKly5PhYsUozHT5qjz/GVh8koICAEhIASEgBAQAkIgqxJQ9pBm2YP3rbPgXUNlS9iTU/M2dP3+41RtZS8Aig73o8G8KGBZ2Jr6DBhB992eEAeEIw6cRS7nT9OPnb+hUiXL0tDRv9Ojp94sTmLUc4rY4ABZFMrCefmfLDiKFaGO3XpS0Isf9cqD3lXwu91yob4/dCFrSyvq8F0vYjdcCo+IpNi4OFXkcFAyCgkOpCP7d6uCOYexIRUq5kALV7wU/NFREfTw9jUa+XN3KmbnQBP/mEePWAjEsKBW2q3Un/cvs2DyphWzJlIOYyPq2X8kufE1yjkOjkah/r60Y/k8qlm1CvXoO4BcHz6hCKUesbEqg5ioqDQFv3L/M/d7NGZgL8qXvzD1Gz6BRZIbRfL1HPAw8dnMMSwkkM6dOkwtGtWlIkVs6JfBv5GHp4/aR4mCfw81r1uDjIxMqGZdJzpx/jILvVD1+Yn84yguNpoW/zmdRY8lVa3TnC643ExedEjV2fLmsyDwtoJ/7pQxLLTzkFnuPNSs3Q906vwV8uWFKmUexPDYURaWwoID6NzR/dS1bTOqXK0WLV67k3z8AtXz7M6vjjOOMUH+nk9p5vihVMTKipas2URRMYkLegqQjAW/G7Vu0pAM9Q2pep2GtHHHPxQQFJw8/tg1nyLCw2n/PzvJKm8OKlWmAv1z6EQKzhkL/jZNGhFvCyLHKjV5sesIi/CXY1tZMOPUhrww8DeVL2lHNeo5kdtzX+KZq5YfGR5Ku/5eTjUrliLOjkEDh4+iyy631IU4Dm74Yn7H8hwLpmuXz1Pfnt+Tnq425cpvQWOni+BP0UnyUggIASEgBISAEBACWZpAlhb8nPOb3O64sJWuIdmWcKQFa3am6kx2m6Xzx52pYe0qVKZ8NVq86m/+QZ9oaVfOnTzkTD9+15nadWTL2XbnVPemfHP88D9UrUIZataqHT33DUw+9a6Cf/fmNVSlXBlyrFiDDh47w0L/pUBJLpxfhAT60jJebChlW4QKFitBC1IIfnanpytnTtJP37alVm2+oePnb7D1MtF6nrIMio8lV5eTxLEAqO23P9BNFuaKmFaO6NAg2rN6IdWuVpV++nUwPX7mRRwBPPl2dk1+TfArJ9nVnpx3bKaydlZUr0k7Fuou3IaX9yUXwOIlJNCPVi6YQY6lS1C9xq342qsUqywKcBmJFv5aVNjalsZOW8AWzkSh9/L+xFeXTx+hBjUqk23xUnT4BPNKG9ert8n7/4DAWwv+qWOoYJ5cqkV63+GTFBrO1vFXhpC/jyft2/o3dW7Tgnr26qta19McZhRHB3eso1IOdjRl3lIKCI9ObvmbBD9v76F8Baxo+P+m01Mv3+T7Ur54dOc6fd+iNhWztaNVf29JUc2MBX/rxg0pRw4zGjBsFPkHhaYsMvm1l4cr9ezalhwrV6fj1x8mex8pbf9tSH/KZWZO33bvQwf/Pc1iPzL5vpQvlMWB3ZtXk41lXjLLV0gs/CnhyGshIASEgBAQAkJACGRxAlla8LNyVQXlmCG/Up68hajD9/0oOoUYjGaL86I5U6iIRQFq37kHnWB3d0VUKodiBX/88AEdcHamA4eOs3XcU/1csXwrVkPFyh3LlsZItjju3sxu5aUdqEmrtvTM21+9TvnPuwn+eJo+bgRZFrKgjt//yiLbO7m8116wFfDKuZPUqXUTsipehgX/mmSXft5fTM89HtO+3Ttpn/NBFhThL6zr8S/rz6I6gkX96f3bKF9uM2rZ6TviQGns4fB+gl9xWV40byZlN9Snkf/7I10xo7RHWZS5efk0tWpcnypWqU6rNu2isAgWd3GJgr9l/VpUuXpdOnL22mvNT/rg7vXL1N6pLtnb2dH+oycoJm3Vl3S5/P0PCWRG8FsWKkjV6rWkx0+9lKn82hERFkquvDVkz44d9C/3eygL3iTvlOQ5ynM1MiyYtqycT8Vtbej3uYvJP4UXToaC3/MBtWvZlMpVqUtrt+6jiMiXCwUpK+P72I0m/dyZ7OzsedFwg+ohlHg+Y8HfplkTym9pR7MXrkpZXKrXUeEBNGZQbyrpWIV2nbrF3gmJbv2PH96l7t91IkvbMjTjr1X0hL8nUqzFpSpD+S7zfHyXtxA0IPMCFiz4Z4tLfypC8kYICAEhIASEgBAQAlmXQNYW/NxvsezyvXXtMrZuFaIyFarSHXd2i+UfwMoRHOBDP/fsSjlz5aVxk2cSB82idLUi75n19/WmWzev09kzp+jAfmfaunkjLV4wnzq2akLmOU2p6QcQ/PHRYTSgV3cqXLgITfhjEQWFpm21UxvA//F69phGDe5HdhwnYMHyl4I/6XzSX8Xq7uPtSXd43/7Zs2fI2XkfbdqwgRbMm0PfNG1A2XS0qXWXbh9E8EeEBtCUCSPI0NiUXai3UlR0Gp4FSRV70YZ+vbpS+fIVafKsheQfyF4W7HmgWPhbNahDjZq3pjsPHqW4I/XL+yz4O/KCgb2tPTkfOc6CP8WqTupL5d1/TOBtBb+yh9+umB11++V/5BvwMr5FRtWP5y02z5560I1rLnTq1Aly3rdXHePz5syglg1rk7lZTpr459K3Fvw+LPg7tm1JTi0704GTV1Ps709di4AnD2lmv+5kb+9Ai1Yqgj9pdSJjwd++ZUuyKVOb9/fvS11ginfRkUE0ZvDPLPgr05Zj15MF/12X09ShlRPVadqedhw6RYFqTIMUN772Mo5GDP6V4xgUpTFTRfC/hkc+EAJCQAgIASEgBIRAFiWQ5QW/YpG/efkMtWtalwpwYL0Vm5wTg4Txj/JrZw9RnSplqahDeVq35R+2jr/qVqt4CPjTlYvnaMO61TRm5G/UuVNHatq0MdWsUZ1KlypJRSwLkwUHnctuYsKCv917W/ijQ3yp5/cdqSjvu1+8dgtFRCV6HKQ3/jjSPU3931gqVbFqKgt/0vUc0Z/38F6g1SuW0ajfhlHXLp2oGVsWq7GbfqmSJcimiDXvny9Cutos+Dt//0EEf6i/B40Z1peMzArS5j1H2Q05RbCxpIql+Ovr9YzGshipUK4SjRj3Bwfe420R3G+K4G/dsA41a92O3bWfpLgj9UsR/Kl5fM7vMiP4S/Pe9KETl7GYzXjRSwnOeZ63r6xYupiGDOpP33ZsT42dGlG1KlXIwd6ObGyKUqGCBSinqSlNyqTg79SuFbXp+D2dvHQz3a01iuCf0e/7TAv+jm1ak2ONRrRxz+F0uyyl4N+aLPgTyOXUfmrlVIvnbHc6dtGFwtlb6U3H/0aPoCLF7Gm0CP43oZLzQkAICAEhIASEgBDIMgSybFq+lMkReK87Vi9dhFETZ6FR685YNv8P6OtoYObEcZgxdz4ate+O34YNgp21Bae900q8lVPaubvdx7bNm7B7nzO8/AKRO28BlCpVgvNjm6qp+fT1DDjNXS4khAZi6fJlMC5ghaWLlyB/7pxqGRmn5QvErClTsGv/MTRp2x6//NwHuTgtX0yIL375tR/+vXgLv40Zh86cZk8vg3zZgZwWbNmiv7Buz2H07t0bndq2VNPyKWm9fDyfwnnXdqzfvBVPfYOQP39BzsltDzOuv6GBIYyMjdUUZkZ6Gvi1188ow6kF/zduLOyLWXNKMw3EhAXj4PYNmLlkLWwdq2Dkb0NRIG9uNaWf0kAlLdnJA84YP3w4Ajkt39Y9+2BrkR9hAc8wfdpkzF2xC8tXrUXLRjWho/2CayLdVP/149SG8/+Ygr1Hz6Mepwcc0K8n8uQ0xrnD+zBt5hxomOTCzFmzYFWoQKr7kt643riCsVyHaw+fYdaCRahXq3qqXOtJ18nf/57A26blmztlNFZtdkbTLoMwtHdbZDfUe63yUZERePLQFTu2bsGuvfvh4R2AkqVKw6aoJUw5dZ6BvgEMDY1QkMdkgNczzJ/7F1r1GoC+P3ZDTk6PpxyuN69h0ogROHzuIuatWI2mjZ2S0/L5ernzWBwGMsiJgYOHwNHBjsf+a9VAoMcjrJjxPyw/dBH9h41Gz27fqPMHICyaPRUbdxxA158Hon0zp+S0fMd43qxeuw6Pg6MxZOgwtGpQ8/WC+ZOYqGBMHD0KO/+9jHGzlqBZ1eLIxt9R188cwLjfp4BMrdC/X3+UL20PI/1sySkx0yps4thRWL15Bzp274UhfXtKWr60IMlnQkAICAEhIASEgBDIagSyzNJFBg1Rgsvt3bmZ9+rnJbvSlejizYfk7fmcunZoQ4YmuWjanEXqPvMkT1wOGUdBnO5r+YI5VKWCI5UtX5X6DR5BR0+c5rRy3hwpPpjCwsIonFPTRUVF042zx8ipVrUPsoc/NiKQI/R35XR7djRryTrez572vuGk5vpw+q6xnDrP3rHiC5f+RPfnAI6+v2fbRqpWvgw5cMq+sb9PpX9PnqbnXl6cki9ErX9ERARveYghz6f3yK5wIWr9gfbwhwf70O+jB5OBsTmt3LD7jS79nk8fU79e31HZshVowrT5iS7cSS79DetS63Yd6OGTp0lNfu2vWPhfQ/LZfvDWFv7Jo6hMGUcaNWMdZ75I28L/kNPOzZw4muNnlKRKVWvR1Jlz6cLla+Tt45NijEeqMSsunT5M1R3L0O9z3n4Pv4+nK33bvrWa7u7C9TscsDJtrO9q4f+2XRuq1qAp7Th4PO2C+dO0LfxEd66cpA4tnaiGUxva4nycv784nWbSF1hapfGWpJEc5K+wdVGx8KfFRz4TAkJACAgBISAEhEAWJZDlXfqVflPc+m9dPU+dW9XjvNf5ac6SDXTu9HGqVaUiu8LX4pRYR1mUvnSdV/YC3+JAcgN/7kFly1WgkROm0pUbyg/+tH/xXzhxkOpUq/hBBD/FR/Oe/J/J0qIwDRw5hXz8M84rf//2VerFWwCKOJROIfgT6JHrTZo9dTxZWFpTr1+Hkxu7xMemWf948nC9QtaF8n+woH1RkaH054zJZKBnSFNmL+JgahHpTx8OPHj3xiVq06whL6xUpoWrNlNIGF/PfaDu4RfBnz67L/DMhxP8CXT2+AHq1K65mpZu1OQ5vJ2G43MkbZ9/hc3JQzvIsVSJTAXt+5wFvxK074eunaiwXTmasWDNi6B96TSeFwKC/Z/R99+25qB9hUXwvzI25K0QEAJCQAgIASEgBLIyga9C8CsdGMoB+tYtnsEiVF/Nbf/H1N+pmHVh+qHPYE5F555qf64Sff/U4V3U87tvqF4DJ9q4fTcFh4anOQ4SOAr4puV/UXEb6w8StE95yNJ508m2SGGq3agFXbvjmuZzlQ9joiNoz5Y1VINTAlokp+VLDHh35+o5+n3UQCrO1v0FqzZReGTaVtIoTtm1c8U8ymVqTK2+/TBB+2I4Q8CmtSuocO6c1O67n+i225MUqcpSN4e3PdAGfn75MiWodoPGdOTUBTXKflJavlYi+FMD+8LffTDBnxBLh/dsomZO9agmj5tdR86km50hIjSQFk8bzx4+BVnwL8lE0L7P18Lv7+tFQ/r9TEZGOeiH3gPp7MVrHJsk7VgZiofT4T1bqUTRwpKW7wufP1J9ISAEhIAQEAJCQAhklsBXI/gT2GJ87vS/ZGeZnyw5r3vVihUpdz4LmrtoFYUoOb5THHEs+M/9u49++v5bqlazHi1evZG8/dKwtLPlzPXONWrRqC4ZG+irweWe+wQkl/RuafmIzrPHQEunOpS/oCX9Nmk2+QWnvdhwjy3j3Tq0IFMTQypgU5wWrlzLgQdZ8LP7ruuNizRpzBCyKmpP/5u5mK3mr5cRz27zl86doCb1qpGmpga16dqdbt1zSxbn0ZzObO/aRVSnelXq3W/wa6m/FCFxZPcOqmFfjEqUKk13Hz9T701gq73bLRf6uVs7yssWxSn8fN+AVwMiKkb8GLrpcpHat2jIgQ8tqGef/pyG0EvlF8+LBmLhTx5KWebFBxP8FE/HOJ1ky8b1qFylGrTsb946kpbg5blw6cwxqlWxDJkYGdGkecsoIPzlNpmM0vJ9zhb+qIgw2r91JdWqVIJKlKlAI8b/QQ8evb7tRfFWcr97i4b06UnaPMfNOD3p2GlzJC1flplR0hAhIASEgBAQAkJACGRM4KsR/KyC2c39DvX8pgUZGBiQob4hVanfhg6fuszSIfWhCNbnTx6wYP6No3zbU/0mbejPxavInfeRBwUFkZ+PN929dYM2rl+p5ulWrPs5s+egGnWd6JLLbfILSBT97yr4A3w9ad4fk6mEvS1ZFytO/YaOpLPnL9FzTy8KDAwkD4/HdNB5D/Xo1pEj25cj+2K2ZFPC8YXgD1Yb4/nUnVYtnk821lZUrXZjWr1xF9ffQ62/v78/3bpxjZYtmE3tWjen4iXsOUq/FlWv35IOHeMUX/yMWPaNjo0Ko6O71lGt6lWoRfuudObiVfL29acgXlSI4kWR6KjINAW/UoHYaD63bweVLVWc7BwcaTRvi7h45Rr5+QVwHQLpibsb50/fQl06teNtB5bk1Kojrd+yiyJfbK0QwZ96TGaVdx9O8BPduHyOBv7UnWyLFaNmbTvT3kPHOEaFtzrGvb2e0/Wrl2jp/NnUrElDKmZXjHJwlP5eQybQlZt3KTQ0cZ58qYI/nj2Lgvy9aOakEVS6hB2VKF2OBg8fS6fOXiQfH191jnk8fkQH9u6iAb17Ugm7kpSb04/m40wlIvizymySdggBISAEhIAQEAJC4M0Evooo/UmBFsNDArF9/Qr0Gz4eUXHx+GXIWPTr2wOF8uZKuiT5b0xMJC6dPYPly5fj3KVrMM5uhuIc4T5vHjNERYTD18cbPn5+0DPMgcrlHXHkkDMeeXihWh0nVKxYASzGERcRgRGDB+Lo1Vvo0/dncJBAZDcx5uDdhMjwQMyeOjU5Sv/PfXurUfqVClBCPGcIcMXmTRuxbcdOsIUftra2KFq0KAz19RASHIRHDx8B2tk4KnkZBHs+wbnbrujbty++adNcjdIfyXW8f/cWVi5biEP/nodZnvx8fxHk5bbGRkbi2bMn8PMPgmnufKhSpTI2rFgMn+AYVK9WGY2bt0TzJk4wNtTBzUunMXb8RNx77INSZR050j9nKihTFvVqVkPunDlw6vABTHgRpX/L7r0oxhHRNV5QDPT3wZqVK7Brz15wnnBYWdvAyspCzTrg7+sNV9f78AsKQ4my5fFNx44oW7IECubPo97PLv24eOwQps2arUbpnzFjZgZR+q9i/IjEKP0z/looUfqTR/Hn9yIhPhZuNy5gBmdxOH7bG7O4v+pXLsvZMbRTVfbPqWOSo/QP+YnnTRpR+gP9fXHp/GmsWbMOLjfvqmPcobg9shsZIiIiDF6c/cHHNwB58xeGna0VDu3ZgaDYbHCwtcZ33bqhdp06eOZ6G5NHjsTh85cwb/kqNHFqlCJK/2MM7P8iSv+gwSibXpT+p4+watYkLDtwXo3S3+O7DslR+hfPmfYiSv8AtGv6Mkr/8YP7sXodR+kP4ij9Q4aiZbpR+kMwacxo7FKj9C9Gkyp2HKU/kRUxsXu3rmLjurU4eeYC/EMiUbBQIRSxtoKhXjYEK98T7u4ICAyDnUMZhAd54vL1W+jSszcG95Eo/akGnLwRAkJACAgBISAEhEAWJfBVCX4lTdb92y6YNnkaQmII3Xv2QZ2a1aGfLbXYUPuaRXlYaAiuX72Mg/sP4MaduwgIDlFPaWppwSS7KWyLl0BjJyfYFC6A40ecsWHLLpC2PspVrYVh/XpAi4X7imWLcc3VA82aN0fdGlU5VZiSXow43VYYdnC6PGUxoXy16mjRvBmMDV6mHovne308n+P0v0ex9+ABPPX0RmxsHDQ0tKCTTQ+FLKzQuHFjlLAviltXLuL45etwatwUtapW4pR7+rymkMDPiITrvbvYvWMHP+cKwiIikcAqQUNTE2zthGPFKqhbpzZsLC2wed1yHDt5DjHxhCYt2qBTxw4snPQREuCD7ZyacI/zfvgGhEDP2BR1GjihQ+sWsCiQG3euXsG6lSsRzosPI8dOQH5z02TBr8BSUu5dunAOBw8fxt0HDxEZEfWCoTZMc5rBsVxFOCkMOZWaAYsULWarHBQfB9cbLtiybTvIMDt69uBUfbkS0x2qF6T4j/dTd6xdvhIPvf3Qo3dflHIoDm2tpGWHFBfKy/+cgNKvXh4PsHXzRtx8EogefX5BWbsi3F+p893t2rgah05fRKUG7dGuUVWeozqv1T0hPp7HUyhuuFzF7l27ce3WXUTwYhZxSkkdbWV85YRjhSpo2KAhL04ZYf/endix2xkxsfH48ac+aNa0KUL9nmPjilVwue+KPv0HoXw5xxdjJwEhgT5YvHg5SMcIrdu3QxFOC6mZxrAK57Sfh3dugvOFO2jZrgOc6tXkOaBcSNi7YwtOnLmEBi1ao1qlCtDX1QZvZcEtlys4dPQofMLi0KZtW1Qu4/Ba+5QPYmPCsWXdGpy9/pCFej842hVIlXIygeLh4f4Ily9dxNGj/+K+mzuio6OhyXNcWycbcvGCXrlyFdCoUT2sX7EQW/85gu59+uHXHl04RaB+ms+UD4WAEBACQkAICAEhIASyDoGvTPADnLqKRUIE/xQHsunpQZuFQRq/4ZN7mF1nWUSEIzAgAN7evoiIioa+gQHMzc1hbmYGfX19FqmaiIqKQIB/AP/YjkPOXLnUHNfKM2L4x3d8fAK0dXXZcshilsWIcvB6gprHPo49DbR0dFQLp8aLc+oFL/6j5LqPZKHu4fEEgUHBLGY0ebEhBwoVsoARWz21tbTB+3QRw/XU1dGFziuWUt6egPDwcPj5+sDX3x9RkVHQ1dVDgYIFkZMFkV42RWRrIprr7+fjizjSUBcDTEyMEkULVzScFz48nj+Fr18At92IrfwFYWaaA9l4oSSeRVcMM0ng+upz3nOOBZCy+ipnDmyIcGbo6+0FX19/rms8jIyMkSdPXs6Xnh36LPSVRYhXD2XRQ+GnAU3ocj1fLTvpes5HxtyjwLsQoMd9mrRokHRe/n5eBJQ5GBvD/cWLS7q8eKWtzItXDqXfY3ncKPMmmzaL/dTDKtXVyhhUFuf82eLvzWM4Ni4Bhjy+cpvn5n9mPC90eNrxHI2MUD1zeMKpi01GvMDGce3VMRbHz9Lj8Zu6Lgk8r5XxxwsIXA9FRKd58OIaB/pUx7UyTpXFhqRD+VxphzI3tZPmJj9TnTexsfw9oDDIxvP4dQZKGXwaHAQTnCGE55v+i8UIqPdzWk1Ecv30mKEOfw9ERobC09OLvyeCeN5pwNDYGPny5uc5ZsI3RGBQv19x7OI9DPxtPLq0deJFlLSfmVR3+SsEhIAQEAJCQAgIASHw5RP46gT/u3aZ8gM9VvmBzmJFg3+cKz/qXxWWyo/3BP7xr6X54X9IK8Ihjq2jyg95Tf5xr6f7usUz3baxaFDEs1J/RWwp4loRQa/WXzmnCAxNXgBIqa+UdsXxooKyOKHcqywqvEsbE8uI4zoQP0OLFx5YRKWxyJFuO+SEEMiAgDK+FC8Y5VDGqTaPce1XRLoyj5WFtXTFewblf06nIsLDcObUKVx2uYWSpR3Zil8W5rlygIOTqgsMyjxWFjN1le8Jnvs3Lp7CL7/2Q4xBXkycMg21K5eBOMF8Tj0qdRECQkAICAEhIASEwMchIIL/43CVUoWAEBACH41AWHAg/l6zCstXrYG9Y1W0bNUG1SuXY2u+MS/GJS7YKQt4MexJ4fnUQ7127sIlaP5Nd4z+bQjHw8j30eomBQsBISAEhIAQEAJCQAh8PgRE8H8+fSE1EQJCQAi8FQFOiYlLp/7F7NlzcfeJD0o4lkOzxk4c08NW3SajeDaEhfFWnCePcf7saWzfsQvxukYYOmwYWjVpDAODbG/1HLlICAgBISAEhIAQEAJC4MsmIIL/y+4/qb0QEAJfIQElYGGwvzd2cUDOnXudOaBoGHLnzgtLS0s1boESEyA4yB+PHj2Gu/tjcLpLNG/TDt+0b4+i1oXZCyDlpp2vEKA0WQgIASEgBISAEBACXwkBEfxfSUdLM4WAEMh6BMJCgnDzxjVcv34dN27c4VSbAWoATyVDgBIfI5u+IXJz4L4KFSqiXt1aMONUmorLvxxCQAgIASEgBISAEBACXwcBEfxfRz9LK4WAEMiiBJQ0f2FhYZxlwwcez56y6A9Usw8YGBgiX/78nA0jD0w5DacRp+uUQwgIASEgBISAEBACQuDrIiCC/+vqb2mtEBACWZQAcYaQqKgoTlEZo6bDVKL0K2kqU6YJzKJNl2YJASEgBISAEBACQkAIpENABH86YORjISAEhIAQEAJCQAgIASEgBISAEBACXzIBEfxfcu9J3YWAEBACQkAICAEhIASEgBAQAkJACKRDQAR/OmDkYyEgBISAEBACQkAICAEhIASEgBAQAl8yARH8X3LvSd2FgBAQAkJACAgBISAEhIAQEAJCQAikQ0AEfzpg5GMhIASEgBAQAkJACAgBISAEhIAQEAJfMgER/F9y70ndhYAQEAJCQAgIASEgBISAEBACQkAIpENABH86YD70x/Hx8YiPi1PzY2embA1oQDebLjQ0NDJzWzrXEuLiuB5cFy0dHWhraqZzXcYfE5FahlqOpha0dbQzvkHOCoGPQEAZh3E8lhPi48Av3/IgvlYDOrrK+NcCT6/3PhISEhAbEwNNLZ4LnArvXeeq8v2gzCmlKbq6H2rOv3fzpAAhIASEgBAQAkJACAiBL5iACP5P1HmPH7rCxcUF3r4BqkhRxMqbDiJNGBmZomXrpjDNbvymy994PioyAjevX8ddt0eoWKkybKwt30mchIcE4/EjN9y974Z8BS1QvmIF6Gi92+LBGystFwiBdAgEBwXA9d5d3L13HyFhESzk3zynlKJiYzVRo2YNlCxpB933XqwiPHF3x5Ej/6JQkWKoUK40shu/21x9/sQdl86dRxgvyjVt1gLZTYzSabl8LASEgBAQAkJACAgBISAE3o6ACP634/TeVx3+Zytmz54Dl9sPwKZA6OgoFryMiiUkJGjDPHcRbNiyAjaWBTK6+K3OBfj6YMXihVi5ZSfG/z4J7Zo3fifB7+nhjsN7d2L1ui2oVLcRRo0aAYNsOm9VB7lICHwoAo8e3MW2DWuxcv0mePsF8eKY0VuMZw1EROhiwsRx6NqlNQz19d6rOsoiw+H9+9Cj109o0LYzxgwdiMIF8ma+TC7nwsmjGPfbSHiFR2Pbrj2wtiyU+XLkDiEgBISAEBACQkAICAEhkIKACP4UMD7my/07N2LKlCkIS9BBteq14Fi2DHS12aU4g0NxPdYzMEb9+nXYamiYwZVvd8rfxxuL5s3BkvVbMeWPGejUpsVbCKTXy/Z8/BDOO7di+eq/UaVBE4yfMB5GerqvXyifCIGPSMDt/m1sXLMcK9dtQq78lvjuu67IYfJm63oMW/grVCyPYsWs2DMl4zn4puorgv/A3t3o3KUbGn/TDb+PHgarQu+wOMflnD16EKMGDoIHC/59h4/CxsriTY+X80JACAgBISAEhIAQEAJCIEMCIvgzxPPhTu7fuQmTJk2EUW5LdO7WHS2bOiHbm9yJFQ9lTd5v/B77glO2IFHwz8WSv1nwT//jvQT//p3bsGzNelSpL4I/JWN5/ekIJAr+ZVi9YRtKV6iGmTNmIm9uc65AQoaVYG2t7rXX+gDbUJIEf5eu3eDUgQX/KBb8Fu8j+Ae/EPxHRPBn2ItyUggIASEgBISAEBACQuBtCIjgfxtKH+CaJMFvktca3/3QA62bN3mjhf9tHqsEDFMEjAYvDGhmvEcAmRX8iphR/inFami83KOvWPhF8L9N78g1H5NASsFfrnJNzJkzB3nMzT7AI5XtNMrY5/U2nlcZBeF7F8GfNK+UimomBc7khyVa+EXwf4AOlCKEgBAQAkJACAgBISAEXhAQwf+JhkIqwd/9R7Riwf9GC386dUtIUCKTJyA6OgqBgYGIiIpW9y9nz56Dg5DpQLFcKgL9Vf3/NoJfESPKIoISMTw0NARBQcHQ1NZB9uzZYcx7pLXYK8HzsRsO7twuFv50+kc+/jQEUgv+GmqMjLy5c2X64cqYV44EjpAfFxeLsLAwhISEcnDNBGQ3zQETI2OOuaGtivNXxf/bCP4kgU88b6OiohAcHIyIyGjOvpENply+vp4+L9gBF44ewqhBiuCPYZd+sfBnuiPlBiEgBISAEBACQkAICIHXCIjgfw3Jx/ngQwn+mJgouN2/i927duLyVRd4evshOiaWhb4uChSyQKnSjqhbtw5KlrCHkYF+qsa8jeCPCA3G2dMnsXf/Ady4cQuhYeFqkMEcpjlRsnRZ1K1XDxa5cuDcvwexYh3v4ReX/lSM5c2nI/ChBL+S1i/Q3xeHDh7AsePH8cTjGQKCQlTvFkNe5LK1K45qNWqhVs2aKJg/d6pMfm8j+GNjouF27xb27HPGtWs34MHlR8fG8iKCDszzFEBpR0e0bd0KAR4PMH7oMHiEKXv4RfB/upEkTxICQkAICAEhIASEQNYlIIL/E/XthxD84SFBOHPiMP5cuBT3ObWesbEZrKytYGZqAh9vTzx2f8JCIg42dg5o16EDateojgL5cie38E2CP8jXC+tWLMeWvfvw3MsPOU3NYWtvA10tDfhxwL/nXj4w5M9KFreHfkIU/j12HLUat8A4CdqXzFhefDoCH0Lwx0ZHcorJ+1i4aAmOnziD6LgEzoyRF4UK5oceZ5544v4Iz555sTVeH5Vq1ESf3r1hW5SD/b0IuPkmwR8VHobT/x7GmvV/49zlG9DQ0oallRXy58sDio/G82fP4eMfgMI2DihVtCAO7dgK/xhg7yER/J9uJMmThIAQEAJCQAgIASGQdQmI4P9EfZtS8Hf9/ge0bNb4jS79ivtwsgsxJeDEEWfMnjMXN109UK9xM9SvXZNTd1moqcUiwkPxyM2VrfOncOr0WZjlt4JT06bo0qkjshuxyzCXla7gVz2aE7BhxSLMnb8EURq6aNKiJWpWrcoWzTzQZsEfHOCP6y5XcPTYMdy6+wAJMTEIDw9H22+7SpT+TzSG5DGpCaQU/I6VqmPWrNkctO/NLv0p59VDjvS/cvkSbNj+D2xLlEXTxo1RzKaoGvxPR1sT/n6+uOFyGQecnXH3gTuq13XCyBHDUIhT72nx/vuMBT/h6vlTmPfnXzhz+ToqcnaOKpUroxQvmOU0zc5bZ+Lg4/kMVy5dwPY9+xDAqQUD+L1JnrzYd/CwBO1L3d3yTggIASEgBISAEBACQuAdCIjgfwdo73KLIvgnT56EWB0T1G/YGFUqVeCgfS8D4b1apiIkTE3NYM/iwJBd80MCffH72JHYc/AUSlWsieHDB8K6UH5V7CsChnhBIDoqAu4P7mPDurU4evI8CtkUx/CRo+BYvKi6/zg9wa/sXfZ/7oZffxmAq/fc0aZjZ3Tu2J6jjRdU3Y45bhni2HMgKMAPp08cw8pVK3HhsgsSSBPdevTCBLHwv9p98v4TEEgU/Muxav0WFLS2Rd++fZAzR3ZVhKf3eG3OeFHcoQRym+dCTGQEtm9cg0XLV3G6TAP06/8r6taohhzZjaCrq8uu+6TGsgj098GlcyexcMFiPPYJxuhJM9GsfnUYG+pnKPhDA7yxfPFCrN20AwWLlcAvfXur3jHZjY14XmnxvUBMdDQCfD2xatlCrN+4HQ/dPVDIyhr7xcKfXhfK50JACAgBISAEhIAQEAKZICCCPxOw3udSRfBPmzYVd909YZrTHLnMTF9G6E6jYCVwXumy5TB42HBYsjXx8skDGDBkBC8Y5MDo8RPhVKeKanl/9db42Gic/PcQ5s6bD7enAeja82f07/kt7/HXTtfCHxMViW0rF2DCH3+iSLlaGDNyGBxL2r+eRYAVir/3M2xYuxpLVq7Bcx9/dPuxJwv+CTDS0321KvJeCHxUAorg37R2OZau2oCwKN7KUoy3n/C++PQOZU4Zm5jgt5GjUaNqZTx9eA/Tfh+LYxduoEuvAej8TRvkz2P2WrYLongE8R7/TetWYfqfS1G2ZgtMnzAERQoXyFDwnzq4G7NnzsHjwCj8PHAIWjdtiOwmRqliACTWlXDjwilMnTYN2/85iLwFC+Og7OFPrxvlcyEgBISAEBACQkAICIFMEBDBnwlY73NpouCfwhbCUFhaFYFFoQKqS3B6ZSoWfhtbe3Tv/gO7F5th+Z9TMHnWfFSq3Riz/vgDec1zpHcr3N3uYs6sWdi97ygq126ERfNnw8RAN13BH8bR+If+0gObdx3GwDGT0efHLmwpTUuYJD7yzLEj+GvObJy+dBXtOn8ngj/dnpATH5NAkuBftmYjoK2HypWrwEBfL10LvzKnDAwM8UOPnnAsUwqnj+zD8BGjEBhJvED2F2pWr5qu140SYf/UscP4qc+v8A3XwK4dm1C5fBnVC+DA3t3o0rUbnDp0w++jhrFnTAG12Yv+nIU5c+eLgsGBAABAAElEQVTB2qE8xo8bi3JlHdKd89GRYVg8by4m/zED+iZmLPiPikv/xxw8UrYQEAJCQAgIASEgBL4SAiL4P1FHJ7n0x+lmR4NGTVC9aqXXLegp6qKIkxzZTTkAnx277WfDhKG/YOmG3bxnvjsm/28UDDOwqPt4PsWS+fOwfvM2FHUoh4VLlyC/WXYE+npjEYuKJX9vxZTpf6BTmxbq3v6QoEB069QGp64+wEwWKO1bNVUDlrEnf5rHnZsuWLd8MbbvPYQmrTuIS3+alOTDj00g2aX/7y2wsLbHL7/+zHvjeSGM505ahzKntDnFpJ2dPXLlyoldm9Zg9IQp0M2RHwv+mo0KjqWQ/iYbwOXSOfTilJo3Hz3H1l270aB2NWjzfpf0BP/U38dh8Yq1qMGZLEYOG8zB/ixfxuR4pYKKF8GOjet4C85oxGlmE8H/Ch95KwSEgBAQAkJACAgBIfCOBPhHsByfgIDzjo1UvXwJaty0OW3YupPCI6MoPj7+jf8SXtTtlx87Uf5C1jRmyl8UExefYY2D/H3orz8mUpVS9tSoSQu65eZJnFOc/Ly9aOLoEWRhbUPruQ7s4qyWExDgR/WqlaNCRYvTPweOUFxcXIblu7vdpz+n/Y/KlS5Bg4eNoNDI6Ayvl5NC4GMQeHDvFk0cNZBsrC2oQ6fO9MzT643zSZlzHO9Crc7aZfPJ1taeajTuSC63Xd9Yxbs3r1KTamXJ2MCANu7YT5wOU51Dznt2klmO7NS5Vz96+PhpcjnjRg4j66K21O+3cfT46fPkz9N6kZAQT0f27yZHBzuyti5C9x8+Tusy+UwICAEhIASEgBAQAkJACGSKgOL+KscnIJAk+Js0a0Ebt+0iTp+Xqaf+9H0Hym9ZlCbMXEzxL4R6egUEB/jSklmTqbZjcarfsBnduPs0Y8Hv70e1KpUma/vStP/IsTcKfg/3B7Ro9hSqVKa0CP70OkE+/+gEUgr+jt92Ji8fv0w9c8XSP8muuAPVbf093bzn9sZ7XW9fpw51ypGJoT6t37yXoqIzFvxjRwwh9tChoeMm0pNnnhmWryy+nTjkTJVLFKci1kVF8GdIS04KASEgBISAEBACQkAIvC0BEfxvS+o9r3tV8EexdTAzxy89vqUCFtY0dsqfFMvW+oyOAF8vmj15PJUvXowasIX/7iPfjAU/W/jrVnWkwjYlaO/Bo28U/O4P7nL5Y6hsSQcR/Bl1hJz7qAReFfye3r6Zet6a5QvIzr64auG/duvNFv7b169Qg4plyEjfgDbvOkRRMXFvsPAPpSI2tjRgxPi3sPAn0OG9O6isXTGx8GeqF+ViISAEhIAQEAJCQAgIgYwIiODPiM4HPPe+gn/SiP5UIF8B6jtwNIVGZOxC/9zjEY0a2p9srCypZbtvyTMglL0CKF2X/qDAAGrZqCaZ5S7Mrv57VFfljJp+0+USDf3lR7Itak2DxKU/I1Ry7iMSeF/Bv2fLOiplb09lytWkcxdd1DmSUXUvnj1BJe1sycgkF+0/doZieWuNYplPz6V/6v/GUOHC1vRdzwF019X9xUaCtJ+QEB9Lm1YvIU61SZbi0p82JPlUCAgBISAEhIAQEAJCINMERPBnGtm73fC+gn/7uiVkb2NNTVt3pFssHtI/Esjl4mn6rlNbsrYpTv1HTKSI6Bj18vT28IeHhdDg3t9RbrNcNHz8dHrq6cdCJu0nxMVEkfOOTdSkTlXKlyc3C/7fZA9/2qjk049M4H0Fv8u5E9Skbk2yty9Jm3bupZDw9BfSoiPCaPuGVWRtZU2lqzahq7fuqQI+I8G/ctEcKm1fjOo5taBjpy5QTAbbeIL8vGjCbwPI1MRIBP9HHjdSvBAQAkJACAgBISAEviYCIvg/UW+/r+B/cOsyNa5XkxxKOtK8lZsokkV8Wpo8JNCf1iz7i2pVr0xVa9WjTbuPqJZIpZnpCf6YqCjatXoB2Re1pMq1GtK+I6cogj977eCAZ4o7/7jhA6ioZUHKaWoqgv81SPLBpyLwvoLfz/spjRnaj0o42FPP/iM41sWDNLezxPAi1/07N2hgn++psKUljZj8Fz339lebmZHgv3DMmTq1bETFHUrR5NkL1XvSir+RwO43Jw7tpSY8v3W0NMlK9vB/qiEkzxECQkAICAEhIASEQJYnIGn53jG7QWZvU9LyTZo0ESZ5rfEdp/Zq1bwJsulov3UxMWqe7plYvm4LjM0sMHBgf5QvVwbmZjmgq6OFuNhoeD1/jvPnzmDz5s3w8AlBxWo1MHTAABTMbw5NDQ34+6Sdli8hPh7BPo/Rr/8gnLp8E1VrN0C3zt+ibOmSyGFiqKYSi4qKwLMn7jh4wBnbt+3AI/cniIlLwLfdfsD4CeNhlEGawLdupFwoBDJBIDEt3zKs3rAN5SrXwOzZc5A3d663LoHiY3H80D7M+2sRbj70xLdduqFViyY8X/LCxFgZ90BkRBhc793G3t07sWP3XhiYF8IfnNLSsaS9On/5/xDppuWLCPLDimWLsWL9ZmTLngc//PA9qlQsj8KFCkI/my4vtiYgLDQY7g/dsJjTaB759wQ8n3sjr4UlnA8dho2VxVu3RS4UAkJACAgBISAEhIAQEAJpERDBnxaVj/DZ/p0bMXnyZJjks0LX73ugVbPGmRL8SpXc7t1iAbEEu/cehK6hKZq3aoHypUvD0FAfoUG+OHPiGM5fvoyg8HjUrOeE1q1boVrFsmCrodoiRfAvnjcXS1ggTZ42HZ3atHiZF5yFy/5/tmPun3/h3kMPWFgVRZs2bWBrY8X3a8HXxxMnjx/D7ftuMDAwRnY9Hdy6cRP1W7XB+PEi+D/CkJEi30DgoesdbFy9FGs2bkdZRfDPmp0pwa8U7+/jxYJ9F5atWgO/4AhUqFwN5cuXQ1FLC2hracDD3Q1HjxyEy41bMMiRH9/37otvmjshu5GBWjtF8B/cuxtdvvsejdp/h99HD4NVoQIvak64f/c2Fi1cgIOHj0JDRx8VKlZGvbq11XpSXCzcHz3A8WPH8OiZDwoXLIAbZ04hWkcP/xwUwf8CovwRAkJACAgBISAEhIAQeA8CIvjfA15mbj1+cDf+ZDFtlLsQ2nXoiIb16mRa8Cviwt3tHrZuWIf1m7cjICQU2tq60NPVQ1RUGDiIGHLnLYhGTZuhU4f2sC1WFLraWsnVDPL3xdqVK/D3zr0YPmoMWjrVfyn4+SqKi8FB53+wfNlyXGExHx4ZAwMjI1Xwx8bGwtA4B2rVa4T6NasgwMONFx6cUa5mPQwaNAAGbLGUQwh8SgJPHrli99YN2LrbGSUcK2Hs2HHIbWaa6SqEBgfhCI/71evW4cad++BYfNDLlg1avFAWxhZ+HRbgtsVLglP/qQt1xrzAlnQoc/LE0cP4lb1j6jRri8G/9oFFgTxJp/kvi/47t3jeLcMe50PwCwiAppY29PUTPQjieM7mMMuDH3v1hqW5EVb+9Rd8IqOxcv0GWFkUTFGOvBQCQkAICAEhIASEgBAQApknIII/88ze6Q4/tpA/dHODlp4BChQoiNzmiW72mS0sPi4O0dGR8PZ8hrNnz8H14SNERkbCwNAEtvYlYG9nDwuL/DA2NGBhoQX2Sk4+YmOi8cT9MZ56ecGmmB046J7qtpx8AYuT2JgYBPDCwDWXK7hy+RoCQkOhpa2D/PktULFSJdgUtUY2bQ0E+Pni+XNPFivmKFq0qCqOXpYjr4TAxycQGRGO58+e4rmnF0yy5wCn2EM2XZ1MP1hxrY+LiUVggA9crl3DA56nz9m1Pi4+AWbm+VC6dBk4ONjDLGcOtXwNxdc/+SD4+vrg+vWbMM+bHzZFrKCvp5d8VhH8SjmRYSG4zx46t2/fhdvDx4iMioWegQGsitjw1pzyfF9hhLN7v+vde4jm68tVrABD/ZcLCykKlJdCQAgIASEgBISAEBACQuCtCYjgf2tU73ehsk8+Pj6Of/5rsDjWUv+9T4kJCfEs/KMREx0DDgTG5WmzJVIXOix4tNkymVqUJD6JjZFqHeL5Xm2+XqlHWodSV8WiH83iX/mrqanJngQ6yMZWT50XcQeUhQcOGqie09LWTrWwkFaZ8pkQ+NAEFOt6vDqv4tVxqMPj8JUVrEw9kgPw8XhPHPOxscpcBY97bRb5PK94bmlqphT6L4tOvI/nCc8nbWWRLdWCQOJ1nPWC6xqrLqjF8DP4UYl15rKV8pXnKOXE83xT5pUuz7W0ynn5VHklBISAEBACQkAICAEhIATeTEAE/5sZyRVCQAgIASEgBISAEBACQkAICAEhIAS+OAIi+L+4LpMKCwEhIASEgBAQAkJACAgBISAEhIAQeDMBEfxvZiRXCAEhIASEgBAQAkJACAgBISAEhIAQ+OIIiOD/4rpMKiwEhIAQEAJCQAgIASEgBISAEBACQuDNBETwv5mRXCEEhIAQEAJCQAgIASEgBISAEBACQuCLIyCC/4vrMqnw10wghjMnqNkZ+K8SpV4OIfA5EVDGpD6nEzQ0NJQsA59Tx0hdhIAQEAJCQAgIga+WgAj+r7brP17DlR/9cZy2LywsTE09ZmJiIj/+3xO3krJNEfoPHjzAyZMn8ejRIzWN23sWK7cLgQ9KQBmnJUqUQJMmTZA7d+50U39+0IdKYUJACAgBISAEhIAQEALpEhDBny4aOfGuBBSxf/r0aaxYsQKVK1dGx44dYWpq+q7FffX3KQsonp6eqtDfuHEj3Nzc8Pz5czUH/VcPRwB8dgQsLCxQqVIldO3aVf2rq6v72dVRKiQEhIAQEAJCQAgIga+FgAj+r6WnP2E7g4KCsHLlSkyfPh0FCxZEr1690KpVK5ibm3/CWmSdRylu/OfOncOGDRuwadMmKB4TivVUhFTW6eOs0hJlrAYEBKjeKE5OThg3bpz6HZBV2iftEAJCQAgIASEgBITAl0ZABP+X1mNfQH3Dw8NVC//cuXNVq7SdnR26dOmCDh06qEJVU1PzC2jF51PFZ8+eYfXq1di6dSu8vb3RrFkz9Z+ent7nU0mpyVdPQENDA4rg37VrF7Zt26bu458xYwYU4W9sbPzV8xEAQkAICAEhIASEgBD4LwiI4P8vqGfxZyou6CEhITh79iwmT56MmzdvokCBAqqlv3Xr1sibNy+0tbWzOIUP0zxl3/7hw4cxe/ZslWOFChUwZMgQlC9fHjo6OhK478NgllI+IIEzZ85g0qRJOH/+PKpVq6Z6+hQvXlzm/AdkLEUJASEgBISAEBACQuBtCYjgf1tScl2mCURFRamWvvnz5+P69evIly8fBg8erFqnlddaWlqZLvNru+Hp06dYvHgx1q5dqwY+VLZHDBgwAIp1X7GoyiEEPjcCSrDOJUuWqEI/MDAQc+bMwTfffKPG8ZAx+7n1ltRHCAgBISAEhIAQyOoERPBn9R7+j9unuKNv3rwZq1atgqurq2qZ/umnn9CwYUPZ0/+GvlEinp86dQpTp05VF0wcHBwwdOhQ1K9f/w13ymkh8N8SUMbtb7/9pnr5KFtQxo8fr0bvV7xS5BACQkAICAEhIASEgBD4dARE8H861l/tkxTRv337dixfvlwV/UoE7x49eqBBgwYwMzNTU/d9tXDSabiyLUKJxq8E6lO45cyZE+3atUOfPn0k40E6zOTjz4dAcHCwGndCWayKjIzEhAkT1GwdSrBJOYSAEBACQkAICAEhIAQ+HQER/J+O9Vf7JMVS7eXlhb///htLly6Fj48Pqlatqor+mjVrqqL/q4WTTsNjY2Oxbt06ldmdO3dUq37nzp3VRZJ0bpGPhcBnQ0BZsLp37x769u0LZU+/srg3bNgwdd7LVp7PppukIkJACAgBIfB/9s4DPoqqa+MP6Z0QSAihBUjovXeQIlVEioKCKAKK0ptSLIgK+qJIFQuigkpTlKJ0UJqA9N47pAdI7989A8sXMEBIspuZzTM/wraZW/5ndmeee849lwRIIA8QoODPA0bWQxdFwJ47dw5z587F6tWrERsbixYtWuD555/XEnu5ublxTvodQ8kAybVr17TEZ6tWrdI8+jJ3X0Kj/f399WBOtoEEHklAvPxz5syB5PAQkT9kyBD07duXESqPJMcdSIAESIAESIAESCDnCFDw5xxLlpQJAiJkly5divnz5+Py5cvavF4Rs0888QQKFSrEteUVQ1nhQLz7sqxhWFiYFgo9ePBgBAQEMNN5Js4x7qIPAuLlF9EvQl8GriRT//jx47X8HfTy68NGbAUJkAAJkAAJkID1E6Dgt34b666HMqf/22+/1cL7RdA2aNAAr732GurXr4/ixYvrrr2WbpCEQsuc599++w3lypXTEvU99dRTXMvc0oZgfTlC4Mcff8QHH3yA4OBg9OrVS3vu4eGRI2WzEBIgARIgARIgARIggYcToOB/OB9+agYCErJ+/vx5/PDDD5onW+b0y7rykpRO5ql7enqaoVZjFBkREaGtaiBh0BcuXNCYyNznwMBAeveNYUK2Mh0B8fKHh4dry3H+/vvvKFu2rDZVRQb5ZBoPNxIgARIgARIgARIgAfMSoOA3L1+W/gACMqf/4sWLWL58Ob755hvN+1e+fHkMHz5cm9ufV7P3//3335gxYwa2bNmCxo0bawMgbdq00bz7XMP8AScT39Y9gZUrV2rLS0r0iizJKaH9FSpU4AodurccG0gCJEACJEACJGB0AhT8RreggdufnJwMCe9fsGCBtvxcaGioFt7/zDPPQERu4cKF85QgkOkNkuRMeERFRWHcuHHo3Lkz/Pz86N038HnOpkMb0Pvss8/w1VdfaUn73nrrLXTp0kXL20E+JEACJEACJEACJEAC5iNAwW8+tiw5EwQkvF9E/6+//ooVK1bg0KFDmsDt16+fJghE9NvZ2WWiJOPvsm7dOkyePBmHDx/WvPtjx45FzZo1YW9vb/zOsQd5moB8z2V5PvHs//vvv9r5/c4772hTeRwdHfM0G3aeBEiABEiABEiABMxJgILfnHRZdqYJyDzftWvX4uOPP8apU6dQtGhRbQ3vrl27aon8bGxsMl2WEXeUZQonTZqkJTKUHAYTJkyARDrkz5/fiN1hm0ngPwQkY/9PP/0E8e6LyB82bJiWxE8SdXK6yn9w8Q0SIAESIAESIAESyBECFPw5gpGF5ASBGzduaPP5ZUm6EydOoESJEtq63X369EGRIkVyogrdlrFr1y5tpQJJ1CdznCVRX40aNfLUlAbdGocNyxEC4uUX776c23v37tWW5BTR37FjR7i6uuZIHSyEBEiABEiABEiABEjgXgIU/Pfy4KtcJCCC4Pr16/jnn38wa9YsTRx4eXlBwvtfeeUVLdQ/F5tntqploEMGOUQISSIzSVwoy/DRu2825Cw4lwjExMRg8+bNmpdflumT83z06NGQhJ308ueSUVgtCZAACZAACZCAVROg4Ldq8xqvcyL6b926pWWpnzlzpib6fX19IV7+AQMGQAYArCm8XxIXbtq0CTKfWTKYy+BG//79UaZMGdja2hrPgGwxCTyCwKVLl7SM/bJCh7u7O9588010794dHh4ejziSH5MACZAACZAACZAACTwuAQr+xyXG/c1OQNbujo6OxurVqzF//nxIuLuI/oEDB+K5557TsvdbizcwKChIy8w/ZcoU1KpVS/N8tmzZkmuUm/0sYwW5RSAuLk4b0JOcFUeOHNHEvoT2V6pUyaoG83KLL+slARIgARIgARIggfQEKPjT0+BzXRGQJF+mdenlURL5DRkyBM8//zx8fHx01dasNCYlJQUbNmzQkvXt2bMHI0eOxKBBg7R8BdYyoJEVLjzG+glIks5p06ZpS1CKZ//VV1/FCy+8oC3ZZ/29Zw9JgARIgARIgARIwHIEKPgtx5o1ZYFAUlISRAzPnj0bS5cu1UL6e/furQmEgICALJSoj0MkiuH8+fOYOHGiNn+/atWq2hrl1atX5zJ8+jARW2FGAjJ1Z9++fSpXx2z89ttybflJGexq0aIFZJUKbiRAAiRAAiRAAiRAAjlDgII/ZziyFDMSkERfIvo/++wzbNy4UfPuizdQ5vUHBgaasWbzFS0DGTKA8eGHH+Lq1ata1II8F7FD7775uLNk/RCQZJV//PEnPv10KkJCQtCoUSNtPn+1atUY2q8fM7ElJEACJEACJEACBidAwW9wA+aF5pvm9Ivonz59uhbmL8n7unXrpi1l5+/vbyiRLP25cuWKtg65DGDUrFkTEyZMQLNmzZioLy+c0OyjRkC8/LIM5dSpU7FkyRI4Oztrgr9nz54oWLAgKZEACZAACZAACZAACeQAAQr+HIDIIixDIDY2Frt379ZEv8x9l7m/zz77rLacnczpN0pWe0latmjRIi0zf2JiopaZf+zYsUzUZ5nTiLXoiEBCQoIm9mU+v6xS0aRJE+17UadOHU5t0ZGd2BQSIAESIAESIAHjEqDgN67t8mTLRfT/9ddfmuhfv369lr1flvUS4S+Z/I2wScKyF198UetH3bp1Ne++zF3mRgJ5kcDZs2e1/BWyIoeDgwNGjBiBl156ScvXkRd5sM8kQAIkQAIkQAIkkJMEKPhzkibLsggByd6/detWzJs3T80B/kObx9+3b19tyT4/Pz9dh/ffunULK1as0ESNzNUfPny4Ni2BicoscuqwEh0SkCiXNWvWaMtT/vvvv9oUlzfeeAMdOnSAnZ2dDlvMJpEACZAACZAACZCAcQhQ8BvHVmzpHQIyB16E8969ezWRsHbtWpQqVUpLfNejRw8UL15cl+H9sgzfqVOnMHjwYOzYsQPNmzfXvPv169dnkjKe3XmWgCmnxZYtW7Sl+iSBX8eOHfHee+8ZJmonzxqPHScBEiABEiABEtA9AQp+3ZuIDcyIgCT8kizfkvTuk08+0ZJ/lS9fXgsFbt++Pby9vXXnHZTIhD///FPz7kuW/lGjRmmh/UWKFMmoi3yPBPIEARH88n04d+4cpkyZgnXr1mkDeJLXQrz8XLUiT5wG7CQJkAAJkAAJkICZCFDwmwksi7UMAfH0SwK8H374AcePH0fp0qUxYMAAtGvXTlu+T+YE62ETUXPgwAF89NFHWLVqFRo2bKgtM1ipUiXdDUzogRfbkPcISDLL5cuXq2X6PsWlS5fQqVMnfPzxx9pcfhsbm7wHhD0mARIgARIgARIggRwgQMGfAxBZRO4SiIiIwC+//KKF9584cQIVK1bE0KFD0apVKy0kWA9iIT4+Ht999x0mTpwIef7BBx+gT58+zMyfu6cOa9cZAVmmT0S+DOIVLVoUkyZNgkTsODo66qylbA4JkAAJkAAJkAAJGIMABb8x7MRWPoKACIXvv/8eP/74Iy5evIi2bduid+/eeOKJJ3SxpveZM2c08SIDE2XKlNHaWaFCBV3mGngEan5MAmYjIINh8h2ZMWMG5DvzzDPPaINjRlmBw2xgWDAJkAAJkAAJkAAJZJEABX8WwfEwfRGQkPnLly9j4cKFWLBgAa5fv66Fzb/88sto2bIlJAt+bnn6ZX6yrCggocpRUVFaVn5ZStDZ2VlfENkaEshlAvI9lrn8Mnj3+eefo1ChQtr35sknn4Srq2sut47VkwAJkAAJkAAJkIDxCFDwG89mbPEDCCQnJyMoKEhb0/vnn3+GJMmTDPgyp79WrVrIjeR4ImBknXFJQLZ+/XptusE333wDSTCYWwMQD8DHt0lAFwSio6Oxfft2vPvuuzh69Ci6du2KcePGoWzZsrpoHxtBAiRAAiRAAiRAAkYiQMFvJGuxrZkiIMt6iad/8eLFmtgWodC9e3dNOIjol7W9LZX5W8TLrFmztPwCUq+sLy7L8uklmWCmgHInErAgAVmBIzIyEkuWLIFEwnh5eWk5OV555RV4eHhYsCWsigRIgARIgARIgASMT4CC3/g2ZA8yIBAcHIxff/0VX375JU6fPq1l7+/bty+6dOmiefotIbgTExNx6NAhTbTs3LlTW1tckpCVK1cugxbzLRIgAROBlJQUHDx4ECNHjsTu3btRp04dLeFls2bNTLvwkQRIgARIgARIgARIIBMEKPgzAYm7GJOAzOMXL6EkALt69aoWRi+J/Dp27GgR0S2RBlOnTsW3334LFxcXLaxfcgo4OTkZEyhbTQIWJCD5LtatW6flvJCpMcOGDcOIESO075IFm8GqSIAESIAESIAESMDQBCj4DW0+Nv5hBCQ0WIT+6tWrtWW+9u3bh2LFiqFdu3aa59DPz+9hh2frM0nUt2vXLowaNUp7fPbZZ/H222+jUqVKFptOkK0O8GAS0AGB8+fPY8yYMdiwYYM2h1++QzJgx40ESIAESIAESIAESCBzBCj4M8eJexmUgCTyCw8Px6ZNmyDJ8vbv36/NCX711VchIlwGAGxtbXO0d+KNDA0N1dYTnz9/PvLnz4/JkyfjqaeeYqbxHCXNwqydQGxsLFasWKGF81+5cgUSITN+/HgULlzY2rvO/pEACZAACZAACZBAjhCg4M8RjCxEzwREgEvGfvH0f/fdd9rcYBEML774oib6ixYtqiXyy6k+xMXF4Z9//tG8+0eOHNHqEU+/JA+0VLLAnOoLyyGB3CYgQl+WtJTvriTdHD58OPr375/bzWL9JEACJEACJEACJGAIAhT8hjCT9TVSwu3F+y6PlthEaN+4cUNb7mvRokVYuXKlNpdeMub36dMHEt6fU2L88uXL+Omnn7R1xGXuvqwn3qZNG8Nn5peBk5xiZAmbZ7YO6Zds1tY3U7+M3jdJfrljxw68//77kOSXrVu3xg8//AAfHx8ubamdufyPBKybgNwryF9ubRIFKMvo5nQ0YG71h/WSAAnkPQIU/HnP5rrocVhYGE6cOAFZts5Sol86npCQgOPHj2Pu3LkQYV6ggCeef/4FNG/ePNvJwEQwmjLzL126FDL/uEWLFnj66afh6+urC+5ZbYRkTZcbLumj3PRYw42PCGLTwJNwkWUTraFf0hexl/xJH+3t7Q0tjOWck2X6TAN1hQoVwnvvvacttSminxsJkID1EpDfMImUk+t1bm0yLa9MmTLw9va2mmtEbrFkvSRAArlDgII/d7jn6VrlAr59+3Yta/2pU6cgCe4stUndIlwl7F4EkWzOzs5wdHTMEQ+vVr7qT1x8vCYmRWxJVn4jC0npk2kT8WV6Lc+Nvkkf7h9wsoZ+iY1MtrKG/oiN5DsrA2qyyUCaiP6GDRsa+rtl9O8P208C5iYg12uZErdgwQLtt9rSv2dSX0BAAF555RUt4a9MB7TEsr7m5srySYAE8hYBCv68ZW9d9FbEyObNmzFMzcU9eeo0YOuoBLcr8tnYm799olE1AaueyD/1Jy81gSRvZHNLToxFfMwNVW4qCnh6WsUSfDIwcuvWLcTExGhecA8PD22QxNI3Xtk0zX8OF5tLhIks/yaCUjzHOTXw85/KLPyGiGOZwiKbu7s73NzcLNwC81Qn9pJ+NWnSRAvxb9y4cY7m3zBPq1kqCZBAVgmI4H/nnXewePHiXBH88psj14oqVargpZde0gYbJdkvNxIgARIwEgEKfiNZy0raahL8knzr/MVrKFKuGYqVqwcHFw8llG2M2UsZOFCiMeTSEZzeswKOiMMzz3RGhQoVjNmfO60WUS+CWJZFk/nTIoolH0HFihUNLbSkX/EqCmPbtm3a/HARyL1790b58uU1z7iRjSbfL4mcWb58uRbF0qxZMzRt2vQ/kQxG66Pc+Iu9JGs/Bb/RrMf2kkDWCMjvmVx75DdNnlt6oHnPnj3a9U8GvsXL37VrVy0Bb9Z6w6NIgARIIHcIUPDnDvc8XWt6wX/pWgSqPvk6Kjd7AS4ekoQr+1723IArkQIpKWk4t38Nti+eCCfcwAcfTELLli21+dPSZyNucnMl+RamT5+uhVT6+/tj9OjRaNWqlaHDGqVfsuSbLNX4/fffa4MaX3zxhZbLQZIzGXmTaAURxmPHjtWmy8gSlAMGDLg7hcWIfTMN0MgylxMnTtQEv+lRci9wIwESIAFzEFi2bBlmzpyJ4OBgLcFvt27dEBgYaI6qWCYJkAAJmI0ABb/Z0LLgBxH4j+Bv/RoqNRXB7w0bW2PevGuCX3kgzx1Yi+1LJsFZCf73359oNYJ/xowZWLhwIUqWLKkJfplDLeHvRt1EQMoUhXnz5mkDGRLFMGfOHM0TbuR8C2IPEfySI2PcuHGa4Bex369fP0N7+E2CX5bmk2z94uGn4Dfqt4/tJgHjEJAEvLNmzaLgN47J2FISIIEMCFDwZwCFb5mXAAW/efnmZOkitMTDT8Gfk1TNWxYFv3n5snQSIIG8Q4CCP+/Ymj0lAWsmQMFvzdbVad8o+HVqmAyaRcGfARSdv0XBr3MDsXkkQAKGIUDBbxhTsaEkQAIPIUDB/xA4/Mg8BCj4zcPVHKVS8JuDqnnLpOA3L1+WTgIkkHcIUPDnHVuzpyRgzQQo+K3ZujrtGwW/Tg2TQbMo+DOAovO3KPh1biA2jwRIwDAEKPgNYyo2lARI4CEEKPgfAocfmYcABb95uJqjVAp+c1A1b5kU/Obly9JJgATyDgEK/rxja/aUBKyZAAW/NVtXp32j4NepYTJoFgV/BlB0/hYFv84NxOaRAAkYhgAFv2FMxYaSAAk8hAAF/0Pg8CPzEKDgNw9Xc5RKwW8OquYtk4LfvHxZOgmQQN4hQMGfd2zNnpKANROg4Ldm6+q0bxT8OjVMBs2i4M8Ais7fouDXuYHYPBIgAcMQoOA3jKnYUBIggYcQoOB/CBx+ZB4CFPzm4WqOUin4zUHVvGVS8JuXL0snARLIOwQo+POOrdlTErBmAhT81mxdnfaNgl+nhsmgWRT8GUDR+VsU/Do3EJuXKwTSUlORmJSk6s4HBwd7yG8bNxJ4FAEK/kcR4uckQAJGIEDBbwQrWVkbKfiNY1AKfuPYytRSCn4TCT6SAJCamoJLF87i2NHjCIu4AXsnV1SuUQsVypSEna0NEZHAQwlQ8D8UDz8kARIwCAEKfp0aKk3dpCQmJCA2PgEubu5wsLdTfgnr2Cj4jWNHCn7j2MrUUgp+Ewk+WpRAWiri4mIQHBSCG7duKaGddrd6+R2xtbeHu7qWFfAqAA/1aGNj/itacnISLp07gW++nIstO/YgKQXwKVIcz78yGF2ebARnJ/u7beQTEsiIAAV/RlT4HgmQgNEIUPDr0WLqPin6VgT+2rAWW3ftQ4++r6NSoD/sbXP2BklCHBMS4hGnBhWcnV3h6OigwhzND4SC3/yMc6oGCv6cImm5cij4LceaNaUjkJqIE0cP4NvvFmDPgWOwt3NQHvTbFxT5HcmXzwbOLq4oX6kS2rRpi7q1amgD2elKyPGnYcFXMf1/k/Dl97/gqe7Po12rJ+DrWwT+ZQJRxLsAbC0w6JDjnWKBFiVAwW9R3KyMBEjATAQo+M0ENjvFpilPycWzJzD1w0lY+/cefD5vMVo0rAFnh5wNP0yKj8Wxw4ew/8gJ1G7QGIGlS8HRwTY7Tc/UsRT8mcKki50o+HVhhsdqBAX/Y+HS9c5iyyQ171z+HByUgLazU57xnL0O5BiA1Hgc2LMNkz+ZgWvhMahdty48nB1V8WlISUlB0NXLOHDgIILDIlC9dj189NFHqFIhMMeqz6igU4cPYNDQIdh79hZmfv4JOrVpAhdnJ23+vgXGtjNqEt8zGAEKfoMZjM0lARLIkAAFf4ZYcvfNxLhorPx1MSZ9OBlXQ27i28V/oFWTWjku+KPCQ7Dku2/w9aLlGDr2PXR48gkVauli9s5T8JsdcY5VQMGfYygtVhAFv8VQm7UisWNQUBA2btyIffv2oXXr1qhatSqKFStm1nqzXLgS/Pt3b8PUaV+gQLEADBg4EL6eblA3GZDf/PjYGDWX/gx+XboIi1dswPP9hmH0oFfgU9Ajy1U+6sCDu3Zi0PDhSHStgKkfjUXDWoH06j8KGj+/hwAF/z04+IIESMCgBCj4dWA4meuYkBCLmJhY3IiIwIZ1K7Bo0VLs+vcgXN098d2S1WjZqGaOC/6bwdfx3RfTMG3eT3h7ynR07dQWnu6uZidCwW92xDlWAQV/jqG0WEEU/BZDbdaKxI7nzp3D119/jTlz5qBUqVKa2G/ZsiUaNmyI8uXLw8PDA7a25o/KylRH7wj+T6fPRdHAqhgyciT88rvem3tGRa/9teFPjBg5Cu5FAjFnxmeoWC4gU8VnZScR/IOHj4Bdodr46L3hqF3Nn4n6sgIyDx9DwZ+Hjc+uk4AVEaDgz2VjpiYn4vy5M1j+2+84cuwEbkSG4+iRo7hy5SriE5NQsJBPpgW/COmU5GQkpyQrjwq0G0F7lShJRFtG262QIHw/VwT/z0rwf44uT7VFfnr4M0L1yPcEsbA/d2Atti+ZBGfcwPvvT4TcnEsIrtjGiBsFv/GsRsFvPJtl1GKx49mzZzF37lx89tln2u+4hPQXKaLmoPv7o0KFCqhduzbq1KmDEiVKoECBAhkVY7n30gl+v4AqGDJCCf4Cbrh/AsKR/Xsw8o0BiEhxwTfffI1qVSrebaP8Tqaq61eKGgS3s7N/7MR+qWrqQJL6s79z7KE9/6iQ/uGw866DyRNHoHbVkg/08GvXT3WsDMDb2dk+9tSJZPX7LzazVTayfcC0C/k8NSUV+dTqAHJduP/KnJSYqCZAAHbqum3zgOv2XVjqyW1eKYpX6mNP95C2SJvlN17qu78t6etJ/1zal6KmmMijjY2tus+438Lp95Y2yrSUO/UoNg+6H7n3KP28ouDXjy3YEhIggawToODPOrscOTI1OR7Hjx3Fwh9/xvGTZ7WLp8x3jL4ZiRPHjiMJtpj380q0bJyxh18u+Ikq8d7FC+dw5sxZBAcHqwzJUerGA3BycUHhwkVQpkwZ5R0qCTdX1zvejRScPnUKJw4fwZ/Ll+HXdRvxQt830KRBHXgV9ELp0qXh5+vz2Dc8mQUibd68eTOGq1DLS9ciULX1a6jU9AW4eHjDxtYus8Xoaj+5N6Pg15VJHtoYuemMiYnBvHnzsGDBAkRFRWle1KZNm+rHY/rQHjz4Q7mR3759O8aNG6fN/R4wYAD69euniZEHH6XvT8Re8fHx+O6779RA2vto0qQJJk6cqD2KCLbGTewoHn4R/J9++undLgoL+RPB6Ovri8DAQMh5W1fNmZcogMKFC8Pd3R0y2GvRLZOC/9+dWzFs0OtI8/DDl3NmonKFskiIi8XVK5dw8vRZBF2/jti4eLh6eKJo0aLa9atoUT84qpVqTJsknA0Kuo7TZy/By9sPzrYqG//Fs7hw6SpSbR1RrGQZ2KXG4sShA5j71VewzV8WL/XqikD/QijhXwrlAgO0nAgyQBCiyrl48YJ27QwJC0eCEqfubh7w9fODv39JbTDFyeFelmHBQTi4dz+cC/iguF9BXDh/FmfOnVftTkK9Bir6QkUtJMRGq/cuoHjJkpowv3j2NC5cuKh+a6LhoiL3/MuURtmAALi7OKo2XMXx4ydx9dp1JCanwtOrIMqWLadsW1a1xeke8S8COjI8TDkKzuO6antwSBgS1ECBi2qzj48PAgICUbxYEbUCgZMJF6JuRODIoSOITbZHpQr+aiWFa+p+4QxCQsNhowZHfIsURbny5VCqRDGVvFfyLty7ydKGNyMjce7sGVy8dBkR6nlicorGqYxqY2mV/8e7kNf/D3Soa3xYaLBq4znF9iLCwiOQms9WrdDghZIl/RGo+u1VIL8hfmsp+O89F/iKBEjAmAQo+HVgN7npiI2L00bbpTlyo3fh5FFMfu89bD94HF/+tAKtHiD4k+LjcPTwPnw+Yzp2qoz+CQnJarReRtGhPP1qDSI1YBBQthJ69n4B7Vu3hK+PlxpyT8DUT/6HRYt/Rajy8oeER6oLfnF4eXnCu0gxvKrmXnZQ2Ywd7rvJySlUFPw5RdL85YiwCAsLw4wZM7Bw4UJ1s1YSo0ePRosWLTK8MTR/i3KmBukXBX/OsLREKWIvCv4Hk5ZBj4IFC6JmzZoqA34bLeRfhL+np6cm/oWf2TfTHP7Pv4CPfwW8NngQiuRXy++JL1gJQBGltyJDsfL3X/CxmuffsfvLeHvMEPh5e2D3ts2YO+977Dt4FIkqsk087Mlqf2c1cFGvYVP0eekl1KpWGQ7qfdmSEhPw56oV+GTalyhfXeWesQ1Tg1xbEXnzFrxV/oDASrVx/eQ/uHr1qiZQYe+CYn6+cHN2QNeevfBav5dUvho3nD9zEkt++hHrN2xEaOQtJCsxbaNWE5BBdycXN5StUBUDXuuPRnVrwUklTRSMKiMBdm9Zh9d7vwTPwEZo3LA8tmzZgKBQJYITgdFvvYVuXTrg5OG9+OTTWWjdsTMSYm5iy4b1uHT5ivLGp6jrdAp8i5dAn76voHJAcfz8/Xzs2LNHieg07T4gXq2cU6RkAAYOHoFuHVvAOZ0IvxEehCU//4zfVq7G1eshWkSDRAMkK6+7o7M7GjRrjhdffBF1qldWK/vc9r6fPnYIYwe/geNBjujbpzW2bf1bDbZfV9+pRMSrwZbUNBu0VCsnjBo1CmX8S6gIidvHybU6KTEewWoQRngvXPgTwm7dUPsrz75a4SBFDU64eRZE9x7P47luXVCiaBE1EJWmJWhctvgnLPttJULDIqGBQ6rqez4UKVoCT3ftho5tn0SpksX+f5DA7Cdo1iqg4M8aNx5FAiSgLwIU/Pqyh9YaucieUcsbTVQ3Dlv2HsYXP2Ys+E37zZj+GZav2YJqteqjSeNGyntRWl3oAfFCbFcX9g2b/oKnEvSvDRyEF3t2UzcPNti4fj22/b0N/+7cgR37DqBF245qLmVZFFIegiZNm6ByuXLaTZc58FDwm4Oqecqk4DcPV3OWSg+/Oelarmz5nRQP/xdffHGPh/9hLRCvv4h/Sewn8/xlSlGzZs20cH9XFeFlVq+/EvySpV9Ebiwc8GSb9ijgIl5mNdVMidFg5cXesf1vJTZ3oETZqpgx9yvUq14Bu9f/hvc+/B/Oh0ShbYeOaNe6hfKaF8b5s6ewbOlSbN+zD7XrN8P48eNQvkxJLUotSUW1rfjtFwwfPR5O7oXhkC8VzVs1R/OmDeHtU0QxcEHItTM4duggFqjouRS3EujRtT0CS3grEV8J1SpVUIMPIWpe/wT8uWkrigVUUsc2R5NG9VEgvwvOnTmFP1atVgkT/4abbzHMmDkT9WtWVddOexm+wO7Nq/Bqj2dwLtYThQoXQrsO7fFEs8ZqmUFnlFPXzhLFCmPPji0YNvItJWgBtwK+qFKjNp5s2Qw+hTyw669N+Fn1LSmfk4piUH29cA29XuyjouzqISUhBqtW/Iqv581HqQrVMP/7BagY4H/Xy//X2uX4ct53SLZ1R/XqNdGgfl145XfGKRUpuHHTRuzcewgNmnfA6wNfQ9WytxM8njmyH0P79cCWAxFwy++ENh07oXPnjvAv5otzJw7h54Xf48Cxy+g/dAx6q3uEooVvTw8Rz/7pY4exevlvmK3sVbBEGXRRYr2OWlKxgIeTNmDytYqgiEi0xxuDR+LZp1rD3iYZn7z3Nhb+sgJFS5dD52ee0ZZgtElLxv59e/D7ipU4dSkYzz7fG6+rgRdfFRlgifGoh31vHvYZBf/D6PAzEiABoxCg4NehpeRG7+zRg0rwv4nNDxH8ifEx+HXRAnw2fQYq1GmBAQP6o0KZUiqUT+bti4c/GeEqdO/3XxZhzjc/omy1ehg3/m3Ur15WmwYQqpZJ+vHr2Zi9YBnGTJyCTm1bwjO/BxyUN0E8KebyClHw6/Cke0CTKPgfAEbHb1PwZ9848huVmS2z+0lZpn1Nv6um1w+qxxTS/5USVDKH/3E2SeQnodmylJ+E/Ddq1AgNGjRAlSpVtLBvN+Xdls9MbXmcsh+4ryb4t2Pyx9OwddcBeKhrif2dhIJSj/y5qHorVKyG7s8+h5ZPNEJi9A30Vt7ofUfOq+R6Y9DruafU4ER+7biUlCRcUaH2X30xB6s2/YOGrTvhzUEvo3QJP83rvGL5L3jtjaFIhj3eGv+uJlQLqCSBMq9cm5CuTHjgn20Y+eabsC1YGxMnDEaNyiXhpER7zM0ILP7yU3yz5A+Ur9scrw3opwYT/JHf3UW101Z5rpNw/epFrP59GabO/AqlKtXDrM8+QqVygXcFf//unXEp2RPder2Et98cAV9vL/VZPhWmLnP4U7Ft83q8MXQkgsKi8HyvF5UAfxX+xYto0/aCrl7Cl7Om4fuFi+FSsCheGjgCfaXvqv2SQyDo6nnMmvYx5i/bgLEfTMNL3duioMfthLpxaqpAcEgo7Byc4OHuoZYZdNSmd0ji30P7/8Xs6dNw6NR1DBoyHP1e7qmZ6/SRfRj6ynNYu/sMnnt5KMaNGYzSJYsqT74d0lKTsHvndowdOwHO3qXx1pjhaNawluZ5jwi5jkU/zMeyX39DqruPYjkBjWtWgIsayJFIiFRlI8mTEJMEVFKDD/ldnXB450YMGjkeRcvVxqiRwxSz0lobJcYkPi4Ge3Ztx7TPpyPNxRuvDRqGRjUrw93VMdM5BB54/pnpAwp+M4FlsSRAAhYlQMFvUdyZq0xuBDMj+GNuRWLe3OmYOfc79Oj7Oga+2l+FR96buEluXParC/L/pkxBcGw+DBk+El3aP6E15JaKAPhOJe37/FuVpX/ydHRRWfqZtC9zNrp/Lxlg4Rz++6no97WID4b069c+97dM7JWVkH5Zv/7WrVu4efOmNlXKJLLl0fRc6jI9N71vejR9dv/rR72flc/lGBH5pmPl+XUVSr1y5UosXrxYez8r/4lXX7z73t7e8Pf3R8WKFVG/fn1UrlxZm++fP78S2GofYZyt7Y6H/+OpsxCT5oQn27eDtxLQEhyeT4lDVyX2C6i56YUL+8BX5Zaxz5eCA9vW4MXXhqBy/dZ4a9RIlC1TXBOSMtwi7UlMiMOG1b/jk/+pAQ/XgpgzeyZq16iqCf6VSvAPGDQcTm7eKgfOAjStX1MJ33t7cGi3Sto3TCXtK1QHH70/HHWq+ishmw+njh9Gr549ER4HjJ3wLrp1bq/E/r0rCqQkJeDsqWP46O2x2Hb4HD6f8yXaq6lu6nDsUh7+V7qpUP2CAXj3w4/xfLentfdNtaelJmPrpnUYMmqsEtFl8aryZD/7dGu4ODlou0Tfuonffp6nBuvnqAiCQMz+YjYqly2t+ny7BFma9+cf5qH/yPfQ5/XReGdEfxT39TYVrwYWVOi/mvogyfCSVDsT1XkuIf0Xz59VAv1bbPlnL17q9waGDX5NO0YT/P2ew4Z9F7Ho11UqiuIJLVrBVOClsycxfvRInLgSifFvv42O7VprEX7HD+/HZ1M/xV+7DuLp53rgvbGjtT6kP1Mkh5BEcTg4OiNK5R56Z3BfLF2/HaPe/gjPde2kTZ2Qz2UTmwargZQv58zGii170bFLDwx4sRvKqEGcbJ9/Wg05/x8Ff84zZYkkQAKWJ0DBb3nmj6xRbi4zJfijbmD+l7Mwfc7XaNG+G954/TUVzu+vvPP3ZsKNDA/Bzu07EBwRjdoqo3OVSuW0NsiyfN/P/VwJ/p8xYfI0LUs/l+V7pHky3EFu1Cj4M0Sjyzfl5pKCX5emybBRYq+sCP7w8HCsWbNGSxIq4l/KESH9IAEvld//mbw2vW96vH8fed8k1tPv86Dn9x+fvo70n8Wp3C4yD/3y5ctSVLY26bt49cW7L1n9q1atikqVKmlh/+L5z3a4vxL8+3dvw9TP52pz+AcOHYqinpKlX5PvWvZ68Sjny3f7day6fi368n/q2jMd1Ru0wBNPNFdi0vHu4Iu0V+bSnz99HOvW/Il8Tu746suv1VSF+toc/hXLl2LwqHfgV6Y6vlflVCpX5j987lmW706Wfjul2Hcrz3/XZ3uhePk6+PDdsSqUvrqaKqAiA9Jvaj7/rQiVc2CxShT5+TcY+e4U9H72GTjb22iCv2/XznAsXRMzZs1B4/q10x+pvOa3Bf/oce+iVqvn0KNbJzSoVuZuxENMzC2sX7kEn82YBZ+S1TBbLU9Y2Lvg3TJSkhPxy+Kf0bPfYPR4ZQg+GjsYJVXov7apdl08fw6HDh3CZbWaj3j7o2KileBP1pLznTp5HDei4tFfTeEbNnigdogI/uH9e+Dvo9exYfNWFWJf/W5d8iToygVMfudN7FQDG2PGvYOnn2qnef93/L0JH//vU1wMjtEiMPo+1w75ZMTjAVvI9cto27w5Tl8Jxgt9XkbFCuXuGQiRgR9J0Lhj29/4a+cBPNmuM8aMegNVKpZVgzUPLtdUnXw35Lyw5EbBb0narIsESMBcBCj4zUU2G+XKRS0zgl+S6axb9SumqgtySHQaOnTsiHp1a6usxqXUvMBiKODpcfcmRm5GU1W5clGVUDzZKPizYaT7DpV7EAr++6Do+KXcNFLw69hA9zVN7JUVwS8ZwiUcXsLi5XhtKbQ7gkHKTC8g5LX8yWZ6lP3Tv5bn97+XUTmmY0zlpH+d/j1TWfK5bKbPTI/yux0bG4vo6OjbO+TA/xLqX7x4cc3TL17+Dh06aMv7yWBAtrY7gv9TJfj9AquqZflGZLgsn6mOmxEqGejkN/HZF9/Dr2QFlelded/vE91iH0nQFx11C4X9imLChLdRTQ1UyHsrli/DyLc/RKV6LTD9g7EIUCHq928ZCX6ZU79j6xb07PUy6jTvhnGjX0f1SqU1z/89x6txiZSkWOz8ey0GDB2Hl4e+jVf7PAcPR1tN8L/cpTM8KtTFzNlzUUdFHaTfbgv+tXjr7Uno/PIQdGr/JMoWK6RFO8h+sUrwb/jzF0ybMQe+pWpg+qdT1Nx+lVD3ziaReb8uXaQi997QBP+HSvD7i+BXYv/wwQNY9NNC/PPvfqSoNnp4qLB+tSKPk7JrogqZv6wGA27GJqDvq68rwf+6VqII/hEDemL7yRBsVIK/RtXKpqq0x9CgK5j20dvYtPsYRr05Xgn+9prg/2vjWvxv2nTcSnDE6LET0bFFFRV6/2DBffXCadRt1AzBYTGoU7Oamj5S4O45LRXJeZ2iliWMVQMUMbGJaPZEC/Tp00c5Kko9VPAnxUfhalAoHNSgj0+hgir64Pb38p5OmOkFBb+ZwLJYEiABixKg4Lco7sxVllnBL6XJiPqfq37Dl1/Px7lLV+Dimh+l1ZI35cqV1ZY0KuVfWi23Ux4BahDAw+32HEBTKyj4TSSy/yg6gYI/+xwtVYLceFLwW4p29usRe2VF8Eeq5cO2bduGnTt3atnP7xf80jIp2/Rnei2PJjEun5me3/++aX/T8aZH0/vyKJvp+Ps/T//atJ+8J5s8hoaGau1fr5KsZmdzUku0iVdfwvnLli2LatWqaR5+Ef4S0p8jm0nwT1eCP6CKEvwjHyr4ZUraD7M/wjtTZqDjs33RtfNTKv+M43+aYrKZk7MzKqhrmbTXlLRvzLsfoWazNvhkwiiUKu73n2MzEvzi4f9nx9/o8uwLCKjWTHn430TD2pW1ufXpC5Cw+VjVxjXLF2D8R7MwbPxk9OnZ5R4Pf/7yam7/nLmoWb1K+kPvePjXYuy7H6DHgBHo0LYV/JX4VVVrW2xMFDb+uUx5+B8g+NXc+F+X3Cf4VSLD6MggTJk8GSvW/oVaDdQKASovQzUl3gurZLturs4Iu3YZi77/Gqs2bkWPPv0xfMgbWn0mwb/jZCg2btmK6lUq3dPeMCX4P58yUQn+Ixgxeuxdwb9ty0Z8rEL6r4THY8SY8ejduYWcmPccm/6FhOs3b9wEV8ISMf6dt9RAiBpYuG//2+e8jYoUsFErS3ijRPFiyqbu6Yv5z/NDO9Zj0cpNqNWoJdq2bApXtdqCpTYKfkuRZj0kQALmJEDBb066WSz7cQS/eAJCVGK+v7Zsxl6Vbf96UDAilOckIuIG4hMS4eTqK6fTfQAAQABJREFUgQCVtKl+o0ZoqNYHrlwhUAv5l6ZR8GfRQBkcJvc0FPwZgNHpW3LTScGvU+Nk0CyxV1YEv4SEy3Hyl96bL1XIa9mk7Iw2ef9R+6Q/7kHlPM4+6cuQus+fP49vv/0Ws2bNSl9Mpp6bluqTcH0R+SL2ReiL8C9QoABkEED2SV9npgp+0E6PKfiT1fz8XZtW4eWBw1G5YWu8M3YMyqls9GKOO6bRarql8i/EqjDwAl6F1HQEVy1q7f8F/4dK8Ld9PMGvXPzHjxxE7x7dEZXmjgnvvqums7VRIvLewYZUFZZ/Wa0UMHniOKzZdhDT1NS5Tu1awVa1T+bwS0h/ZgT/c0rwd8ym4JeQ/hJFCuH6mQN49/0PERTvgNdeG6hFFkjuAZkqIY73Myo3wfSpH2Pjjr0YqBLiDR30/yH94uF/tOA/rAT/ODzdUXn41fK+Rw/uVRGEn2D73mN4tnc/vPvmYDUt4T7vuslYynBRN8Lx1ut9sXzTbox+5wP0erYL3N2c7tpTzrUUxTUy8qZKKpwG74JecHZWCQDvS74giQsT1ZLD8So/QHhYCL5SUx427jmOVwYORa9uHVWSP1n9wTIbBb9lOLMWEiAB8xKg4Dcv3yyVLjd6mQnpNxWeJnMNVRKgGxGRiLxxA0HX1ZzPS5cRFBSkbhjP4fTZ80hQ6+XWa9wcL/V5EbWqVNAOpeA3Ecz+o9ykUvBnn6OlSpAbTwp+S9HOfj1ir6wI/uzXnHslmAT/nDlzMr0sn4Tliwe8SJEiCFCRXjJPv3HjxihZsiQ8PT3hrta1l5B+s2yPKfhFBUaEXFXJZl/FoTPX8GLffmrpvKdRpLC3aqODSkaXiFCVZ2b731txJSQSDZu3RtUKAWqev306D3/WBH+4yj7/1bQpWLJ6I2o3aoFevV5A+cAy8PLy1Ka8JSUk4Orlc1j352rMmPMVSpatjY8/eR/V1FxzGSaSZfksLfhL+hXC1VP78fZ7HyA4wQFDBg9FvdrVtUS7yWrgP1Rd97dt2YSZ6ny5HHIDw1SC3vtD+h9X8IeqpRR/+n4elv++Co5efhihpmnUUtEM+d3dNA+9OBxOHTmEUCXgS5etgMJqWsIexWaUmmpRskJtDHilL2oqL3+B/G7aKZegRPz5s6exSS0V7FrAB23atIGvT8G7kQ+m8zIhPhYnjx/FgYMHceb0Gaxe8TtC4uzxplpJoE+Pp5TgdzbtavZHCn6zI2YFJEACFiBAwW8ByI9bRWYFv8zvlBHwNDUa7ujopIUkyoU/PjYOt6KjIJmAZQ7rdpUg588//kCag4daBmcw+jz/LCSskYL/cS3z4P0p+B/MRo+fUPDr0SoPblNeFPzy+y4e/rlz52Lq1KkPhCNsROibwvarV6+uefIrVKiAUqVKafP1ZY73/V7UBxaY1Q8eV/CrepKVqF/w1Wx89f2PcPMuiqdUPoF6tWurAQtvRIQG4989u/D3lr+QaOOKHi/2R4vGteChlnDLroc/QSVDPLx3m5qfPguXr4ejQZOmqKsS2lauVBHuLo4IunZFTQPZAZlKceFyCPoPfhMvdO+AQl75c0Xwa3P4/XwQGXwBH344GVv3HkebpzqjaaMGCPQvgTiVAHHf7l3YvvVvbN35D+LTbPDawDcwYuggzZqZCun/WIX077rXwx+vIit2bf8bK1f8hnVbdqBug6Zo307lI1BRgyK6w9TAyarfluOaSgj8VNfuaNm4AeJvhePtt8fjnwMnUb9BY7Ro8YRKylceDvbAZbXM4ta//8LfW3eicu0GainhAWoqRlEVtXHvSRev5vgfPLgP//67D0HBITisVho6Hxar7DAcfZ7tRMF/Ly6+IgESIIFHEqDgfyQiy++QWcF/S3nzN6ulf66F3kKTZs1RXi3rY6dC4+R401+iSm50+vgRfDN3FtZv3YWuPfvgrdGj4eZsrwT/NZWlfzqz9OeAiSn4cwCiBYug4Lcg7ByoioL//wW/sJBNHiUk39fXV1tiT0L2JQmfZN6Xufni0ZfP70+ElwPmyLgIJfgP7Nmm5qV/pc3hHzR8OPy0LP0Z7y7vynUq9Nol/LJsqcoevwVhN+JQTM3p9i5YAJFqatqVq9fUtDRPNGrSHE8//TQCShWFowo1l6R9q377BW+9PwU1mrTBlPHD4V/sv3P4ZY34oSNGwc67Dj54dyhqVS6hxOXta2R8bBTWr1uL339fgXMXLsDB2V1LduumBH94SDCuqCRxLm7uaNLkCRUB8LwWeWCvksWJh//fLavR/9nOcCvXQCXt+0Ilwbt3TnxaWgq2bl6L8e+ppen6D0WHJ1urOfye2nQF6XeczOFf8ys+n/kFfMvUwLRPPtL6LJ/JJuvbL1+2BD1fGYTn+g7Gh28OQomiPiqJYBxW/voLvl/wI4IiY+BbxA/FixVBkkrWd/NmtErc54B8aYk4c/EKOnTqhjEjh2jlnT52AKMG9MI/p4KxTnnXq1WuqL1v+i88+CqmfzIJm/ccwfCRb6qBl9tZ+sU+NyPDcUx58RctWoyDhw5r9pCkwBKqHxYapFaQuIbyVWuhl4oebFCrGuzUeblzxxYs+nkJjh4/CXtnD5TyL66459OiD8PCb6FYyVJo274D2rRuBS9P9/94+MVxEREWikg1nSNJRSceVFM/Fv+5HW2791IrJdDDb7IbH0mABEggswQo+DNLyoL7yUU2MyH9ISqE77OPJ2H9tr0Y8PowPKfWBc7vce9awuqWCtevXMS8L2Zgye9/ovVTz+Kd8W+pMEBnTfB/pwT/dC7Ll23rUvBnG6FFC6DgtyjubFdGwf//gl+8+TIHv3Tp0tq8fJmjL3/lypWDt7e3JvLN7s3PyKJpSSoM/oJKMrgLHoV80bBxU3io5Gp3xicyOuL2e+p6J3lo9u3dg337D+Lq9SCVwT0Ozq6uKKIy81eoWAU1qtdAyeK+t+eqq6Nk+tSJY4exev1m+JUuh/ZPNFHC0eM/dVy7fBErV65CPrcSaNuqMYr5qsR56aagxylP8pHDB7F377/aEnehYRFITE6BqxL6RYuVUIMnVbQVDHxVwj3bdAdePnsCyxZ+Cwdvf3R+pguKFvG9p26ZZndBzf//c/0mVK/XWE0XCEQBdc01sUiWgfhTh7FVebrdC6nIhvZtVdI9l7tlpKnojqOHD2Dhkt9RrW4jtdRdw7th8eFqoH63SkK5e98+BIeGIzEpBW4qU3+ZgHIoq6ZxKB2O06fPoUSZsmjRvKlWZpg6ZuWyn3BZZc/v9+pr8PO9s8TfnRpjom6q6QAbcPZyMJo2fwIVy6vl9O70V/qSqCIizqpQ/O1qed+z585pc/AT1DKAzi6uKkdQOTRqpPIDqYEmtztz62U6xomjh7Br126cOnMOEeERSFYjJR4e+eGvztu6deujXNlAeBXwuIfrXQDqiclpIe/9u3oJZv7wGxp26IJe3Sn403PicxIgARLIDAEK/sxQsvA+mRX8so7xT/O/xpxv5iOwWn30e6W/yr5bEZ5K9NtJjJy6kZIlnfbu3oFZM6bh8KlL6P3KAIwYPBhODjaIDg/Swin/N/d7DHt7Cnp26YhCBdw1z5E5uyz927x5M4YrD9ClaxGo2vo1VGr6Alw8vGFjq5IPGXCj4DeW0Sj4jWevvDaHP31I/6effqotvyZz82vUqAEJ1xdPvszRl/dkEEA8+SaRlivWVb/r0uZk5Z1W6xLAXrXpdizCo1sjojI5KUm7XkVGROBmVDRc3T1Q0MsLTiqpm4O9/X+EYbIS/YmJieqaYat9nlHfJWmj7JMvn61KQqfKkIx792xq2T8lXEWAx0THIEKt6hCn2pE/v6eKkMivTZNwsLNXXO89LiUlGQkqEaRkmndwcMwgiiJNrQqRospOgq2KsjAlR0xfirRfPpffIsmrII/pN/k8QeUSsFX1O6h4eJs7n2uM1XFRt27hpvqLj0+Ae34P1d4CWu4DKSU1NUWFgNjAUdlAtjT1OlGVJaLb6c70P+2DO//JNVmiASVZntjN7r7lEWU36bPsEx0VpQS/JAVOhpuykbd3QcXJ8XYf0xWq9U+xlyUVQ8PCVbI+aG30UFxdVIJEqeP+Pqc7/J6ne1YtVoJ/ORq0p+C/BwxfkAAJkEAmCVDwZxKUJXfLrOCXC/C/anmhL2bPwr5TV/BEq9ZoopbpKamWJ3J1cdIu+mEhQdi0cT1+X/kHPAsVxxtDB6Pb0+3V7RiQEB2JpQu+wXufzFShcn3xXOd2KFggv7qA+6CgSr6TzhGSo92n4M9RnGYtTG7IwsLUetkzZmDhwoVa8q/RakpIixYttJtUs1ZuxsKlX0zaZ0bAOVy02CuvCX75nbx06RJ++uknzJ8/H+XVknQi8tu2bat59yUBn8zNF7FvLVuqEugpatBARK0IeBHLJqFr1j7KYIX6E5Eq3nWtXhlAuSOyzVp3Vgq/014Z0BBW2mDPHQF977BBVgp/+DEymJCsBknU2IBWr50apFdjCw/Y0tRAgRrMUVxls1X7il3vH0B5wMF336bgv4uCT0iABEggSwQo+LOEzbwHaTd6p47hk0kfYNvBo/jfFz+gSd2qcFZe+fu3m5Gh2P7XZnz5zbe4opIPeah5mz4+hVRSG1dN8EeokfWwyAh4efuhbbuO6NypI/wKe2nFpCXH468Nf2DCxMm4GZeKKiphkWchH3Ts9DRaNWt4d/m+++vM7msK/uwStNzxFPyWY51TNYkA2L59O8aNG6d5ECUxVr9+/TRhkFN1WLqcvCr4bykP7pEjR3BOhVGL2Pfz81NrlxfUvNWWtgHrI4HcIkDBn1vkWS8JkIC1EKDg16ElRRBHqmQ4G/78E+euB+PpZ3sjoKTff9e/VW2XfaNVaP/uHduxfcdONQ/xGqJiYrTwORvlHXF3z6+8QaVQu249tZxODW2e493ReBVGGXz9skqYtAx/b9uhkuMA3sVKolu3Z9GsYR01X/K+1Lk5xIqCP4dAWqAYCn4LQM7hKij4cxhoLhYnv5US9i2PZltOLxf7x6pJIDMEKPgzQ4n7kAAJkMCDCVDwP5hNrn6SnJiEOJV5N0mFw7m5eag5ikp8Pyy8UHn1IiNCERwSprL13tIy29qpjL2SqblI4cJqTuJ/ExpJByV8MepmBE6dPou4hEQUUB5+P5X5V9bNFbFnjo2C3xxUzVMmBb95uJqzVAp+c9Jl2SRAApYmQMFvaeKsjwRIwNoIUPBbm0UN0B8KfgMY6U4TKfiNYytTSyn4TST4SAIkYA0EKPitwYrsAwmQQG4SoODPTfp5tG4KfuMYnoLfOLYytZSC30SCjyRAAtZAYPfKRZj5vcrSr5bl6/1sJ5WjyNli3Vq6dClmzZqF4OBg9OnTR0157IZAtcwiNxIgARIwEgEKfiNZy0raSsFvHENS8BvHVqaWUvCbSPCRBEjAGggc3vIHFixfj1pPtEXHNs3hqpb1s9RGwW8p0qyHBEjAnAQo+M1Jl2VnSICCP0MsunyTgl+XZnlooyj4H4qHH5IACRiMQOT1qzh/9ToKeBdB8WK+sFNLEFpqo+C3FGnWQwIkYE4CFPzmpMuyMyRAwZ8hFl2+ScGvS7M8tFEU/A/Fww9JgAQMRkDuGeRPNhub/y5PbM7uUPCbky7LJgESsBQBCn5LkWY9dwlQ8N9FofsnFPy6N9F/GkjB/x8kfIMESIAEskSAgj9L2HgQCZCAzghQ8OvMIHmhORT8xrEyBb9xbGVqKQW/iQQfSYAESCB7BCj4s8ePR5MACeiDAAW/PuyQp1pBwW8cc1PwG8dWppZS8JtI8JEESIAEskeAgj97/Hg0CZCAPghQ8OvDDnmqFRT8xjE3Bb9xbGVqKQW/iQQfSYAESCB7BCj4s8ePR5MACeiDAAW/PuyQp1pBwW8cc1PwG8dWppZS8JtI8JEESIAEskeAgj97/Hg0CZCAPghQ8OvDDnmqFRT8xjE3Bb9xbGVqKQW/iQQfSYAESCB7BCj4s8ePR5MACeiDAAW/PuyQp1qRseDvBRcPb9hYcH3dnISeLx+QkpyCcwfWYPuSSXDGDbz//kS0atVKW0ZI+mzEzST4p0+fjoULF6JkyZIYPXo0WrZsCUdHRyN2SWuz9CsmJgbffPMNFixYgKioKMyZMwfNmjWDrUHPQZMxRPBv27YN48aNQ1JSEgYMGID+/ftD3jfqJvaKj4/H/Pnz1ffqfTRp0gQTJ07UHu3s7IzaLbabBEhA5wQo+HVuIDaPBEggUwQo+DOFiTvlJIH7BX+VVq+ictMXNMGfz6BiSwRJSnIyzh9Yi+1LleBPuy34WyhhLOsGG13wz5w5867gHzVqFFq0aGF4wR8dHY1vv/1W65cI/tmzZ6Np06ZWIfi3b9+O8ePHIzExURP8/fr1swrB/91332HSpEkU/Dn5g8yySIAEHkiAgv+BaPgBCZCAgQhQ8BvIWNbS1PSC/8KVUJSt3wOB9Z6Cs6sX8tnYGrObSvCnpqTgyvGt2L9mJhzTojF02FDUr1/f8II/MjJS84L//vvv8PPzg4jHBg0awN7e3pi2Uq2WAZrY2FgsW7YM0i8R/+Ixrlu3rvaZYTumGi6e/H379uGzzz7TPPw9evRA9+7dDS/4ExIS8Ouvv2oDM/TwG/kMZdtJwDgEKPiNYyu2lARI4MEEKPgfzIafmImACP5NmzZh+PDhOHn6PFy9SiB/oWKwc3BSNdqYqVZLFJuKmBtBCL96ArZIRsWKFeDtraYpGNzDL6HUZ8+exaVLl+Di4oKyZctq/TJy6LsIfgl3v3jxovYnz2vUqAEfHx9LnChmryMsLAxHjx5FihqEKl26NPz9/c1ep7krkL6IvU6ePInGjRtrnn55ZEi/ucmzfBLIuwQo+POu7dlzErAmAhT81mRNg/RFBL/MMR4zZgxOnz4NNfX9ztx9NRHe4FtqajLSUhJVCD80ISJiRMSlkTexlwhi+ZPBC/HsW4PIEk+4iEjpl/RRchJYQ7/kXJO+STi/9Ev6ZORojPTfnWQ1bUY8/Y0aNcKECRO0SBNrsVn6fvI5CZCAPghQ8OvDDmwFCZBA9ghQ8GePH4/OIoEjR45g3rx5uHr1CpJF8UMpZGPmtbuHgAisVPUnj7KJQDa64Dd1UMSx9EX6ZC2bZq87yeysyVZiH1PfrKlfcv6J6K9SpQp69uyJChUqGD7ngrV8l9gPErBGAhT81mhV9okE8h4BCv68Z3Nd9FjmhUt4rmRKN4ljXTQsm42Qvpj6I+LEWsR++n5Zm+C3RnvJaWzKym9N56H0S+zl6emJEiVKwMPDw2q+Y9I3biRAAvoiQMGvL3uwNSRAAlkjQMGfNW48KpsE5KbdJEiyWZTuDk8vIHXXuGw0yFr7JUikb9YyOGMysTXbyzSIYW02M9mOjyRAAvogQMGvDzuwFSRAAtkjQMGfPX48mgRIgARIgARIgARIwAoJUPBboVHZJRLIgwQo+POg0dllEiABEiABEiABEiCBhxOg4H84H35KAiRgDAIU/MawE1tJAiRAAiRAAiRAAiRgQQIU/BaEzapIgATMRoCC32xoWTAJkAAJkAAJkAAJkIBRCVDwG9VybDcJkEB6AhT86WnwOQmQAAmQAAmQAAmQAAkoAhT8PA1IgASsgQAFvzVYkX0gARIgARIgARIgARLIUQIU/DmKk4WRAAnkEgEK/lwCz2pJgARIgARIgARIgAT0S4CCX7+2YctIgAQyT4CCP/OsuCcJkAAJkAAJkAAJkEAeIUDBn0cMzW6SgJUToOC3cgOzeyRAAiRAAiRAAiRAAo9PgIL/8ZnxCBIgAf0RoODXn03YIhIgARIgARIgARIggVwmQMGfywZg9SRAAjlCgII/RzCyEBIgARIgARIgARIgAWsiQMFvTdZkX0gg7xKg4M+7tmfPSYAESIAESIAESIAEHkCAgv8BYPg2CZCAoQhQ8BvKXGwsCZAACZAACZAACZCAJQhQ8FuCMusgARIwNwEKfnMTZvkkQAIkQAIkQAIkQAKGI0DBbziTscEkQAIZEKDgzwAK3yIBEiABEiABEiABEsjbBCj487b92XsSsBYCFPzWYkn2gwRIgARIgARIgARIIMcIUPDnGEoWRAIkkIsEdCv4k5OTkZAQj/i4eCTEq7+EBCSq91JTUpHPxgYODg5wdHSAvb0DnJyd1HNHONjbI1++fLmIk1WTAAmQAAmQAAmQAAlYAwEKfmuwIvtAAiSgK8GflpqK+Pg4hIWG4OzZMzh54gROnDiFi5cuIDQ04rbgV/uIqLdzcERBLy8U9i2CcuXKIyAgAIGBASjiWxge7u5qIMCO1iUBEiABEiABEiABEiCBLBGg4M8SNh5EAiSgMwK6EPwi9GNiY3Dx3Bns27cfhw4dwrFjx5XID8XNqGikpKbB1tYWtna2sFFiPzU1BcnK05+SlAQb5e13cXNHgQJeKFU6ABUrVULVqlVQtUolFCroBTt1HL3+Ojvr2BwSIAESIAESIAES0DkBCn6dG4jNIwESyBSB3BX8aWlIVB79y5cvYNeuXdi8eYsS/IeQqMR8Qe9CKFSoELyUF79QwYLw9PSEs5OjJvBF8MfHxeJG5A3cvHUT4eERuBERgdDwcG1wwKdIMTRp1gyNGjRElcqV4OXprh2XKSLciQRIgARIgARIgARIIM8ToODP86cAAZCAVRDIVcEfHhKEvXv34M/Vq7Fl6w6k5nNACf9SqFatGho2qAd//5Io7OMNVxdn2IinXiE3eetTVVSACP+4uDiEq0iA69ev4cjhQzh48BBOnz2L0LAI+Bb1x9NPd0bLFs1QprQ/7FWEADcSIAESIAESIAESIAESeBQBCv5HEeLnJEACRiCQK4I/LTUZN5VHftXK3/Hn2nW4EhSmhH4Z1K5VG7Vq10TJEsXhmd8DTioRX2bm4ier0P7EpETExEQjNCgYZ06fwp5/d+Pw4WOIjk1E/cZN0enpTqhbs6oRbMI2kgAJkAAJkAAJkAAJ5DIBCv5cNgCrJwESyBECuSL4kxJice74McyY+zXiklNRtVotNG/WRCXc84FXgQKZEvkP6r14/uOU8A9TXv8TJ49h8/pNuBwcjLoNm2HIG69qUQIPOpbvkwAJkAAJkAAJkAAJkIAQoODneUACJGANBHJF8CfGx+LiqRP4Y9MOlAosi+oqyV5Rv8IqMZ9NzjFNS0V0dDTOKm//zp074OzhhV69e4FB/TmHmCWRAAmQAAmQAAmQgLUSoOC3VsuyXySQtwjkiuBPSU5WXvhbiIpPhpur2+05+jYyQz+HN5UUMCUlBeFhIUhRvn2fwkVga4ZqcrjVLI4ESIAESIAESIAESCCXCVDw57IBWD0JkECOEMgVwa+1XIlxlYEvRzrx6ELScLs6S9X36BZxDxIgARIgARIgARIgAf0SoODXr23YMhIggcwTyD3Bn4k2SiRAfHw88tnYwsnJSS2td1uwJycnaQn6bt2MQpLy4NuqDP5Ozi7I7+EOJwcHCw4kZKIT3IUESIAESIAESIAESMBwBCj4DWcyNpgESCADAroU/GnKHR8ZHoLTJ0/i0OEjKFKiNBo0aoSC+d2RppbiO3v6GFb+vhx/rN2I68GhcHUvgCrVaqBbt66oV6c2Cqj9uJEACZAACZAACZAACZBAVglQ8GeVHI8jARLQEwEdCn4R+6FYMO8brPhzDS5dvoauL/TB6wNfQzFvL0RGhGDuzM+x5Lc/kJCcBldXZ6Qqj3+UStBXoXodvPJKP7Rq1hiuzo564sy2kAAJkAAJkAAJkAAJGIgABb+BjMWmkgAJPJCA7gR/UmI8tqz/E2+Nn4D4VCc0atwITz/dEY0bNYaDSuL/15rlmDJ1BlIcPNC+YyeUD/RHYkwk/v5rE3b8exDNW3fCoNdfRZkSfg/sND8gARIgARIgARIgARIggYcRoOB/GB1+RgIkYBQCuhP8kWFBmPbxh5i3+A/0GzgEfXs/B78i3rBX8/TF8//R+DFYs/1f5fV/Bf1f6o2ivgVVmH8SDu/fjUmTPkSirTuGjxyDJvVq5Owyf0axKNtJAiRAAiRAAiRAAiSQbQIU/NlGyAJIgAR0QEB3gv/cqWN4c+RIxDn5YcqH76By2ZJ3MKXh+tXLeOn553AjyQHjJkxAu9ZPwMHeTvs8MS4Kk99/D/8cOoWeL7+GZzs9qRL42esAMZuQEYHQ0FCcOnUKcXFxagUFtWKDlWypqanaUpDSJ0kmaWNjoxajMPbqENIXWd5S+iZ9MfXLGkwm/ZI/6Zed3e3fEqPbS+xiOg/luTXZS/oj9vL19UVgYKCa0uUqb3EjARIgAbMQoOA3C1YWSgIkYGECuhP8Rw/8ozz0b6Fmk/YYNmgAfAt5akjSUpJw5vg+dO32AvyrNMDYt0ahbvUqd734iYkJmP35J9i4bQ9ade6Ffj2ehpsL5/Fb+HzKVHUiIDdv3oypU6fi0qVLSEpKshrRbxKQsg6kra2NEpG2ViD4oWyUjJQ7gl+EsQxkWMOWrFYCEXEs56S9vb1mK2sR/PK9EjvJn4h+a9jENmKzNm3aYMSIEQgICLCGbrEPJEACOiVAwa9Tw7BZJEACj0VAd4L/8N4dGDFmHBq07IQhr/dDIU8PrUPRNyOwfOFXGPvBNDzz4hsYOrAvypQseldMJcbH4rOP38fmnQfQrvvL6NezMwX/Y50KlttZxNXKlSsxZswYTfB7eHjAzc3NKrzh0Sp5ZFhoGJKRD275C8PByfgeSFkeM+ZmMBLjbimPqgsKFPCCs7Pz3e+e5c6cnKtJhGNiYiJu3ryJW7duaeeej4+P4fslhOT7FRsbi5CQEA2Yl5cXPD09DT+oJgMzkZGRCA8Px1NPPYXJkyejUqVKOXdSsCQSIAESuI8ABf99QPiSBEjAkAR0J/hPHv4Xo4aPRolqTTBm5CCU9PPRwF4+dwrvjn8LK9b9jXGTpuHFns+gUAE37bO0tBSEB13GOxPewbHz19F34FB079QGzo4M6dfjWZle8EdERKBDhw6oU6eOFp5rVM+xyfO4b+9eLFn6C2KSbFHjyQHwKVlNnP1KHBtz2oK0PSHmBg5v/haXjv2NcuXKoWvXrppn1RQCr8dz7FFtkvNMxOPq1auxa9cuTei//PLLKFu2rKEHMqTfIowPHTqEb7/9Fg4ODtr3q2XLltr7j+Ki18/l+5WQkIC1a9dCbsAp+PVqKbaLBKyLAAW/ddmTvSGBvEpAd4L/2sWzeH/CWOw4fg2TPpiEdi2bws4mFev/WK4y97+PsFg7zJzxmZq/3xSO9hKmmg9RN8KxZd1KfDrjC7j7lsKoUW+iUZ1qsFMh1dz0RyC94BdP5MCBA9GuXTvNC2lkwS8h1OuUIPn4f/9DVIIDWr70GUpUaoY0JVY01a8/UzyyRSK0om8E4a8fx+L49iWoV68uRo4chVq1at2d8/7IQnS4g5xn4gGfM2cO/vjjDy3C5KOPPkLt2rU1b78Om5zpJong37JlC9588024uLjg1VdfxYsvvqiFwme6EJ3tKOeh/FbMnz8fH3/8MQW/zuzD5pCAtRKg4LdWy7JfJJC3COhO8MfHRmPZj9/irfcmw7toKbRt3RI2qfFq2b2tOHnmHLr0eh2DXu2N8gElcVOFdp48cQzr1vyJtevXIywqGS/0eQWv9uuDIt4F8pYlDdTb9IJfkva98cYbaN++vVUI/jVr1qhQ4ymISnREq76fo0Tl5spjbFi9r7U9OjIYmxa8iRPbF6FB/foYNXq0JoyN7uEPDg7G7NmzsWrVKri7u2PKlClapIlRB51MPwEi+CVHhkyZcXJywuuvv44+ffpYheCfN2+eFspPD7/J2nwkARIwJwEKfnPSZdkkQAKWIqA7wS/h+VcvXcB05SVdsWYtYhOTkJSoZkQrj1zVms3wzntjUa1iWbVMXz7s2LoZi37+GRs2bgbsXdC154t4/rluqFy+jPLuW0eSKkudCJash4LfkrSzV5cMVlDwZ4+hpY+m4Lc0cdZHAiRgrQQo+K3VsuwXCeQtAroT/II/WSXTOnPyGP7ZvQtnzp5HXHwSChYugjp1G6BBvZoqGZ+zGgRIwJ5dO7Bx02ZcD7mBchUq4YknmiOgjD9cnJidX8+nMQW/nq1zb9so+O/lYYRXFPxGsBLbSAIkYAQCFPxGsBLbSAIk8CgCuhT80mhZ3ixRJWlKVPOiU1NliTM7FZ7qqJJQ3U7EJze1t27ewK2oaORTn0mmd1eVOVyWQeOmbwIU/Pq2T/rWUfCnp2GM5xT8xrATW0kCJKB/AhT8+rcRW0gCJPBoAroV/I9uOvcwKgEKfuNYjoLfOLYytZSC30SCjyRAAiSQPQIU/Nnjx6NJgAT0QSDXBL+IPllmKVl58HNywTJJJGavlqLiHH59nGAZtYKCPyMq+nyPgl+fdnlYqyj4H0aHn5EACZBA5glQ8GeeFfckARLQL4FcE/wSrr/1r404duIU4hOS/kNIlmGSTcRh+kd53/SevG/aT9KJ26pEff6lAlC3bl34FfGBzZ0ytAL4n24IUPDrxhSPbIh8hZi075GYdLUDBb+uzMHGkAAJGJgABb+BjcemkwAJ3CWQa4I/NiYKX8z8FKvXbEJMXMLdBpmepKWlIjY6BklJyVDKXRPzNkrQOzk6IiU1RYsMSElJVfP7U1SEQD5tTXAPj/xo2Lg5Xnq5DyqVC1Trad8eNDCVyUd9EKDg14cdMtMKCv7MUNLXPhT8+rIHW0MCJGBcAhT8xrUdW04CJPD/BHJN8CfEx2Hlb0tVJv79iFdL76XfJGHf5QtnsHfvAZWhPxm+xYqhePGi8PIqgPwqOV9KcjJioqJw40YEQoJDcE2tp21r74CaNWujddt2eKpDB5Qs7kcPf3qoOnpOwa8jYzyiKRT8jwCkw48p+HVoFDaJBEjAkAQo+A1pNjaaBEjgPgK5JvhF9MXGRKtw/sR7QvTFs3/10nnM+PR/2HHgGKpUr4MnW7dClcqVUMTXG86OTirOX3n/Y2IQHh6C82fP4q+/tmD/gSOoWLMeXni+J+rVqqEy+jvc11W+1AsBCn69WOLR7aDgfzQjve1Bwa83i7A9JEACRiVAwW9Uy7HdJEAC6QnkmuBP34h7nqcm4+/1f2DkW+NRuExVDHpjIOrWqKo8+26wtbG5d1cVCRAfF4PDB/djyU8LceRsELr0eAE9u3WCh5vLPfvyhX4IUPDrxxaPagkF/6MI6e9zCn792YQtyl0CaUhFcmIyklV0oOT7sVfL+9qp5Xy5kcCjCFDwP4oQPycBEjACAd0J/siwYMyd/ikWrd6GoSNHonvn9nB3dX4oy+ibEdi3axtmzP4GBYuXVYMEr6FS+TKGDukXUaxt6uZEV5kIVLtkyoWIinxqAMbGxvaxcyVQ8D/0dNbVhxT8ujJHphpDwZ8pTNwpxwnINUuS6kpunf+uvSMJduWaYenrWUpyIq5cvogTKkFwUEgoHJ3dUalqDZQP8Ie93b1OhBxHwgINT4CC3/AmZAdIgAQUAd0J/vOnjmL8W+NgX6g0xr01HOVKl3ikoURARoZex8cfTcKJi2F46dXX0b5lUzja2z7yWP3skKZ5HxLiE3Dj5g1Eq+kO6r4JTs7O8FB5C1xcXFV/7LQbptxsc1J8LC5dOI9LV4NQwLswAgMD4Oqsplk8xkbB/xiwcnlXCv5cNkAWqqfgzwI0HpJ9AuqCJRF314OCEHkjShsUvltoPhttudz8+fOjkJeXmnLnpBLtitg2r/xPTkrEhVNH8NW8+Th49DRs7GzhW6QEurzQD60bVYeTg5HuEe7S5BMLEqDgtyBsVkUCJGA2AroT/Ef378LIMWNRq0l7DH1jAHwKemSq84kJcWre/0fYvHM/OnTviz7dOsDVxTFTx+b2TqnKYx4ZEY4zp08rL8RxnD5zGhGRN9VqBGlw8/BEYR8flC1XHjVq1FB5DHzgoIR/bm0xKm/C6t9+xcoNW1CpbkP07f0CfAoVfKzmUPA/Fq5c3ZmCP1fxZ6lyCv4sYdPtQfJ7KX+ah1y+kHrd0hJx7vRJLPvlN+w/dFTz8puWzZVHJzVoXbBQIQQGBKJmrdqoVrkiHFRovTm3G+p6Nf+rGZg2ZwFq1GuE5k0bqmtoEVSv0xgBJXxUWL+OeZoTDMvONAEK/kyj4o4kQAI6JqA7wX9k306MGK0Ef9P2GDZoAAoX9MwUvsS4WHz+6WRs2rkX7bu+hL49noabAQS/iP2bakrCru3b8MsytWqBWpkgLZ8dXJRnH2reYXyC8vjfuIlixUvihZf6o13rFihVoqhMQ8yV7VbwNfz03Tz88OvvqNu8DUYOHYLifoUfqy0U/I+FK1d3puDPVfxZqpyCP0vYdHmQzDmPjo5GgroOeHp6wt7eXk2h0mkYemo8Dv67A1OmTse+Q6fgU9j3bpRdmpoClpgYr65lN5Calg8t23TAyBEjUaJoYbNey86dPIIRw4Zg3a6LmDPrU3Tp1Fol/nVQy/zaPfZUNF2eIGyU2QlQ8JsdMSsgARKwAAHdCf5TR/Zj1IhRcClaAW+PHYVKZf0fiSEtLQXhIdcw6Z13cOjMFfQeMAg9nm4HF71n6ldem5uR4di5fSumTfsc+46cRMXK1dCnTx9UKBcAm7QknD93DmtWr8KGzVuQzz4/+g8cgmFD+sHD9fHC6B8JMZM7iOD/cf43dwX/qGFDKfgVO/FgJSUlYc2aNZg8eQqiEh3Rqu/nKFG5uXZDq0xtyI2C33hmo+A3ns0yarEMjIaGhmLnzp04raK/GjVqBD8/P7U8rZea4uWiRKvOwtGV4N+/exs+nf4FvEtWwOtDBqOIpztkeCJZ/TaGBl1X17q/sHTJYhw4cQEjxk/CS893RX4zXsv+j73zAIji6OL4H5HeUSk2QCwoghV7ibEbe+/GEjV2jC0x1ST2GqPR9Jh8lsRoYo2x9x57F7CAoiC9N7/3Fg4PPBRUZE/fJnh3e7Ozs79ZmP3PvHL22GGMGueLePMymPvlh6hfwyPDlUAXcdknBB4nIIL/cSayRwgIAf0joDrBf//OLcye/hnWbD2EyeTL37NLB9jbWVMAPt1wWUex2N+/418sWvIdrBxLY/yECWhQuxqMDFW6EpJxKakpyThycBdW/vobtu05gloNm2PI4EGoX8s707MxlVZ4ksldYca0qfjf73+jtEdVzJw5Gw18vHQDyee9Ivh1AxbBr5uLWvfyKum9e/ewZMkSbNq0CVZWVvR7NRM+Pj7qXUHNJUwR/LkEpfJi3I8BAQH47rvvsHDhQpQsWVJx62rbti28vLzg7OwM9olnf3hVrPpnCv5lKF7WC2PGj0dxu3TBr7glkDVbCl3Tvt07aNJ6LJzKVsXiBbNRsbxbvvXEmaOHMdp3PAyL1sT0T33hU8WVzPjV/VyQbzCk4mciIIL/mbDJQUJACKiMgOoEf3JiHLb8vRaT3v8Y1sXcMOzdYWjcoA75sReBiYlJZmq+tLRUJCclZ6yQ78PK//2KC9fvoGP3Pnj3nUEoXZJMBVUGO0tzaPUmLjoCP333DX5ZsRKwcsCYMePQrVNrMoN83K/x8ukjGDF6HPzuRuCdUVPx4bh+SnXsEpBCP/zAZ0gBiR6S338ymX8mJCZQEMBU8ISIYWEjmJIZo7Ex8XvKww5H4E9OSso4nlIYEUVeSWL2piamiAkNlhX+LB2Z/kEEvw4oKt4lgl/FnaOjafz7FRcXhx9++IEsaGagXbt2yqunp6eO0q/GLhb8fn5+WLZsGebPn6/8jTcjV68iRYrAyckJderUQaNGjVChQgVl5d/CwoL+xhsr1kYFQuAxwf8eCX5LZYVfuz2XzpzE+BFDEZpqju+/W44qXpWUr3lSQJngpklufs8R/Y1o7OIxi/s/+8Zl0lI12WIMMo9No/1sss/C/szRQ5TtZyIJ/hr48pNxqOHlQnUaKmOadn3Mmse+1NQUJfZAIRrzCtOPYWEKlKtdMOO90lYqz+3ivyU8DieRFQPvNzIyJiuCdOsLrpe/53L8nq3AuKwB1W1EdWtbaXCAwWTl2nnMpvbz93RsThvXk0p1stuHhhe3mY/LzkvTXh7PuW38/MTH8TMCFVZcRThNoQ7MWU7P9aTQQkV6pp6HyrXx9eb0XJHlPFST0i/Kded8XVlOqIIPIvhV0AnSBCEgBJ6bgOoEP41cuHfnNhbMm4VVazfAws4BdenBxptWNFxKl4StjRWnFkBMVCSCgoIo0N0VHDp8BAG3g1C/cTOaIBhOq/s1lYj2z00nHyt4SANu8C0/LFq0EBu27UftRs0wceJ4VHIvpfOsyQkxGDm4P9bvPI7W3d/Giq8+RzqrQFy6fAVW9kXh4lIScZHhOHPmDO27ijDy/SdUsLKxg3vZ8vDy9kK5Mq4wySFQEj9wBPj74fTpUxQ40I8iLUcpDw5WVjZwcSuDKlWrwt7EABvXrsGv6zagVpOWEJP+9O7iBywx6dd566pypwh+VXZLjo3i36/XUfD7k0sXC/558+Y9xsbS0hIlSpRAxYoV4e3tjerVq6NyZS84UJBXc3OzTKH52IH5tSNXgv8h/jtyCL6jhiPZrBiWL/sGXp4VFBEccu8urlyj1Hl37yE+MQlmFOSvlIsr3FxLo4idPYnSR8FqOSZASGgIbt2+Czt6RrCxMsIN/+u47h+Ah4ZmcCJrCDPDNFw+/R8Wfv01Ctl5YNjbPSjrjzOKlywON5fSishlQRoXE4WgwCAE3gnE/fuhJLofwowmT0qWLAUXV1fKKpAeO0Fb+Ec8CMHF85dgbuuAEs5FcPumH6753UB8QhKqVq9BgQndaOI9Fjdv3oET9ZEJZSQIun0LftS+yOho6h9rlK1QHu5ubhRTwAiREWE4d+4M7ty9T+dPg7WtHU3keCjjtSFn59HqM057GBcbS22+rTwD3aM2J5F4NzOzQDGKm1ChfDk4FCuSZbIglp6Xrl69ioQUY3hUcMOD0Lu4Rp9DwyJI8FPmguIlUKmiB5wdHei+0T4bnZieIficCfHxuEvPZteuXceD8AglqLCpmSXdf55wdS1F/WUKw4wZA54YSKC4SjdvBsDfz5+CEFPsBpr6saXrKlPWHa6lXam9NFHwhAkNrUsu0Lci+AsUv5xcCAiBF0RAfYKfL4wGmKsXT2HNmjXYtGUbAm7eBq1ho1ixYrS6YU++7ZSGLywUoSEPaKBLRTGnEqhZqxaGDBmCWjWr5TlN3Atimadq0tJScPP6Ffzvt99w6mIA3mjeBv16d4WtlXkO9aRg7OC+WL1lH5p2GoCVS2dQTL9UnNi/G0uWLUfpCpVRgfIKXzhzGoePnkBMfCIK04MC+05GRUbC0MSCJkSaYsjA/vCp8chlQPtkJw7uw+o1q7Bl+y7EJaagiH0RxTIgkVItpVFapUpVaqAR8Q2+cQ2bd+1BnTdbieDPACiCX/tOUv97Efzq7yPtForgf1zwa/Ph1f0yZcqgXr36qEoTsx4eFZSVfzb7f2mbluAvUa4Kxk6YiOLWWWPNRDy4h1W//YI585eiXqvO+PLjyXChwH3nTx3HRnKt2bV3L2ITkpXAevEkMIs4FEfDxk3QokULVPYol2mOn5KUiAP7duOnletpXGoMk7R75CqwHf4ksIuWdEdZz+qIun2OBOdNZfL7obEVKri7wsbaDO06dkX/Xj3IjccCd274YffuXdi5cxdu3A6k54k0GJE1XEJ8AuwdnOi5og6a07lrV/N+lB2Hnj/OHj+Mz6d+CFuXmjSeumL7v1vpOSWQJipArgwT0KlDK9y+fgk//roKTZs3B0/Y79qxkwT/DSTRZEZsXCLKe3qhV59ecC/phH+3bsIWiv+SnGpIE8eJiKP0vFVr1kePHl0VC0cONKjZ7gTewP59+5Q2+9+4hcSkFLIWKIQ4OrmFtR2aUnu7dO5IkxuumkNw+8ZVzP/iS9wIt0D7t3xw9swJnLtwRVnljyDRb2Zli9bkKjKgb2+UKulMLpSPRD8/Q4SH3sfh/fuweds/OHv+MgUWZqu/woiPi4dbuUpo37ED3mjcEMUdiilWAjERocTkX2ygPr1yzQ+FybqQF2qSyCKjvEdFvNWuI+rQM1sJx6I5WgdkNr6A34jgL+AOkNMLASHwQgioU/BnXFo0DRoH9u3F3r0HcIlm/nn2PYEGSzZLMzE1gZ2tPc3Wl0LtOvXQsGFDlHUncz0y49OHjWfAIyMe4OqVK7QSH4uSLm4oRw8kOa2+R4cF451Bg3Dw9FX0HjoWsz4YDbJhxIFtmzFrzhxEpXLqJiCGHiQ48F+d2rXIzNORHjTicencafy7fTtu3glDuy69MGXyeLgWL5aJic3zbl29iGmfTMXW3YdRyr0CGjdpgppVvWnyxJgsLgJx5Mhh7D10lFZSbGBrYYage/fRon1nTPQdh5ISpV+xhJAV/sxbSvVvRPCrvouyNFAE/5MFvzYsDupXpUoVEv/1UKNGDVr1r6y4AHCcinzdMgT/nPlLAHN7dOrWDcUsKdsMDUy8Ih/F1menjmLjho2Ie2iBj2fMQbvmjXDn6lnMnvE5dh36D+UqeaMmpexzdi6KoBv+OHjwIEJjEtGmY3eMGDoYpZ2KKmKU49r89efv8J38GYpRgN+UmGA4lnCCV+WKZBXgDgsbJ1w7fwgB16/i4KHDSDMtiro1q6AYpflt3KQpOrZtrQTF/eXbb/Dtz6sQS6v6lSuTlQQJezuadL9J5z5+/BhukgVBjUbNMXXKFFQq56JYDtLV4MiODXi7U2fcL1QcpUoVoXM7k6VCJZpkt0DLVi1pEsALJ4/sge+EqXAr406xC4h8ISOKvVARRSmQ4dn/TmDfwWMo4+GJ8mVKY/uOXahWoxZq+VRDWlI8Du3fg32Hj6FW41ZY8tVCuNGkgGbh/eQRmuRfugxXAu5R9p7SdM2etFBgqlg4nDx5CnfDotG1Z38MG/I2Sjmlp8y9cvYkRvXvjgOX4mhiqCiKUfDHWrV8UNLZAYH+1ygo8C5ExKdiytTP0LlDG6WNyr1CfRccdBOH6Pv5ixbjGj1DNG7cGJU9PWBjaYrAm/7466+/UbKcF6Z+9AneqOcDmnvAn7/9hNnzFyMiIUUJNsnXXYgWKC5eOIfjJ07C1M4Jg4cMQ/eObWBlkdMiR77erbmuXAR/rlFJQSEgBFRMQNWCn5f6yZNPMfcLIxO6QDK7i4mNI5wGsKSHFwcHR9iRuZ05BS1K30jxZjF+y9it6pdHbWbBrjWxnqXVm1f/iPenzYShpSM+nTEXHZrWxkPypTu04x/MnDULW/YeQfU69dG9Zy9KPdQWLqWKk7lc+iw9m/P9u20TFn+9BIFhyZgw8QMMG9A5s342aZw2cTR++XMzqtZrglEjR6JJw7rE1SS9DD2s3Q28id9X/Yo//lyvrAwUNjFDn0HvYNJ4XxH8RElW+DNvJ714I4JfL7ops5Gvo+Dni+cV6qVLl2L27NmZLPLyhs37W7ZsqQT7Y+Ffrlw5JQZAvoh/Evynjx/EjNkLcfzMJRSl8dkkYwKefeM5/WwMmaK7leEV4U4YPLAfzI0NMG7o29i08zDad+uLkSOHoxyZ8BuSamR//hOH9ykuDZduhqBb/6Ho17UNHOxtyFw+ARv/+pOy1oyi1fAk9O77LsaNHwEvjzKKhSBl/lOeBNKD9vmicLFamP6ZL2qSDz83KSE2Gjs2/oEZC5bC0NoJ/QcNRNPGDVCGhDtvKRQH59TxQ/jfip/wx+adaNtzMN73HQFXEt48Yh/bvQlDu3fEtWgj1G3SCgvmzyELBMqsQ+flcZwGZ+zf9S9GjB2P6wF30a5DN/iOH0uT6JXIUsAQgTeuY/6cWVj9xzoYWdqjZYeemP7xRHJdsKbJkVRcIoH+yYeTcfRCEGYsWo4OzevDiibfeQsNvon/Tp8jd0cnWuQoA8ei9sr+pPgYHDq4D3PnLcC9iFSM9fVF3+7tlO+unf+PLAS7Y9sxP2rvWzS5/xEa1K8JY/LnTyLrg81/rcGXs76CS+V6mOA7CrWpnWzaH0txhrb+/SdWrVyNi4EPMHTkaPTu0pHOaUfXSRdKlorr1vwPfreC8WbLtqhcqRyCAy6iX793kGRkRXGHRqNTu9aw5okf2mLoHvh73R9YvHQ5XCtWhS/FV6hSsRxMjR+5aygFVfSPCH4VdYY0RQgIgWcmoHLBr/u6eDx9ZHCmu8yrsJcH/nBO20dm+zO+nIGAuw/Qd9C7JLLHoIitZabgnzVrNs4FRWLMuPHo0aUdHIvZZfGN44H5pv9V/LD0a3y34g/0GTIUc2dMUximpiTh4qlD6N5rAAwsnMlaYCaaN66nmPJnYUht4WwIv6/6DQsWLUVIZAz6DR4mgj8Dkgj+LHeL6j+I4Fd9F2Vp4LMK/qSkJDx48ED54aBpikihmrVftd/zSTWfNe81nzWvuvZn/05TRterZh8fo30ct0+zab67e/eukkVi7dq1mq/y/MpB3PiHXeLY179SpUqKBYCHh4ey8m9nZ/diIv0rgv8AZs1djJDoJNRt0Ag25ibkjMeBXwvB1MwcTs4lyN2gIkrThDRrvAtH99A4MgJlqjemVfSJ8GArPQ54x2KSZr/jaYLgnw1/0Li0CEa2zlj69ULUrOZFgWUTsWH9WgwbNQ6mFkXw668/440GtZWJV21AZ48dUdLyFS7mgxmfjUdNbxb8Brh+5QK50PXAvcgUvE8r0z27dqSV5nRRqjmerQguXziDz6ZOwamrQfj62x/Qsmkjuh7gKAn+wXRMvH1ZfPrlLPTt1iHLZP1DEsIs+MdMmEITCi4YNnggenVtnXmOGLJ2WPvb91i4eAmsncvja3LL8ybfes2WQOL915+/x6hJ0zBw5CR8NG4ISpB1Q/rG9w179FGAXZoUSUhIAN/nbHofSLEEVq74AXsOncTblJ54HMVK4I0F/7gh3bH9xE38b/0mtG/VNEucI/9rl/DBBJqcuBuNDz/+CG+1aqb0A1///DlzsfvQcXTo1htffPI+ifOsQYV5YiY9UKIhxUOIxPSJI7Fiw05M/GQG+vbsDAsK9mtAzPme5t/je0G3sGTRImw5eBbtOvfCkL6d4FrKMYsbQfp1quNfEfzq6AdphRAQAs9HoEAFfxIFieOo8toPPU+6HB4sNIMGl8t+HH9fiHzNOQIuB4Ohj3q5pSkBchIUc7mNf63Dmj/W4mbQfRoce2DokMHKAw/Pvisr/Nu30sPQXBg6lMFomk2vW9NbCQKkfeHMKSQ4EKt/+oEeML7BW73exsJ5syjADs+4h2Pl8nmYNG0eugwYjfdppd/dpZROdjwBcXDPLsyaOQOnLlxG5179RfBngOZ7T0z6te86db8Xwa/u/sneOv79epagfffv38f69euxbds2RRRp6uW/iZrxQ9d7zb6nleH6spfR/szfa080aMpr169dXns/l2UhFxYWhtDQUP74XBsz5Cj+HOnf0dFRMfVnf/9WrVopEwH83XNtGSb9cxd8A/tSFTBs5IiMtHzpQq9QIYpMTxlo+IcnAOKiI7Hmu3mY+sV8+LzRBq1btcgUxNwObi+7m129eJbE/XqkFjbH8m+/Q/16tdMFP60Uj574MZzcq2LF8rmoXIFW97NtmrR8hTktn5bgP3H0IDqTgC1ZwQdffvY+GtWpnhkfQFMFB6qLDg/FXyt/wBcLf8TEz1nYd4JZYQNF8A+ilW6TMjWwgER747o1NYcprxrBP+GDT1GjaTcS++1Qt0q59MkMKsFWdds2rqHJ869RzKUKlixeACfKRKTZOGXvn2tWoteQ0fQzFl9OGaXEOuDv+buIiAj4UcDigIAb8L9xAxGRUTT+pCCagv9du3QBD6LjMXjYCIwbPUKpkgW/7zs9sffcHezYexC1alTJsmgSTHEBpn80EYfP3cDkqR+hQ7s21NbCymLDbHq+8A+OxhjfKRjcq42miTpfQ38yOtkAACdvSURBVIJvo/UbTXHl9j2ajBmpZGDQjgfAfcoxgXaSf/+23cfRvE1HTHpvJLw9yTqCnmlys/HvCNfzsjYR/C+LtJxHCAiB/CRQYII/mcT+2VMnEHArSBmonv8iOUVMYSXarGelihRwzu6lDgrP3/70Gngw45X07fSA+tf6v3D0xH/kW5eCQe8MR/8+PVGxnDsFy0mfYWfBf5AE/5x581HCqxZGUIaCCkocA1oh0dq4zpDgIKz95ScsWrwUzbr3w0LKf8y13L9zCx9N8MUPq9dh7rLf0L9HR9jbWGgdnfWt36Xz+GbxQvyzm4IHtu0iPvwZePgBRAR/1ntFzZ9E8Ku5dx5vG/9+PYvgv3XrFmVCWYQff/wRiWSmndPGfyOzb9n3Zf+sKa/Zn12EaPZrXtPLGyiTqVn3pX+j2addD+/jH+3Vf8158/qqXS+n9qtfv76S1o9N/nm1XztFXF7rVspnCP55i5ahRDlvJXhdcVvzLMJSu95ICry75MtJmLf8Nzw0sc5xzE6kFewIErKlXcpg2XItwU8r/BM+/AKedZpi4RdTUJay1GTfdAt+4NC+3ejZbzB8mnTD1PfeRdXKbsrKf/bjUyjS/uE9/2Co74cYNHYqhvXvAWszo0zBb+VRG1+TP33Nql5ZDk0X/Nsw+ePP0bH/aAqU1wLlSxZTJtm5YBy5FOzcuhbzv1oKJ7eq+Iom4ItlmObz96mpyVj3+2r0HDQSPQePwZfvj4YrBTfk7cLZ/7B61Srs2bufIv7HUER/imVUogTFNLJV/P8Drl1FSEQ0Bg4lNwctwT9+aC8cvHyPAiMeQFWvykpdmn9CaUFgwfSPsev4Bbw3aWqm4N+74x/MXfAVIhJNMYkmL9q+6UX9mbPYDrx5jWJHNKaMB/fImsMJlpaPP0vw/RxDmQoio+LRvlNXTJ40niYGyMf/CRH7OQYET/7EU0yiWErPaUwuhRbm5krMJl7gyblFmit89lcR/M/OTo4UAkJAPQQKTPDHxkRj3uxpWPf3FkTHJLwAIg+VQaAhBeR5l4SvN4l+jQ/7C6j85VRBg5rf1cv4ioL0/EuR8kNp0Paq5oPevXuhaZPG5CvvTKsjj8S8RvDPJcFfpno9DB8+HGXooYfzD2tvPMDmJPiDyJdwzOiRWLfpX6xctxnt27QgEzzd/nT8SBwSdAM/f78cv2/YivpN20iU/gzQ/DAtgl/7rlP3exH86u6f7K3j369nEfzh4eHYtWuXEvyNBQPXoxEWmvf8qvnh8/L3ms/8qr2P32u+096v2afrVXM+7WO53NPOw+V5ZX///v2KhQJ/fp6N/fY5mF+1atVQp04dJYo/+/gXLVpUWfV/nrqVY7UEf/GyXiT436MVfkvFBF5X3VHhYVg+5yN8ufBbdOw5CO3atnrclUw5MH2ShOP2eFEcAnZBYB/+DeTDP+mT6ajWsAXmkP+7G7kJZN90C34DHDm4F916D4Bn7Vb45H1f1KpS/rFxk2wzkESr0Qf+XYeRU2ZgxORPMbBXN1iaGGYKfhsS/ItJ8NfIQfC//8kX6DHUF21bNYerg11m4L2sgr8aFs2bCYenCn4Hij0QiSVfL8aKletQws0dDRs0pNV6SpdrZ6sE/A27dweb1v9BARCPoVf/IfAdM1JBwiv8LPgPXQnBzj37dAr+hTM/w65j5zCeYvxoVvg588GcuQsREvsQ703+CF1b1aX7PzvlR5+Db/vTvVUfIVGGeP+DcahS2YPu88cP0Nz7jo7OcHMvA1vrJweUPPvfMfxJbi1nzl9GCllecEaCcuUroXuPnqhNgQ4tzTVxnB615UW9E8H/okhKPUJACBQkgQIT/JzTdfuWDThFuWwTk5JfAIOHFOjHGGXLeVAU2UaPpZZ5ASfItyrYdPDB/XvYv3sHfqdB7cTpi3AoXpoC/bRHo/r1yOfSA1Y0U549Z22m4J8/H+V8GmLY0KH00FNCMZfUbuyTBP+tgKsYPWoUNmzZjj82/oO2LZvCVCvfsXY9/D6CVgJ+/fE78gPciNoUrGjCuLEoJVH6FREggj/73aLez/zAee/ePSxZskTxkWYxNHPmTPj4+ChCTL0tf3rLeDV49+7dmDRpkuKbPWLECAwYMEBJwfX0o9VZggXyswj+FPIvjqS0pPzDfwe1N43ozr5P81kj3vkzv9ds2vs1+/hVI+w1ZTWvdHSmSNLsy/6qqYf3a77jfuSgfT/99BMWL16sKZKnVzbfZ5/9WpQCje9tDtrn5OSkmPRzKj/t8+WpYl2F8yj4kxPicHDbWrwzeiLe6NgPk9/zpaB4nBLuUeXcZ0kk7tlH3MzUDIVoNZc33sdB+yZ98iWqUyT72R9OyLXg5wnxC2Rd2KFTZxiaO2Lm3Jlo26KxYsL+6MzsipGKoFsBWDDjI/z172HMWvQNOlMAOnaFYx9+Nulnwc8r/NWfKPjHk+Bv9lyCfzqt8JcuXhT3/M/h48++QGB4GgYOGYL6tWtS5oEiNOYzNFowuHIJXy+ch537D2HIu+MeW+FPF/z7SfB7al8qBQIMRBbB35ZM+uk54MyJw5g5YxZOXPAji4FR+GD8sCzHZf8QGR6CEX27YCcFB5y7ZCm6UhR+DgyovfFqfSLFG+BfR1NKN/gkyxKOU+BHLh0zZszA/dhUNGvWHKVLOiIsJBgb/v4bBsY2GD56DMUdqkMTNlnPo33O53kvgv956MmxQkAIqIVAgQl+HsgjaYY/hvK4vghzRQbKDy8cGIgf3nkg0Ycthczyg4NuY+PGDeCBJTQijvLhdkTTNzn1DaXwocHcOAcBri34K9RqhKFD36HgNyT4s5nGPUnw8wr/WPL9/3PTP1j5JwXzIdNDiwyXAV38gm9dx0+UymgtWQQ0aN6WIvqOE8Gfce+J4Nd1x6hznwh+dfZLTq3iv+3PIvi5Pv77x2OMRkjndI687H9RdT2pHm6zv7+/EqV+3rx5uWoe39c8/hWntGuenp6Kbz4LfXd3d0Xkm5MZNJfRTE7kqtLcFsqj4GeBGhLoj/79BuJmaDzGT5pMFmbNUZQi1XP7OL5PJKXmPXnsGK7dDEYVn3pKFH5LCgT4aIX/2QT/fXJxW/j5h/hr5xG82bodpbwdCPcyrmQmTgHm6Ho5js69u4HYQWlv5879ChaO5fD1ojmo7u2RGaX/pQt+SlUYePkEPpn2BcJhgzFjxqFmlcoU98BUSXsYSfEG9u/agXm0AOBPAX7fmzARY0c98uF/tMKfe8F/j1z+fvnhW6wnS8xipcpR6r2pqOJZgawJjBVOPIV26/oVhIRHw7m0K+ytzbFn02pM+nQWvGo1xaQJ4+BBboimGVaDSmBBmkQ5cOAgjCk7AadTdihiT6Jf903GcR5+++l7rN64kzIpDEWrpg1ga2MJdvM4Sm4ZC8hF0dOnMaZMHKcEMtaaK9Jd4TPsFcH/DNDkECEgBFRHoMAEP5PgBxp+GHuRGz9A5cvDzItsZEZdHAQv6PYN7KHVuN9WrUFkbBIavdEM/fv2hgutdJiZmT62Wq/djOcS/PPJh59GRw7m9+nE8Vj+vz8w55sV5MPfSRk4tc+j/f7K+VP04DOXAv8cQYsO3cWHPwMO33ci+LXvFHW/578RssKv7j7Sbh3/fj2r4NeuR5/e8/gYEBCAb775Bk8S/MzGlFLTchT+kiVLonz58qhdu7Zivl+qVCnFBJ4D8nGkfi6bb1ueBT+lv0tKwPKF8/Hzyj9g71wK3bp3h3flirCxsaKUcNFKlPxt/2xHTIoJOvXsh7ea1YOdtdlzC/7EhFhcOHkY8776BjfuPECdho1ptZwsIEj0s9tcVGQETp88Tq512+F/KwS9KXhe365vwamYbYEIfsWHv7gDwoP9MX36dBw45Yd2nbqgjk8NODsWQXJcLC6fP4dDB/Zj76GDiEsxwNDhI/HeWF0m/bkX/AnE6eiBvdi4YQN2HjiGGrXro2P79ihVwolEf2HEk2vmlg3rEBwWi449+qBBreqIDb+H96dOpdSMV1C7TiO0b9eKLC6L0wo8EBYagqPUvh27D6BSVR8MIiuFsq4lyRdf91354P5dzJ8/D7EPzchaYTQtLlAcBDIBYSuBiLAQTJzwHpKN7fDJp9Pg4kzZifLh9hbBr7tvZK8QEAL6RaBABX9uUKWS6Rfn7o2lnwQKusR+mLzxw4sJmfixyaKlpWVm9Nvc1KmGMjzRwRF1169dRb5pfyE84SG6du+Bjh3akq++02Or9Lra/CIEf2xUBFZ9uxATPpuNdj2H4sMpvvTQU1pHipyHSnTgPTu2YdaM6Th/1R9d+wyUKP0ZHSOCX9cdqt59IvjV2ze6WvY6C/5ly5bRKvPcx7DwGGhLgdrYp51FfpMmTVCjRg24uLiAg/Lx2MgR8V/alpaIc/8dxdJvf4azW0UMGfEunGg1NmtEmaytIdsLRIU9wJqVv2Lt+r+RmFoIjk7OsLe1VkQ3T8qlGpigWau26NWzG1xI8LFJPqfl27Z1Ez6fvRCV6zTBJ++NIJN3p6yV06cL/x3HBx99CkP7Kpg6eRiqViylTKLz+JsQH4e9u7Zj1erVuO5/C+aWNmQF4UCTJ0aIJsEfEvoAD+ncLVu3Rd8+PUlY00o0Wx7Qf6cO7sCYgRTAr3w9zJwzD94VK2Q598OHqRThfhe+nD0fnfoPR3OKwVO6qC1NuKQXi4+Nwf6dm/DN9z/BwcWbMgVMRVF728w60lJTsGnDegwbOwUdeg/Gh2OHoiSt8KelJOLPVf/Dil9XITIxGUU5BgOtkKcSj/CwKLAFh62NGW4F3kHz1u0xesRQpc6Aq+cptd9QnLgeij//3gjPbO0NC7mLbxfPwb4TlzFi1Fi0bNFUcXFgTmw5cOnieaxauRIHj52me6soHIpx3AdjRFG2gNu3bsPDuyYGDR6EOjWrKcL+NHH//rvvcOLUBdjaF4Ez9Smv4odToMbQsAgUo8mdzp07o03LZrAh//2cdHp46H2so/uiCKVzbNu6ldL3GkiJFM/Ad9w4RKWZk9XDNJQpTq4NOVWkOegZXkXwPwM0OUQICAHVEVCt4OeBJiYmivLlXsGpU6dw8eIl3L4TRIM0R1o2gKWVNUqULEU+++VQvXoNuLm60sOPZa6Eshp6gVPrnDtxBIsWLsCZKzfRrmsfSrk3ACVotj632/MI/gW0wm/MgyNFA7589gi6dO9PA6cFpn0xDZ3eaklBdLJG1+WowYH+17B65Qp6SPkZERRosd/g4Zg83pcmKNKjB+e63dS3GzduVHyM4ymWw8iRI9GmTRvl4VVfrDOyX6sI/uxE1P1ZBL+6+yd760Twpwt+5sCijie52R+/Xr16qFu3rmK6zyKfv3upIl+7oyj3/J2gmzh06Cgs7Z1Rr2F9WJmmm35rF9P1PoZMt8+cOonDhw9TmrmbFME9FpbWtnB1K4OqVauhWlVvRWRq/PvZOo5F6D/b96C4W1m0eKOhMkmQve67t29h89Z/YGBRAi3frIfijrZkAfhIFbLwDrh+FSf/O4mrfv4ICgpGEi0qWNO5y5QtR1yroqq3J/nJ22eKdXISwe2Aa1i36heYFimNtu07ooRz1jGQV6BvUpntO/egMrkieJQtCxsrikGQ0UCesPC7dgEHiZUVsXqrdUtyJzDLbD5f38XzZ7F63SZ416ir+KjbWlsq38dGh+PY0aM4cPAQgu7eR0JCEuyofV7eVSjbQgUYPUzChUtX4VqmPN5o3EA5hjP/bFq3BkEPYjFw8DskwLO2l9MEHtq3C36B99CArB08ypcjgZ6+7M4xhjhmQhCxPHH0GP47cw6hD0KQkJRK95slqpPLCN+DZd1c6TO5RNA9mkJZmO4E0r1w4BBOnztH1lQhSEkzUNpZwaMiBfarC3c3F+JME0KaWZDMq3/0Jo3uqajIaBQ2Ms4S8Z/rv3TyKD6dMRfu3rUVk347cid41LOP6njedyL4n5egHC8EhIAaCKhT8LP/XPAdCsryJ/7+ezNu02x1AgX240kAY2MTcCCXZArGxOMEp2dxcy+Ppi1aoR0JVTaFz6/gLS+yw5LJWmHLX7+TqeZCJBpaYNQ4X7Rp0eSpM9QGBoXIssFUiVGQKfjJv7NC7ca58uFf+NUSNO/RH5mCny4qigLtTBw3Gn//swflq9akqP2jUJ9MBe3IrJKFEZuq3w28gU1/r8OWLdtw8fJVJNHg3bO/rPBr7gl+yBGTfg0N9b+K4Fd/H2m3kH+/XleT/uXLlysm/eybz2b7bK7Pvs/e3t5KAD7exxMABb7RuJ2SkoRoShVnYGgEK2trGs9yL8GSaEwMJZPvKDITT6LVa2MTE6rDhiaCbWBB1gpZNnoWiKMV+vCIKMXSz8aKrPx0xLrhOsNoFbqQoTFNYlvT88PjtuOpJB6jyX0gKiqGrAljyIowDUamJuRWYEOClM/9eAT4REoPx+bphQqb0Aq2neLTnr19iSSSI6OiYWZhoQQc1M6ek25hEEMZimJpjDUmKw3bbO57D8mqMQ4PwsJgYWmtCGMjLUf3eMoe8OBBKGJj4pFEz0L8TFDE3h5WJMDTHqbQYkkMjMiNw8Ym3WqAJxgiKGZSYnIqODMDu3hob2w5yVYNickpFAPCWnEn5N857Y1dTGKjIhFGmS9i4xMUa0sjEuJF6P6zsSG2ZHGSZaPyURQsMywiXLHSpI8wpUkNW2qTna2d4jqRpXxuPvBCEE0OXafghEu+mofAsBS8M2IUBRtu8lhwwNxUl5syIvhzQ0nKCAEhoHYCqhT8sVHhWPv7GqxcswZ37oXRSn5pJeiQk0NRZQWDo+dGR0fh/t0g3CRzsuDgEBRxKoGuPXuidfPmShA57Vl8NXZCEgWdWf3bT5g/bwFiUwqhUZM3UMbVhWaonxzTwNzKDj61G6J+rcpgwX9ox1bMnb8A5Ws1xNB3cg7aF0pBitau+BkLKchNs+59sWBexgo/weHZ+53/bMJSijZ8PTAYlb2roVbN6sTcDWYmpmTS9wDXrl7BmXPnyaSQcuGSG0DAnbto0b4LJlHQPlnhTw8YKYJfjb9putskgl83F7XufR0FP4vCwMBArKFxcDWZnXM6vbK0Uly1alXFhN/R0VERbnwv80/Bb+ljF7ebhzGDPLaJj+OxPY2C9fHGcpPr4B9dq8Ca8pQfgQQ9lVOOyvpPehkK2Mj/cV06CvEKNgcIVMpSG/iVz5dentk+ftCjcz9Kr5j1zOnBIrkcX4nuOtJjGHERQ2p/+hU/qoUFNv/o6l/ez+1mVny8AbVRKccXSP/z9fCWeV9QIeUY2qdZuVcKaP3D7LkuPia72NcU48UWzpjA18U/XE7TPl3HsKVDKl8HtVW5J6g8n58XLripedlSkhMRfOcOThw/hiNHjuKKXwB86r+JLp3ao7xbaYVBXurLbVkR/LklJeWEgBBQMwHVCf40ErGnjx/G1A8/xt3IBMUvsUH9+qhAJmbFiqTPCvOgxP53D0LuUxTj69i/dy8Ok4mbraML+r89iFbK34S1pbmauSORVh7+Xvc7VvzyC0Xmj6EZdXMlGn/6MJ1z0+2LlkD7Ln3Qu0szMsdPwemjB/HzL7/C1asaunbpQn6GjkpQmyw1ELBwMsHbTpkAfl25EnVbtsMkSoFUOGPA5QeH+LgYbNu0EZu2biWTytv0AFWYVh2KkD+jCZJoBYRcEuFcqjSqenogJjQYR/47A+86DTCwX184FrPPcrqnfeAHBTHpfxoldXzPD2UxFIRp16+TcfngatStUwcTJk5EzZo1lTga6mhl3lvBD6kStC/v3ArqiNdV8HM6wQsXLijB+7y8vODs7KysPLPZfqaYK6hOkfMKgZdBgB6KYqLCyIXjAvYfOIArFD8o1aAwBQSsR5YuDeDmUpIsLPIvVoUI/pfRyXIOISAE8puA6gR/JEVe/f7rhVj8w2q8PXw0BvTtQf5xxR43F8sgw75ctyi13CYSz5xWzrvWGxTIZRT5zLnyRLdqNzah8/e7hmvXrpJpIgcjzF3GAjMLG7iX9UDlim5KpNpQcn247u8HC5uicHNzg6WFmc7Z+USaILl14waJ+QA4FC9NEZy9Mv0JNZDY7M+f/BkvnL+Ac/Rz/8EDxTTTwcEJnpUrw5seOB3srRF6L5jiKdyFnYMj3Mu4w1LL91BT15NeRfA/iY66vhPBr67+yE1reCVvN2X+mDRpkhK9fcSIERgwYACZW6fk5nBVlnkdBT93BPcljxX8NzO7GbYqO0oaJQReMIGE2Gjs2b4Z68i9Mzg8Bg0bvYmmzZuhPFkgWpiZ6HzeeZFNEMH/ImlKXUJACBQUAdUJ/tsBV/HxBx/gZoQBpk37EHVrej/VD5BT+/hdPovPv5hJ0e4NyB9+PJo1qqP6yP1JSUmK3zc/zPFPbrZChQwpgI1R+ow2HZNKq/zp8QwMFR/GnFZ92LQumawnUsgkn03q2D9S14QIRwdmX1n2aeSsCGwfyNkQ2H+UgwqxqSObrqdQObYCMCK/vZzOmdP1iODPiYz69ovgV1+fPK1FIvifRki+FwJCQB8IpFJMiPMnjmPe/PkwtHJAuw7tUZviCzk6FkVhstJ6GZsI/pdBWc4hBIRAfhNQneC/dOY4xk+YDI+ab1KO9xEo7pA7c/H4mAjM/vIzHD59GV36DUOfzm1gThGCZVMfARH86uuTnFokgj8nMurdL4JfvX0jLRMCQiCXBGhBIzQ4EN9+swwXb4Ri4JDB8KnuRe6aZunxCDIWSQpxPAAdcRZyeZanFhPB/1REUkAICAE9IKA6wX/uv0PwnTQV9d9sj1HDh6CYvVWuMCbRKv/iBTOx68AJtOzUH4N6diBTc5NcHSuFXi4BEfwvl/fznE0E//PQK5hjRfAXDHc5qxAQAi+OwMNUSi94+hhmzpyDUh410a9PT8p2QL76WawhDWBNWRzsbCndIg9W+bCJ4M8HqFKlEBACL52A6gT/+dNH8R6t8HvVbYbxo3O/wp8QH4N5Mz/HgRPn0bH3EPTr8pas8L/02yl3JxTBnztOaiglgl8NvZC3NojgzxsvKS0EhID6CKQkxuO/w7uxaNFXSDSyRaUK5ZUMBNot5UwKlb190Pat5pRRKH8sOkXwaxOX90JACOgrAdUJ/htXL2DqlMmIMLTHR1OnwKdKxaf68HMe3cCbfvj8s2m4E5GIEWN80bJJPdX78OvrTfO87RbB/7wEX97xIvhfHusXdSYR/C+KpNQjBIRAQRFIpVhBN/0uY9++vbh1L1yJF5S9LQaFCqNylep4883GMDcunP3rF/JZBP8LwSiVCAEhUMAEVCf4Ix7cw9cLZuPrH9di7IQJ6N+nNxyL2FIKMEOdqDgv7N2gW9ixZSN+WLESZWm2dzzlhvcs757nPK86TyA7XzgBEfwvHGm+VSiCP9/Q5lvFIvjzDa1ULASEwEskwM8K/PeMX3PaOGhwXgMH51SXrv0i+HVRkX1CQAjoGwHVCf60tFScPLwXYyjSflBoHAYOGoI2rVtSrtUSsLCwyMwxz+XiKZo8i/3t/2zG72v/RCqZfQ0dPgrdO79FgV3M9a0vXpv2iuDXn64Wwa8/faVpqQh+DQl5FQJCQAg8HwER/M/HT44WAkJAHQRUJ/gZS1x0BH7+/nv8uOIX3CVTrpKuZVC9eg14VqqAIva2eJiajDDKEX/l8kVcuHAJtwKDYG5lh94DBqJnty5wKeEsq/vquL90tkIEv04sqtwpgl+V3fLERongfyIe+VIICAEhkGsCIvhzjUoKCgEhoGICqhT8LAhD793B7l3bsW793zh7/iKiomPIbKswrfKb4yGt7ickJFAu+DRYWFnD06sq3mzaFG1bt0IpEvuGhi8nP6uK+1XVTRPBr+ruydI4EfxZcOjFBxH8etFN0kghIAT0gIAIfj3oJGmiEBACTyWgSsGvaXVqSjIC/K7iyJGjuHjxMu6HhCAuIVHx57KwtEIxB0e4u5eFTy0flHN3h7mZpOHTsFPzqwh+NfdO1raJ4M/KQx8+ieDXh16SNgoBIaAPBETw60MvSRuFgBB4GoECE/wcgyU+PhYpKWkwNjaGqenTxXpkeBhi4uLJXN8AlpbWsLa2fNr1yfcqJCCCX4WdkkOTRPDnAEbFu0Xwq7hzpGlCQAjoFQER/HrVXdJYISAEciBQYII/KSkRB/buwq3gcHhXqYHq3hV0NjGZUrOkUpRWFvlGhQsrr5qCvE82/SMggl9/+kwEv/70laalIvg1JORVCAgBIfB8BETwPx8/OVoICAF1ECgwwR8dFYHPP5mCw6cC0H/QaLzTv61OInu2b8bxU+dRqXp9vFHPBxbmT7cE0FmR7FQNARH8qumKpzZEBP9TEamugAh+1XWJNEgICAE9JSCCX087TpotBIRAFgIFKvg//mA8Dp0MwMCh4zB8YIcsDdN8WDLvc6xZvxXNOw/GiEE9UMRWzPg1bPT1NbvgHzVqFNq0aQM7O7t8zaebn7zY2oStUbZu3Yrp02cgOskEzQcvQunKjZWMEU9II5yfzXruutMFfwh2rpiEywdXoV6dOpgwaRJ8fHxQmCxu9HXjvM3BwcFYsmQJNm7cCCsrK8yaNQu1atXS23tQ0xcs+Hft2oWJEyeSq5QpRo4cibfffpvcp1I0RfTulX+/YmNj8cMPP9Dv13S0a9cOM2bMgKenp95dizRYCAgB/SEggl9/+kpaKgSEQM4EClbwT30Ph0nwvz10LIa/rVvwL5g+Fb/+vhmtuw+D77t9UdTOKuerkW/0goC24I+Li8Pw4cPRsmVL2NjY6K3Y0gj+7du3Y86cuYhKNkLT/vNQqlKjjD6hoBV6uClCK+I+9qyciiuH/1CE/vjx4ylNZnW9F/z379/HsmXLsGXLFooHYo0vvvhCuS6eDNDnjQX/3r17MXXqVEXwDxs2DH369NF7wR8fH4+ff/6Zfr/miODX5xtU2i4E9IiACH496ixpqhAQAjkSUL3gXzjjwwzBPxTjhovgz7En9egLbcF/+/ZtFC9eHMWKFdNrAcnCmK8rNDQUAQE3kEL63t65IkwtbPWoZ3Q0lcJkpCUnIuzuNcRF3VeEsaurqzI5o6O03uzi/kpKSsKtW7eUPmNrhbJly+r9dWk6IDw8HFevXlUm0EqVKgVnZ2fl/tR8r2+v3F+pqam4c+cO/X4FiODXtw6U9goBPSUggl9PO06aLQSEQBYCIviz4JAPL4OARvCzybGfn5/yIP8yzivnEAJC4NUg0LZtW8ycOVNM+l+N7pSrEAKqJSCCX7VdIw0TAkIgDwRE8OcBlhR9MQRY8J85cwbr169HSEjIKyX42ZyafaV5NdLIyAiGhoZZMku8GIIvvxa+Jv5hc3deDdd3s3cNQe4njr3AK8jcX6/KdfF9yNfFG/cX34evysZ9Vq1aNXTu3FmxXHhVrkuuQwgIAfUREMGvvj6RFgkBIZB3AiL4885MjngBBDgAF5sdsyjhCYBXZdMWWhpxzGJSnzfuH80kBl/LqyIgNdfFfcbvNRM0+txXmrbzNbHLAvcXi33us1dl476ytLSEvb290mevynXJdQgBIaA+AiL41dcn0iIhIATyTkAEf96ZyREvgAA/tL+Km+a6WGjxe30X+9xHmmvi96/C9fB18Ka5rlepr9KvLP1fzf2nedX+Tt/fv0r3ob73hbRfCLzKBETwv8q9K9cmBF4fAnol+H3f7Sdp+V6fe1OuVAgIASEgBISAEBACBUZABH+BoZcTCwEh8AIJFLjgP3TCHwPeGaOk5WMzVO2NTVE5Ld9vf2xBq27vYOyw3iT4c07Lx6s+yn+F6F96L5sQEAJCQAgIASEgBISAEHgWAiL4n4WaHCMEhIDaCBSs4H/fF7uPXEKX7gPRv2cL8jlNycLHzNwC38z/HOs270KTdn3wdo92sLOxzFJG+wOLfHNzK9jY2cDczJTEv2xCQAgIASEgBISAEBACQiDvBETw552ZHCEEhID6CBSo4P9w8jhs2n4IlbxqoE5NT4psnnWF38jIGPt3bcWp85dRvnItKlMFFmbGOVI0pMBU7mUroH79+ihZ3FFW+XMkJV8IASEgBISAEBACQkAIPImACP4n0ZHvhIAQ0BcCBSb4Y6OjsHD+dGzcvB3xSakwppRYurbkpESk0ERAIcPCFJGZ0oHlYKrP7gAmJiao3aAxBg0cCE+PcjmW1XUe2ScEhIAQEAJCQAgIASEgBDQERPBrSMirEBAC+kygwAQ/C/ljRw7i8pXrSExOyYyYnR2m4pdPIp8jTWuiamcvw5/5O17hL+3ihurVa8DJoYis8OsCJfuEgBAQAkJACAgBISAEnkpABP9TEUkBISAE9IBAgQl+kuiIi41DYmISvct9ijZNML6cxD+7AZiamirWAHrAX5ooBISAEBACQkAICAEhoEICIvhV2CnSJCEgBPJMoAAFf57bSnMEaUhOSUWhQoXox5BW8J+hDjlECAgBISAEhIAQEAJCQAg8hYAI/qcAkq+FgBDQCwL6I/hJ7EeG3ceGzf/C1t4RPj414Chm+3pxk0kjhYAQEAJCQAgIASGgbwRE8Otbj0l7hYAQ0EVAfwR/WjICrp2hFH6DUKZyNUyZOAHVvDxhaFhI13XJPiEgBISAEBACQkAICAEh8MwERPA/Mzo5UAgIARUR0CPBnwK/KyfRom0PVKxaGx9+8AF8qnqJ4FfRzSRNEQJCQAgIASEgBITAq0JABP+r0pNyHULg9SYggv/17n+5eiEgBISAEBACQkAICAEdBETw64Aiu4SAENA7AiL49a7LpMFCQAgIASEgBISAEBAC+U1ABH9+E5b6hYAQeBkERPC/DMpyDiEgBISAEBACQkAICAG9IiCCX6+6SxorBIRADgT0UvB7VKmFj6ZOFR/+HDpVdgsBISAEhIAQEAJCQAg8HwER/M/HT44WAkJAHQT0R/A/TEag/2UMHTUBruUrY/jQd+BZsTwMC0mUfnXcStIKISAEhIAQEAJCQAi8OgRE8L86fSlXIgReZwL6I/iRhviYaJy9cAnmltYoXbo0rK0sYfA6955cuxAQAkJACAgBISAEhEC+EBDBny9YpVIhIAReMgE9EvzAw4cPkZqaCgNa1S9kYAAD+tHeIiPC8CA8Aja29rC3tXnse+2y8l4ICAEhIASEgBAQAkJACOREQAR/TmRkvxAQAvpEoMAEf1paGmJjY2FiYgpjY6PnYpaSlIiQ+3fxz9YtCI9JQrMWreHpUQ6GhmLu/1xg5WAhIASEgBAQAkJACLymBETwv6YdL5ctBF4xAgUm+BMTE7B39w7YO7jA28sDxkZ5F/1ptNqfmBiPyxfPY8P6dfjn351w96yKMePGoaZ3ZRQqlNUC4BXrO7kcISAEhIAQEAJCQAgIgXwiIII/n8BKtUJACLxUAgUm+KOjo7Bw3gw8iExG15490aB2zbxdOJn3R5EJ/6mTx7F61Ur8u3MXCpnYoGef/hg8cABcSznlrT4pLQSEgBAQAkJACAgBISAEMgiI4JdbQQgIgVeBwP8BAAD//6u6wTYAAEAASURBVOxdBWBWZRs96x4xRmwjRg4Yo7tTOqRLkZbuklYEJCVVFP0xUFBQEFREuiRGw8gBGxsr1sniP88d3/jGGB3f5nt1fHHrfc97v3vf88R5jFK44A0sMTFRWLNyEX7ctA1F3cphxPARqFapPIyeoi0pyUnwvnYF27f/jl3/7MKJ0+eQy9EJ3Xv0RIu3mqFkcVdYWpg/xZHUJgoBhYBCQCGgEFAIKAQUAgqBjAhs3LgRK1asQEBAAN5991106tQJJUqUyLih+kYhoBBQCBgwAkZvivAnJSXizMnj+Hbd/7Br32GUKV8JgwYNRvXKFTIl6ynJyUiIi8WZ057YuGED9uw7gMiYBJSrWBnNW7RA4wb1UCB/PpibmRow5KppCgGFgEJAIaAQUAgoBBQCho6AIvyGPkKqfQoBhcDTIPDGCL8EFoSHh+LIgX3Y8ONPOHnxMho0aY5e3buijFspWFlapGt/Mg0EkRHhOOPpie1//I7dew8hPtEIpd3d0aZtG9SsUQ0F8jnCwlx59tMBpz4oBBQCCgGFgEJAIaAQUAg8MwKK8D8zZGoHhYBCwAAReGOEX4dFRNhdnDh2BOvWrcOx015o0LgJenbvjiqVKsDM1ETb7F5CPIKD7uDArl34geFVl6/eQO58zmjarAXq1KqBihXKIYe9LYyNniYhQHdm9aoQUAgoBBQCCgGFgEJAIaAQeDQCivA/Ghf1rUJAIZC1EHjjhB9UEJB8/hP/HsKyFctx+sIVNGraEmNHj0KJooUgkQC+N6/hj61b8MP6n3DuynVUqlobnbt2QdPGjejVd4CFmVnWQl21ViGgEFAIKAQUAgoBhYBCwKARUITfoIdHNU4hoBB4SgTePOG/39CoyDD8uW0Lvlr7NfyDo9B3wGB0bN8K8VHh+HvHH/h54884f+Umyleuhg4dOqJV8yZwyp8Xyqn/lCOtNlMIKAQUAgoBhYBCQCGgEHhqBBThf2qo1IYKAYWAASNgMIRfMIqJjsCunX9gzZqvcTsoEm3btER4sB927dqDyLgUNGjYGL36vIsKZUszhN+aiv4qhN+Ary3VNIWAQkAhoBBQCCgEFAJZFgFF+LPs0KmGKwQUAnoIGBThl3ZFhIViz64dWLL0U9z08UFYRDScXIqiVes26NmjK0oWKwpzczMYGyuyrzeOWfJtYmIioqOjERkZiaSkpCzZh8warV/t0igbhaH8F/olY5pdxiy7jpdujGxsbJAzZ06YmKTqvWT2e1TfKwQUAgqB50FAEf7nQU3toxBQCBgaAgZH+AWg2Jho7NrxO1YsX4nDx8+jTeceGDFsMCq4l6aQn7GhYaja85wIhIbSuLNnDyM4drFiQ/hzHsXwdtORLN2rkMfsQCClP/Kn64vu1fBG4NlapBsn3auxcfa5x+j6JK/ZrV+WlpaoXbs2U7w6IEeOHM826GprhYBCQCHwFAgowv8UIKlNFAIKAYNHwCAJv6AWw9z9vX//gSVLViDGyBLd3umHLu1bIK9DToMHVTXwyQgIAfHz89OqM3zxxRcICgrSvHTZwVOXnJysRSxIH4UUS5+yA9mS/khUhvTP2Jh9Ms0eYpkpKRyvxHugNQOmpqbaWGUHY4buOpRXuQalb9lhkevw3r17sLa2RndWdJkyZQry5cuXHbqm+qAQUAgYGAKK8BvYgKjmKAQUAs+FwBsl/DIRlck2A2gzNF4m3AlxMdi57Tes+ep/CIxJRu/+g9CjfXPYcKL3qIh+mQgaGxnDiB66bBRFnQGb7PCFjJWvry+++uorrF69GnFxcXBxcYGTk1OWJ8eSpnDjxg0EBgZqRMTV1RVWVlZZftikXxcvXsTdu3dhk8sJjoXKwdjEPMv3KyEuEoHenkjka9FixbQxk1DxrLzI70tSZa5du6YZ0+R35ebmluVJvzwXYmJicPbsWY309+zZE7NmzUL+/Pmz8nCptisEFAIGioAi/AY6MKpZCgGFwDMh8MYIf0LCPZw4chBXb/poE7dHtVq8iFHhd3H4wD7sP3wcOfIWQMfOHVEgjwPMTB4KuxWyTw+Ws3NBeJT3gCO3MVas/1GwGsR3OsK/du1aiIff3t4eLVu2RJMmTajRYK6FjhtEQ5+xEdKv27dvY/Pmzdi3bx8aNGiAjh07ZgtC4u3tjVWrVuLMuXNw9WiOam3HwtwyaxNjsQyGB1zHgY0fIirIGz16dEOdOnVQsGDBZxx5w9pcrkMxOn333Xc4fPgwGjdujMGDB2te8awcvSCRCvL7Wrx4sWbMEA//zJkzs8Xvy7CuINUahYBCQBBQhF9dBwoBhUB2QOCNEf6oqEh8umA2Nm/ZgajY+MdiGRMVhRB6FRMp7OaYLz+sLC1SPfl6gQEywTUzt0Dd+o0waNAgeJR1o6dYb4PHnkGtfN0I6BP+NWvWwNHRkWSrBzp16gTJzZXoj6y4SL/Eq/r1119j+/btaNOmDQYOHKhFL2TF/ui3+fLly5g+bRoOHz0Kt5pd0OjdJbCwttPfJMu9F5tgiK8Xtq8egIg7Xhg+bKhmeCpGT39WXuQ69PLywtKlS7Fz507N6DRjxgxk9cgFIfxiyJgwYQLOnDmDbt26KcKflS9U1XaFgIEjoAi/gQ+Qap5CQCHwVAi8McIvwnzfrfsCu3YfRmx8whMbKxNYWTLzTsl6IfwVKlVF586dUKJYEeXhfyKqb24DGS8J6RcPv47wS3hudiH80i8d4RcDlKQrZPVFCP+0qVPTCH/jPkuzDeHftqp/GuFv1aoVsgvhX7JkiUb45XeVnQj/+PHjFeHP6jcU1X6FQBZAQBH+LDBIqokKAYXAExF4Y4RfBLJiYmOQQLKffJ/MP7G1T7GBGcPBreghzi4CVU/R5Sy5iSL8WW/YFOHPOmMmvy/x8CvCn3XGTLVUIaAQMDwEFOE3vDFRLVIIKASeHYE3R/ifva1qj2yEgCL8WW8wFeHPOmOmCH/WGSvVUoWAQsBwEVCE33DHRrVMIaAQeHoE3hjhlwlpZuH5T9/8p9tSziXL6zrf07Xqv72VIvxZb/wV4c86Y6YIf9YZK9VShYBCwHARUITfcMdGtUwhoBB4egTeCOFPYg3lyLC7CI2OR65cuajQbvuK8u1ZN/xeAvx8byORInCFixaHidLxe/qr4xVuqQj/KwT3FR1aEf5XBOwrOKwi/K8AVHVIhYBC4D+HgCL8/7khVx1WCGRLBN4I4Y+PicK186fx3eY/UaRESdSpVQulSrqSjAsbf3FGLg79lJQkhIYE4fi/R1ge7QByFSiMMaOH46FiftlyULNCpxThzwqjlL6NivCnx8OQPynCb8ijo9qmEFAIZBUEFOHPKiOl2qkQUAg8DoE3QvgTE+Jx68oFzFu4GOcue6NUuYpo37olyrmXRaGCLjA1eX5anpKchODAQFy67IWDB/bhjz/+hLFFDnTt1hOD+vd+HBZq3WtEQBH+1wj2SzqVIvwvCcjXcBhF+F8DyOoUCgGFQLZHQBH+bD/EqoMKgf8EAm+E8AuySUmJuHrpAnb8+adGyr19/VG0RClUrFgJFSuUh4eHB/Llc4S9re0TByI2OgohwUEQQnL69CmcOX0a5y5cRGKKGeo3boy2rdugSuUKPJb1E4+lNng9CCjC/3pwfplnUYT/ZaL5ao+lCP+rxVcdXSGgEPhvIKAI/39jnFUvFQLZHYE3RvgF2KTERIbdB+KU5wn89fffOHLkX/j4BSBP3gJwdy+DwoULk/TnQ968eZnnbwcLMzMYGxsjmfn49xglEBUZgdCwMPjf9sPt27fhdekSfP39YWxigYqVq6BB/QZo2LA+CjkXgLmF+UtIFsjul8Pr658i/K8P65d1JkX4XxaSr/44ivC/eozVGRQCCoHsj4Ai/Nl/jFUPFQL/BQTeKOEXgFNI3mOio+HrcxPHjv2LAwcO4MLFywgMDmYefgrMTM1gmyMn7OxsYWFuDhMd4Y+PR2RkJKJjohHP98kpRrC1t0eRosVQvlJlNKxXH6VKFEOunPY8hul/YSyzVB8V4c9Sw6U1VhH+rDNmivBnnbFSLX09CNyjg0GcDEacQ8g8wtSE84IXlwx6PY1XZ3ljCCjC/8agVydWCCgEXiICb5zwa32hyJ6E+EdGhOEOPfTXrl3DxYteWh7+9WvX4RcQhJiYGM0AIKX1ZDJrZGQMK2tr5HbIDVfXotqfW+nSKFasGAq6OMMhd25YildfEwJ8iYj9Bw8leMufsWD5kvCU4/n6+mLt2rVYs2YNHB0d0bNnT3Tq1AmWlpZaFEdWhFr6Jdev9Gv79u1o06YNBg0aBBcXl6zYnXRtVoQ/HRwG/UGuQy8vLyxZsgQ7d+7UflczZsyAjY2NQbf7SY0zMTHBjRs3MH78eJw5cwbdunXDzJkzkT9//iftqta/cgT4nNAxaF5/j1pe+/OY7UhOoVOBjgGv8+fhw2hAE3MrlCrjjmKFX0wv6FH9U99lPwQU4c9+Y6p6pBD4LyJgGIRfD3nx+CcwXD88PJzh/iG4e5fl+/g+moQ/Pv4eIwKSYMRJnzm9/TYk/DZ2dsidy4Hl/XIiZ84cJItW9Oib6B0xK78Vov2g/Tpjh5Du1+mYSCbmcXGMokhKZmqEBczMTF/YkKII/4NxzSrvFOHPKiMlVUoU4c86o5VNWkpinZSYjNi4OCSwHK7+Iql4FhaWsKIxVzMLaA+w1/AUY7WeIH8ffPnll/hn937cDQtHHlbs6T9sPNo0rgErCxX9pz9O6n1GBBThz4iJ+kYhoBDIeggYHOHXh1Amrbq/pMQkWuoT6fmFlscvEwjx9ggJTvUayKv+3ln7fVxsDG773NK8xbfplQiPimZ/zZE3f14ULVocpUqVgB0NHkbGr77TYSEB+P3XrfAJCkeDZs1Q0d0NluZmLwSwIvwvBN8b2VkR/jcC+3OdVBH+54JN7fQiCKQk4Ma1y9i0eSs8T50j6b+XZhiWiDxzEn7HfPlRuXJV1KldEy5O+fksf7XPr4jQEHz/zWosWLwabhVroFGDunByckH5KjVQ0tUZZiav9vwvAqfa1zAQUITfMMZBtUIhoBB4MQQMmvBn7Fqqx/u1hwVmbMgr/eZucCBOHD+qiRheYUpDeEQUox4SaPwwopaBHfI7OaMCdQrq1KmNIoWcKGZo/krbc8f3BpYvXoLzNwPw7sCBaFavNmysLF7onIrwvxB8b2RnRfjfCOzPdVJF+J8LNoPbScbxHomzCNVKVJsYug12SY7D6ROHsXDJSpw6d4XkPh8s7kfbSfslrD4mNh4uBQujSbO30KVzF+TLk+OVdsfH+wqmT5mAzX8fxcQpU9G1YxvkymEPSytrpvwxUu2Vnl0dPDsgoAh/dhhF1QeFgEIgixH+7D9g8ZwUbfntZ6z/cQOu3/SDs0shVisoBDtbG8THxSAwMIBe/+uITQTav90RPbt3Q9EiBempeHVpDP6+17F43nycvRGAvu8PQctG9WGrCP8jL0aZoKsc/kdCY5BfSlRQiK8Xtq3qj4g7Xhg+bChatWqlaYEYZIOfslGK8D8lUAa8mYxhRESEVm5W9E5En0a0TnJTn0bIvywGZfwm4T917ADmL1qBJFM7tGrfHg42ViTVzKNnWtjdoEDqSlykMfsYQqPvYczE6WjbojGNx6/OYH3x1DEMHzkKt2LssGT+LDSqXSktOi07RQQa8GWc5ZumCH+WH0LVAYWAQoAIKMJvQJdBclISrnmdw7SpH+DYWS/Urt8YnTq+jRJFizD30QKJifcQeOcODuzfg6+//hrmto4YOnocOrVtjtw57F5ZTxThf3poFeF/eqwMYUtF+A1hFJ6+Df8l0T65l9y6dQs//vgjNmzYAA8PD5QpUwb16tWDs7MzbG1tNRFGM5arNYiFhP/k0QNYuHQ18rmWwZARI+GUyw7GGuFP5vMrERJi/9ef27BgwRJUrt8Sc2ZOQZGCBV5Z808fPYxho0YDOctj3ofjUL1CMarzG3CUxCtDQh34eRFQhP95kVP7KQQUAoaEgCL8BjQaCQlx+Gf7VoydMAm5nYtiFCcqzZs2hK21VVorExnaf/XKeXy6cC627DiCdt37YNSwQShR2PmxGgYihpjMCaR4hDILCxUvTHJy6jb62ynCnwb/E98owv9EiAxqA0X4DWo4ntiY/xLhlzB4iRZatWoVli5dCgcHBxQsWBDVq1enhksp7a80K9OI1188/kL836jH/z7hX/TpZ3AqXg4jx45DgZw2JPzpl1P/HsLwIQORZOuEz1evQLkyJdNtkMTnEG0Ej31WpdtB74NgJvdg3fPrjEb4x8DMsSqNC2NQxaNQpoRf9pPnpOjk6vbXO/QT3+rOLc/XzMZBziHbPfr4KaxWRJEiLqJ58DT6BlqbKZbIw2rHlONmdu6HO6Bri3xvbCx6SA9vkclnniyJfZDl0f14aD8Rc+S84qm3f2j3N/1REf6XNwJJdGrJ8rjfyMs7mzqSQkAhoI+AIvz6aLzR98xxjArHl198hnmLP8OAoaMwfHA/5Mlln6FVSQkx2LtjCwYNn4zSVepj4uSJqFnBTZsgCGmXfH8h9yasM2xmaopYVjgIDg5CbGwccjo4Ip9jnnQP93tUVA4PDcNdel9imWNpxP3sqRWQhxNJaysrBPh5q5D+DKPw6C9kEqVC+h+NjSF+qwi/IY5K5m36LxL+zz77DIsXL04HSt68eTVvf4UKFeDu7q6Rfwn5F6OAKe/5mRl10x3kZX94iPCPGDOWHn7bDIT/nOcxjBnSH6Gww5drvkD5cmU0kp5ErYKw8DCEhoZS8C9Rqwgj/RHdGunTw3xUnnNSEcDMzILrjREZHorQu+FIIBe1z5ET9kwnOH30ICZ+MBWmDhUxdeIQVCjjQgO6DUv6WqYR42SWBI6hSG5UZARTKCJxLymF+f1WrPrDY9jb8thiSEkPViKfmZGRUTClfo6lpTmioyL5jL2LOLYpb958rByUUyP28fHxsOAzVLQBoyIjcTeE2/A7cwspKZxLe84aM+IgKTGBVYmCWUUggpEQKbBln6XvNnrt1G+BGA1imf4XxTaEs9337iXBghUQ7GztkEOqFbEksf4iRCsmOgpJKcbcxprpgbEazuFMGQHJfs6cudlm2S9zbR45p4gJh3GeEBkdg0TBiVWRxOBka2Od4ZqT7UW3IYzjGcG+0zwAa0al5MqZS0tRfCPXqD4oT/leEf6nBOoxm93j7yKc10Ewq24lcY4kOh72djYZftOPOYRapRBQCLwgAorwvyCAL2/3JESHBeF/rN++futeDB81hvmNjdLyDdOfJwnnThxE9659UdCjFiZOmoA6VcrChIrHEaHB8PT0REBoNAo4F0QRp9w4sG8fzp27gAQ+oBs0fgvN32oCzo+kdhcnDGHwPHEcR48eh4+PL6JiYmHMCU7u3A4o6VYa1apVgznisWblSpyjaJ/K4U8/Eg9/UoT/YUQM+7Mi/IY9Pg+37r9G+K9fvw4h/IsWLXoYCu2zeFjF61+5cmUI+Zewfzc3NyrRO2kh/6+VVKUj/B708I/N4OFPTk7E3p1/YOyoscjtWg7LlyxA6ZJFEREWoj2HTpw4idtMWxMCa2ZuiSKurqhYqQrKuZdFDvsHBCGZ6QFXLl/EoaNn4FTIDXYW8ThBcu996zZMrHPCtWRZpEQF4go1A7Zs3QYjG2e0bFYHzvlzo5JWJaAWjdkWuBcfy4i5Szh+/Dhu+fggOCSMhD8ZVhT1c3YpCHePCqhY3oNk2I7k5AHr97l+FVt/2YwcTiVRqkQBeB4/Aq/LVxFNcZ121NapVaMqwoL92T5PeFSoCCTfg+exo7h44RK3iYWljR1KliqNhqwakIdE+/yZkzh46BACAkMQT2OHrb093MtXQn2mbxTI68Bn+4M4iXssW3zrxjUcPXYMN27e0gwN90jozWmkyJvPCVWqVEGVyuVhT3KtW+4G3cGObdsREmuBBvUqwOvcKVzwuoTAoFDN2JLPuRBq1qzBdlchLta63VJfOU9I5Dl9ic+RI4dw+coV3A2P1Ai/tZUN5wllULt2LRRj6qG5WaqWkJRP9iZGB/YfwFVew6EshyhWE3v7nCjBftepXRsuLs6c3xh+WcSsRPi1SE4aWsTho1u0iA9ib0LDjjzvXvcSR0PThbOnsIfXwvUbvkiGKQYOHQIPRvY8uKpfd6vU+RQC/z0EFOE3lDFn2Ft8TCSOUdDo3GUf1OWDvlTxogw/zHiHToyPxq4/NmPEmOnwqP0WJkwYg0pli2se/ptXLmD1yhU4fMEHpUp7wL1wDny//id6DiLhRAHAd/oOwDu9usLMKAUhd/yxf+9ufPfjDzhNVWU7ekVy0TsgOZcxMawMkGSE6nXqojxvzId37YRfeBz6UbSvhRLty/SqUYQ/U2gMcoVMgJRon0EOzSMbpQh/RlgEEwnnt2aZVvHy16pVC5UqVULx4sW1XH+JBrCil/mVL7oc/iWrkcu5GAYMeR/5qS0jzxMhgDGMNPO9dR3btvyKnzb9gc7vDaWnvy9szJLx9x9b8dMvv+KGTwBy5c5JD7AtIujtDwuPQCn3CuhIRf+GdWuxFK2l1o178XHYzuPM/mQFSrjXgZ1JKC5fOgdTes7zFywKl6JuuHZ6P26REF++cg0wt0Mxitva21igbcfOeO+dnprw7MljR/Dzxo04ePgYwMi2nBREtCCWkeLtj4pCPhdXdCCBb92iKXVy7GGsMaYU/LvrLwzs0ROWhaqSXLvy3BeRxDD8lGQz9Bs0CM2bNcAFzyP4cO5i1GvcCEmMCDh96jTi4xNgYW6Cu3eDub0lWrZug1IsD/j7b5vh7RsAh1y5aOxIgJ/vTcDCDu/0G4DeXTqxssAD8u7jzdKHv2zEHzv30nhwj89se7bZlHiFIjImHq6lyqJXz16oW6sm+5iq73Dt4mmMGTgAZ2+boWOHWrh61Ut7vlswFSQsJBBBjC4oW6Ea0whHMeKiLKwsdLoQnAsweuEmyfvmn3/B9r93IYXEUXCyJLmPighHWFQ8mrVojV69elBvqJCG0SUSvJ9++gl/794LY3ML5KZX38goGWH08KawvHC9Rm+hdeuWnFu4pRkJXvn1+ZwnyCqEX8h+UIA/RT4vISwyRuutzEeE8AvZt+Q9IBejRvKzeobM8yweE83xnFBl2C2JulPnT3vi85XLcfDEWeTOkw9WNHZNnzkD1Sp56JnQMuyqvlAIKAReMgKK8L9kQF/kcHJzljA4Mc5K/p7k8elbZKU8k4Qdnj95HCuWLMLZW8HoM2AY3unRAfkYHijLda8zWLLoE2zd68lwQytOuMw5ASpGoac6KF6sqOb9cS1SCOHBd/Dtl1/im+9+QAzD/Np2lAlVXRRyceIELRmB/j7Yv2cvduz6B3Ek/pF8UDsVd8OgocPQomE9pdKfyUArwp8JMAb6tSL8BjowmTTrv0j4V69enSGkPxN4tK8ln1/C4MXLX7JkSTRu3FgL/5fPEiYuYn+vJN+fhP/UsYOYt+BTXL8dDLfSZWFjyXB4tiqFHujI6Ejc8fOldzgGlavWwaTJ41HIOQ8+X/Qx1v20GfkKl0H37l1QqYIHvdPWDAEOxt7du7Bp868wtc2D9wYPR7O61ZDD1oqe+Tj8tvlnDB05jkTdmpFoNdGtW0d4uJeEnX0OmhhMEMPotbMn/sUni5ZQtK8Mhg3qCfcSTsiXPy/yMFz/wukjmD9/MW4GhKPhWy1Qu2Z1uLuV0MhuMCsKHD18AFt+/Q3Xbgeh/7Cx6NWlHRxpjBDf6b+7tqJ/5w64EWsLj8rVMGhQP1SuWI4GekbH5XFATkYjHN63k5F64xERHY/yFauhHasW1KxeiSkFljz3cXz91Vc4dfEKcjvmhSM1e4YM6ItSxYowGiCR596HT5csRliiBZas+AL1qnmkecOvep3Ctu1/w9jSnuNbip71wlqbA/x9cejAXmz6dSts8hRnxZEhaNagmnZNXD7riRF9u+Afz9soXb4y+g/sh/q1qyFP7lwIZSTCb5t+xPqft6Nhi854f2AflC5RWCOKUjXo4L5d+HXzL/h733HUatAEXTq2Z2WgwrDm2N7lPOLHH75FSFQyuvbojVpVyyMixB8TxozD2Su30KxVOxo/GkHmHEASfG5cx/Zt22g42I2a9ZpgGNtYvJALUw8N19ebVQh/EqNe/vlrCxZ+Mg9+IbFaNQ9TU4m4MIKkrYg+kyXTWUqVdkcNRnM0a9IYjg45tevjVfyTQidWGA1J69auwYIVa9GqUzcM69eb9yZrppU6vh4j5KvomDqmQiCLIpBlCb8QY8lLk1fNgknrvEk2VN+VnPwoehqE7IcGB+P4v4fx22+/Yu/Bo6jVrA0mjh2JCu5uaWX5rnudxdLF87Bx207cSzFHg/pvYfz4kXArUYTlj6yYrkcxIBoSDu7cjo8+nINztwLRf9D76N+nl5bbr1MwTuEDQiZnv/78A776+ntcun4TVeo2wJDho0j46yrCn8kPXhH+TIAx0K8V4TfQgcmkWc9K+HVGVHlWyPvMlset099Ht508c3Tv9dc/zfun3U+ebd7e3viShtlly5Y9zaEzbCNevDx58mhh/+XKlUNdGnUl9L9QoULMv7ZMy/fXwn4z7P2MX+gI/ydL8O+piySy9OaRcMhvTELSre3sGcZdCJWrVGWoel24MZQ/xN+bRL0nguLMMH7CRLRt3gh2zL3XLSEMRf8f8/zXfL0BblVq4+PZk0hGXXGPArdbSUIHDBlB67gpFi5Zha6d2pCEps9dP3P0iKbSb5KnKubOHo2qHkXYFiM+227ho0mjsOOgJ9p264v+/d9DEecCaaRazh8aEoA9O//C5CnTYJWnED5btQLVGSovV9HR3b+jf6f2CDDNiwHDxmD8qKHIafeg3Skk7ft37eC5x8E/NBED+vejUGE/FMiXR+taaHAg1q5cglVrvoKlQ2FM+2g+2jevr3nNZYMwnnvl0kWYt2odRk35CMP6dKZRP4e2bwLTEMIYUm/O8bOxsUl79icw7P7C2ZNYtXwxjnh6YfCwURgysK+2z5VznhjZryv+PHoVH8xZikH9esEln4O2Tv45efww5wkTEZdih6lTJ6Fpw9rafMrfx5vpfMuwect2FPWohg/nfIQShVgG2OwBQfdhekE0tX/yOxXU2v/XxrWYMmcJGrXthhFDBqOYq8v9yAjJIkzG+VPHsXDBAtwMScC7A4aideNacKC44+OuQZn/JFD7QHOI3G+1Oa9tc0ZjvOq0laxC+KWK0/bffsLUD6agYIkqaN2qOdNgbLX7lFwzAf5+OHz4EC5dvYkChWhgYrRm5w6ttOtZjHIve5GqU/63vLFy+VL8vv8kZs6Zj7eZVqMWhYBC4M0gYPCEX0IBEzlRM+VDXSYOqUsKPdB+DF3yYihaOPPhbBnKWAKFmctoYWH4OWG6Xjz5NYUk3w8fTJiCc5ck9y8OIcEhiIqOg0eN2pgxbRqqV6TlPy38Tjz8JPyLqOD/9z44FS5NQb9paNW0bobUgCVzZ9BzsAbu1Rti4bwPUYaTr0ctvjeuYumC+QzB3IJi5atiKEstKQ//o5BK/U4m80q0L3N8DG2N3FNUSL+hjUrm7XlWwi9h5PJ7lFx4KQunI+ryO9X/kzPqPmuk4r5xQP873TbyKtvoXmUbWeRVt69uv4e/133Wrddtrzue7hiynRgp7jKySvLLDx48KF+90CKefSH/+RjSW7FiRTRo0ABiBJA0gJcS3psW0r8KZjkLoEfvXnCkN0+jhvyhmVPgzoZtyM1wcBF5S4yPwZ7ffkD/kZPQrvcgTJkwHvnypPc4CkHct2MbZs+aheBY4PPPP0eNapVJ+OOxhR7+wSPGw56EecP6r1C5fJkM+JymgXz46DEwzVMFc2eNRZXyhTXCf46ks32Ht2Fklw9zP/5YMzSYa95QvUPw3AEMrV82fxZ+2LYXC5atRvs2zZmBTA8/CX9ferqNnMvikyXL0LJJfb0deS3cJ/yjJ34Ap5J10LdPN7RsVF0LvZcNY6Ii8Psv32LxpyuQ07k0vqBOQyHnvGnHkBSAjevXodegsegxYDRmTxpCPZ4H63UbJlB8L4DRCCEUA0yIi4f/bR+mOvyCoyfP4p3+QzB6xFBtUyH8o/p3w+7Tt+hd34N6tWuQhOuOAty+eQ0zx4/Gyav+mDx9Btq2bq4J/p48dhjz583D8bPX0XfIUEwZNfjBTo94J+kB/Tq1xcGzN7B8zVq83a6Fhrf+plHhd2mU+BRffr8NDZu3w6gh7zCygakA+g3S34GU9OC+3dixYyd1FnwRR40D+xy5UKNWHTRu2AAFaah5MDdMt+NL+ZCVCP8fWzZixoxpaNyyB0aPHMbfe6779yQRXIzFxfOn8f3/vsHhY6dQqW4LTKJxwDW/PUUl9S6Gl4Ia7180QNy+cQXLl36Ko16+WLB4Cap5pK/I8ZJOpQ6jEFAIPAUCBkn45SEffMeP+eV7sHXbHyhfoy66du2C/Hlya7mAp44dotf5a5w4eYbkN5ah6xbIX8AJPfv0xVuNGzLsTvLFnqL3WWCT8Lv+mDRmEi5evUpBvVS1/WCqnTo4OqNb917o1/cdFKG3xvy+xV0I/5KFH2PXwZOoXKM+Pp43F855BY/7gBDb2LBg5uqNwJ8HTmHIyIkY0q87vSqpuZEPQyKhk3/89jOWLlsO2OWl12AEJy4qpP9hnHSfZcKuCL8ODcN/lZ+FIvyGP066Fj4r4ffz88M333wDmbSLqnvafZAH1JFu3bHls2551Dr99Q9vpzMkyPe6ffW313+vv69ue/3vdORfvhMjRSwn6hLl9TIXe4rCSbh/+fLl0Z6h5k2bNn1x0n+f8EtZPpeS5TFq3Hjkt3v0c0X6Ehl2F2sWT8e8pV/CoWBx5n8XhZEe6RNMBQshkVcuX0YuxwJYw2iH2sxN1wj/po0YOWkWXN1rYc3S2XArXjgDRPqE/+NZUpZPCD9w5OA+dOr+DtyrtcDMD0ajWoWS/F4zTTw4Bq+HuJgI7PljE0ZPnYchkz7Eez06wdbcOI3wWxevguWrPkONKhUe7Md3OsI/fuosNO7YDx3btkJ5phOY3u9fTHQEdm7/GUuWrUBe14pYsXgBHDm/0S1JSfewacOP6NZ3KP9GYM6U4YxAyKetjo+NxpmTnti+/U94XblE0b5QTflc0jTu0QAgedyJRmYYPHQ4Rg57X9tHCP+Ygd2x//wd7NxzAFWYfqC/BN6+iQWzP8D+k5cwjk6Cdm1aaoR/3+6/sWDRYgRSzH/sxGno3LJmut+Q/jHkvb/PdRoT6uKGXzCqVK2sKfjrph6yXsZUNApuMnLl+s07aN3ubUykBlFFj9KP9NSL4ePw/n+YJrIYJlZ5qE9RHTmszSm0eBHHT5xCnaYd0KdXNxQrTNKvd+3IuV7WkuUI//TpeKtdL4wbM4opPOkNaDFMCd2+5Wf88ONGBCZYM3plKprXKf9KomOTSfh9SfiXLV2K45f8sIgpKpWZcqMWhYBC4M0gYHiEnw/ZoAA/fEaRD8lFuxMQhB79BmHEiOFwccyN0MDb+GTeHGz5aw9MmcPmxBC5BIrYed+4AdcSZTCIVug2zd9inlzm5WXeDNTPd9ZEhi5evnRVKxsUK9Z8GkIkrH/L1t8Rm2SOt7v2xID3eqMkJzsiKJRK+OfhwPErqNu4OebOmaqFOersH5LL5XP1HEYMHwnfKGPMnDkTzRvVzTyHjgaCs57/YuHChbgdkYiBQ4Ypwv+YoZSJvSL8jwHIwFbJZFQRfgMblMc051kJv6+vr6Zy/8MPP2iEXxf+K8RDFt2r7v3Dn7WN9LbTrdd/ld+8/mfdsfT3fdR6+U7ao1sn26e2T/RbUveWUOagoCD4+/vrDvfcr3IeEe8TD3vZsmU1cb/SpUtrAn8S4i+E8YUWPcLvVLwcRWUfXZZPdw6pKPPpxxOxeOU3KFyqPEqWKMFINJH4y7iIIJkTVfMHURCvVMkSWkj/Fob0j5/2MYVrm2DRrAkoVsg5w46ZEf5D+/agW+++qNqgI6aMH4qKZVxJenRPyQeHuce5xZG9f2HQqA/QlyK5A3t3gb2FSRrht3erjhUk/JUrpCfQqYSf6QAzPkLHfiPRunlTFCtAtf37p4ihnsE/f/yMxctWIT8J/6eL5iFvZoS/Hwn/5FTCL6l227dtwddff0P1+1vIkzc/3Bml4eLCqgzW1oiJCMPxIwfhde0GPfyDMWr4EK0zOsJ/6FIQ/tmzDxXKuT/oJN8F3/HFkrkzsevoeYydMDmN8O9lSsOiJZ8iLMEC4yfPQOuG5dNdr+kOwg9C8GrUaYDAkGhqIlSlQBxLAPP7R44pdRaq16hFg1MbOi1cHnFcCgsH+pEwLqYegB/TLgahAg0DlozivBsUgO/XrMDxK3e0tI4WjWUOk1oh4OE2vejnrEr4x44eqXn49fsfz7KKB3fvwLff/4CzvlHU0ZiCDk1qUq/ShGNEAxeNi5EsTSmGRjMLS0bisISl1aOMdpJSmzqquntqTHQ0IinwSMsLdULsNMOan/cVhvQvx4lLtzFv4QIa1lJLcIpxTf++l8x5ZjRLN0azSpTcT6XUpg2jgB597tQeJfLeKDdKYwoSMsGKRtFICoPGwZQikTkocmnK7xMZJSXnkeeG3EsjQhkJw3abUefExpZ9Y1qILOJkjGeJz2hqVsTHJ2qpTvbU+RAxTP12pp459V9JWYigaKWUBkUKI5h4bxWxUXPu8/AifZLtBTHtns9XKY0ZxrKYKdzXir9dG0YqP0nLQgydYvyNZTSPaHxJSo+VpPWIsUv30NA7ufRLyndGREZrlRuk7KYNx8bC/AXv9XrnUG+zDgIGR/gl1+hPepQnTJkO69xOaNGiOVq1eAvlKeRjxJvQX5u/x0KK2FjkcMa7776DMm7FEB91F7sY9rf1z92oUqcpRjGUqSTVYjM+vrPOwOi3VG4W8idLUmISgvkQ/I259YuXfw6b3C4YPnI0ujN/0Yr5i6mifQtw5OxtNGzWCnNmjGaO3wPPhYRZeZ3+lwaUkQAxFMJfu2rFtBw7/fPq3vt4X8LC+QtwwTcYA94fQsJfX+Xw68B56FXGSRH+h0Ax4I/yjFSE34AH6KGmPSvhj+Yk9Pz587jElCiZxOoItkzidH+6Cavus+5Vt600QX8b/c8Pb6PbN7NX2VfW6V5173Wf9V/llu/P1LXNmzdj/fr12j7P849MCiWUX0i9ePQlh1/K+MlnWScif/rteJ5zaPs8I+GPjQrHhq+WYuKsT/B27yHo+25PLec4s+e2tFMqDoj2gESebfn1F0yYMQeV6jfHJ1PHwbWgU4amP4rwi5f92L8H0aFTD7iUqsxQ/ymoW6MSJ/npCaNMlsPvBmHzD19i7rKvMWHWfCrmvw0LU6M0wp/jPuGv9BjC33XgGBL+JijCSDudE/q5CD9D+sMDfTB7zhz8c+CE5h1v2Kgh3EsVR05WEJAxlBS8bz5fhe279qNX30GZEP79JPxl02ElhH/pvFkk/GcxZvyUNMJ/eP8efLJgIUUYwzB87AT07d7msXOFIB6nRaNGuOIfRUPBQlYKqJIxckI7c+rvT0hODhIrmbs8vAj+3vTkL1u+Am7lq/P66K0RIumnpLtcP3cQH8xcgMZtu6NPz86vjMRkF8Ivc5O7Qf745ccf8PNvW2GcsyA9/B+gDqNbYlk679SpkzjpeYKGpBsaobSh5kaJklKauSrKlC7FMbJIm1NLOUvPE8cQGhkHF2cnpqiEsWTjv/C6dI1aHXaaEVF0Nm5eu4J9e/bgVkAY2nd8m5WnXFHczZ3pN+U08cp79+IRHBCAkydP4PTp0/C7E6SVxRRSWrhIUdSpUxuFeZ+yIznXJ9JhrHIhjq+wyEQULuaKqLt+OHDwEHwosFm9XmN0aNsSVsb38M+uvbDO4QAX/nbOnvLE0X+PIZzPBFv73KjAe2D1KpVZGcMely+ex7kzZ3DlujfCWeFA9DHKlquglY8sUtiF+lcPjB6ilXH9ymVcuHAep7hPyN1QkvkU2OdyQBn3cqhatSpcacASvHRLHKNyDuzegxBWuiparCjvXxFM1TqGa963EBd/j/oXzpq2SXWmK+VzTNX50O0rr1GsWCJlLk+fOY2LXpcpfBpBu4oJ8ud3Rpmy7nT4FWNqlitsrFN1RGSeH0bjxlluLylhN338cI/PP0mFKUUx1aqMvinBKmCWL+ver99Y9d5gETA4wh9AMZ15H87Ar/94YtaHH+LtNs20ernivQ6mVXfamOE4eOoS+g0dgR5dO8GBD7rkpATmCl3FjNkfITA8ESPHjEajujXSEV2DHYH7DZObsYS6pdYfNktVUX5Mo/19b2DG5LHYdeg0OvXsR1XcYSx9Y3ef8C/Cv1530OitVvho8jDNa6I7lNwILpw8QsI/Aqa5C2EWcyNrUIhI8M1s8bt5FYvmf6IJ/ElZPkX4M0NKLMWK8GeOjuGtkcteEX7DG5fMWvSshF+OI79J+XvR5aWQ4mdohISzi2jfZ8zvXrRo0TPsCY0US86+hO5Xr15dC9kXku/qykkhSb705aX35xkJf0piAq6cPIiu7/aHS9lamD51Ciq6l0r3vBKv2N27IfS8xWtlY+3tbLT1L0T4aQAXItmrazf4hsRg7OSp6Nm1A0uVsYSg3nNQPHCXz5/EB+NG4+LtCKz8Yg2aNaijeelEtE9y+F8X4f+YHv5CjBDwuXAU02bPQYK1E9PyRqN8WTcK5aUa9JPpwTx75gSWLJAIvzNahYCHQ/pTPfxPQfhZMs+MnsqrF89iEaP7du49gmZt38bHsz5gBYX0AnvxcTF0RKRoHs44pios+WAUvtz0J94fNw0D+7yD3Lns0q5d8SIn0FgTwjSEZKo75GZ1IfGy6sH+YFvqN4WGBOLkqVPI51wYZcuUSSOcImZ89uhOfLzwczR/uwd6dG5Hb+yr8VpmNcI/fcZ0Rnd2wCBWYshDfOXeJ3jFE/cTjP74/vvvcM03CO06M+x/7CggNhx76DBbvHQ5/ILDWXIxF6tM2GmEMTIqGvkKumLStJmoV9VDE36WAYqJuIsF8+fi2OkrKJDfgXPzO4yy9aUXGShA8lqpsgeNB6dwnamoYWGhWvnI/AXyUz8kP1rS0Dagd3eKUNrjxhUvfP7ZCmyhyHSykQmvlVwsH2jBc4cinJEGJctVRsu2rPTQuB4K07Cgc15du3QeC2ZOxdFzPqhA0n798ikEhFLI0swSXXq/h0F9eyMlhg6qQZz/ssKHQw5LGhTOafc8K1aXCAoOhpmVPeo2aoKyjI79a/tWGjpusrSprVY2MzgkWBPGbNKiHVMjRrN6R7G069KPQpazZ81gKc8TbLOxVubQyCgJQYEBuJdshFqNWmL00MHpymqLoWXKiPdx+KQ3yrG9d4Nvwz8wmCkXeRAZGqK1xy4XK5EMHIIRg967f3/ms4vPAEnh2f7zeqzfuBnnr96ACUm6I40CiffitDKXRqbWKF+5Ovs6EHWrVeB4J8Pvljd+/fF7rNuwCaFRcfydsToLq4MEBwfRmJOAUuUqYcy4CUyxKJVOJDWtk+pNtkTA4Aj/FdaLnTh2HGxdyuODKaNQqojLfeBT4OdzA71YeueehaMWitSsfm2G5qSGz8hDZ/H82Thw7Bw69BqAnh1a8EGS0WpsqKMYx1CrG9cpLkWLX3HW0S1WLFVcKLP2RoaF4KuVi7D2h19YSqcDpkyk4JGjw1MQ/kRcOpPq4U+yLYDZs2c90cPvffkMPpm/EFfvhDN8bqgi/JkNCr9XhP8x4BjgKkX4DXBQHtOk5yH8jzmcQa/SEX4py/e0hF+831KSz83NDfXr19dK8onHSUT5BLuXTvL1EXxGwi+7xsVGYUCv3vjtrz14l5PzEUMHaN44U7ZVSEqg/2388tN6nLhwHS3e7o3mDaojdw7rF/Pwk/BHkbD8teFrLP78O+QpXAr9+rGsHqMIHR1ya+QzkZ7Ha8yP3/zLT/hs7XpUqtMaC+ZMghufy2I6ejOEPw/8r57EtFkfISDWAkOHj0BVivbmoP6OGEYCbt9imsB2LF21GsHR9zB+3Ljn9/DfJ/yR1PvZ+st6bNj4M/zCk1l1gFV6GjdkJIadhpOc98TBPfAPjkD56rVIyvLD/9pp9O43BPFGuTFqzEg0a1iTHlprbXsRGbxw5hTWsRywZa4CeOfdPppgn5ku10H/epL3JKtJSTQNcMzkXLGcJyUkMDSb7Zo7aypCkmxZ2m+4RnReVZUmHeGXtJp3330XHTp00PQv5Pf5LL8n3bYSFaSLGHq4uy/yWVT6U0X7psKMc7sqlSqRwNLjSwIYR7If4OeDCxcvUwTbFJWr12Ra51BUZYj9P39uY+rnXMSZ2KD/gEFowfSTXDlsEEItCImiWbx0GXIUKIqvPl+NcmVLaUaxuOhwLGL5vy9ZwcnI1AKVq9WgzlZXVK1S8X4KaTJCSdpvel/Dj9+uw+nrdzB+4iTNoGdnl5N6Fbnolb+DT+ZKSc5f4V6lJsaMHImK5ZiyYWXO370v/t72O5atWAUTWwf0ZSpP144dUIBzXFmuXz6PhTMmYsP2PbBzKIT6jRpjyJC+mlHA3JKh9az0ERpwE4PeH4F9B47BpUhxlrAenBoJSw2OE0f2UwB0NY7QMGaTIzdKupdHq5ZteK3WhZ21Ga5fukhMpuPstTsYNGwchg1+D+b3I2WvXb7AKhML4VioJDoxaqEoU4mMjZJxhhEE361by/KVnjQifoiO7Zqxcoe1ltoQGhyAD4b3wy/bdsHErgAaNWuBocMGaoaEmPBQbPrpO6z67AtYOxbHp6vXoKKbs5ZOIMaxXVs34qMFSxDI0pdtKTTavVNH6p0UYqnTBJxiuu2mTZv5+4tECxrkerOsqUQ8r/1sJT5b8w3yFCqBMWPGsBxoFS3N2ZeGgI0//YjVX6xF2cr1MGvGZFSvJGk6L3LlqX2zCgIGR/jPeh7SQsqqNWxN9daBFOCz17BMYnjQBc8DFNrpj3K1mmAyhV6kHJ3uJi8lW1Z8Oh//7D+Kpu17o3/39toFnlUGIiSQ9Wy/X4cvvlqH94aMQf++vWD7iDA3XX9E6XbN8gX4ev1mNGzZAR+Q8EsOYGpIf+Yefql6EOR7FSP4kDzjE41ptAZ3bN0Y5qYZ847kXOKFObhnBxaylnGkkQ0GUQhIifbpRiHjqyL8GTEx5G8U4Tfk0cnYtv8i4RcPv2ioPGoREiG59zly5NBK79WoUUPz5lfiZF++k5x9CYV/LUsa4f8cziXKaer4TrlsU1X6M2sACZ3X2aOYM3chDh09hXKVqqBxg3pwpjcwmFo+e3fvwulzl1g7nhVimLomOcDWlqYa4d9KMjJx1seoWE9C+seiCPPYH14kpF+0BESl/+NZo1G5XOFUnQA+B0Ok9B3FaLf98ReMzK2Z5lAN1apUIjm1xO1bN7B33x6cu3gdRYq54WMq+ZctXVwr26cR/j3b0K9jO3r4a2iifZXKp8+J1+XwT5k5B10GjkbrtzKG9O/6k2Tqfg7/0oVzM+Twb974E7r3G4aufYdrkXpFnPJRRDCcVXgW4H/fb0Kxsh6oWaM6ShcrgpjIcBw5dABXLl1GNOdKMQkp6NHzXYwbPUyD5CojFcYM7IHDlwKxc/c+lH9ESP+ndJjsOnqO86/JaNuqhebhF6PLLe+r2LNrBz774mvEJ5mgfsOGqEjjiHgMA1gV4OefKYgJC/QfMhxd2rdiKUYjrPl8OdZ9vwGRsclo1KQZSUUFHg+4etkL+/btwy3/ELRp15Gl4QZyrB3TPPcPj5/+Z5/rl7Hz7z9xgp5aT09PBIZFYPS4KejSof0rrScvhH8589CvX6cgYb16kN+Yk5OTZtzXkXh51f1Jm3XvH14v8wOJsilenNcSjXMvc0kl/Bswkyr9QZEprPrgTIeYmdYWYxrQ5F5QsHAR1K3fEJUrVtKqQvhd9yKRX4V/jpzHpBmzWY6xHr34uvuFpAAEYsN3X+HDxWswbPJsDOjeAXn4m9YR/i/+9xMq1ayL3r16onHdmrC3s9W6JP1M5NzRV3L4l33KHH4/zOc9TAwMtORpBo9vP1uMpSu/RE6XUliwcD7KlChCkivpRVKhJFGrZLF62SJ89+MvLDPojuHUnWpUr6YW2u9Nwv/J9AnY/M8hNGrdVatMUMwlL/mAzGOlZCqFv/2vY/DgoTh4wgu9+w4hn3gPLgVY6YLHDw8NwvpvvuR5l8LIxgEz5i5g3+siT05brWJBXEwky2r+jYnTWMGqSj18ROOS6/0qGpKGEEm9ARELt2bufapxkrny1OX49+AujJsymxylGcYNH8TUYlYO44UvJT6nDH0PW3ceQsX6LTFlykRU9iir9UW8+L63rmPV0gX4nJUrhjIyZsLQ3pqRzJfptJPGjMPu4+dpROuPvr17MF2A48pjCsZiEAhlSkECjT32OXMhB/E/Ss2R+Z8sRlCsEaOk56BW1fLUvUgdUzFSSXTwV6uW47utOzFg6Di8/163F07RfZnXsTrWq0PAAAn/EYzlA6dG49YY8f4A3lxSCb94tH/8agVmLFiFLlStHUGLm2tBKrPK3YGLhL0snscH1pFTaN21L/p1y1qEPywkCFt//gFLP12O8g2pXDtuJEoWcdZufhmHP4UTEm98OHUi9jDnrkvvfhgzYgitiTZPJPyaxTwhhlEUo7B+8594u2d/TBk3HAXyPlAI1j+fCCt9t/YzfPblOjgULokhqiyfPjwZ3ivCnwESg/5Cbh8qpN+ghyhd4xThTyUTpjTQitde8vDLMNS5QYMGzLWthgIFCmiifDK51z0b0wH4Kj8kJ7Ds10l89/1G5OWzokfv3nCwtXo84Wd7RM3b68IZbNywEf8eP4FIVt5JZmywiHFZ29qjNHNp27Zto3mzhWRKvxKZ/rZ3904sJwktVakmS869w2dYxtzXK+dOk2gsZfpaGXrpepEc50tzEsjk1/fmdez460/sIQm9wxDbuNgEhumm0CtngpzMyXVz96Cnrj0Jrnu6HPHzJw5g5rj3YetaDROZB+3GfFj9JSUlCZ7HDmHF6q/QrGNP1KO6fAE6L1KD71PnK0cP7cJ363+Cg0tpjB81nCkFqXMdOY6I8+3+ZwcmUTegabuuGNa3GwrQoM81uHz2NNb/uB4Hjh7TSvSKAJkVyWN+p8IoU6oUctubwZMVjKpRPO+9d3pqzfKhmN6iGZNw1idE8+6VfKi9olXwwzefM0T6Gnq98x7q16mlCZeJcSOR1S1CuP7Arl34/fff4e0XgCSmD1CqUot2yJvPCW81b4HmbzVFIeooiCDbXXo09/zzN37b8jtu3r5DkcVEjWiZ8Lp15PZ1GzREk4YNtJxuU6YOpM7itKZm+s+d2zdx8ACNGteu48J5kv5TZ1C1diO8P3gwozPKZqIVkOnhnnqFjvCLkUGMZxJBo6978fDvTPdZ5gK697pXqRTSp08fEtHBWgWDp27EU2yY5uGfPg0e1ZqgZ48uDJHPof2W5PwWvEZELyFnjpwaUU1JjMPWDeupz/QJ7F3L0qg1B64u+bl9ctrZkkjaz9GL3IVRszWadMKiOR+gZDEXxNPwtGDuR/jt78Po2K0XOr/dBkU59vqlFWXf2zQWLf90KY5RtG/h4kWoUs5NLmFOQxMxZEBf/L33GAaNHY8hfXrpGRrSTo+j+/7Ct6zIdfp6ADr1eAe9e3RFLnrNhfAvnDkJu44zvXf4RJLrfg924jsh/EF+1zFg4Pu4E2FCrYJJjEypw99wqmNLIk22bN6ARQsWwMw+H+fdn7JShHvafDuZZTWvXDhHzaqhsM5bBJ98/BE8SrmmnUNSY2MocBgRFoZQ/onYYBI97mIc+2TeEhSpWJ+pQMNQlvsI2U4l/H2x9/gFvP3u+xg5VJyZDyrXRKEPAABAAElEQVQoxLIayMbvqBMycTrac/282VM4n7fDzt9p1Jw8DQWY8jR86GBGspTXIijSGiJ9lT+OmUSNJCbEYvn8j/ANI39rvNWBqQUDkdchh2Yc0O2TkhiPv5nCMHrKh0zT6Y5PPpqC/I65dKvVazZGwOAIv+TMTWA5nzzFKmHS+JEoXjhVedf7qhdmTR6PrbuPYfqcBejZJdXSKGOTzBI2Ui939szp8PK5Sw/5CHRu1ZQh/a8mp+tVXA9xMVE4d+IgLcnLeHMLZyjcOLRv3ZS5VNY83YPHoTxEhIT/+esm5q8thnmOfNQsGItOFCmxZH+f5OHXtf1/ny/FJ4uXw4KifxOnTEW7txowF5B46U7F88RTmOXfA7t4w/4Uew4eR9lqtTFUEX4dhI98VYT/kbAY7JeK8Bvs0DyyYf9lwi+TdvHsFCxYEKVI7Nzd3eHh4aG9uri4aERfRyweCd6r/pIkN4L5ute8b8LSxg5FixbVPFi6R8rjTi8h9IEMIb544RKFt3yYvyvCWvZUny+keUMLsOyuNXNvdYtEqvnf8ccFryvI6ZAXpUsUTROs0m0jr9KeM+fOwcQiN9X9XZHLPr0hJInHuRscSA+bD2u838adO3cQR3GrHCRFLgULo6hrERRk5IDZQxFwEqJ76vgRmFrnRrnyFUiiHuSpy3nlORDKPODzF720cOJ8eR20FEMdFuLBlGpE171vwMI6B9zLliYZ0XlWUwmLv99tnDh1Fs4Fi8KN/bO+73mVUnW+Pjdw7sJFBLCKUWx8AsW4chKnkvSW0wmSHE/xswDkYn6wVD6QJYrq/edPeyI0Oh41a9VmSP4D44KsT6DS+DXmU4eERaIY98mfL18aWZX14umPoqK4N73cV72vM2c7hPODe7CR9JHSZSgAVgx5mPstofepi8xT7uLWrRu4dOUaAgKDSIjA/HAHeriLMCS+BMloTs07en+HjC9CDPmf7pqWNooSuyiU36UBYt/O7RRq3o+mbbtgcL+eJIwPRNIyHuz5v9En/KKLIZEzOg+rHFXGWrfo3sur7k9/mzj2QdJHhgwZoglQ6vZ7Ga9phJ9Rm83a9sIYGpEc80gI/P32ycOO7dLhGRMZim++/AozmCLiwLz7RgyLFwz1Cb+YdELpjNqwkWH3letg5crFDMt3I+GPIAn+EPs8L9HzPAgtmzRgnrxNOg0MIcW3aWhazrJ8DxP++NgI9OzZE1f9IjB95odo27R2BtFMwSTI9xp+3fQTNm75B7WbtGKlhr5wzpNTI/yLZk2mVpUvRpG49uzYKh2EOsLfn5UqTESccNIkVHJPrQIiG4pn/I/fN1EQcjksczhRj2AeBcBTfyuyXgx2t65dwXtMAzC2z0/jxlytkoesi+VcXaJpPKlRcMvHR68spgkrHITT0MeS2I3ba440dxJ+EaTUCP+wfjh+3hu96VXv25tedetUgT05poiVi8NvwoQJqN/uHSyaOws5bazww/8+x4wPF6HH4NHo16cnS2znTivtKfs9vMRxTCdPmsioiM1wo6G0Yvn7UQR616j8RG/d8MYff+1CvaZtsGLZQqZCpJb8fPh46nP2QsDgCP+d2974aMZU7D3lzRCeEQyFa8gHGNU2//qdYeWfItY4F0Vk5jL8htY6M5YS0az017Bn5x/4/Ktv4VikNCaMH4dqrDNrYqx7vBr+oMkDNTKMYUbrvsHsuZ+iNL0WvWihrU41zQL582lWvRgqqd72vUUSfhBfr/0K1wJC0bF7LwwZOAClKTwiN/KnJfxeFPeRm9zvf++FW5W6eL/fO5qFs0D+vLxp0+sZFIQzp08wh3EDzl66jsA7QShetjwGc0xaMOzL9gUfrvIwlJJZa9euxZo1azRrtzwAOnXqpIW66T90DH/0HrRQ+qVU+h/gYejvFOE39BFK377/EuGXe4mEEX/xxRdYtmwZypUrhyJFimhhxZKXL2HBQj7E228wi0bSpDUPiMWztE36nMy/VI+VhEmnL9+lfyzZVrfoSIzus/5r6nZyLP1v9d7LYbhOogqEKGgfubEcU1/ET28P7a3u/E86d+p5H3Fy6ef9gz7qGLJOw0EOkHqQdE2QdYKVtmhtFaxkJ/k/9Xv94z6+vdJ33aEe0dbUVdq/+udNbdoTxogH1saUxzfi5EK8wPLfkxYxbARSwT0mPgnOhQrTIfFgHxmnSDo+xowdC2PbvNQimoF8jAZ9sMWTjv7063WEX57rderUQZUqVaiOnuoJF0wf/pMj6+YvunXynbyX0nBSJUOOIeHgL3NJI/zTp+MtprWOY1k+B4cHXuSHzxUVHqLdW6bNnI9crOIh5FDKtenanrq9ICol5ZJZ9tpNM1QUdy2oEf75c2bj+MUb6Pv+MIbz14GdFdMH9E6SOeFPQTQ1NHoxAuhOuBFmUmy7cZ3yWqqN3u7a28jQO9i+ZRP+98NmVK7bBH37D0CR/Llxgx7+xfSCn7zmj3HT56B9i6bpdtUR/n40RuQqVAoTSfjdXAullcWUFOA/t21mSc2VsMrphHmsfFG6VPEHxxDCT1X8PjQYGDMCYAG1BiqWKcpopATm/x/AnHmf4CbTUiS1I29eRxpWHDWjn0Qib9n0G0rWbJ6e8AffwQcj+uPUpVvoO2oyRSY7cE7/IKVDDBB/bvkZEydOoGe+C5bM+5A6BBZYt2YZZs5ZgRFTpuHdXt3hQAegPsYPGpz6Ljo8GOMnTMT31EUoVMQVxaiBJs9MufZ0i/xmdb/HCpWqMUJmEPW/Hh3hq9tHvWYPBAyO8Espj90UERk/YRKikkx5c6SCPC3W586exd3Iexg5aRqtea3hlM+BIneXtRCvHTv+wrFjnsiZrzAGvj8EnVjXNZfmGc9agyQ/SrnJrFi6CNv+3onwmESK95XQatTaMJQxinl6N729qYZ6CzkcndCJIildO3dCCd6AJY9IlmsUPVz4yXwcvuiPJs3bYO60UWnKpvpopDAq4vSJ4/iOgipbtv+BmHspFHoqTW+GCJCk0IIfjADmbxVyLYmqVPH3PLifoiH3MGD4cLRu0lARfn0w9d7LGCrCrweIgb+Vh58K6TfwQdJr3n+J8Eu3RfjqFFXKr1y5onnzCxcurJENfSKnB496qxDINgjERIVj57bfsP+4F957fxTKFGX+tf7COcyIEcMRA0vMmj0LTgxdfhwZ0t/1Wd4L4V+xYgWjKQLQp08fzSkhxjZDW9IR/na9MJaEPw/F8TJb4phzvp4icx/PmY/ilepSpG6GFv6dyNLPukXuMxIqLrnxxjQs5mJVLIlukBx+IfwnLt1k2PswNKQhxJbaGvpLpoSfGyUxrbR3j55MIfHG1Jmz0bNTK0bRpM5h9Y9x9dxxrP/uG1ajOsNqDF3xXp93kZd59hLSL4T/lPcdjJ360WMJfx46AYXwl2B5PZ02ZAJ5xp/bfsWKlSthTcI/9ykJf4DvDcydORn/nLiGd/q8h/ZtWmh6I5JSQ6sIvM6fwMABw+FQogqmjB+BcjoPPwn/1BEDcOryLfQj4e/WSQj/g4gUzQAhhH/SBFRv2pmEf7YW3fvbhnWYPO0j1GrZE+8P6guPEoUYNZURJx1m9+Ki8OG0D/DDz9vQklUYhvSnFhi5g74RRxtT8gVTpi2JDkFOVieR56pasj8CBkf4BfKgO7fxLT2/f+zYgRu+txFPVdYcuRxRo2Zd1pwfToVKKtgjCbt2Mr/n229x+KgnHPO74O0uXdGhXRsUK1wwS3n39S8z8fSf8TyK3Xv2UqzoAkMMaeGOZtkbWvPF22HDUMlCRYqwZmc1NG7SOFWV1PzBj1XKGm7ftg3X/MLg7lERndu9lSkWEiJ36eJZ7CDOJzxPajmMgrWJqRnLeORh2KgbGjRujKLM6zp26CBuh4SjfuOmLAVU+oXTJYQYKw+//sgb/vvLly9j2tSp/L0dhVvNLmjcZynDUdOHshp+L9K3UBH+9HgY+qf/GuGX+6R4BaXuuHjy5U+RfUO/SlX7XgYCQkj/Jin78tufNfHCjq0b6ZHCFJw/xfTOWcw7L1uVosVjmdv9IET6ZZxfdwx9wi8q/Z07d9aia3TrDeX1WQl/IuvJH9v/D5YtXoibESn4hCmidapXTNedZKa3BAf649yVm6jA1JVcOWy1KJIXJfwSNfDhxDFY98s2NGrVATM/mJhRR4pz4Z9/+JpRoF8jOsUW/ZlP36ldcy015k0R/mte5zB2WH/EWBfBxx/ORJXy1CS4v0ha7s7tmzB5xny4VmyAaRNGwL1kEYb0WyD0OQi/aHqcOboXo8dMQFC8JYazlPbbbZrCQU/rQ059jyk9ItpnRsFDM1NjbP72C00M0b6gG+Z+OAvlyqQ3Tkn6lO+tW7gdGKZVc5Fy3jIPUkv2R8AgCb/kt/n7+jCk/BQuX73KkK5E5MvvhIqVKjPspgRz1S00BdBTnsdw8OBhhIRHo3SZcqjB0hNOTgWopGuWpUdOSvSFUwgkOCREyykMCwvXJn1iYc3NHDgtX5N1NXMynFNT19f7sSbwJi41TOMSkmDFkDFH1mF93CK1hkPv3qX12p8E3J85clEwtbCCg2NeFKa3Pw/rfZrT8iq5SXH3mNtIJVDJPXrRSaci/I8bFcNcpwi/YY7Lo1olvy8vLy8sWbIEO3fu1LxSM2bM0GqwP2r7rPLdf43wZ5VxUe1UCLxsBET07fKF0/TCrkZEvCnat2+HYoxmNGEEYgDLNW7/fQvryQeje+938XbrFhTSS+9hflnteZjwS9phifvaCC/rHC/jODrCP33aNDRnSP+TPPySmhES6IdNG77H1z9soshjM/To1gmlSrhq2huJNDTeunGNAm/bceT8VQrKTWZlrFKal1xH+I/Twz/wOTz80t/Du7ZjAdN0fe/GoM97fVkOsAlFunMwosCEItyx1Iu4jBXUtDp+0gs16zfFgP59UMmjNL3Rxnoefn96+DMP6e/LkH5J883Mw7985QrY5HR+ag+/VIqYOmEYLgYkYfLkSWjCqgGi7xFP59l5psCu/+5b/LptB9zrt8GMCSPhwcoe1pLDryP8xKvf6CmZevgnsNpW9WYM6WcOvwguhgb7Y9nCBfjhl9/hUbUG03x7svRhBdjbkqQjGXdDAnH+3HkEhYShROmyWlnEm15nsYxCiXuOnGGpvk5aKXMX5uibch5/j6kD1y5fxNYtW+EfHo++/QYw/bmsIvwv4weYBY5hkIRfcJMcnJjoaMRQ/VLyTUSJ1o5CM2b3Q09kfQRFZCLCI5BCz7c9ya+drQ292TrRmCyA/hOaKHVnE3jTFQ+PTOCFZJsynMrC3ELLg3vC7s+0OomW3HjmNSXynEa84ZrzPOb3S7o804GecmNF+J8SKAPaTBF+AxqMJzRFEf4nAKRWKwQUAgaOAHO9mca4f89urPvue8Z0mtEB4QBOWukMCQbMLdGs8Vto1qwJXPI7PlLn4GV0MKsQfpnD/fn7z5g1cyZF+3pi1MhhyPMEh48IXntRjf4bKuHvOXQCxSj8WKliBaq252Y6UTAunDuL02cuwLloaeokTKd4pKtWaUII/4J5cxiifhN9Bw5B/dq1HxnS70fRvpUUxjuuleX7BJVpMNAt0RGh+I3i019/sw4JySaoRF0DEX+04lw/KOA2Ll68gPOXb6Bo8dLo3r076tetwTD31LJ/3lcu4NM503CaIf1jPvgQbZo10h1WexV+IGX5Bg0cquXwixiehPSLPpUs9+gY++uP37Bq1WpYUbRvzkez4VayWOpK+Vdy+L2vof+gIZpo3/w5H6K8myu1B0Lx/defYeXaH1G0tAfLBNZFAcecCLjjx7Tj8xQSDcGNq+eRv0wdGgZGoWK5kpoQYlhIAKaPHoTTl33w3oiJ6Pp2O83zrzuhOOp2bN2EKR9MRvUmHamcP0Or2iFGr4vnTlPDZTkjfr3gVLAItVw8UJh9YakMpjVfxQWKd5paWKNtxy7o2rEDkqnUv2f3Dny19n/w9g1EOY8KmiioAz35QXTsnT17BhcuXYNHldpU/h/EiN0HY6Jrj3rNnggYLOGXkB/e17ncf5WYk9Qv0kZCJrW6Rciwzuuse9WtU6+Gh4Ai/IY3Jk9qkSL8T0LIcNYrwm84Y6FaohBQCDwfApJ7HBJ4B3v27MKNW75IYOSilt5Ix0/Rkm6oXb06nJ0LPFKn6PnOmHGvLEP4GRm7d9dfWL5sKepSJf69d3shF73ET1qioyJw9MghbPjpJ5Y8vEW/sTGFky3oaErQjCj5nQvhrWYt0FqqRrEqgyyi0v/F56tx8fptdKZwdLUqlWGjl1oq2ySzPXd8b+D7detw9vodjKdHvFzJorIqbZEIgi2bN2H/ocPUjLqrlRoVYcdEppYa0+nkRqHoOqwqUZtlLfNTUNrkfuy5742r+Gb1Yly4GYy+Q0ejSd2aaceUN/L8Cw30wZSp05GzQFEMHDQIrvRy64JhpW/79+xkCdHvYWGXlwKHo1GsaKEHx6DBwN/3JiZ9MA3GNnlZJnsU3IoVoogmU25PHsXKZStw9uotWFpZIjd1DWTJxWohhQq74ubFE0iyLsCc+/4Mpy/B6hoWCKfxRAwU57390OXdgWj1VlOtXJ/uhFJmdP8/f2EhvfkedZpj0pjhrKRhp/UjkQr+u3fvZKTeLhL1y4iNjdccoPSEMpQ/iY7QHChT1p3j0wY1q1fWjBqBTIv+Z+cO7vMPrt3yoyPUVIt8jud5jKnHULBIMbRs2QoN6taCw1NcI7p2qtesjYDBEn75wYoqvYSbRzO8R8KLkniBP24xonffzs6eipl5qID64mHnjzuXWvdiCCjC/2L4vYm9FeF/E6g/3zkV4X8+3NReCgGFgGEhIN5ayVOOYfphbEwMElkm3srKSktPElV5EZV7lUtWIfxiHLl14zo8KcbsUrgkRT7LasT9SdjIs0Lyz69c9sJZhof7+PohOjqOpTVtaExxJpksh7JlStIjbZlWtSKJeeCnTnoiODyKZRnd4VQgP40uOjp9/4wcNxGaPkePcnB4LKrXqMna8+kNEElU/w9lWPqF82dZZvKSVsoyjt/Z2drDydkFlStXYQqrkzbepjr3PA8fGR6K057HmM4bCw+m+roWosdbb6GbkH2KwL49+0noc2uVEXLaPaiKIFpZt2564/yF8zA1t0E1Vj3JlVOvbcREokt2790HIzMbVK9WhWUnU9fHxUbjzClPnDlzHr5+/lJ6Anmo1F+6jAcKuTjD98ZlpiFDO2deluM0M2PIP0n7sUN7ERIahVLuFVC8mGua0LY0W9rjQ+PHUeoj5XUpqlXnktRl3RIfFwOfmze19nqz7OldRjaDhpncDo4U9i5OTYmiKEwMrGmAkEXSNSJYou8aDQSnGHmglRu9X0ZTyo2WpYGgBPeRdAPlINUg+0/8Y5CEXyyDVy6ew4GDh3DlujdD96NobUwUX3+mgyI3LQl3dy9XXrNcuRYpmHZzynQnteKNIaAI/xuD/rlPrAj/c0P32ndUhP+1Q65OqBBQCLxCBOSepr+8LqKSVQi/YCP6VzJXFq0TUdN/+iVFEwaVfROZGiBQizPdhPnpkqMur+npvIiJynYpPBfXS3H3RyxirBHVfyl5Ke2RkowPL5pB5/55dWryMrbSB5nTy2uGvcQIxH0k2kOOK9tkXJJZ3z5BS1E1kXM/tIFgpaWwkrDL/hnSgXkOEbFmMq2mlWV8v4/SZ6lAcI9/SUmp16ToDgixF+OTkHfpr4mJtCu1VKbsI158DS/Bk5g9vEhKhmBvxLZISq3+op2T6bYi3po6PqnnFSFvU55XqnTJufV/E6n78HpgHwSn1IVpwczlTx2L9Nvrn0+9z54IGCDhZ34W80y+X/slftmyDXejYrVcF1P+eIwftiDqjYlc3JLnX61WXbz7zjsoU7L4I28ueruot28QARkvpdL/BgfgOU6tCP9zgPaGdpHflxLte0Pgq9MqBBQC2QaBrET4sw3oqiMKAYXAS0fA4Ah/PMNldvy+CbM/XoD/s3cVcFVkb/TQ3V2SCiJgIoqN3bF27K7dHbt2d+cau9au7t/OtbsTRDERaaS78//dwYdgIiHv4Z39ue/x3syNc2fezPnifFkySqjtUge2RN61KdyGWaa+tEmTlcvI2JTCVewp/EargLXrS8fx774/Apzwf3/Mi9sjJ/zFRfD7Hc8J//fDmvfEEeAIlF8EOOEvv2vLZ8YR+JEQEDvCH/E2EEsXzMGxCw8waNgwdO3UBvpUGq4wuVrk1HoX1pL7+iMtpKTNlRN+SVsxgBN+yVkzTvglZ634SDkCHAHxRYATfvFdGz4yjgBHoPAIiB3h937+GL9NnAQpTWssmDsVlSvmU84s/Lz4nmKOACf8Yr5AnxgeJ/yfAEVMP+KEX0wXhg+LI8ARkCgEOOGXqOXig+UIcAQ+g4DYEf4n7jcxfuI01GnaEWNHDCZVz9wyIJ8ZP/9YQhHghF/yFo4TfslZM074JWet+Eg5AhwB8UWAE37xXRs+Mo4AR6DwCIgd4ffyuI2Jk6fBuXG7d4Q/t8Zl4afE95QEBDjhl4RVKjhGTvgL4iHOf3HCL86rw8fGEeAISAoCnPBLykrxcXIEOAJfQkDsCH+AzwvMmz0TyQqGmDplAhxtLb80fv6dhCLACb/kLRwn/JKzZpzwS85a8ZFyBDgC4osAJ/ziuzZ8ZBwBjkDhERA7wp8UH4u9O/7E5r8PYOjocejWqR3U1FQgSzUm+VZ+EOCEX/LWkhN+yVkzTvglZ634SDkCHAHxRYATfvFdGz4yjgBHoPAIiB3hZ0MP8ffB+NFj4B+egGFjxqFTu5bQVFcp/Kz4nmKPACf8Yr9EHw2QE/6PIBHbDzjhF9ul4QPjCHAEJAgBTvglaLH4UDkCHIHPIiB2hD81JRke9+/g723bcPz8FcirqqNq1aqwt7eHsZEhlJUUPjsZGVkZGJtUgKOjI/R0tSEtJfXZffkXZYvAh4RfX18f/fr1Q7du3aCkpISsrKyyHWARe2fz8vHxwZ9//omTJ0+iY8eOGD58OExNTYvYovgcxgj/tKlTcevuXVR27YnmA9ZBQVlJfAZYlJHQT0RU0Guc3NAfcW+fY+yY0Wjfvj2sra2L0prYHCMi/CtWrMD58+fRvXt3zJ07Fyoqkm04lZWVha+vLyZMmABPT0/07NkTc+bMgaGhodhgzwfCEeAIlB8EOOEvP2vJZ8IR+JEREDvCHxMZhj83rsNff+9FWEQ0klJSoKioBHUNDagQuWAPfJ/a2AOuvIIi6jVqgsGDB8Gpsh2kpTnh/xRW4vBZfsK/ZcsWKCgooHHjxqhbty7k5OTAvpfULTQ0FBcvXsT9+/fh7OyMFi1aQE9PT1Knkzfu4OBg7NmzB97er2FauQEcm/SHnIKEE35IISEqEO5nNiE5JhBt2rQR1szAwCBv3pL4hl0/ISEhOH78OB49egRXV1f06NGDfksVJXE6eWOWptSuiIgI7NixA+x87NWrFyf8eejwNxwBjkBJI8AJf0kjytvjCHAEygIBsSP8SfFxuHLxPG7de4gsemgVET+pr3nraV8ZIooVbe3RpEljmJkYcQ9/WZxRhexTRPjZg/umTZsQFxcHdXV14d9X17qQfZTVbmlpaYiNjUVycrLgUdXU1IS8vHxZDafE+mXzioyMRAoZ4eSU1KGqoQcpaZkSa7+sGsrMSEVibDiy6VVLS4s0Q9TKxXqlpqYiOjpaOA/ZtaWjowMZGclfr/T0dISHhwtz6du3L2bPns09/GV18fB+OQLlHAFO+Mv5AvPpcQR+EATEjvATw0cGPdClZ2Z+YgmkkJ/3i4wB+XdkEQCysnL0MMhF/vLjIm7v2dqFhYVh37592L17N6Kiomht2fpKflQGm1t2drZgrGLzYV7JcjmvckAe2XXB1iunnK6XKDWGnYPsX3nZ2LxY6k/Xrl0xbtw46Orqlpep8XlwBDgCYoQAJ/xitBh8KBwBjkCRERA/wv+ZqeTkZCMzM0sgUiISJUPkXvLp4Wcm/AN8nJSUJOTjent7C17j8jJlRiAzMjKEf+xcZekK5cGzyubFvKuMbDHDWnmIWmDnXP55sTmxtSovBpryuF6i3wm2Vubm5oJmi6SnKojmxF85AhwB8UKAE37xWo9vGU1yYjwS6TkzK5tFC+ceKUuRwOpq6lBQVOD84VvA5PtKPAJiTfjZg3gahQ/HxsVS3mYYeYQjkERh0iyMWFVVDfoG+tDW1IGmlgblpirwEH4JOx3Z+jLymEnRHOx9edvYnMoDccy/LqJ1YvMqb/MTzUf0mn/ekvheNA/RqyTO4UtjZucgM84wzQ++cQQ4AhyB0kCAE/7SQPX7tHn83+24eP02sqTkIf3OkK9naIx27TvAoXIlyJaTKMXvgybvRdIREFvCn56WigA/H1y7cgXXb96Er18QEon8s4dXtslQeKqyihrMzC1Rr14D1Knjgoo2llD5goq/pC8WHz9HgCPAEeAIcAQ4AhwBjsD3QYAT/u+Dc2n0Mn/qFKRKKaJ1m1bQ0FATupAnEXBDQwOoq6qWO4dMaWDI2yw/CIgl4c/MSMOdm9fx77//Etm/jdSMHMGbz0q3qaupIjsrE7ExMYgICyXvfwIUVTTgVL0G+vTpgzq1a9KFrFx+VojPhCPAEeAIcAQ4AhwBjgBH4LsjwAn/d4e8+B0yv2BOBpXZHQ9LW0f07tEVmppqgo5NeUnZKz5IvIUfDQGxJPwh/j6YO2cWTl+8CQuqh12XPPgutZ1hQcr7rI50NuXzJ8TF4A3VO/d64ok7d+/ANyAE9Zu2wVAqyedc3RFyspKvRv2jnYx8vhwBjgBHgCPAEeAIcATEBQFO+MVlJb5hHBQJnJ4UizETf4OmnjFqOtlDljRfdHQN4ODoAHUVVdIh4gpg34Ao37UcICB2hD+FRDYO7tmJOUvWwtWtNQYP/hUOdpWgRl57FsYvyolmIn4s/zspPh6eHvdx5OA+3Hr4FE3b/oThg/ujgolk19EuB+cWnwJHgCPAEeAIcAQ4AhwBiUWAE37JWzrGDyJD/TB1xkJkSyvA0cEWzAUYGhICDQMLtG3THJUrWQmcQvJmx0fMESgaAmJH+EMC3mAhefcfekdg2oxpaOlWDwpysl+cXVJ8LDwf3MbyVWsBRW2MmTARDVyqkyBH+SlD9UUA+JccAY4AR4AjwBHgCHAEOAIligAn/CUK5/dpjDz8cdFh+O/cJahq6MKxSmXISWXh4b3b2LvvKDr37I12rVtAVVnp+4yH98IREAMExI7wez9/hN8m/QaNCo74fco42Fqafh0mZs0LC8GCeXPw3Octfhk2Gl3aNoOi/JcNBV9vmO/BEeAIcAQ4AhwBjgBHgCPwIyLACb8ErjpxgpTkRMTEJ1H5PSVoqFH+PnIQFOiLxfNmoXqDVujUuQv0tXKF/CRwhnzIHIFvRkDsCL+Xxx1MnPw7atRvg7GjhsBQV7NQk0pLScKq5Qtx7Y4n2vXoj1+6t4cqV+wvFHZ8J44AR4AjwBHgCHAEOAIcgYIIcMJfEA9J+Cs7Owc+L72QI6cCIyNj8uQrUjowEBsVgeULpsOsiis6dOoMY10NSZgOHyNHoEQQEDvC/8TjNiZOmgrnRu0Ewq+vrV6oiaanpWANEf4rtz3Qtnt//EqEn5foKxR0fCeOAEeAI8AR4AhwBDgCHIEPEOCE/wNAJODP7OxsXD65H15B8ahXvyEq25hDVloKgX6vsXzxYtRp2g4dOnaAjoaKBMyGD5EjUDIIiB3hf/HEHZMnTYFJZRf8Pmk0LEwNCzXThNgoLFs4Bw+e+qLXgOHo1r4FlBTkCnUs34kjwBHgCHAEOAIcAY4AR4AjkB8BTvjzoyEZ77OzKV//+hnsOnQeFSs7oVY1eyiQpteLp49xjqp/devdG03dGkFZUV4yJsRHyREoAQTEjvCHBPhg/uwZeOAdhRkzpqNlE1cofoW4pyYl4JnnQyxdtgoZ8moYM34C6tfmon0lcH7wJjgCHAGOAEeAI8AR4Aj8kAhwwl+Sy56DtNQUhLwNg46OLtTVSyeHPodE+zLTkrF//z7cu+8BRVU1yEnnIDQ0Bo2aNkPjRvVhamyQV/WrJGfI2+IIiCsCYkf4U5PisH/PTsxbvAq1G7ZC//794GRvCw11DSjms8blUMhOeno6khnZ93qMowcP4OodD7i16YThQwbAnJflE9dzjo+LI8AR4AhwBDgCHAGOgNgjwAl/yS1Rakoynns+wJ//7EePXn3hWqd2KVXTygEj/UmJSYin0t2JSYnIzMqGmpo6NDU1oaSoAFlZLupdcivLW5IEBMSO8LP6md7PHmP6tOlwf/wC1eu4onnT5qjq5ABjI33hQiWxTSL6iQgPD4X3qxe4cP4C7j14CCvbqhg8bDiaNqpLoToKkoA/HyNHgCPAEeAIcAQ4AhwBjoAYIsAJfzEXhYh3RmYG0tLTEBLgh0N7d2Hv0XNYsHg52rRqCrlSJt6M+GdlZZIBAJCT42m+xVxNfrgEIyB2hJ9hmZmRhtP/ncDfu3bB3dOLwnE0YWVlDTMTI6hrqiOHLt6k+DgEBwfDPyAQsYnJqGhrjwEDB8GtcUPoaKmDBDn5xhHgCHAEOAIcAY4AR4AjwBEoEgKc8BcJtryDMii03vfNa3h4PoHHg3s4e/oUAiOSsO2vv9CudfOSIfzE5rMZoy/hTVpauoRb5M1xBMoOAbEk/AyOLLIIPnn0ACdO/gf3R57w9/VDVFQ0MumaZuH88gqK0NTWgZGxKWo6O5MAhxuca1SDqopS2aHJe+YIcAQ4AhwBjgBHgCPAESgXCHDCX7xlZGm69+7exKmzlxFADrrw0GB4+4dizZp1aNem+IQ/JzsTCQmJiI6JzRto8bi/lFDCT15eHjq6OlCgV75xBMoDAmJL+EXgZlIY0Gvvl3jx4iUCAwMRT958SElDg/JwTExNYWFhCVvbSjyEXwQYf+UIcAQ4AhwBjgBHgCPAESg2ApzwFw/CbIrIjY+LQ2x8AlJTkvDc/TaWrf8Lk6fORPu2LYrt4Wei3e7u7mRQuABpKr0nJSUl5O8zf3/RIn1ZG9LQ1TfAT126CKnExUOAH80REA8ExJ7wM5hYXj8L18km0Q3Rxcxec/9JCxe5eMDJR8ER4AhwBDgCHAGOAEeAI1AeEOCEv/iryPLo2b+01CQ8unUZv81dgbGTfkOHti2LR/ipzYSYKBw5dACz5i8mX6A0ZGTloKCgQO+J7tP337oxXiEtLQtLGzssWrQA9rbW39oE358jIJYIlBnhZxd/YkI8UlPTSC1TDsoqKnSRygvh+ilUtiM9LV0g+eziE23537Pj82/sb3axy5Moh7w8U+CUEQwC+ffh7zkCHAGOAEeAI8AR4AhwBDgChUGAE/7CoFS4fdJSk/Ho5iVMmbsMYyaWAOGnbtOJL9y/dR2LlyyB14vXkCI+4exSDzWqO0FFqWji3cxYoKWtT4LhbtDX1y3c5PheHAExR6DMCD+rxXnq5GE8cPeCtp4JOnbqAhtLY6QmJ+Le7Vt45PX8m0U4pInkW1hYw5ly+g3pIs1vIBDzdeDD4whwBDgCHAGOAEeAI8ARECMEOOEvucUoDcLPnH0JsVE4dmg/1v2xFRHRCajqXA+Txo+GQ+WKkCmC8B7zM0pJywhVwWRkePm+kjsDeEtliUCZEf6E+FjMmT4R/x48CctKVbFgyUo0qeuI6LAQrFm6CJt37UX6uxD+wgDELnoFRUU0bdkW48eNQ42qDnShv48OKEwbfB+OAEeAI8AR4AhwBDgCHAGOAEOAE/6SOw9Kg/CLRhcS6IsdWzdh17+HkC2jhO4/D8bgX3vB0sRAtAt/5Qj80AiUGeFPS0vF+TMn4fnkGTR1TdCydWvYmBsjJTEBd2/fgMeTInj4yRJnbmGF2rXrwMRIjzz8P/Ta8slzBDgCHAGOAEeAI8AR4AgUEQFO+IsI3CcOK03Cn5OdheePH2DWzFm45/kUyhp6mPTbDHRu3xLaGqpFFPD7xCT4RxwBCUWgzAg/E+KLoTIaKSnJlG+vAHUNDQqfYTn8WUhKTqLc/vQiQcry95WUlYonBFKknvlBHAGOAEeAI8AR4AhwBDgC5QUBTvhLbiVLk/CzUaYRdzj47w5s2rIdvkGhqFLNBeMnjkcjV5ci5/OX3Ox5SxyBskWgzAg/m3Z+4T1Rvj37LIvKeGSTJp+sTOGF9+gwMhIkI5sMBnLyioJ4n6jNsoWY984R4AhwBDgCHAGOAEeAIyBpCHDCX3IrVtqEn400/G0gdv25FXsPHEF0QgqatWyPIYP7o4ZTFcjJ/Vj5+IxPpSQlIjEpGVlEqlRUVaCqpgbpkltS3pIEIVCmhP9TOKUmJ+PVy+dIhxxsK9lATUX5U7t99FlWZgbu3LyG8JgEOFatAUtz0yKJdXzUMP+AI8AR4AhwBDgCHAGOAEfgh0OAE/6SW3IR4Z9MKv1jS0il/8PRZWVmItjfGytWrMC5S9chq6CC1h26Ydign4kXmEC6FHJ9s7OpdDj7xzyP7N+7TZoEA9k/5nz83g7INIqeDgnyx+3bd/Dk6QtkEs13rd8Q7du2hixn/KIl+qFexY7wR5Fo38aVKxAvr4ERw4fBqpCCG5mZ6di0ZhluuT9H+24/o0sbNygpyP1Qi8knyxHgCHAEOAIcAY4AR4AjUDIIcMJfMjiyVjLSU/H04W0sW78Nvw4cBrdG9YQS2iXXQ25LWRnpePzwBlav3YDb9x9Dx8hM6K931/ZQVy2cE/FbxhQXE4nAwCAkJDJPenZe9LI06YopKytDVVUVGpoa0FBTp7LhcqVO/lmkc6Dfa2xatQz7T12CspIKVNS10aNvf4wb2R8y3zI5vm+5QaCMCX8OMskal5aWhoyMTOEiiAgJwqbVyxErp4lRI4bB2tToq2CzsJXUlERsXLsCtx++QIfeAzCgZ0eoFrEG51c75DtwBDgCHAGOAEeAI8AR4AiUawQ44S+55WXP6pnpaYiLT4SKmioUqbJWaWhr54D+I9J7ZO9ObNuxCz4BYVQNzAFTp09DnZpVS9wZeOPKaaxctQpez33Joy8DGUpHFm3S9F5VQxN1XBugfZu2qFnDCZrqaqKvS+U1OSEWZ47vw/R5q2BVtR6mjB2KCsYGZHhQh56edqn0yRsVfwTKlPBnZ2UhOMgP165dwfNXfiS0J4fEuBjcvnENKbLKcHVxho6Gep617HNwZlPOf2x0BO7cuQNFDUMMGjkO3ds3L/GL+nP98885AhwBjgBHgCPAEeAIcATKFwISRfiJUGfRc3UGOdKKs0lJSQue9/zEtTjtldWxccQLdmzbiP8dPIaYxHTUrtcIUydPgrWlGRTI015S24XTR7Bw8RJExmeiVYtmMNDXE3hLOlUjCw0Jhu+bN/ALCoGZZUX80n8A2rVqBlUSFy+tLTIsGFtWL8OOg6cwb912tG9cG2rKCsKYvndqQWnNkbf77QiUKeFnuTavnnti9/ZtuHzHU1DWT0tNwdvgYGRKy8HYyACK8vJfDX/JoRCaDLIaSpHaf516jdHvl36oVsWWRP94osq3nxL8CI4AR4AjwBHgCHAEOAIcAUki/NmU2urzxgcPPR6Thzu7yIunpKqF6tWro4KJ/lefv4vcyXc4kIW2e3ncx64d23H68nXIK6mjV5/+6ESl+qwtzUuMI1w8cwSLliyHjJIBpv42ATbWFgK5Zk7NxIR4BAX64dSJo7jr/hSOzg0wfuwo2FeyLJXoBgZraKAvVi9aiGOX7mHviZNwsjGjvP3SiKX4DovIuygxBMqU8LOLMSw4ADevX4WXt3+eh//WtatIkVFC/bou0NFSJzGM9yIYn5w5CWJIk0VSR88A1ehHqoq9XaHF/j7ZHv/wuyPAQr3Ky/YpC2p5mR+bG5uL6LW8rJloHuVpXqLzsLyce6I1Er2K1ko0T9Hn/JUjwBHgCJQUApJE+DPTknDsyCEsWble8PQX9bdRw9AO06dORBPX6hSi/nWiKLrHFLW//Gsler7I/1lx3qcmJ+L+rWvY8McWPPT0gqmFLXr37Ufh9S1hqKdVIgYNRvgXL10BJS1LLF8yD3aVrPKek5iYX1paCu5ev4hVazciOlUW06ZPR4tGdUrM4PAhPm8DfLBq4UL8d/Uxjl04RanR+l9W5mfP30URM2SP7XR6FPXwD8ctSX+/m7okDRllSvgZUjk52cIPU1ZWtqBmGfGWQlHWrkIcifYNGzwYVqaGhQaUqWGyEKSS+NEpdKd8xyIjkJKSgoCAAPj6+go6DkVuSMwOZDcs9o/pU7BNVlZWOLfFbJhFGg6bE5tbfvXZIjUkRgflX6vyNi+RejD7TWTnYXnZ2Jqx+VSoUAG2trZQUFAoL1Pj8+AIcATECAFJIvxZ6Sk4c+o/rN/yF1gELbuffetGP61QM7DBuFFD4FrbCTJfIYLp6elIpupaCQkJglI9+23OvxXmeTz/Puy9uro61Fj5uCKMP3/fovcJsVE4e/Iw1m7YgpCIWDjVrIP+/QegSUNXqKoUX0cgl/CvhLK2JZYtZoTfUtR13uubl08xb8FCPHoViCm/T0XXdi2ofHjuPZmJjieQrgHTM5Om+5oaifspKX7inkbYCnEbxJukSCuAmWIyCf/EpCSkZWRQjr4a3QvlERbICP9inLr+BMfPn4QliZ+zMyEXzoIGnBRau6TkJHpezYKsnAKJDCqRyJ9i3rg/fMOeKdgai9I9UujYeFp7GVl5qJMuAxMlFKoVsP7IEcu2xPg4JKdQFDbxMxUVVSizub0bBouCSEiIo7Lq6dSGHGk7qFE6trxw3Of+l0IVCBIT2ZgzqT8FqJImgoLcp1M02FhyyGnMDFfs3MokQUd2rqalZ9BcVQVBxcKcZqkpSdQniTISV5Un7Ql2jsp8wRjG1iWeojtYPwqKSlAj4cayLgtZ5oT/wwVNio/Fuf9OIllWBS2buUFXS+PDXT77NwthYmIddJoJi/vZHfkXZY4A+8GIiIjA8ePHsX//fkRFRQk/Ih/eLMp8oEUYgIhksVw6Nh85+iES/TgWoTmxOYTNJT/hLy/GNbZebK3Yq6ysDFndSXCn4D1RbNbgWwbCIqNy55VroClPhJ/hwJSP27RpgyFDhkBHR+dboOH7cgQ4AhyBQiEgSYSfCdUFU0rsS28f8qYVLaSf8XsZBVUqi10JBswD/hWUEhMT8fz5czx69IgIUWKhHG75CX7+5tkzBhPyc3R0RM2aNYX3+b8v6vss0vkKItX6Hdu24PCJs+SFUYJbi1bo2bsnqgjlv4uXT59H+HWssJwIv21Fi4JDpXk9vH0Vi5etQEBUKqbNmI62TRsK5fEC/X3h5fUU/oFBSEpKpudFBegbGaFyZXtUtiNjtvx7Qz2rPuDv54uAoDAYmRhDUU4Kz54+pb+DkZqWgao1qguGHj/v5zh+8BAePgvAtLnTYaijCRNTczhUqQyVd2Q+JSlRaOvxY0+ER0aTsSEdCkrK0NbRhU3FSrCxsYIWEen8a5WVlYE33t401nBYWFkgOT4CT5+9QPDbMOjoG6F5s2bQUlPEi2fPkZolRcZ4awT5+8HzkSdiYuMIdzmYVbBAVScnGBnqIYWIt9cTT7x67UNGh1RIy8nD2NgUDo4OqEhpEcKzGCGZywtyEBcTA+9XL/Da1w8R4ZGC2LuCojLMLS3g4OAIQwO9AoaSDMIrPDQYr0gjzsCkApTlsmm8hFdAEBKTU6CprQv7Kg6ws60IbU11mmtBA1kmGVEiw0Ph8/o1AoOCEEk8JT0zB8pktDC3sEJFukZMjPQL9JlOael+tEYvnj9DUHAIklLSoULPKmbknLC3d4CZmTHky8j5InaEPzMzA7FR0cgi4LW0tPIsYAWvnk/8RT9ur189R0JyBszMLSgVQKPAifqJI/hHZYgAu4CD6ALauXMnNm3ahBi6kJlFlz3ES/rGLN7x8fH0451E1kwVaGhoCKS/PMwrMjISbH5sXoxklZQFviyxYVZ1Nq8M+nFnuYtyVLeXWaslfWOW7OQE+i3NSBauK21tbYlfL/bwwdaJrRczpPXt2xezZs2CoWHhI8EkfV35+DkCHIHvh4AkEX6GSiaR2yzy1hZro99ZGSopVxgdLOYtdXd3p3rvtwXPqahfEVHMJWsi0ib69tOvIsLv4uKChg0bCiXtPr3nt3+azkoCerpj/dp1cH/8FErqumjVrh06tm+HqqT59TXDxpd6zM3hXwFFdTPMI4JtW9FS2J15r1PJGx0e9hbHD+/DyTMXYVa5Jn6bPAGVLUzx6uljHD52FO5PnglEX1FBntYug0hiMozNrITUA+dqTlBRzvW4pyTF48ShA9h3+CwqO9pDU00BDx+6E3lNFUhoE7eGQnlAT3cPeL98ibfhcahHpQ/VyGvvTPpmP/fpAX0i/3FRkbhx5TLOX7yEN/6BAtFn0QZppIWWRs93egamaOTmBrfGjWBsqC9EeTBDUBpVQ9v/907s2XcGzpRyHRsVgICQMJqrFEzNbTFq1DCoymdj6/qNeBkUjTatG+ORhwfCwsKJtGcjhdIrsqXlUdu1PmoQqQ8L9sdFGkN6FjnGyLAhRAIkp8G+ai2MGz8aVmYmAo7svGB9Hzl0EGfOniMBxhQoKSlBnpwz8RQ9QPHhcHZthBbNmqIa4aL4riR7IlUruHH5HLZu3gUbp3pQkU8h48Jr2l8K2RQdEEKCigamluj0009oTceyFHLRlkZr4PPyGc5Sfzdu30UqVZJTIoMIG2cqRUVk5UjTGlRHl84dUd3JgUi8DJKTEnD/5nUcoyibl95voKisQgYbeaSlJtMcs1HFqSY6depEY6ws6NOJ+vper2JH+EUTZyEY6fTAysr1sVx/tol+OET7iF7ZDwsD9Mj+fxEYHo+2nTqjVtUqedYh0X78VXwQYGvJCP/27duxefNmwQPu7OyMatWqSXzoMYtcYDc/ZvWuUqUK6tWrJxivxAf9bx8Ju8bCwsJw4sQJ+Pv7w4kstO3oZsms8ZK+sfU6dOgQ3oZFwsKxKfQtnKCsri/Z06LrKzGWLNOP6OYY/AQ1qtdAq1atJD70nZ2HzDh4+PBhIUKod+/emDNnDif8kn228tFzBMQWAUkj/N8bSOYAYBGazAgrSmNkY/jc8/rXvmORg/r6+sK/koxKY+NJotDxA//swN79hyi0Pw416tRDv3594dawXrFE7RjhX7h4KeJSZPBT5w4wIsFxFnHM0iriYqPJk+6Hp+SJV9U2QIcu3dC2pRuiQ/yxcc06PPMNRJWq1eFcqyYMdLWFEuOenh64ffc+jC3sMJLKk1cnEsvCxxPjY7Bv51YsXbONnlHUUcWxCnmMLSi1zRT6urowNTMiz3cEXjz1okjp03jyOgAjxo2FgbYmrG0qUR81IJOdjsvnTmHbX7uQSFmn9Rs2QmXycKurqiA2JgpvXnuTAccD6TmyaN+lK5FoN5gbG9IzujSlbsTjz7XLsGDROphWrAI7e1sSd6wKMxMjqKjrwKV2DSRHh2HJvBk4fvE+atZ2hgmNr3at6lRxTQ1RkW9x9eo1+IeEQ0uDnCtkZNDSN0QD1zpkvFBBCFVtO3/uHLzIIz919gJ07dCGwv/lhHMpiea+fOlCBEcmo5KtHQkjmkOZDCShVMr95o3reBMUQVEbbdC3Vw+YmeamMCTERePU0QMkpDgdynrWQsRB7TouqGhD0QNSOWT0OIcLl66jQqWqmEzVG1xqOglGLhYR8vyxBw4f2I9LN+9BQ8eQnnkdYW9biVJAFBARFoIH9+8jKDQGPX/uT3oQzSGbk0kGpYdYvWoNQqOT4EjPXAxvbU2ad0QYVZG7jSfPXsO+ujPGjR4BK3NTyLFo0u+4iS3hTyFLSTCFqYTSw3hqapoQbvs5XNhDYHJiAo4dPoDopGwMHjEKzRu7ChaXzx3DPy9bBPIT/q1btwqE+CeysjESyfJxv3SzKNuRf7l3Nm5GiP/991+cP38eLVq0wM8//0xhSsZfPlACvvXx8cHSpUsFa37r1q3x22+/SXxEBvvtePPmDWbNnImXPn6o3mIkrGu0hqaBFa1IwVxECViivCGy8zA65CXun1yLoKcX0L59e0yYMEGIzMjbSQLfsIdBpvsxb948vHjxAj179uSEXwLXkQ+ZIyApCEga4Wee1K8KXRcCfClKbJam+2NhNpYO9+FW1Gc4dk8W/fuwzeL8zXCJj4nG/j07sf/wccSnZqF+4xbo2qUTXGpVpbkWvfVLZ49g7vxF8A0IhZWVDZFC5Xd57CwNMkNwXOroEbFt7IaWzZtBT0OZiOg+LFy6FrXqN8WAgQNQlUi9uqqyYDR5Tfn+e/7eTZUFbmPUhCno3qkd1FWUiOfE4MCubZi/fD1SsmTRtVsP9OjRDdZWFajMnzIorZ9y1DMQ6PsaG5evwoW7T/E3RRZYGevRc7UihZ7Lw//1C6wi4nz2mgdaduiMoYMHwKqCCXnF5YnQJyKEUgxOnjiOoydOwci6Cnr16oU2zRoLx6YkJ+Cv9csoJWEhLBxqY/DQEWjTsgkM9bXpmV1K0A8I9nuJ5QtmU0nAc6hR2xVDhw1D8yYNiNAr0/hjcYRI9B9btiEsOg5Va7li4OAhaNqgthDNzYjxySMHsG7jZrh16Y9JY0eigoEWLUyu8OGpIwchr2FMofF2FL6vQ+Rclow4sbh49hQ2UZtmNk4YNnIEnKuRw5fOX0b4Tx/bj/FjJkBKwxT9Bw9Dnx5dhOoTzIDx4vE9zJ+3EF4+Yfh9xhx078IMDPJIJf556H97sOOfPciQUUWPXn2oTHwtWFLEgSJ5+OMTYvD40UPcvvMIro2bkkGjGhKoBORBMiZt2P4/NGvdAX0oXcShciWKClCgyAby/N++hR3bd+DJmxDMW7QEjerWEta7sNdY0c/O90eKJeFPprAVptR/+vQZPHvpTeEtKXk/YOz3R0qKRNDoNZuFLtGDLXswT6dQlMSEZBLjqIvRY0ejDl3AbMH5Jp4IsJuByMO/bds26OnpoU+fPmCkn3mNP3UDEc+ZFBwVmxcjkCxy4dSpUwLRYjnGpqamBXeUwL9evXqFmUSM7969i86dO2Pu3LmCcIkETiVvyOzBwtvbGxPGj4fXi9dw6TAJlep0gbaRTd4+kviGnYeRgU9x6+AiBHj+h65du2Emhb6zVAxJ3hjh9yNvyZQpU/D48WNO+CV5MfnYOQISgIAkEX4WpuxPhO2J17M84bRvhzgHCiralO9tD1Mj3XKTGsvCre/euIpV5IF9GxWHmi710at3L1R1sCdvc/FSSZmHfz6J5IVEJqEeeZC1tRlJJS0Eul+pkgCfkbEJHCnHnOXFa2pqwPfVMyyaNQ03vfxJSHADGtVzyRWye7dY2ZQrf+fqJUyaMg02tZsR8R0O+4oVkJZEEQq7tmLxms3QMKqEiRMnoH3LhkTGSXgwn3FGUOkngcD/rj3GcVLptzLNVelPT0vG2ROHMHr0RNjUqIcZpCVQ36VGAa7EUgHfkFHgjw3rce7qXTQmr/mcGVOhp61BxDUef61bjplzFqP7oLHkFZ9AYffGeZpp7LnD//UzLJs/EwfO3UevX0dg/IhfYW5mmGs8ou/vXLuIhQvmU2W2IHTu9TNmTp1MWgHKwswzM9Lw/NEDLFq0CCHpalg8bxZcqttRdIO04ARMp2oHUlSynUkXMs7HdAdY2sSr515YR6kaaTIqGDBoCJo3chWIey7hP0DjnAJzpwbYtvUPIU1ATjaXGzJNgqVzZ2L7PwfRvf8ITB4zRDgX3ga8wYI5s3HnySv8RGUcB1AqBJs/MxKwjc0zg8aalJRChhJFoaS8x4NbmDFlEpLltQXHmHN1J/r8PQdlholTh/+H+WTkadF9CPr36QJbS1NBN0po9Dv8T+wIf3Z2Jjzu3cSkSb/hpV+gIOCgRpat7TBz6AAAQABJREFUWAqL8fMNgBzV0bQhsQg1VSUwcYS4uFiEhr6lHJY0sibVFXJeOrRrDUNdLuL0Hc6fInfBLphPEf6uXbtKPOFnnvD8hH/o0KHlhvDPmDEjj/AzLytTKpXkjd0kmSHjY8JfUZKnJdyQcgn/wjzCP2v27HJD+CdPnswJv0SfoXzwHAHJQECSCH9GSgL+2b0TE6fOFgRb85PAwqOdA23z6li1bAHaN3cVyFbhj/14zywiRjHR0YiKjRfGlLcHPQPKU060gYFBqZfRziBy+OzxQ6xZsRz3n1JYtWMN/Ny/P9wa1C1AtPPG9o1vRKJ9iprmWDR/Vp5oXy7+VDacPJTSRP6ZNzcnm8j89csYPGAYKc/qYNrUKRQSX1CDhhHcsJAALF22HJkKxli8YAYZBWohIzVBIPwrN+1ArSYdMH7CeFSxMMgjoqJh5y/Ll5/wx0SEYtsfa7Fw7Q4MHfs7Rg/uAzMjPdFhea8JFD5/bP9erPtjG/TN7bB6zSpUrGCcR/iXrNyAMTMWYcTg/hRZ8D6tU0T4l1JI/5VH/pizdB1aN6pN0QnvNZEee9zF6pXL8NwnHH0GjKAx9MrrFzlZiAz2w+LFC3HhcagggNi0LqUhENFmbSfExZAoZQhxvlC8pX8xMbGCwDKLDLh0/iJUdEwwaNhwtHSr/57wHz+IObPmwaV1D2xYuYBECwsKNP69eSXWrP8Drm36YNbv46FHGgee965g6rQ5yJRXJ+PGAtSt6UjRBJ8PAclITcSZk0eo8sNw1GrUHMOGDBLaye+4ZIe/8X6KpcvXoIK9KyZPGAFX56oU2UBVDShtPT09Q9BYYtpERbtu38P4uXdiR/gTYiOxbcNarNqyG42at8GAX/qiEoWrPHG/S1aTlchUMsZvE4aielV7EnFIImGK5zhx7Ahu3X0At1adKXy6L+VZ2BRe7O9zyPDPSxUBTvhLFd5SaZwRY074SwXaEm+UXV+c8Jc4rLxBjgBH4AdDQKIIf2oSTp04hpXrNxeD8APqhraYPH4UhR1TqHuxImXpPhTij3OnjuHK/WcCkWFklm0sx93Q3BqdScSMKeXLfIFQFeeUY/0Ekcf2nx1/Yt+Rk5Qzboa+v/6KDq1bQpfI3edpXOF7FRH+L5XlE7WWReKBl8+dwM+DRiI+OZO838ZCKLzoe/bKxsTEaePi42FR0YFSDqdRnnttIvwkmkce/jXEj5p17oPx48bAWEv1o3SEDwm/NXn4WZuhwRRRsGIxdh66hBnz16J7+/rkuVZjXRbYWDTE1XP/YcWqtVSjUQ/LV29AddsKJFZHIf3rlmHV+i2YNHcZ+vfrXaCEXh7hJ+HCu68iaJy74OxgBSW5957uJ4/uYx0ZEF4FROHnIaMxsGf7930T4Y8JC8bSJYtw+kEAli+ZB4Hwk8EkPjYG58+cxLHjJ/DytT+yyXjCIhtUSXsgkww6/n7+MLd1wohRo9GiSb08wn+GCP8Cir5o2uUXLJzxG5RIwDD/dmD3JqxZuxFOjX/CnKkTSEdBEzfOH8G0OcuhZVARS8lIYGdplv+QD97nULWBOBw9+Dd6DxgDXdIkMNCnFAoK/afHsLyN4c9EEVkJxerODTCW0hVca9cUUs8TSHjQLyAE6hT9YWpsRNdC6eT2ix3hD3jzkkI8piAkSQFTf5+MemQBYXUlg/19MI/CTy66+2PNqkVUsq8RiS4ALMTj5YungmDfg2e+6PhTL3Tr3A4aJADBN/FFgBN+8V2bz42ME/7PISN+n3PCL35rwkfEEeAISB4CkkT4macwmgT0gkLeCgSP3QeKsslSpRpjQwNokeBYcbyNjGx7PbyFP/9Yj4hsNfJo1qAc6Nw67WxsWrr6qFOnLsyMDYrVz5fmGBkegtPHD2P77n+RmC6NnwcOQbuWTVHBjIgVkcaS2L6F8GdTxMPVCyfRf+h4yCjroVf3DoI3+FPjYMYWLRKMq1/fFRVMjZBCIf2M8K/d9jfa9vgF48YSwSQRuQ9n8TnCH/42EOtXLcHWvWfx2+zl6NvFjcT+Pi59zjTRLpw6jtVr10NO04AI/3o4VXpP+NeS53/KvJXo17ObkPsvGjtbUxbSv4QIv7tPFDbv3gtHKzMSpxPtAXh53sfatavgHRCDXwaPQf8ebd5/SToLseHBWLKYEX7/XMLvWhOZxPPOHN+Ppas2UkVFdbjUcYWLcy1BHFFZWYHU/gOxe/tOJEMBvwwcRB7+BgUI/+LFS9Ci20Dy4E+A8gce/sN7ttE8N8KhYQfMJQ+/vq4Wbl86jqmzlpCtwwKLly4ig5TFRxi/HzQo5z8Oxw7uwc9DJ6IGkfm2rd2E/PxPXX/SJLRgZMqEDGvAhIkhSmUjhMZ/6fptKt1nJWgFMDHD0tjEjvA/e/wAE0mkooqLGyaOGwkjvdxcmNioMGxdtxRr/zyIhavWoVvHtlAh9Ua2pZNVk0UALKOTUt3AAmNGjUQVOxsq1MA3cUWAXQg8pF9cV+fT4+KE/9O4iOOn7PriHn5xXBk+Jo4AR0CSEJAkwi9uuLJc9Munj2HL5m1o2GUAendpDQXKa86m+xPbZGSp9B/9Y2HNpbGlp6XizInD+JPIYEBoNFp16ILhg/qT4Js+FPKz0GJ2/i2EP4e82B53b2HUiNFIklLD1i3rKSrZWoikyIUlF5tsKuOWSQYcOapdr0gkVY7KviUlxOQR/nY9fyXCPxY6yhQC/sH4PyT8ohz++JhI7P5rC6YvWI0evw7H5LFDUPET3uuYqHDs3fkXtu3aA2uHGlixYgUsjfXzQvpZqP+U+SvRlxF+Kjsn2vITfg9fIvy7/oWDNanR5xvgtxL+ZpTKkEAp3bOnjMSxS/cxatxkdO3UHsZGhnk58q9fPMGCeQsQm0YGnQGD0Krpx4S/ZfeBmMkIv2JBDz8j/MzDXyUf4X/heQ9Tp85AdCow8feZJAJfB0pkqPpwYyH7zCCWmZ6My+fPYMTQUbCr3RTLlswRIjeYi59hwvZhxi923meR5oA8CZMzkURpaVlauywSAYyHn38QpchqwpQqHpRkdYr8YxY7wv/44U1MnDIdDVp0wsihg6CjmSumkRQfi5P7d2LKnKUYP2s5+vXoTGUeRF78bKorGY7Zs2bidVAUho4ai5ZN6nOV/vwrLWbvOeEXswUpxHA44S8ESGKyCyf8YrIQfBgcAY6ARCPACX/Rly8jIxWH9+7Brr/3Ydwc8rLWr1H0xopwpCcJqa1asQruT1+gclUXTJv+O+xtLEs85fdbCD8TGQ8gFf01i+bg4PnbmD1/KbpQ+TmtPD5DEyVPdyCJL3q9eINKdpVhTir6shTWXlzCz9IJrl44jVHEkdSMrDF1+jS0beEmGBNE8DK9Ay9SoF+/bi3uP/FB6w4/YfrkUdBQV6MIAxLtW79cyO3/XoS/ORH+6MhwjBrQAw8pauCPLVvRpL5LrgggDZrN6dx/x7Fs5SrIaRlTVYCRaM08/Erygko/C+lnHv5vIfwRocFYvmgeLl6/jyZtu2DEkAEUhaJPOIk87zmUUp5MFYOCKUpFF5pUcvA5lVJcPGcangYnYtbc+RSF3hiqSu+NBBlUOv619yv4BoWjKpXsYyUYZQVRP6oewUL6SbNOTUOT9ByMfxzC7+VxBxMn/w7nxu0wdsQQyi/JFQVjYLlfO43eQ8aj7/ApGPxrL5jo65DlJPc0ZSfpmmXzcfW2B9r1HIB+XduROIOC6Bzmr2KGACf8YrYghRgOJ/yFAElMduGEX0wWgg+DI8ARkGgEOOEv+vIlkzL537t3Y9+xs0IeugHlzCelpJLHWpk8tMYCiRQpnxe9l08cSZ7Ut0FvsGLpEpy9eA2GrJ79qDHo0KpxqeRHC4R/yQooaVtSGPp82FWy/MSg3n+UmpSIG5fPYvK0mVRmrgIG9u+Hxg3rCikUTHXe/81rnDx6BJfueGL85N/QpkVT8jBLvyf8W3ejXa/+X/Dwv8aqhYtw8oonTlw8nafSz0YQFuiHbRtXYfu+Y6hVrwmV5RuEilaWuWX3aFy+Pt44dvQwhZjfRQ3XZujdqycaujhBnjzcIsK/dtNWTFmwKjek/5Me/mlw943Gll17ycNPIf0fevgph987kEL6B1FIf8+PQ/oXL1qI0w/9sYKwZIQ/IS4K86aOw4HTtzB09Dh0bNsaBhT9nUW87+WzJ9hL59jZi1dJDK8a5fCPRdtmDUlMUCEf4V/8jvBP/IyHfwPsG3SkPnJD+lnaxdn/jmIDlQcMiIhFtx69Uc+1LqwtzaFMnvlEEjV85OGOi5dvoGGzlmjTqjmySF/hwumjmE7aBha2NdGXlP3rU+k9NdIYSKVyh17uD3D48CG8CIrG/EWLqXSgI2FOBoSsdDIEPMc/B47BrrIjOpHoPNMmKI1N7Dz8r18+wTQquaRoaIeZ06eQMqRR7rwpNMjnhQc6dOmNph16Y8zIIbAyN8mz8mRQKYkNa5bgwrW7aNaxHwb37iwseGmAxtssPgKc8Bcfw+/dAif83xvxovfHCX/RseNHcgQ4AhwBEQKc8IuQ+MZX8lIzz+yO7X9h9/8Oo2VTNyqpJoUUKrOdQeHqVja2aNSoMZWrq0zCb+89od/Yy8e7E9mPjgzF39s3Y8+Bo5TzrUV11H/Bz326khf9Y4G6jxv49k8unTtGivqroKxpQfnnc0il/8uEn4V6R0WGYd/eXfjf/sOIT8pGdcrpNqNwbpav/tTrCbz9glC3fhNKUR4OJwc7IWyfGVD2796KDX/tQduev2DM6NHQptRmkeNTNPK3gT5Ys3AJleXzxNFzJwsQflbO/CWVsduwfi3uPHCHDokY2tlWIi+1KmIjI/DG9w3ehkfD3qkmBg7oj7ouJCxHOeWMs7N68js2rsQ6StGYPHcF+nbvSuJ079eOPXcE+DzH0nnT8cg/Fpv++htVPgjpf0pp2+vXrxFy+H8eNBq/dGslGrYQ2cBy+JeRoeaMewCWLZwDN1Lpz6JIkZsXT2HOgmWIoDB7l5o1YUHcMJ2E2319/RATn4xEEnxX0TJEn18GomMbN6r8oCSo+p8j9fyl1F6Lbv0pUmH8R2T66L9/Ye26TUJI/6wpY6FPRim2PtGExZlTJyg65W/4+IfAyroiKtvZQk1NGZFUGc7zkSfSpeTR79f+QmqDjpY6wklwcPPGdTj533kK1FdArdrOMDHSRwxdB+4P3RGXmoEGjZtiwthRFPJvQhUwKNQ/MwMvX3rhr737qRRmNXTv3BFKSj8I4Y+l0PyNa5Zj+/7TFJo/Br26doSutiYU5eQRRoIT/clqIq1uggmTJpL1pHZeHk4MXeALqWbjoxcB6DVwBHp1bCWINrw/k/g7cUKAE35xWo3CjYUT/sLhJA57ccIvDqvAx8AR4AhIOgKc8BdtBXMo/zycQqN3bN+KfUfPoXnzVqhP9eYVKXfen0Lajxw5SmXUTDFq9BiqBV+t2OX/RKNkXODAv7vx545/kJqjiIFDh5GQdwcYGeh+lOsuOqa4r96UQ37p0mXIKuuifduW0Nf7ellwdo9Oo8hlz4f3cO3GLbx49RoxsXGka6AAE1NTIey7RfOmMNTXzcMmjUqRez64i+t37sG+em00atCQPP9SNK98LnSaDMvVv3rhIp69DsZAipTWITKffw+WTx5FON2/dw9Xrl6jUnehSElLg7KqGgwNjanv6kT0XXJTCfIpxqeT5/selRS8dvM2VUXriFrVq1L4eT5FPuo7mkr/XTp3GkFRSejWuy8MiUDnL8AQSuUGr127hsjYZNSqWx+1qeLa+40U7xPjcPHCBbwIjEaHtq1gY2EmVCHIoND929ev4eKVK/Ch8HdWxk5TWweV7R1Qs0Z1xEe9RWR0AuwcnFDNsQqV95YnfFPwwssTFy5dhC2ldLR0a4wPBfEek/7btWvXYWzjQOr+jaBKhgK2sfVJpbD916+e4RbN1+eNL0JCw5Calg5lFXUyWFVCnbquqEkY6GipvdNgYKUDo/Hw3m3cpspxr177UH5+Mu2vBgsra9SsVQuudVyE6hB51SrIw8+E57f/sx9VHKqiexdG+AvqDAgDKoH/iZ2HP5NOqFuXzmHClGlIzJKBW/MWaNOmDal71oRUZiqWzZuG8zfc0ahtV/zauyuM6SJOS46H+51rWL9pG+Q1jak25UQ0rFuT6iZy2b4SOEdKpQlO+EsF1lJtlBP+UoW3RBvnhL9E4eSNcQQ4Aj8oApzwF3HhycOfQB7pp0+eIDA0Cs7OtUn5n8rDkTuakbfLZ45h09a/4ejSDLOmjqac6+J7NTPJE3z8wP+wYfNW+ASGovcvQ/Drz71hXcH0Xb50EefylcPSiSynELmElAwRRuVvShvIIo97UmKiUIIvjcikFKm4q6iokICb+keY5GSTkYCwS6G0CCb8xoih9IfufRorSwtgkRTpGZlQ11DPMxh8OI2M9HTEUrm75ORkZGRmQZYcq0zFXk1NjQiz4keRAyISnJKaCmVlFaqgRhUCPuifzSdFaC8bapT3L5vPYMD6z8yk74lIZ9FcFElAj4nX5d+YoSjp3fEqhCUTLRR1kUne8PjYWCQkJiGT5iivoCiMVYVK7bEyhqxtOUoxUJBXIAJO3nMi7Uy4MZmwkJNXBNvvw/Gm0fcMq9y5KwvHfTielOQUGlOSMK7MzGyhD4aRmpoqzY+iH/JbU9gcKeI8idIj4uITkJaWkbe/qqpqgYgI1k/Oj0z4afpknYrG9m2bSZzhTwSFRVEYfx9MnjQOthQa8uT+Fcyct4Qu5ig4OTlRCIwhqfQn4OmjRwiOikNXymsZQxYtU2O9Ahat/AvI35c9Apzwl/0afOsIOOH/VsTKbn9O+MsOe96zeCHANK+l6H+klywMTFBMpgfBDx/8xGvUfDTiggAn/EVfCaZizogYC5FW+CAvOYlCsOfNmYeX4anYuWUVNIk8FW/LwSvK555JQnT33J+gRsPWmDBmBOVK25e4SF/xxsmP5gi8R+AHJ/zstyGHciHewsvDg0JdrkFF2wQdO3am0A5jgdyfPHYEW7b+CY/HT5FKFioq7iGEdnTu1hu/kDWvmmNlqvtYMMzkPbz8nTggwAm/OKzCt42BE/5vw6ss9+aEvyzR532LGwLx0RHwevZUUFVmNcYrURhoZcqzZaWu+MYR+BICnPB/CZ3Pf8fuQenkjc4gL7OikspHEbc5melYuWwRLt7xxs5df8CAcqCLs70N8sOff2zE/w6fgL65HSZNnIgmDVx4am9xQOXHljoCIsL/F1WyYCH9PX7q9OOE9OdHN4NCLSKjIpGVIwUtbd13qvtMTCGSch5ewD8gAIlJSRQCIwdtKo1gX6UKzExN6AIv3+r87IdU5K2Qlvq2tAV2bBopRr58+QpZVAPSwsJSEDL53t4ONo6goCBs374d27Ztg56eHvr06YOuXbsKoUTMMiyJG5uXj4+PMK9Tp06hffv2GDp0KEwpJ0vSN074JWcF2XkYGfgUtw4uRIDnf3RddcOs2bOFUEHJmcXHI5UhQ66fnx8mT56Mx48fo2fPnpgzZw7lHRp+vDP/5PsiQPWlMyiUMS4+HomJKYLhXjQAaWlpyp2Uh6qaOtTVROV0Rd+W3ms2hYCGBr7Bxj/+wLU77hTymQUjE3P0GURKzk1qUg1pUZml0hsDb1myEeCEv2jrl0oh0A/v3cTZ85dQr2VXNK7jROHM78O305LisGjBAni8icSOreuFPPOi9QQSRQvDsUP7sHX7bmQrqGM41bjvSqXuVEipnW8cAXFGICebBOlfv8C/B47DtrIDOrZrJaQklMaYxS+Hn6x+iZSfASKjKsrKZBVkeRj0Jz0wiDb2MJtJYULp5N3PoveMrLL6iLJych/li4iOKS+v6ZQn9MbnlfAjalzBGo0b1YeejnaB6Qn4UC4Lw4gll7BcnzyBCCLS0cH+WLl6FZKkVTB44EBUsav4UQ5KgQZL4Q82Rk74SwHYUmySE/5SBLeEm+aEv4QB5c19HYGcdCon9QrHjp/GoyfPiPxn5d1XpMlQo0D5mrq6eqhc2R61SLzIxsriI8Gnr3fybXvEUzmnPaTWvXztFtg61UYDVxcYm5jAuW4j2FpSveP8alLf1jTf+wdBgBP+oi10Cimo379+CRuptJkhlSkbOXQQXfNMgE2KcswzcZ3U4zds2wWbavUxY/JIcuh9ew5/DukEJMbF4tbVS1i7fiO8fQPpOq+O9u3awtRQr4DR8VtnIUO542bmFrAwN6eKX98+tm/tj+//gyJAhvIYSmN//tKHHNs6qGhtSffF0jFEix3hDw8NwqlTZyCjaoAWbg1hoKvxg54FH0+bKWv6kiVo8/oV2HXgP9Rv1gYLZk1H5Uo2BXZOJ0EN75fP4e39GoqqGqjfqAlUqN4jM4zkkNBF2JsXGD9uHGJk1DB79izUqVFV+K5AI6X8Byf8pQxwKTTPCX8pgFpKTXLCX0rAfudmWf5rXFwcUuk3XVtbW4h+ym/8/s7D+XJ32amkOH0LK9dswOPnvjAyMiVPRW45J/ZgzoSPoiliL5PEmhq5tcTYcWOpNJER3pvyv9x8Ub71ffUUE8ePx/l7vli9ajE6tW0qEAtZEnWS46K+RYH0hzuGE/6iLXkWRde8DfDF3n9247/Lt9G4SVO4NWpAIm1yiKDyZfv3/g+pMioYRBGQbvVqF8n4x/rwef5Y0Pz637GzFPkqDTUNDSoxpyFc37mqHUUbvwKlITRr1wX9enSGoW5Bp1rRWuRHcQQ+jQCLaGZih1Ik+vhh1YNPH1G0T8WO8L/08sDkKb8hRdEEi0mRv5ZDxaLNrBweFR8TgT27dmLB0mUIjUqgH6OOWLVoPnnoKxWYbVx0JPbv3IF9+/ZDx9oOqzdQfpSmCnn53xP+MVQKJUZWDXPnzEGdmlU/qfRZoNES/oMT/hIG9Ds0xwn/dwC5hLrghL+EgCzDZtgavn37lso9XRLSF9zc3GBlZSWkPzGF4NLyAhR5ykT4Pe7dwIo1f0DL2BqDRwyHIZWDYoQ+m5SXoyMihJJSByj01v2ZP8b9Pgu/9voJGqqlU4KIzePJ/TsYRYQ/Qc6c7pUzUc/ZjuftF3mBf8wDOeEv+rpnUcTum9feOHzoIG7fuU9ppBTpQzXdIyOjYFXRAd17dEWDenWK5N1no2Jq6C8e3cOu7dtw5eELoXwbM4iy387iborKqmjRsSv69+oGI/2vl9krbn/8eI5AaSMgdoQ/yM8bM36fTBZ5H6xZuwpd2jSjEhcf1DwobVTEsH1WquLs8QNYtWYd7j1/g0wKl2rQvA1WLPwU4Y/AP1s2Y88//0Knoj22/LULRjoqQtUCkYefE/7SWWR2o+E5/KWDbWm0yqJemCFjApECrxev4dJhEirV6QJtI8k2NHLCXxpny/dtk1n937x5I2icrF69WtApqFSpEgnYdkTdunVhTqGmrHSTPOXFfm8Nlk8i8Y7wr1yzGSYVHTFmwiQYaankefBZhFoWpZpduXwBY0aPhXHFali/ehlFqFl+srmS+NDz7h0ax3hI69TC4rnj4VzVUjB8l0TbvI0fAwFO+Iu3zszYl0L5/HGxCQgNfYskKinHQpcNDA2goa5KCvrv8/q/tSfWdkxEOF6RpldoTCw945YcV2AGVRNza1SysSyyQeJb58P35wiUJgJiR/iT4mOwZ+dWLF2zBc3bdceQQb/CrqIFhTJSXUV6OP9RN3/v51gwfw6e+4XD3MYWl08dRI36zbBkwTw4vPPws7DJbAqXjI4Ixd4/t2HvHiL8NlWoJumfMNYllVT6AaMFR4TvS3rgyvXwz5s7By7k4c+i0FEWcplBD2SU+E8CS3JC+KicPNXALAXQGSHhOfylAGwpNsk9/KUIbgk3zQl/CQNaBs0xws+Mh5s3b8aqVasEHRvm2WcChbokUlu1alXUr1+fcuIrC6Kg7LsyJf8iwr92M4xtGOGfCGOtXA9/fviePbqP8cOHIFZKHdu2boaTQ+W8r7Mo5YzVUmbnL/PUsXvW51IY2D7snxQJ17JHA4YXOzabPmPijky3xvPubWEcsrq1sHDOeNRyMhfUwj9uM4eMEdQ39Z/bd25o5cf75Q5V1De7VwqpcnTvzSQ18mx6ZWNm/eeOiekP5d5BhbBNGl8WjVOaPJ1y5OnMb6jJP3cZaoPVr87/fR5I796wMTDCw4QIc8csnTtvOu7DTRgvPRuwQYnqU4v6Y32IxvzhcR//TfpJ1B87NrdPNo/3dbI/3J/tw4w8DFe2yVDNahay+qV5fdhGWf/NCX/JrAA7V1NT0+jcyabfKQX69/nzptA90vnF0p7SKOUp/d3vRqGP/cqO7NpXoDrvCsQ9RBpYXzmEf80REGsExI7wZ1II0LMnHlhHnmyvFz6o7uIKt8YksEN56no6OlSu4AviGXTjYjcfBRKpYzfL8rAxr0hGejI2rl6OfUfPok7jFqjhWAmzfhsPR9emWDz/PeFPSohFSEgwnno9w+ljR3H50mWoGZlj+MgxMNLThIlZBQoJtUTKWz+MHj2acvhVMWvWDFSicoePqQTi02cvEU1WUnoigJaWDqwr2sHJqQrpKOhSWRXyIpUg9WcPApzwS9YZygm/5KwXu764Sr/krNenRiry8DPCv3LlygK7MMKkQ/dDMzMzWFhYCKS/Ro0asLOzo9x5I6iqqn6RLBdorKT++JDwT5wEY0olK5ijnwP3u7cwftQIZCjpYguV0XKsYicQ9YjwUPj7+SOMQv/T0zKgSKK9xiamMDY2go62FnkC5fJGyrCJjo5CyNtwqGvoQllJGsH+fggICgZk5aFrSNV6pLPxzOMBpRishbRWFYwY1BN2NkYwNDIg7QAzAR9GQhIT4hFGZYDD3oYhMjoGGUROFZVUybBiBBMTY+iyvomc5N/iqG/vV6+hpK4NPV1NvA0OoJJ/gUhJzYC9oyOsLCsgk6oMBQWHQp8MNLJE+t+GBCEwMBAJiclCmTJzC0uYW1SAMuU0x8VGU+WclwgLjyCjew7UNTVpXS1JMKyCEALNiLpoY2NOpupEoW+Dhf0jI6MFsqOoqCyIIlpYWtCYdATDhuiYpKQE+Hq/QVq2HI3NmLQUwoXxRkVHkxFAFvoGhrCxsYKBvt5H5Ib9ljBnQlpyMnloQ+i4AMTEJdA4s6GsrAIrGxvCyYRElhXzjmXHJFM1oKDAIAQHBdJzRZzwXKGuoUnGKTOYVTClakrv9xeNUxxfOeEXx1XJP6YcwVmVnJIGTU11weiV/9uivGfnOxO9liIDlWC8K0oj/BiOgJghIHaEP5VC1e/duomDhw7g3LkLSEjNREVbIp50E61gxm4qysRHmUX//Q2QYcpuMMwqblbBQvB8GOjpfLSPmGFfqOEwAT7P+1cx+feZUNExx6ixYyGflYiB/fvBoW7TAh7+sJAA3LxxDSdOnsHDh+70gBECGUVVVK1WnR4AtFGnQSN0p7J3JNOPUaNGIhJKGDpoAFJiwvDf6XOIiU8UvCTMes8euFQ1ddCydVu0bNEUlawtSICp4ENPoSbwmZ3YenHC/xlwxPRjTvjFdGE+MSx2fXHC/wlgJOijLxF+0TTYwygzcmtpaRFhs0HNmjVRrVo1WFtbw4IMAazcKTOAf5dNRPgppN+YQvrHUh1sI82CHv742CgcP7wfCxYvh1PdFnT/mgmrCibwefUMly5epDzfe4hLShYM9sxjrk/Cf7Vc6qB+PVdYWxBJf2fIZ7m7D+/fxZET52FpVwsq0vH03HANPgHB0NIjI4idE1IjXlP+8BvcprD+HEVd1K7hAD1tNTRp3orE+1pRmK4SIsOCcPfePdy+fVswFiSnpNNDvgypiGdD18AITtVroL6rK+xtbcjgIPsOxhy8euyBDStXQ92sGqo5meHG9cvw9QtEcmo2fh08GC2bNUJYwBscOvof6lAURjbVI7996wZ83vgLAoyMLNvYVUGHju1hZqCDm9ev4PKVK0hMThfqlmeT/JhD1Vpo17YtalZzKGBwiIx4i0cPH+LGjVvwCwiiY1KYjZ4IChkKyFBfr2EDNG/qBgsz47xlZzXKt2/ahOBYJbqf18Dzp554+tIbqSkpSElKEQwXbs2aolP7tmDPTvkjG5gTJiE2Fk/cH+LytWukJv0KaRnZ9LwlQ9EKWbCyroymzZvBuVYN6GppCraJpLgYwvWOoD/xyseXIh9YtSUWtSEjOBKaNGuGqg5sPTSJUBV8lssbtJi84YRfTBbiM8PIJs/+y1fP4fX8NVq1agE1leKX/Uyjalh+FFWrrGMKAwNdyHOBz8+gzz+WJATEjvDHRpEw3Y4/8e+ho2RFTiTLfwYZ7OWhRCV9mJX9U2SfAc5uJnIUJlS7bn3069tXuEGLQukkaUHyj5VZGL2fP8HCeTPxMjgeY8ZNQJsWbnTjvYtf+vUmD3/BkP7Y6HC8pFym27fv4OqFC/DweAQlbUN06dYNBjpaqGRfBXVdnJEaFoAxY8bgsX8o7CtXQjqFWZlQiT8HhyrQ1dFEWkqyoPJ/69YthMemokOXHvi5dzfyjliwCMYS2TjhLxEYv2sjnPB/V7iL1Rkn/MWCTywOLgzhFw2UGcAZ8Vehh11G8ll+vwMRKtE/5oHV19cX9hEdU+KvRPgf3b+BZSs3IkteHZ26dIGWihLdMnI9xAkJcXj1/Cku0b0pNk0a46ZMR6fWbgh69RibN/6Bpz7+MK5gCVvbSuRV10AE5fs+8XpCBoA01G3cDH1794K5sYHgLc8g7/l/J45ixtyl0CW9DSXpdOgZaKECecT1DUyhrmuEUN8ndB97gfMXLiNLUR9NG9Ym8S0N1K3XEM0aNyASnoR/d+/Ckf/OI1OKPN8U/ca83GpUuzuMxBJf0LGhYRGwsq+O4cNHwNHWkhTG5YVnjftXT2ME3YNjSQzQpqIx5SMbUt+mBKk8mjVvjhrVqhAWNzF91nyYUmQdU/yWlVOgdTEjkUJFvHzmBfcnz2Fkag4LE0M8evwUtna2sCONhuyMVDx8cBeeT5/BsVZ9zJ07D1amBoIgGVuzp4/uYt/+g/DxfwsNLV3y2JuT8UKeovsC6f7vjci4JDJqtEO/3t1hYaovLLPPs0eYOGwA7rxKgb2dKcysaNxkFNLV0kBIoD8ePLiH+LQcDBw6Gu1bNyciri4cx6IJQoP8BSfMjl17EZGYCkc6r6zoeFaqLDw0mIwdN2FsYYthI0fCpYYTjTMbR/b8je3/7CNcpWFfpYowRmnymvr5vcHzFy8hq6yBLl27o2ObVtBQUxb6Etf/ccIvriuTO64c4ggenh647/4EPXp0h6a6WpEGzO6ZKWQAi6FKIv6+r3F4//9Qr8MvaNbQBWpU5YpvHAFJR0DsCH8yhdfdvHYF9x89Rg7dLBi/ZBdi/n+fA12W6mZaV6wE13r1YGpkmD8K7nOHiPXnzCr/D6mPbvhrD3oNGIHhg38Raotev3yeCH+fjwg/K+uQnpaOULrx79+5E4cOHoKmpS2FNK4n0T41ISdfiR5YIkkYcezYMTh+5TZMK1ihc9ef0KdXT5iZGAlefCYQGEVCKGdPHcfK1eugZ2aHcRPGoXPbFhSyVzKMn60n9/CL9en30eA44f8IErH9gF1f3MMvtstTqIGxNWSifX/88cdHIf1fayA/+Xd2doYjRcixXH/m+Wf5/ywioMQ9/wLhv4nFy9bg2esAmFtaQ5nK8rGNEcekxATExsdCXU2HyvI1x8CBv0JTRQ6zf5uA4+euo2Gz1ujVqwdsiXQzYp2SlIgHFP6/f/9+BEYm4ac+/dGjQwvok1E6gzzmxw8fxNCRY5EFOXTs3A0/9+tFhn5rMmpQ+hl56dNTk/GYiOzMOfMgo10Vv08cjKqVTUgoTJ2MBjm4evYo1mz6E+ly6ujc5Se4kjHckrzisuTNY30/engPJ48dxvmb7mjbtR8mjBiACnSPZPrfdy+dwKBuneGXqoL6jZtSZaGJQt9MT0CN0ikUFWRx48p5jBwzERHRiUJUQd8+vSkawJ5C2eXg7/MKWzZtxBkyRqhq6cOF9HjGjhwEEyOqHU5YebnfozKCy/DIJxxLV29Bu2Z1oKqYK272NsgH9+67Q1peFRUqmMOEGUFozPFxUbh/5xb+3L4LSRmK5CAYh64dmtNoAW8vd4zu3x3nH/ihftPWpOEzHC7ONchQoIBkSgU8+99RbNyyE7Y1m2D8mKGo6WQnaCaxNMHz/53AoUOH8MQnGF169UWnNi1gaKAnlD1LTUnEycOHERmfihZt28PRzgbBb57R88UkRKfkoCc5X1o0bUIGHOb5Z/pC4Thz+gT+/d9BWDvWpEjDMcIxiu/OE2GwhfgfC7lOT88Qwq2Z/kBpbpzwlya6xW+bnQuhZKALCQ1HlSr2dO0VLaIpmwwHgQH+8KBIFq8nj4RI2SG/LUbXdk2hoSxX/IHyFjgCZYyA2BF+JvCSEB9HeW5Jwo31Q3yYJ4M9CH1uU6KcMjU1dsMt2kX/uXa/9+eZ6Sm4eeUi5i9YjKh0RaxZs0ywnrOSJlcvnfsk4ReNMYHCJplK/z9/7xVU+rdu3w1DrdzSRyKV/rGUGnDk0i3Ub9Ia8+fNQF3n6gVzLQljL8+HmDR+LIKjUjCUbsyDKY1AQa5ktBE44RetluS8csIvOWvFCX/uWjEveXp6uvDvU/cN0WeiFDHR3+zo/O8/XPkvffepY0X7f64fNk7RJtqXfebv749du3Zhy5Ytoq+/+VVbW5tyW1nutClcXFyElDdmAGBef2VlZYqcky+RvFe88/AvXr6WCH8gKlhYCYQ/V2yXCcPJUf68MWrXcUWtmtVhUcEQ4QHe6NW7H9LJAz9t2u9o5EreNIoKEG2R5OX/9++/sHn7/2BRxRnLFkynMrQ2AuE/ceQQlf4bTVFn8lizfhN+6tSOcvkLKn57EeEfOXYcZPVqY8m8iXCm8Hu2hQT6Yer4Ebjp8RLdfx6Igb/+jAqmRkRi39/fWLThTSLts2fPRaaCFjbTPbVOrWrCc8m9yycxqGsnRCoYYNSE3zF+9DAhF1807pzsTFyn+/So8ZMRnSiFQUMGk8H+V9LD0RB2YakNuzevw/pNW6GoVwELl65GKzdXMkTkthAXHYE//s/eWcBVdb5x/EeXgBKCoCJ2d2A7c3Z3TGeLqNgt6KbO2d2b7q8LnTo3dc4WC1uxFUFAlC7p+j/vwYsXRAS5wL3wnM9Hb5xz3vi+h3vO732fWL8G363fBYeZzpgyegBZ6RWVdorJjkjyp9egWAW65AevRab1IlhvQnwsWVA8IGuJdXBxdcMoYuMwbpR0jhD8k0f2x8kbL7B07XZ8O6R/6iq+OMDtjitmz5iNUJoomD9/Ftp91VwKrufj6Y4tG9bj7xP/olqDZlj6/XcobWWZZuI/gPz6I6NiUcxMTAIk4/CudXBesx3dBn0Le8qxXoq4yvpFsxl4SO4QK1eswNM34RgyYhx6ft2S8pwbZ9kFM4lcDoMD/fCG4h1Yk4VEsaJZP1eCkc3/WPBnE1geH55Ef2vuL17ghYcXmpP7TBGDL7MYkf5+njwmt6Jr8PL0gOuVqxhoP58muL5iwZ/HY8rV5Q4BpRP8UjdJbMokvVhPFlF3RfA6EQFX3NjEjK6acFqTCX+aBBD3yZRzRNTc3IGVV6UKn6RnT9ywnQIanXa5heHjJ+ObAT1hQuZ3os+fE/yhQf7Yt31balq+rTt/ltLyiQcvmeAXJv2XH3hijMNUTBw7DKbGH5tB+bzywPdzZ+Ka2zOyMBgN+3FjYPB+lSGnLMRDLa/w55Ri3p7Pgj9veeekNvH3xSv8QCj5Hl8nH+3bt29L0ZxlTOVFtfhOfJZ9J3uf0avsWPEqBHl6oZ6+DLFf9p3sHFkZsvJlnzN6DQ8Pl4K5ubm5id1ftMkmGcSKvjDrt7CwIJPsspLwr0bm1sLn38qKVrZzulJKgv/O9Uv4cc0mQN8Mvcm8tngRCtpHK7ti5VtkfClKQdtMSRgaU3CtBPKTPXf0f7CfNh/1v+qC0SNHUHBZk1T/cdHuOBK3ruQfv2XLNnITMMbWLZvJLa0eCf5YHD18AOMnz0bR4mWxf+8W1K9V7SOXMxGl38FxKkSU/qXOU99H6VeD291b6Nu3PzSNrWnCeyE6ks+9broYNWLx4S1NDGxduxy//n0e36/ZgF5dOpKopRV+Evzf9u4BNevqWL5qHTq3b5nG200m+B1nz4d1xaYYPmwAOn7VEHoUoE9s78jS4difv2DNuk0wKV0NmzZtJOuCEqnjK0T97/v2YoT9TAwZ4wjnmeNJaKeY54tnoDgy+w8NCkZIaBhCQkIQRabIcbGxZGLvi7Mnj+Ee+TOPGDMBUxwmSGUKwS8mDc7e9cI/J8+jZdOGklWArEIfj+dwmjMdd577kRvCQnQlaz4tuh7uXr+KFSTO7zx5heFj7DHDfgTU0/kzy65vEdQ3NMgPowf2ppzojzFzoTNNHLSkCSV6XntfkRhTMZnxK5n8//WfKzp07Y1J44aRu6ANjbvsKFmrMnilv9OgAD/s27Mddx68wGjKNtSQYhSJyP+5tbHgzy2yiik3kSa6Tv53An//ew7OixaiOAWslN+E5av4W46n7BKy30KxX+gFccWlxEERE4XJCKO/pYDgIARTANHjv+5B9Q5D0aFNUxb8RIc31SegnIL/PVdhBhhLZnlBgUHw9w9EWARFhqVAPuUrVUEJi+IUNTYSERStVodmuYWZnnigKAip+3y9PbB/z0849Pe/qNHoK5p5n0KmhCmz6uLmqijB/zQwHk7OzujSvoW0SpD+cn7r4411SxbgtOtd9BjyLRwmjIUR+TcqYhP9YMGvCJJ5VwYL/rxjndOaxN8XC35IvzHbt2/H/v37pVV+wVUmUNIzlhfvYp/sc/rjZZ8/tV+cKztGvMrep/9e/rN4L7/JnyOlnSIxl9NNPOyKGDhC2IsI/yKtX8OGDdGZAsPVqSNEUw5No98L/lWUlq9EueqYOMUxTVo+Ub/sn+hLBEWm37naCcsoBa9NpTrkdlAtTXA6cYww1w3088W9u3cpiGxxbN66BU3sGr0X/AcxZbYzytZqiu0rncgVwEackmbLSPALvXrt8kX0G/QNqjbogIVzHWFXp3KaVWupEBq76MgwnDvxJ6YuWIEJs5wxcnA/GGirpwp+/QoNaJWeVv4pta38liL4T2Lm/MVo03sUenfrhJrk6y+i9YstiqLmnz52AKvXbYaFbS1sWPsjCRWT1CISE+MlH+IB39pjwMhJ+H6OA/n6W0j7/chv/vbNmxSY9w7FGHiLcIr6r06WCWL8Yt69gxe5C4RQxPKR6QT/1NED4fLID6cvuKB+7RqpdYk3/q9f4cclc+Fy5xmmU4Dg7l07SYLf5fxprFi5Bn5hyZg6ax76d26SRjSlKYQ+vKFnl+ZNW8L7bRBat/uKVvet0zyTifEXkzXPKD7Co8ev0KFzd8yY4YCa1SqlTvSkL1P+c9S7cJw7+Q9WrF6HFxSgcfPW7ejYvl2aDA7yxyviPQt+RVDMvTISKYvVgT8P4pffj2LH1k2wskz5O5HVKIJZu7k9JCEfIi0Yyr4Xf4kiPpgFZeOoW6e25IojfnfFwqIQ/L9tXA3rJt3RplVjFvwyaPyq0gSUVvCLm0KAvx9F2X2GmxSR9jb59L8hHx2RK/db++lo/1UzvH7xCDfvukFL35Ai0ddEWQrYY0QrCmrvb6qqODLCj+jk3wewcfMOxFLavDnz5pOZY4PU2Xjxg3ThDJn0D/vgw1+tcsXUGXTR56yt8DvgTbweBQRyQsvG9T9+2KFy/OQEf3fyn3SwH8eC/zMXlRgfkTt79+7dOH78OLp27YqxZNYozGlVfWPBrzojKK5DFvzA69evsXfvXskHWQjn9JsQIOk32XeyV7Ff/r388em/l32WvWZ0rvw++bLEe/no6OJzDGVp8fPzo4BsvuLjF2+iXD2KSi98942NjSkwXiW0adMGIpVfRQoUJ8z+c7zJCX6r8jUwaeq0NII/ffnhIYHYuHQ2Vm3Zg2KWtpRi0DpD1wIh+sVEfynyV581axZl7KkumfQfJZP+GQuXonazdli5aIYU7T99HZ8S/FdcLmDg0BGo26IX5s2wR93qtnQPfG9PL1dIfMw7XD53HBOmLcS3jgsxZmg/GFEAL9kKv3HlRpLgr5dOQMsE/5xF36H3yCkUCK8typWg6PfvyxaC/8yJg1i9fjMsbetg3arlWRL8yTQRcOyfw9ix8ydy93gLQxrPChUqULDBclImnhgSxNcvu+ABpeD7ZuTYNCv8U8cMxJWn/jhz/hJq0+SK/Bb41gdrlzvh7PUHmDpjbqrgv0huCT+uXouQGG3MnLMIXdvUpmeNj/9mZGW9fvWCgiK2hK9/CKpXrUwTS8Uy/NsRmYCSktTRolVrDB02EOUpYOJnF2voOnj68D65GGzAo5ceePrCE+vXb0BHiswun7JR1hZFvbLgVxTJ3ClHCP4/hOD/7S/s3Lb5I8H/+MEd+v0/BHdPLyQmptgBy1qiq6ePqtVrYtAAskYyN5O+FvfOIP83kuC3atyNBb8MFr+qPAGlFPxJdFN7QlFs9+/ZjaP/nkJoRBTNNmshMZ5W+0MiMW/ZBgzu1Qnu91yxhx7mLt+8i/IUSXfc+DFkqtaIor4WUcmBEcF6fL08MHfWDNx45IkhIydgxKBeKEpRbOk3SNrEj9GlC2cwauRwVLdrjSUL51OwoIoUqEgzNQJzVgS/A5nCBUMfzoud0UT472fw4MuCP/uXEQv+7DPLzzOE+BITGVMdHfHgyQs06jYdFe16wYQif6vyxoI/ZfSEYBZi+Q0FdRIr8rIsL2Lc0/8TZ4jv5I+RfSdeM/pevozM9svKkR0v+yx/jmyf7FWMoch5/tNPP5HJN5nJf8EmgvcZkfWbEPoiaF/Lli0hgvhVrVpV+l6sCos2KGTLpuAXAeH+2LkOsxevwPCJszCJLMiKZeBaJlLkCY0pzLa1KROPaG8cRen/+8ifmLnoe9Rt+TVWzJ8uBdxL34+MBb+aFAywT7+BsKwgTP3n0aR3bZpUT2sWLiYawkP88df+XViy/iepnYP79ISuploawb+RVvjrZiL4+4+Zii5ft0WZ4sXoPpvSwi8S/FbFERbwCs5LluL05TsUqLA3Onf8GtWqVCB3hJTYBT6eL/Dzjk04fsoFg0aMpQB8H0z6UwR/AAl+l08IfmcS/G5pBP+1S+fxw4pVePk2FPaOszC6f6cUd8r0oN9/DnjjjU6t28DdPw7bdm/F122aZTiRIlnHkJuHSHWY1WswyO81dlEchRsPXqJ7x8bYtGMvLYg44Wte4f/EaBSOrz8n+GPptyKSLF/iaNIw7ZZyD9ChAKGG9Bspm/ATv7ss+NOS4k8Fg4DyCX76YxM3rTmzZ+Hs5ZuoUq0GWn3VCg3rVEfIKzfMXLIO42Z8Tz7t3ZEUFYSrly7g4OEjuHX3IcpWqkeifyy+btucgvcoxvQ8L4c5lsw2/z70O6ZOmwHrstXRs2d32FA6HvlN/Bg9feSGDRs3oBTlOh4yoK9kNlepchVpll/kFpZSG27fmrkPPwn+EE1DODs5SeaILPjlKX/5ezE+vML/5fzy+kwhrljw5zX1L69P+Ft6enqSGfAM3L9/HwMGDIAT/YZZUlq0jDbx9yjEhfgn3otNjPnntqwcIysjO8dm5xzR3pcvX0oB+1atWiU79bOvQkCJ1XwRqE+k5+vQoQOaNGmCypUrS6v7IkifOOZL2p1p5dkU/GK1+sUDVwwaNgqm5epiwdzZ5IdflQLDfnAtEKlpA/zeIIyC+Ba3pJR2hgZkBUBm4fQQf/QLBb+IaP/y2SOMGjoMnn7hcKRnjSED+0hs5Kc+oqLeUQrcm1g4byYJ3khsIdeQNi2bSuvb8iv8eSH4l5JJf2myEPB+5IoFi5chRtsMk8llonb1KhT1P0Xsi6Bj9yhI4coVy3D9/lNMcpyOyRPHS0MmfPizJfi7kEk/jcMLiiW0euWP5AZwDe079cJ3S+ZLYyB/7Yg0vrEkpsRqaVxMJDZ9NwOb9x3D+GnzMGbEMJgUTbsAE01cfX3fIFldm2JHWFL7P/+sJoIY/48mvo5ToOHuffvB1iQJMxYswyyyOvi6A5v0Z/p3WcB3fk7wv33jg8eU4jKI4l2I+Bfym0iVWby4BcUxqUHB/gykXeJ3lwW/PCV+X1AIKJ3gj6GbwZ/79mDh9z+iQasOGDtqBKqTybqeZhLuXPwbwyctwsipzvh2UG+YGumSyWOUZA1w4Lf9OHXuClq274qJtFJQ3lb1TKhjKIjRgV//hwULFlLKHX0KbFQ0Q9/68LAweFCeUD3DorAqYUm+R4aU/mYY+vfpgxKWtApA0YX3seDPl79RcbNgwZ8v6L+oUvHgyoL/i9Dly0nZFfz50kgFVSomKTw8PLKUlk+segshb0APrWXKlEHNmjXRqlUryU9fROMvQqnixH6FreZn1MdsCn4RJCuaVvknU/72f89dppRvwzGUfOTLUj57kZYvPj4OInDsSXKNeuD+Bl/36I92zeuRxZtequCfQSv89bK5wi8EfwQFzTt58Bes2/kLjMxLYfg3w1Gvbi1YFDeTBL2wIHj6+AGO/PkHDhw5gUate+K7BVNhW9pKCvYlovSLoH3CpD/vBL8Z3rjfh9Pi7+BFPvUjR4+lrAF1YFrUkFwd42mh5CVOnTiOXbt2IzQuCY7kUjHFwV4aqS8V/BFhwfjnyAFKjXgI3kGRGDN+Ajq1/Yomk2hFlH47EygY2vWL5+DtH4TajZqicrnS8HnuhtH2johJ0oPDZAe0bGYn5UYXQflEusN7t27g0JEjMCtZHoMGD36fCvHTk3DC0uLamWPY/tNvKF+vBQb364bgV3fgMMMJs+bSCj8L/oz+GgvNdx8E/xEy6d/ykUm/Ny0gurhcoqwOQamTvjI42tq6lD7UFi1bNKeAokbS1yz4ZXT4taARUDrBL4K+fL9oPq4+9MWixU7o0LqZlApO+NLdOH0IQyfOTxH8g/vAknLLiy2efHgeUdTdxZTCLjpZF1Omz8BXzRqmSbGjCgOXSLPkj2n13uWSC+IS0gZ7krVf/Bh5UFyD//1vL0rYVkZn8l+zJtFfu259erirKd1Ys2LSP4lX+GVIFfrKgl+hOHO9MBb8uY5YoRUURsG/detWrFy58iOO4toVK/Ui+r6IESKi7derV4+C39WQzPdFRH6Rti3PNiH4b1zGmvXbIHz4HWgFukSxIql+6xm1Q/xe3rl2GRs2rMVNWpWuWbcB6tBkhYWlmZSz/R7d190evoBtlVr4duQYNGtIK3EUOFas8P/z1yHMWryc/PA7YPncqShT8kOUe1ld929cw5Sp06FhXg/fLZyCejVspHg4SRS5O5Sixe+iVfsjx/6Fho4hatSshurk9mBA5fu/8cXde3fw+Jk7ypSthmmzZqNW1XJS3nqxRnjj/HGM7tcdRpUaY/3GLagjMgTIbcKH/9K5/zDfeSn6jnakKP6tYZPOpP/sv4ewduNWyYd/zYrvJB98WREiaN/hA39g8GgH9KfAfUtmToQNmfRHR4Zi85o1+P3IMbLwq4JaxKpMKSsK1hdO6e7uwfuVN8KiwhERE49+/YdSWt2JUpEvHt7F9PGDcfVpAE6dOY+a1avKqpJeA8lcfv0Pi3HuxiM4Tp+Frp2+llb4E6kfPh7ucDl/Fjt//oXKTUKLFi1RsVxZmlzSQSBFzD914gQ09I0x1mEKOoh0fpSVYe/PO7CLjo9N0EQzSpVWldwOtLTUaQLHk/Kc34EPBfVr36kLRgwf/j4gcZrmfPhAYl+stjovWoB4TWNMsJ+ASmVL4uGt85g4fREL/g+kCu07IfgP/3UE+w/+g03r10oBveVhiIW0aLJCiY9P/EjwiwlQTXJ7MqQJUfFbKjbxm51CMW4AAEAASURBVBQc8BYHtm1AiYad8VXzhhS7KiW7hny5/J4JqBoBpRP8z8j0bDqZtJes3gSzpk+GTYmUQBpx0RG4eeZwhoJfQI8MD8GyxYtw7d5T9B8+AYN7d0w1dVOtQRFCX/gWZdxq8WN08dxpDB0yEDWatMMP3zmjWqUKtCpBJ7w/hwV/xuzy4lsW/HlBWXF1sOBXHMu8KIkF/wfKIpWeSKtXvnx52NnZoWnTpihdunRqLJcPR+bRu6Q4ygN/H78f/AvmVuXQZ0B/mNBqvLyZ/Kda4nb3BmVS+BV37z9ABEWdlzby8dajgLyVqlRF9x690LxJQ/JVT/GzT6DVfxF4b+tP/0OFWg0x7pv+lNIv5VlBvg53igW0duMmSr9XmczL+6Fi+Q855OlOS1HlPWkF+wjOuVyGX0AAYmMpsCPdfMVqtHExU5SrWAV9evVD44Y1UwWBKP/xnWtYvsAR+qXrwHEaxf0gASy/JScn4t7t69i+aw/adBfnN4BlMcNUFrEkQm5du0CsDsHEuuJH8QtE+twLFCHfadlatOnSG6OH9KJc9SmBFR/euk4r7r/D9fZdRETHkIsDuXDo6sGseAlUqVoFpSyLSVHJ6zRojMED+0vNEqucG39wxkPvEKylQHciSJ78Fh4SgD/2/YzbjzzQf8BgupYa0cRIigBKIOsBkff+/JkzOPLXPyTW3yKB2ieZOlAh5lRv63ZfUzyB9rAtU0ryhY5+F0YTMn/ir3/+hZfPWynyOT26SEEZTc0tYNesBUXXb48qFctKEwvybZF/HxMVgeNHDmH/kf8wjCZ8unRoCXWarLl7/T9K5+iE2fOcpRV+kUIwtzYO2pdbZBVTrnANuv/AjQJ7P0LvXj1glNMYXnShihgbd69cgqFNZVQoWwa6NFnFGxNQdQJKJ/jv37xMs+nz0Lx9T8r7PpLyw6f4f31O8MfHxWPjumU4dcEVbboNwZghPWGon4erG3l4JVw4cxLDhqZE6f/h+yWS4JevXuS53b9zG/nw74dJuWrYvnsvPWzopRxCZqJv3R+DV/jliSnuPQt+xbHMi5JY8OcFZcXVURgF/+bNm7F69WoJovDNL1u2LGxtbdGoUSO0IrN9Yb4vAvPl+0ZBZ99FhMH7tS+0dQ1QkqLqa2uqy+ahP9u8SDKzd3O7jydPnsIvMASm5sUhYtNUrlQR5hTtXX4TgjrAPwAvyOXBsCgJc8rQo6/38f0+gtzfnj1/DjVtY5QtU5L8z/U+mkxPiI2G5ysPuL9wh/tLT0TGxpFfryUqUt0VaTLFtNjHbEWGgUdud6GhJzIeVCb+KdaGsjaK+0BYaAhevPSAhVVJmFEaRF25fPRJJJiDSET7+LyGJrGqVLFCmkjz4nw/Srn34NETWFqXltwc5H3dgwP9cffuHWo3rehHUHwDCwvKVFQHpSnTQUJsJJXrS4HIikrXiWhTJI3L88ePEBYdhzqUmcHIMG17hcXEK3IJCKVYCaVL2cDc3PyjGA9iEkK4WNwjceVN7Y6IjEExE3M0osmmCuXLQk8n/SpoMl69fEFj6kZcvUALrChB7iVikqpSpfJ0fErsARmz9K+JNKnjducGlv2wAtYV62HsyGFSlqCEhBg8uXcJc5xWwn7KDAra1wGmlGVCS0sjy9da+roy+8yCPzM6vI8JMAFVIaB0gv/B7atkUjab/Pc7Y8rEcShuknKz/bzgj8Ga5Utw5uoddOo3HCP7dyPTv48fAFRlYD7VTvEgcF4I/iGDaIW/LX5Y+h1qUIwD+e1dWAgO7tuF/1EGg2gtUyxcsgyVba2gQ+adRoZGCH/tjon2E6WgfYudndG4fu1PRulfSxGMT7neRY8h32ISBQAyInNHRWyiHz4+PlL6uh07dkgPGIPJn68PxSEQZqjCf1UVN9Ev9uFXnZFjwa86YyVaWtgE/6tXr1J/I0UqPRFdvz2tjAozaSHKlGoTtu7vrcxSln9TP+R6M+ln9yMhn/VK0zQ87WmZ7Ep7YAaf3p8r2ibjkh0i4l4ifp8y3OTKzHA/fZnp+Z866XPf5wz050pPsz8yPAyHf/sJqzdsQ5V65BZQoYy0X2Rx8vP1wD//nkPT5q3Qpn1ntGvXHiWKG0OTTLQVvbHgVzRRLo8JMIH8IKB0gt/75VMsnDMLnmHqWEw+/M0a1JRu5PFk0n/jEyb94gbg9fIZnBcugk9IDMZPnobObVtIvv/5ATU36xQ38WuXLsLefgyq1G+JRfPmkDmhbZoq48hc8OaVczh86CAO/nMW5iVKwpaiNddp1ISiWveHUVwoZsyciVB1A8qGMBv1yP8wo8eKQPJj3LF2Bc7dvI9OvQdi1IhvUEQv81n5NA3J5IPoBwv+TAAp4S4R3G7+/PlwdXWlDBI96e9zsXKsLOaAFQv+HMDLh1MLk+AXeMNohfrx48dSasG6tDJrQSu5YkL0k0IwH8aEq2QCuUFAPMc8fXgft8jnP0HtfVYJmgBJIheD156Pse/AUXTs3A1t23VCA7tGKE6WGBrkiqHojQW/oolyeUyACeQHAaUT/O8oKuzOLWuxcvMeDKVgNaNHDEFJClajRmZcN88exhD7eRg1jaL0U9A+C/KJS6KgMr4+Xvj378PY/cuvKFOlPqZNm4w6lK4mF37782OM0tQpCeVXnjh16iTlCi+NZo3tyFwwxbdPdqA4JiTwLR6R6d1fR/+GB/nQmZlboWmLryhFUxsYaSTgzNmziFPTJrNQOwpyIsz3ZGd/eI16F44716/B+20AylWqKgUI0iazOUVsLPgVQTFvy2DBn7e8c1Kb+PsK9H6IKwe/h9e9Y2Q50xcLFy2SorjnpNz8PrewCX5h6SQioYtXEZyPhX5+X4Fcf14RSKYUavGUajAxIRGJ9HsmNnH9J8TF4MGtc5g693ty/1xAJv3t6XdNPzWPuqLbx4Jf0US5PCbABPKDgNIJ/mTyA3xwxxUTHSbjpU8wuvfph8GD+6OqrTXuX/4Hwx0W4tspzhg+uBdMi2iRT9lL/HX4EA4cOoKIOA2MGjsB3wzuCxPjtD5q+QE3t+oUD4Ax0dFQExGaKdWSJuWmTr+JVDaxMTEICQ7Gu6goaGnrSXmGRUATYfUWQ/vIYJBSNelIUYvTny8+p5RBN1x62NSiSKZaWtoZTgxkdO7nvmPB/zlCyrefBb/yjcmnWsSC/1Nk+HsmwARUmUBSQhzu3ziNSTOXYMbcRfi6XVtKX8xB+1R5TLntTIAJ5D4BpRP8ostxMVE4+ucB/LhqNdy9XqOkTVlUrVwJuniHv/49j+ZtuqBK+dIIeONN/tIv8MLdA4lqOhhOUVyHDxuC8ralpCi7uY+Pa/hSAiz4v5Rc/p3Hgj//2Ge3Zhb82SXGxzMBJqAKBERUds8Xbti19w/06D2AUiLWkGJ75FbbeYU/t8hyuUyACeQlAaUU/OJhNYii0N6/cwt/UX7NK1evIzAoBFHR7xAQGIxiphYUkVcLycLMUa8IpaKpSX5c7dCxQ1uUsSlFq97po8XmJVKuKysEWPBnhZJyHcOCX7nGI7PWsODPjA7vYwJMQHUJJCH6XQS8fd9STAtLKY5Mbrq6sOBX3SuFW84EmMAHAkop+EXzkhPJd5H8t155eeLZ06fw9PTEG78AREZGIZls0g0MDFC0qIkUqbhChUqUqsiWfNmLZmje/qG7/E5ZCLDgV5aRyHo7WPBnnVV+H8mCP79HgOtnAkwg9wgkI5GeEdXpWTA3xb5oPwv+3BtFLpkJMIG8I6B0gl88qAofdZHHRpP8soQfeXx8PH0Xj3jKjxtH76GmTv7kmrRfi/5ppL7GUi7ZFH9zbcnnPIM4dHlHlmvKlAAL/kzxKOVOFvxKOSwZNooFf4ZY+EsmwASYQLYIsODPFi4+mAkwASUloHSCPy42Fj5erxAPDZQsWRIGenJ532kyICVWa0q0VnmmSYkJeHD/DoLCI1GhYhWUsCwOjYxCz8ufxO/zjQAL/nxD/8UVs+D/YnR5fiIL/jxHzhUyASZQAAmw4C+Ag8pdYgKFkIDSCf5gvzfYtWUTIrQMKe/7CJSmlHxZ2YT5/44t63Hz/jN06jUInds2gy778mcFXb4cw4I/X7DnqFIW/DnCl6cns+DPU9xcGRNgAgWUAAv+Ajqw3C0mUMgI5Lvgl88zrEam+v6vvbB+xVKEaBfDFIeJqFDaKgtDkkxp6qKwYdVyuNxwQ5f+3+LbAd3SWgdkoRQ+JO8IsODPO9aKqokFv6JI5n45LPhznzHXwASYQMEnwIK/4I8x95AJFAYC+Sr4RZT94OBACsr3mALyBUGTcr2HBPhJKfneaRigR9eusCpuQn78MkP+jIdE+Pm/Cw/B0cOHERgRh4Ej7TGkV0fo62pnfAJ/m+8EWPDn+xBkuwEs+LONLN9OYMGfb+i5YibABAoQARb8BWgwuStMoBATyFfBn0jB+dyfPcKB3/fi8o3HJPg1ERsVBfcXz5GgoYVytra0Sq/7WcFP+fkQHR2JkNBwVK1ZD8NHjkXzRnWgraVRiIdWubvOgl+5xyej1rHgz4iKcn7Hgl85x4VbxQSYgGoRYMGvWuPFrWUCTCBjAvkq+EWgPU/3Z/jr0O+4evuJFHk/OvIdnj5+hDg1LVSuXBGG+vqfF/wUjl+d3AGsrEuj5Vdt0NiuIUyLGolA/7wpKQEW/Eo6MJk0iwV/JnCUbBcLfiUbEG4OE2ACKkmABb9KDhs3mgkwgXQE8lXwk5JHTEwUggIDEf4uSsqnGuT/Br/s3CEF7Rs2ZDBsSmQtaJ/Ixaqrq4diJiYoYqAv5WdN11f+qEQEWPAr0WBksSks+LMISgkOY8GvBIPATWACTEDlCbDgV/kh5A4wASZABPJX8GcwBJFhIdj3025EaBpgyMCBsDA1zuAo/krVCbDgV70RZMGvOmPGgl91xopbygSYgPISYMGvvGPDLWMCTCDrBJRO8MdFR8PjpTvi1TRRpowNiujrZb03fKTKEPiU4O/bty9ZauhCZG9QtU1YmYh2v3jxArt378bx48fRlQJPjh07FqVKlVK17qRprxiv9IJ/yZIlMDIi1xkV3sSYPX36FFMdHfHgyQs06jYdFe16w6REebI4Ut2OJVGc0wCvh7h68Dt43TuGPn36YpGTEwwMDFS3U9RyDQ0NeHh4YMaMGbh//z4GDBgAJ+qXpaWlSveLG88EmIByEmDBr5zjwq1iAkwgewSUTvALYSETe+rq6pKZf/a6xEerAoH0gt/MzEx6eO/Zsye0tbU/H7dBSTsp+iUEyd69e3HixAl06tQJo0aNgrW1tZK2OGvNEsJYCH5nZ2fcuHED3bp1w8KFC2FoaJi1ApT0KNGv58+fY9asWXhEgr9BZ0eUb9RdEvxK2uSsNYuuwyCfR7h6eAW87h9Hz569MXfuXJUX/JqamvD09MScOXPw8OFDFvxZuxr4KCbABL6QAAv+LwTHpzEBJqBUBPJN8AthFEur+fEUqT/zpHvZ4EUP71qaGiQYdaSVoGycyYfmMQF5wb9t2zbo6OigefPmaNSoEQVv1FJpwe/n54fz58/j9u3bqFevHtq2bQtTU9M8JqzY6sR4vXnzBr/99htevnyJBg0aoH///pI1hmJrytvShOAX/dqzZw+8fd6gQoNuKFG+IYoUK5G3DVF0bTReEcFeeOp6BP6et2HXsBH6vLeeUXRVeVmeGK9Aivnyyy+/wNfXFwPJ7YtX+PNyBLguJlC4CLDgL1zjzb1lAgWVQL4J/oSEeDy8dw8+9LCdkKgY821hEWBubonyFSvCtJixSpvkFtQLTtYvmeD/6aefsGnTJgQEBEiTNGIMVX0TfUtMTJQsVUR/hBmyECqqvol+JYgJOnoV/RKrrQVhk++XmjqNlfhXAFJ8JNNUajJlQkmmtKUFcbz0KYPL0KFDsWjRIjbpLwh/iNwHJqCEBFjwK+GgcJOYABPINoF8E/zvIsKwdPFc/HbgKN5FxWa74elPEA/t2hSlv1XbDpg6eQrq1KxKD7mqL7LS97OgfBbj9fbtW/z++++S+bu/v3+BEMWy8RH9k20FQezL+lIY+iX6WhDGTH6sCkqfZNehcPsS8Qh69+6NqVOn0kSvuWwXvzIBJsAEFEaABb/CUHJBTIAJ5COBfBP80VHv8Ov/duPchWuIjo3LMQLxcKtFpvy16tZDn959UM62NNQLwKpqjsEocQGxsbEICwtDUFCQtHKsxE3NdtPE9SgTXEI8FgQBKSDI4msUpD6lHyvRz4IyXrK+FaTxEuMj+iUsTETQSAsLC8kNSHzPGxNgAkxAkQRY8CuSJpfFBJhAfhHIN8EvzEyDA4PwLjoKSQoy6aendAgzT0NDY+jpaheYh/b8uji4XibABJgAE2ACTIAJFFYCLPgL68hzv5lAwSKQb4K/YGHk3jABJsAEmAATYAJMgAkUJAIs+AvSaHJfmEDhJcCCv/COPfecCTABJsAEmAATYAJM4BMEWPB/Agx/zQSYgEoRYMGvUsPFjWUCTIAJMAEmwASYABPICwIs+POCMtfBBJhAbhNgwZ/bhLl8JsAEmAATYAJMgAkwAZUjwIJf5YaMG8wEmEAGBFjwZwCFv2ICTIAJMAEmwASYABMo3ARY8Bfu8efeM4GCQoAFf0EZSe4HE2ACTIAJMAEmwASYgMIIsOBXGEouiAkwgXwkwII/H+Fz1UyACTABJsAEmAATYALKSYAFv3KOC7eKCTCB7BFgwZ89Xnw0E2ACTIAJMAEmwASYQCEgwIK/EAwyd5EJFAICLPgLwSBzF5kAE2ACTIAJMAEmwASyR4AFf/Z48dFMgAkoJ4ECJfiTk5KQmJyE5GRAU0MDampqykmdW8UEmAATYAJMgAkwASag1ARY8Cv18HDjmAATyCKBAiP4kxITEOjvj9CIdyhmag7TYkWhrs6CP4vXAR/GBJgAE2ACTIAJMAEmIEeABb8cDH7LBJiAyhLIN8GfTMvwUVGR0NbWgZaWVg4AJiM+LhYBfm9x6tQphEfHoXWb9qhcsRw01NVzUC6fygSYABNgAkyACTABJlBYCbDgL6wjz/1mAgWLQL4J/tiYGLi4nIWxSQlUq1YZ+rp62SablJSIyMgIPH30EGdO/YcTJ0/DpkI12Ds4oF6taiz4s02UT2ACTIAJMAEmwASYABMQBFjw83XABJhAQSCQb4I/IjwM69csR/C7JPTu2w8N69eFZjZM8JPIXz840A/3793FkcN/4vSZC1DT1kf/QUMxbMhg2JS0ZB/+gnCFch+YABNgAkyACTABJpAPBFjw5wN0rpIJMAGFE8g3wS9W5res+xHHT7ugfuPmGPHNMFQsVxYaGp83w08kf/23r73hevUKzp0/j4uXriI+WQNt2nVAn969Ub9uLRjo6yocFhfIBJgAE2ACTIAJMAEmUDgIsOAvHOPMvWQCBZ1Avgn+hIQEPLh7Ez/99BMuXL6GqjXrwmHSJNSsVgUGehmLdbGqH/UuAk8eueHA77/h7IVLeBeTgErVaqJrt65o3/orWBY3o5gAmgV93Lh/TIAJMAEmwASYABNgArlIgAV/LsLlopkAE8gzAvkm+EUPY2OicPf2Tezftw9/nziNJq3aYNzYMahbqzr59KcV/UmJiQgJDsCNK1fw+4E/cOXaDegUMUHjps3Rt69Y1a+NokYGeQaOK2ICTIAJMAEmwASYABMouARY8BfcseWeMYHCRCBfBb8AHUOR+t3u38HGjRvw75mLaPd1FzhOnox6taunGYcQ8tc/e/I4Nm/bgQdPXsCmfBX07jcQrVs0RY3qlaGrnZNI/2mq4g9MgAkwASbABJgAE2AChZwAC/5CfgFw95lAASGQ74JfcIyKeof7tNK/ZetmXHK9gxZftcPs2TNRvowN1JAEXy8P/PnHrzh4+CievPRBvYaNMXToUDRt3JhM+E2hq8Niv4Bcj9wNJsAEmAATYAJMgAkoBQEW/EoxDNwIJsAEckhAKQS/6ENMdCTu3bmJXbt248r1W+jQpSeGDuqPqNAAHD54EGfOnce72GS069QFPbt3Q93aNVDU2Ajqamo5RMCnMwEmwASYABNgAkyACTCBtARY8KflwZ+YABNQTQJKI/gFvvi4ONy95Yqt27bhnMtVtG7dEr7eXnj08CmMzEqgV99BGDq4L6xLmENHW5tW/3ljAkyACTABJsAEmAATYAKKJ8CCX/FMuUQmwATynoBSCX7R/cSEeDx6cA8LFy7E2fMueBcZjer17ODgYI8eXTrDtJgRC/28v064RibABJgAE2ACTIAJFCoCLPgL1XBzZ5lAgSWgdIJfkBai//b1q/jxh+U47XIbfQYNx+RJY1C5fBloqKsX2MHgjjEBJsAEmAATYAJMgAkoBwEW/MoxDtwKJsAEckZAKQW/6FJCfBwe3r6OH39cjdtPPdFvyDcYPnQgbKyK8wp/zsacz2YCTIAJMAEmwASYABP4DAEW/J8BxLuZABNQCQL5JviTk5MRRz77CYkJQPLHrMT+5KRE3L12BTt37cK9F97oTmn4RgzuDxNjQ1rpz9iDX0NTE1qaWtDQYEuAj6nyN0yACTABJsAEmAATYAJZIcCCPyuU+BgmwASUnUC+Cf7Y2FicP30Sbo+fIDY2PkNOamrqSEqMw/0b13HxqiuSdIqgb+/esDArmqFpvxD7ZctXRGM7O5S0soQaR/DPkCt/yQSYABNgAkyACTABJpA5ARb8mfPhvUyACagGgXwT/OHhYfhuwXTs++MvRETGZEqLFvuRlJSAxMQkqJOo1yAhn17MC4sAHV1dfNW+E2ZMm4b6lLZP/RNWAJlWxjuZABNgAkyACTABJsAECj0BFvyF/hJgAEygQBDIN8EfEx2Fo4d+x5XrtxAdk/EK/6cICw+A9Ab9QvBrUaq+qjVq4euvO8C2VCkW/J8CyN8zASbABJgAE2ACTIAJZEqABX+meHgnE2ACKkIg3wS/cNxPSEikVftECLGuiE2s+qtTFH9NDU2o8eq+IpByGUyACTABJsAEmAATKJQEWPAXymHnTjOBAkcgHwV/gWPJHWICTIAJMAEmwASYABMoIARY8BeQgeRuMIFCToAFfyG/ALj7TIAJMAEmwASYABNgAh8TYMH/MRP+hgkwAdUjwIJf9caMW8wEmAATYAJMgAkwASaQywRY8OcyYC6eCTCBPCHAgj9PMHMlTIAJMAEmwASYABNgAqpEgAW/Ko0Wt5UJMIFPEWDB/yky/H2eEVBU0MY8azBXxASYgFIQSJ+eVSkaxY1gAkygwBBgwV9ghpI7wgQKNQEW/IV6+PO38zExMfD394evry/i47OXmjF/W/752sUkhmwiQ2SOKChbUlKS1BUhtAqS2JLvl+hgQemb7DosaOMlxkhDQwNmZmawtbWFlpaW+Io3JsAEmIBCCbDgVyhOLowJMIF8IsCCP5/Ac7VAcHAwLl68iDNnziA8PFxCIhPJqs5HCKz0IlLV+yTaLxsfMYkhe8/9Um4CYpxSBL9ytzPLraMsriKRq46ODpo3b47u3bvD2Ng4y6fzgUyACTCBrBJgwZ9VUnwcE2ACykyABb8yj04BbpsQIWJl/+eff8bOnTsRFBQkrdJpamqqfK+F0E9ISJCsFoQwFsKkIKzyizETVhmib2JFVVdXV+XHSnRA9Cs6OlqaoBFjJVaOC8J4ieswNjaWxisRGvR3pamtT6YLqj5k1IGkRMTFRkNfTxeDBg3E3LlzYWFhoeod4/YzASaghARY8CvhoHCTmAATyDYBFvzZRsYnKIKAEFk+Pj7YvXs3tm7diri4OJQrVw42NjaS4FJEHflVhrBWePbsGV6/fo2SJUuiUqVKKFKkSH41R2H1hoaG4vbt2wgICJDGqW7dutDW1lZY+flVUFhYGK5fvw7xWrVqVZQqVQqGhob51RyF1SvG6+HDB3jt+xZFLcrCslx9+ttSbdN3NTV1xEZHwOfpZajFR2LIkIFwcnKGpaWlwrhxQUyACTABGQEW/DIS/MoEmIAqE2DBr8qjp8Jtlxf827dvh4GBAdq2bYtWrVpJq8divypuot3CcuH48eO4du0aGjduLJkcm5ubq2J3UtssTMK9vLwka4zHjx+jWbNmGDVqFPT1adVYhTfRL29vb2zcuFF67dWrlzRm1tbWKu2yIK5DMV5//PE7bty8gzI126JO+3G0yq+nwqMFsrzQxLuQ13A9uhpRge60wj+ABL8TC36VHlVuPBNQXgIs+JV3bLhlTIAJZJ0AC/6ss+IjFUggveAXgnjgwIHo3bu3ZAKvyoL/5cuX2LNnD44dO4YuXbpg9OjR0kq/AvHlS1HCamHRokXSarjwm3Z2dlb5lXAh+EW/ZsyYgefPn2PChAno2LEjypYtmy+MFVWp+Pt5+vQp1q1bi3//O4vqzQei5eDl0NYzUFQV+VKOuoY6Qt6+wn877RHidRuDBrLgz5eB4EqZQCEhwIK/kAw0d5MJFHACLPgL+AAra/fkBf+OHTsgBP/gwYPRt29fyTdcFvBOWdv/qXaJfrm7u2PXrl3SKn/Xrl0xbty4AiP4582bB1dXV/Ts2RNLliyBkZHRp1CoxPcywT9lyhRJ8Nvb20uTNMK9RJU3cR0+efIEq1evJsF/BtVbDEarIT+Q4Fdt1xINCvER8sYb/24fi2CvWxg0gAW/Kl+n3HYmoOwEWPAr+whx+5gAE8gKARb8WaHExyicwKcEf58+fQqE4BexCYRZvxD8Y8eOLTCCf/78+amCf/HixQVG8Ds6OqYK/s6dO0vxJBR+0edhgTLBv2bNGjnBL1b4VTs2AcVTpBV+LxL841jw5+H1xFUxgcJKgAV/YR157jcTKFgEWPAXrPFUmd6w4FeZoUptqDB9Z8GfikOp37DgV+rh4cYxASagIgRY8KvIQHEzmQATyJQAC/5M8fDO3CLAgj+3yOZeuSz4c4+toktmwa9oolweE2AChZEAC/7COOrcZyZQ8Aiw4C94Y6oSPWLBrxLDlKaRLPjT4FDqDyz4lXp4uHFMgAmoCAEW/CoyUNxMJsAEMiXAgj9TPLwztwiw4M8tsrlXLgv+3GOr6JJZ8CuaKJfHBJhAYSTAgr8wjjr3mQkUPAIs+AvemKpEj1jwq8QwpWkkC/40OJT6Awt+pR4ebhwTYAIqQoAFv4oMFDeTCTCBTAmw4M8UD+/MLQIs+HOLbO6Vy4I/99gqumQW/IomyuUxASZQGAmw4C+Mo859ZgIFjwAL/oI3pirRIxb8KjFMaRrJgj8NDqX+wIJfqYeHG8cEmICKEGDBryIDxc1kAkwgUwIs+DPFwztziwAL/twim3vlsuDPPbaKLpkFv6KJcnmqTED8PSQnJyExMQlqampQV1eX/qlyn7jteUOABX/ecOZamAATyF0CLPhzly+X/gkCLPg/AUaJv2bBr8SDk65pLPjTAeGPhZaA+FsICfTD8xcv4OcfBC1dfZQrXwllbUpCU1O90HLhjmeNAAv+rHHio5gAE1BuAiz4lXt8cqV1ifFxCA4ORqKaOoyNjaGno5Mr9WRWKAv+zOgo5z4W/Mo5Lhm1igV/RlT4u1wlQCvocfGxCA8PR1RUDK2of6hNrKpraWvDuGhR6OvqftiRy++SkxIR5P8GB3/fhyPHTiM0IhLmltYY/O0kdG9vR/c+rVxuARev6gRY8Kv6CHL7mQATEARY8CvhdUDGhwgNCoTP69eIjolL8+Ak31xxnI6OPqysrVDczEQyVZTfn9F7YdYYERSAI0cOI0ZdD+3btYdNqRJQy+jgXPyOBX8uws2lolnw5xLYXCiWBX8uQOUiMyeQHIfX3q9w9twFuD18itiYWLpDpWzqGhowKGKIkqVKo1rVaqhcuSLds0wzL08Be6PeheHogb2Ys2gZDMxKolH9uihTpizade6LutVsoM0r/AqgXLCLYMFfsMeXe8cECgsBFvxKONIJtEpy9OB+bN+1BwGhkdDX0yN/w48leWJiMixLlMbgod+gS6fW0NLUkHoTT+d7eXjA28sH2gZFULtufehpa9KEAJCcmAh/j6dwdJyKUE1DLFywAI3q1MjSZIEiUbHgVyTNvCmLBX/ecFZELSz4FUEx/8tIpN/ruDgx6ZsMfX39/G9QZi1IisG9m1ewYvUGPPf0Q4VKlaBPK+jizpVE/QgPDYb7y5eIjU9Cmw6d4TDJAeVsrHN1svnl04eYPs0R5256YOXK5ejZuQ0MDPShoaEJTQ02589sOHlfCgEW/HwlMAEmUBAIsOBXwlGMCg/Glg3rsO2n/6FqXTvUqVElw5WIpKRkGBmbonGTpqhTqxo9xKQ8wESEheDYnwdx/O9/YGxTDvMWLUFxY31p0kAIfr+XT+Aw0QGhWoZwdnKGXb1aUBezAXm4seDPQ9gKqooFv4JA5kExLPjzAHIuVyHGMCgoCLdv38YL8j+vXbs2rK2tUbx4cejRJLDSbST471y/hB/XbEIRcxt8M3IkLIyLQJ3W+cXERUigP+7fvYOTJ4/j/tNXmDh1LoYN7AXjIrnXlwc3XWE/eTJC1Uth9fKFaGlXjYW+0l04yt0gFvzKPT7cOibABLJGgAV/1jjl6VGBPi+xeuVKHD51CfaOM9CxTXMS/Cmr9+kbIlYqDI2MYVjkw+pPWHAA9u/cif3/2w+TClWwedsulDClBy8S9TLBP8lhEkJohd/ZyYkFf3qoOfgsHtLd3d2xe/duHD9+HF27dsXYsWNRsmTJHJSqHKey4FeOcchKK1jwZ4WSch+TlJSEV69eYd++fdi7dy+qVKmCSrRq3rp1a0n8i/grGmQqr6mpqRwR598L/lXrtsKqXA04TJsG62JC8Kds8XGxiIgIw6kTx+G0+HtUqdcCK5Y6obxtqVwbiHuuV+FA1mxqJrWxbPF0NKxly4I/12gXzIJZ8BfMceVeMYHCRoAFvxKO+PMHt/DDsmW48+w1lv6wCq1b2NFDSmYr8Gop5vrUF3FUaJA//rd9O379ZR9MKlbFlp0/w8qEHrzoySspIcWkP43gr0sr/OQyIESCCK4ktpT34g39y4XVf1G+j4+PJIx37NgBc3NzDB48GH369IEuBXUSD7uquIl+seBXnZET17uYyHB0dMTz589hb2+Pzp07o1y5cqrTiQxaKq7DJ0+eYM2aNfj3vzOo3mIwWg1ZDm09wwyOVp2vSN8i5K0X/t0+DsFetzBowAA40aSlpaWl6nQiiy0Vv4Hit2Tbtm1YvXq19LsoRL6tra10fdasWRONGjWCeBXfi032+53FKhR7mLzgL18Dk6ZOg5Wc4JdV9uCWK6Y7jEWoWlHq21bUql5Z2iWu2fTb5/sjItmI+977+yOVQXcxqRhx27rregWTp06Hhll9fL/IEfVrlYYm3Qjly5VqTVe3ODc5OeW+mr5N8p9TT1OjUuSaL5UvteXDmKT0T7Ttw4Fp2pFaWEoN8vvk6xTvP7ASPX/PgBotq0O0P/0mahXHiv/pQGm3rCUSvwzOSV+G+PyhbtneTDi9ZyA7MuU1k+PTHqgUn1jwK8UwcCOYABPIIQEW/DkEmBunu178D98t+R4hcZpYt2Ej6tWskoVqkhEfG4PIqCh4eXriz33/w9Ejf5FJf0Us/m4ZShQ3hpGhEYoaGSHE+wUmOThIK/yLnZ3QsHYNvPV5hWcibVFAMNTUNWBqWhw2ZWxQunRJ6GhpZqH+7B0iHhpY8GePWX4fzSv8+T0CWa9f/H2x4M86L2U8Ugj+l+TzvnXrVqxatSq1iSKHvJgUFZMcZcqUQdmyZVG/fn00aNBAsgLIN3P/LAr++7euw2HsaERpGmHnju2oRS5rYntHq/8e1F/fN28QFR0LfQryZ2NjA6sSVnTvMkjtv3gjou+LbAD+gSFk4WYCoyLaUsBAD49XiCObguIW1jDS08SjOzdo0nwF1IrVwBT7oahW3gpm5mYoYWkhWUeIshLI8iAgwB9v3vjirZ8/xRhIRJEixpJVlnVJa8l6Lr0WjggPwytPL+gbFkNx82J4+9pbGqtICrJbuWp1lCltjcSEePj7B8KsuDlZ6GnC/60vPOneHBr+DgaGRSk1YHlYW1lKsXdiYyLx9PFjvPZ9K9VvYmqWsr+EhWjiR1sSle3n/xZ+b/2o3X6IjYuXeFlYlKDrwYbanJZXdFQkXvu8RkKSJl0zJREWGghPivPzxj+AJvs1YVXSBuXLlaHng09PCCYlJiCEggmLOAyBQSGIS0ggTkVRuUplWFqYf2Q5IcboLTEV9fgFBouZD5iYmlP9tjSmFh8d/1EnleQLFvxKMhDcDCbABHJEgAV/jvDlzsmn/jmIpUtXQNu0NDasX4OKWTR5DAl8iwcPHsDF5RJczp/Hg/sPoFvMHB07d4WluSmq0kpQi2bNkBDojYnkwy9M+mfNmAYDjURcungJ7vQAExIWRp1SQxFDQ5QuUw52dk1QhyYEzEyKSlYAiuoxC35Fkcy7cljw5x3rnNbEgj+nBPP//E8JftEysforhL82pbozpN9qYepfr149VKtWDRUrVpQmAYoVKyYF+stspVihvcxU8NMqNMWciYl+hxP/HMWC+U4oV6cpVv+whEz6S+O110tcvOiCB48fITgoFEk0YaVO7moWliVQtRpZMtg1QskSxaEhzNRoE2L6odt9/Hf2MkqVrQF9jXe4e/sGvHx8oU/3PJsKNREX/Aruz57g5KnTUNOzQuuWDWjiuxjsGjdFm9YtpfSAYSFBuH/nNm5TbIHXJJ7DKW2fiI0jUgiaFbdE+YqV0NiuMcqUskoNikvTDXj55BH2/7wHhiUqo2KFErh98xpeeYusOono3a8/WjZvhOC3r3HyzHnUrtcQifHRuHvrBjw8vGhSPhpqGlooU64C2nVoCytzE7heuYTrN28iJDhcEtK6+gYk+Ml9o207VKtUlur+MOkuJkbc7t3BrVt3KJPPG5pACJcs4jTomKJFzVCPJn6aNG0Mq+JmqcPr/8Ybh377Hf4ROmjRvAYeP7wPj1deCKP7fRxNcBQ1MSPGjSlrT2sUMzZKYwGRSMI+8l0Enj18iMvXqJ9e1IfoGGmMNLS0ScCXRVN6rqhRoxrFYygidD1iIt/h/r27uHL1CrmleCMyJkZqi46ePsrY0nNFk2aoUrE8ihob5nn8oFQoWXzDgj+LoPgwJsAElJoAC34lHJ5fd2/Bus07Ua5uSzjNmgRDPW1E0A00Pj4BGppa0kOcIa3UC799DVqNl20BZOp69ZorBUX6Dzfo1dPzFbRpBr5BQzsymTdFQ3rQ6dGtC5KCfUnwT4RHWCw6tm+DN6/c8TYwHKbmxaWVgfjYaPjRKou37xuUKFUBAwYNQtuvmsPCrKisqhy/suDPMcI8L4AFf54j/+IKWfB/MTqlOTEzwS/fSOHHr6WlRdHnDSTxX7lyZUn8C59/sfpfunRpyeRfWAWIY3NtAuC94F+5ZjO0jCwwYPAQmBkZQIPM3ZNotTea7mEv3Z/jv39PUNA+L4yePB1DenfFuwBv/LrvF5y75AoDYxPYlLahYLRFpCB/YkU8WVMfbTt2Rq9uYuK6mCT64+NipIkD52VrYFWqOnQ039GEQhIFNDSDpbUNTCzK4PXzW3AnN50rV64gUdccjRvWRHETI7Rs3Zay2rSHWmIc/qPJh0NH/sGboDA611KyaNPX1aJgiYHw9hHiPAENmrXCsCGDYFvaiqzdtCSj+JsXTsJh+FDEGFVCBRL8lOAYZmbmNFWuha49e6KJXR243boC5+9WohJNwpATAU0mvKMVbhMpc4GX50u88PRBTcqgU8GmJC5cuECi2xSlS5WiyYwYPH/6BC+9fNHkq46YNX0KSlqaCUN8aXv++C5+3f8b7j15ScEbi8DKykLKwhMQ4Acvb18ka2ija4++6Nm1E92zU1w93J/cxxyHMbj5IgENG1agPqihBKXzNaJniCC/N3j05DE0dI0xYdJktGnRFMbvLSoE0wA/X7hR4MjfaMLgobsXCXZbCh5pCV0dbVrx94fbg0eoWqsBRo4ZgzrVKgm/QVz47yT2/forPHz96fgyKFFCpP5NIksIH/jSxIplqfLoTpxaN28CQ4PcC9r4HlmOXljw5wgfn8wEmICSEGDBryQDId+M9SsWY9cvB1C/VUd81bAWpddzJxO6UDLbI2NFemArWswEVWrUQr1aNenGW0JaqRAPcTHRUQihFYsXz57j6B+/4+S/J2FcqixmzJkLC9NiJPrNYEVmoGE+7pg0aRLO3nIjk0IrVKxSQ/Jbrlq5Aj0AGEirJ96vPPDPkT/xzykXNGzeBvbjx6CZXX2ajZdv6Ze/Z8H/5ezy60wW/PlFPvv1suDPPjNlO0OMofDhT2/S/7l2CpN+seovTP6F2G/SpInk5y/Ev4iVItL7CfEvLAQUupHgv3vjEpb/uB7u3v6oVKUq9Eggi2oSaJU4ilaJ/f3f0Ioy0JBEtP2E8bA2N6bo+c44ePg4qtZril49e6AyrWgX0ddDRFg4bly/jKNH/0Y0dDFg2Eh0adMMJrQqLNzXjtL9acKkabRaroeWrdqif7+Uc3V09KGppUMTDKEkVG9g+YqVUC9WDZPGk0l/BUuYF7dAMRK091zPYfXG7fALj0eHrzuiYf26KGtTikS9BrkLhOLerZs4eeIY7j17hV6DRmHsN/1hWdxU8mF3PfcPxvTrCc9YIzQkvuPHj0OlCrY0oaIpCf+iNNFx9eJpChg4E+FR8Whg11QK4Fq3ZlUY6Ovg5fPH+Pmn3XC9cQ9FyXzftnJtjBs5lAS/FZLJeuHebVds27IRr4ITpawHbZrUpvu8tjRc3p5P4XLpKuKTtVGaXB5KkluANqXdFbF7brq64reDB6Ghb4FJZMXXqX0z6ZznD25j8sj+OH3LG/XsmmPM2JFoQLF7DClFYURYEAVS/Bt7fvsTDVt2gT3tq1mlnLRSLyZpXM6cwpEjR3Dl3hO0atcJPTq3I5N84YqgTiv5Yfj7zwMIjVVDjz79UJsEf5CvJ2bNnINnXoHo2acXWTs0hYUFTVjQs0MguTWcOnUSf5/4D3XtWmDcuHGSBaNweVDWjQW/so4Mt4sJMIHsEGDBnx1aeXFscgKc5szAz/v+QNmqdWBmqEd+9X7Sg4SY4o96F4kYMsErRWZ0zciMrn27tqhUvhz09XRSWxceEkhB+7bif3v3w4yC9m3duYei9BuI01OD9k2ePAlHTl9CucrVMHHyFPTp0Q3mJsbSTVkUFB0ZgfOnT2De/EVQ1zeFw5SpGNi3R4bpAVMrzsYbFvzZgKUkh7LgV5KByEIzWPCnQBIcxEp5fDypzEw2cdyntsz2feoc2fc5OVe024P8n3ft2oX169fLiszWqxD/5clXXKz6V61aVTL9F8Jf+MYbkZWYsAwQq/4KEf+S4L9MAnst3J57kUuYLQxIiMosCkSWGD2aUC5foSpatWxFK+61EOrnRcFah+JtRDImT5uDLh1awlTch9730tvDHT/v3I5Dx06hRuM2WDDDARXL2UCs8P99+E+MHj8RSWpatJK+AsMG9SUT8bS+6243XDFxiiM0zRtgmfNU1K9pI01a+7/xwZplC/HXqcto2aE7xlNMgXIUs8aArOlStmSKa+OFk8eOYhWxN7aqiPWrV0opcsWVcp0E/6g+PfBW3RQjxjlgzowpKGZU5P25IsZAAlzO/gf7KdMREJ6IocO+wYSxI2BbiqwBaBPud7s2r6d7827oFLXC1NmLMLhPJ+hqa0n7/Xy9sGH1cmza+xemLVyGcYN7wqxYin99LLlFBAQF06SGHozJ516HzhEuECIWweMHd7Bpw3pcd3uJ8faTMH70MKk8meA/eeMFHGY4Y/oUmmwpISwSxJaMW1cvYtasuUikiYK5s6fTyrsdXRfqEoOfdm7D4aPHYFa6AuYtWIAGNGmhrfVBoD91u4vgd9EoU7YCWQbo4uxf+zFr0Q9o2KoTpk+dggplS9OEREq/EmjR4tb1q/hx5Y8Uo0gLI8fao31LO5iSRYeYEMhoE7EAoig2URxZOKb/e9IklwJ9mhzSpGs4tzYW/LlFlstlAkwgLwmw4M9L2lmoKz46FI6TJuKXX4/AmEwEa9Ssg1q1aqF0yRLSjLoImvPooRtcr19HJM2qd+vdD98MHYRa1SqnBsERM/37tm/Dvv/9ClN6uNpKUfqF4JdPyycE/3/XH2HgsFFYMHuq5NuYvnmvvTww19EBdyhn8tDRE2jmfxStMqTcuNMfm93P4sbNQfuySy1/j2fBn7/8s1O7+PvioH00QUpCQYhm8U/kgpcJBvEq+ye4yr6XvZffJ/+deC/b0h8jBHr672Tlyn8v+04cL9sy2i++CwgIIN/2izhz5ozs0C9+FSb/tra2ko9/7dq1JX//MmXKQPwT/v4yYf7FFbxf4V+xahPitY3RvXdvWBjqk6gkf3xyPdMjv3Rh9m5lVYJWuXWRQK5jLsf/INP+WWjQuhsmjBtN/uymVH3K5ItoTyIFirty7jTWrF5DZaYE+WvcqF6q4B87aQaMzGzwx6+7KLht1Y+aLkvLp2lWH0vfC35NErIP7t5E9x49oFXEEstWLEVX8qUX38tvwpzd19sDq5YswKH/XPDjxh3o2eVrivIPiBX+kb17ANbVsGLtRnSi1Lnym0zwO86cB/OyZO4+fBC60Wq7Dk2AiC0yIhTHDv6CVWs2oFjp6thBwQtLlfjgcy+E8R+//oJh46di0Kgp+G6WPUpbF0+tQlw7EWSFEBoShiCy6ouiuAAJJIj93/rg5D9HcNPtMUaMsseUSfbSOZLgH9UfZ+964cQZF7Rs2jA1XaI4wNvzBRbOmI677r6Yv3ARuot+amrg3s1rWL50GW4+dMfI8Q6YPWVsahsyehMW7I/xg/vgzI0HmLtkBTq2+4pcOj4cKSaWIkKDsffn3Tj071W079oLk8cNReVypTO+/uhvINT/NY6fPAkv30C6juQKo2KtbCtQX+wovgO5DKTd9aHSHL5jwZ9DgHw6E2ACSkGABb9SDIOsEcmIDH6LhQsX4uTF6+Rr2A6DyX++Yb3aHx5G6Abo6+OBAwd+o5R2exGdqIURo8dj/KhvKMJuyupGlgQ/mfTfex2OORQ8qX/3DuSP92HGXtaaN7TCsXrxfJxzvY9ew76Fw4SxFE/ggyWB7LgveRUPsyz4v4Rc/p3Dgj//2Ge3ZvH3xYIfFMH8Dfbv34/Dhw8jNjZWEhUyYS6YyoS2eBWbTITLfy/bJ/tOHCd7n1lZ8sfJjpf/LrNzZXWKSQrR7pj3Qc/E+YrYilBwNZHSr2nTFFPzOnXqSCv9OSqbBP+d65ewau0WWFeshcnTKS3f+3tSRuVGhAZh12onLF2zHRVr26Fu3dq0cpx2QllwEKvd165ehbZBUezYvoPa3JgEfyyOHjqASbOdYVOtGXavdyLRaPNRNRkKfhKN1y5fQO+Bw1ClXns4zZuGxvUqpQYETC2ELolYcgs4e/wQpi5aAXuqawRZERhoqUuC/1sS/PrlG2DDpi2wa1A79TTxRib4Z853xlc9R6F3t46oXdGa7uMpqjTqXThOn/gTa9ZuQHHb2tiwZiVF+zdJLSMxIQ6H6B4/YMREDBg5Cd/PdUAZ65SI/cI14uGDe7juepOi+vsiKDRUsmARQRGFZZ63x0uExcRj1NgJmOIwQSpTCH7H0QPh8ugtzly4hPoUiFd+E4xXLp6Ni7efkwvgAnQn/38RKNDl3ClajV+LN+FJmDpjHvp3bZapW99bmiBp1rg5fPxD0Ll7F5Sh+ASUhC+1KjGJEx8fS4ES7+DG7Sfo0KUHWRQ4onaNyhlamYiAgfevncbMBUsQp05ZG0oWp/o/TMxUqF4bvck6sVJZW8ou9KGe1AoV8IYFvwIgchFMgAnkOwEW/Pk+BPINSEYUzfyfotns14Fh9GDTgvwCy5G/pczMMOVY8RAoou5uWb8Kvx3+F7UatcRipwXSA4+Y5c6K4Bc+/J6Rmli82AltW9jRqsXHN8u3Pt5YT6sbp1zvoseQFMFvRP6HitjEgxwLfkWQzLsyWPDnHeuc1iT+vljwQ/qN2b59uyT640QMFFphlK1ky7/KBLaMu9gnv1/2vXiV7ZM/R3asbL/8q3gvNtkxslf576QD3v8nv1+4IgQHB0sr/fLHfMl70Xfhvy9M+UtRcDhh4l+jRg20bt1aei/M+3O0yQT/uq2wKl8Dk6aS4C9WJM1Ksnz5wvVs09LZWLllD8woOKwtuRkIM/I0G13HiWQeHxsbByvrUmR2Pgs1a1RPEfyHD2L6gu9Ro2lbrHGaiXIkLtNvGQl+UcUVl/MYQPe0ei16Yd5Me9StTv73IthAui0hNhKXz5/AeMcF+Jb+jRnaD0a6mqmC37ByI2zctBX166QV0CmC/yRmL1yCXt9ORtev26G8tSmtdqfcZ6NImJ8+cRBr1m+GZdk6WLdyOYqbyQn+xHgc+oME/7f2KYJ/TorgTyIBfPWKC37++Sfcvf8YumS1IQL9mZuZQZ/88WOo3Kdu9/A6IATDR49LI/injhmIy08DcOacC+rUrJamp4FkGbB2uRPOXn9Awn5uquC/cOYkfly9lnz0dTCT3A66tqmdeh2nKeD9h9evnlME/pZ44xeGOvVqwJyCFMpfz+Iw8XcTT3+L5JmI5uTaMXjQQFQsb5uh4BfH/fvnXuw+fBYDh45CK7saNGmiIZUhytIik34dikch3Bpya2PBn1tkuVwmwATykgAL/ryknYW6xM1QRDSmx0NpJvuTs9Z03N3rLhQcZzZ8aPb9+2XL0bltc5qV18iS4HdwmITAZH04k+Bv1rCuZO6fvnl+JPjXkeA/TYK/++ARcLAfBxb86Sml/SzGTwTa2r17N44fPy4Faho7dqyU0zntkar3iQW/6oyZuA5Z8JPpdGQkxHX79OlTafVeJj7kX8V72T/ZCMs+y3zb5Y8Xx8h/lr2XP1b2XUav4jvZP1lZ6T/L2iEsFETAtF8p4vmXbJq0SmtsbAwTExNJ5NevX18y5a9evbr0myRW+nV0dNJMhHxJPdI52RT80ZHh+PPnjZhJPurdhozBmG9HkJ+6iCqfYm0ha4eY4CbbC8klwIQC1opUhHEUtO9vCto3c9H3qNvya6yYP538461kp6S+ZiT4xSr7Tdcr6NtvEJnb18HSxXPRqkk9SUimnkhvhEl/aJAfDuzdilVb92HWkh8xiOLY6NL5wqRfrPAbC8G/eSvqplsxlwn+OYu+Q/8xU9Hl67YoQykBZfPqQvCfIcG/Wgh+WxL8qzIX/EtJ8NtYFaeYB574fulynL/uhs7deqBVi+YU06AsxfDRJRN8NfhQ9P895HN/8twlDBs1/iPBf0UI/vMutKKekeB3JsHvliL4u9AKP/npu16+gBU//ogXPqEYR1kVxg3pnnrty7OSvQ/0e43uHdrjsVcYflizAm1bNqWJlPSLCeIZR4yxOgwopoMxpQFMb9khK0/EK9i2dhWevonCFJrsqWD9YVJEdkxuv7Lgz23CXD4TYAJ5QYAFf15QzqU6fCl38cJZM3HqxlMsXLIEg3t3loL+ZGmFnwR/iEYRODs7wY5cBoR/f/qNBX96Ip//zIL/84yU6QghtIQgdHR0xHNK4WVvby9lrChXrpwyNTPbbWHBn4JMcBCm8yJK/Kc2cQ18astsn+yczI750n2ibNF2EXsgu1H6xblC6Ashb2pqinbt2sHOzi7VZ19MAIhgfpm1TZSR7S2bgj+JVrGf3r2Mwd+MIVf4xljitBC1KTp8+i0sJJjS40XBxMyC+qQlGYjLovR/meBXh/uzR/imfz/4hMZh5rz5GEwR940ps4Gc9TliKevNEwqCN2/WNDzxCsbmHbuk9LTiahFB+/Ja8JcmH3+fJzcw3+k7RGmawJEsKOrXrk6BdFMC1olJBrc7t7CKYhJcvvUAk6ZMo0j9H0z6xQp/dgX/s0f3sXrlCpzzDKUdAAAcGUlEQVR1uYZOPQfS5Mg8Siuom4ZTfHwcxVpIkgJACguDNQsdsePAf5hKZvijRwyV0hDKj6kIwucfGERTOGowo4kosUjxqe1dWDB+oMWMOK0icJziQFkfaHWf/p6lVJTaOlLwQNlE26fKyOn3LPhzSpDPZwJMQBkIsOBXhlH4wjb4vfbG9wvn4vC525jn5IzhA7pnT/BrGsLZSQj+Wiz4v3AM0p/Ggj89EeX+LEQPC37lHiP51olg3CFvvfDv9nEI9rqFQQMGwIl+w0QKuoK2yQT/5s2bsWrVqix3T5jsC5/8Fi1aSH76wmxfCH8RtC9Xt2wKftEWkdbtW8px/9+F6xg8cgIJ1DGUGs86VXe/ocCxB//4g4LGeaB5hx60etwU5hStPqeC/114MP75fQ9WbtoN89IVMZ5SBDazawiTokYpiISFzKN72L93D3b97w80bt8PyxZOQwXbkpL9Qf4IflP4vriDBST430brYpLjVDStXweG+ikuf69fPsexI4exdvMWhMYkYSatiMv78H+J4A+ngIB/HfwVv/32B16HxdHq/wyKR9CFshl8cO27Rn7+Tz28yLWwGaqUt4H3s7sYSJM4ydpm1IaZ6NKpTaroFy4JtykQ4C97/4ci5iUxeOgwYloKWmQ1kdEW6OeL5T8sh6e3L6qQJYO7hyeiKK+jmbklWnzVliZgWqCEpSzbQEYl5Pw7Fvw5Z8glMAEmkP8EWPDn/xiktkD4a16+eB5//XMSrdp+jfZtWkAvnf9+6sH0xtvzOeZSZN1Lbp5YsuQ79O3RkXIIp+Tj/VyU/klihZ8FvzxOhbxnwa8QjHlWCAv+PEOtkIoKk+AXlgmyFf6VK1dmyk+Wfk8E4WvZsiWEhYq1tTXlP7fIeTC+TGuW2ykJfhcK2kc+/BVqftaHX5wpAs253bpG96/FcHvqgSo16qB582YoV6YURcj3xKWLF3D/sTtsK9WEIwUBtKtTDXo6mmTSH0sm/Qcxg0zm67bsiB/nkUl/6Y9N+u9SCjghjEWU/mVOjpSWr4wUJyCZov8HB77Bxo2bKOXcCegYGKE2TZLYNWxA6fX08fLFM7i4uODZC0+Usq2MeRRIt16tqpSlhsQ1TQa4njsmrfAbVWmITVu2oW6tj334L549iTnkwz9g7LSMTfqPp/jwWwiT/tXpTPoThA//r+gvfPhHTcLS2eTDX9IC0REhWLl8OX4/fAylK1WTLDdqVC6PiOAAXL10Gc9fvCBriEjEJqtjwMChmDltkjRAzx/egSNF6Rcr/OcuuKAWxUGQ3yQf/mVOOEM+/NNmfvDhTyJ3Cu9X7rhw9hTWb9qO2CQNNG/REnWJlUgT6OXxHEcoIKa6XlFMmDQVndu3AsU0xJ7dm7Fu4y6oa+ujabPmaEyTKbraanjy0A2XqJ2v/YLQiSL0jx9H1h1WdI1mpPeTk+BDdX/33RJcvEYuDJ06UYaJskiilIwPKGjhnftP0KZTbwyjrABlaewVbrHyHhALfvkrhd8zASagqgRY8CvRyMWSX+LB3/ZJM/id+wzB9MkTKSptSmTe9M38f3v3Hl5Vdadx/E3IVZIQyIXrYICAd+TxLmgqDEitIANFHhEVL3V0ijpYdagj41DtM9pnVOYRtYMwakV8qvaP0QFq0dB66YOgoFbDRW7mAgQi4WJCQhLIrLXjwZMI4XCue5/zPS2SkL3XXuvzO5C8e++19hHzA8F77yw1t/eZ1WvT8vTYY/+hKy618xCTAprDT+DvKBqezwn84XGMVisE/mhJh+c4BP42R/u+tVfsbagfOnSoLrroItl5+UOGDDGPvevj3M4fqQB03Eq2NmndF2v1u5d/r15Fp2vaTTcp34TnHy6F16EFE+zWfvyR3nrzTa3+ZK0OmSn79jnvdhpGckqazjj7XP3kqqs0/OILzZgznKv/LeY28vf/Uqq5zy7U6ecP1313TFevwu8fa+c7wiazgN3j//mkuvQ4W3ebx7+dNaSXWa+gLV3aR/5tM8H+z6Xv6r33P1R1zR4TGpPN8+3NCQXTfmbXbJ1pjj12zJUafsn55uS7uZX9u1fZmg/18H3/pKwBF+pfZz+s0wYV+b7k/G5P1qw1TyyY99wC/fjaG1ViHh3Xp0fO0TsXGs10gdV/LdWiV3+vvL87Q7PuvUfdfXcXmBZaTdBeYRbMe8AsSjh24vWa+bNp6pmfa8+Q6Etz2/4b5q6HlWs/VVNLq3nE4SnmCnmy8gp7a/DgYnXL7KK1f/tSl4wYqdtuvsHpz45tm/X4vz+gz8trteB/XnIWyfPvsDMN8KX5Wv3FZt043SyOVzL86JoG9uTKbnOl/cP3/qLlf1qurVU7HaPUlFQz7aFB3fIKNfrKscZptFl4sZ9zgmlPzU6VvrNcy5aax+lt36nUjHQzdrtCf5O6m+1HXH6FfmRO7Jx1xhBnmoZ/X/w/rjGLCdonbDQcTjNTU0arb+9CJZkpAdU7q/Tq7xZq9Zfluum2O/TT8WM6nRrg3+bJfkzgP1kxtkcAATcKEPhdVBX7zfD9d/5o5ubdr9RuvfUvD84yZ8z/XlnmmcX+L3vW3c7f/2+zSv9rS1bokivG6lf/9qBzlttut9+c7V9snuu7+JXF6jHoTP12wYvqnZ/lrBBsf5DYtXWDCPz+ouH7mMAfPstotETgj4Zy+I6R6IHfLlhnpy/069fPCfj2tv1hw4apf//+zgr8dj5z1IO+r7yth1VvHje3fXu1UjJOUV/TRzu//FgXb327+H63C9Xu3rVL28xt6Zs2bzNPJtirbj0KVFw8yBlb716F7RZ2s//O1tTsMgukVijbzAMf0L+fuc28/fdJ23bd/v3mKv0Wc6U523lEXLccs3aB76Dmd/v98IB5nv327VWqrKhQecV2c8t4k/LzCzVw4CCz0GFfcyKh0FnAzm8353vsxnVfqktmtgYXD1GOWXjO/9VqgvkBc+wtW7epZ59+6pHXXRnmRIINvfZ1xJxs+OabXdq5w4Tn9K5OUPdfuM6Ob/euaq3buFkFPfs4dy90PSXzu31t4K3U+vUbTL936tv6BnOLe6FOO+MMc3u7eWzdkSbt2v2NuubkOk8+sDvVHdirLWbhygMNzeZOhmHKtusV+L3sIoiV5Vu1r+6gGfOpzqr//u8jO56GujpVVVZq09bN5nGX1aqrb1Ru93wNPXeoTj21v3kssPkZw/4FNS/b/0Zzp0FlRblZG2WzyiurzKr8rerVu4+5+2SgioqKzPbZZq2Jtu39utLuwxZTi1qzhkNKarq6d889+t4+YtYMqNi6Tr988GEVD7tUD9539zHr366xID8h8AcJx24IIOAqAQK/i8phF6PZXfW1fjnrAS1b8YFOO+c83f+LX2jY0DPNN7NM51bEZjN/bbc5u/1/b7yq5xe9pvy+A/Xzu+/WlInjze2GbfPqvt1Xqz8sWqhXX3lFrd366jdPzVNRn3xzJj3Nebbu3opNBP4I1Z3AHyHYCDVL4I8QbISaTbTAX15e7jzxY+7cuU7QHzBggKZMmeLcyn2qeYydvcof05B/jDrbfwPtyz8wHmOzY/6RDZZ2BXfbht0/yZzAONaCsnZn33Hsx50dy7fdibax29kr8772OnU129r/2dXrTDed3+1/O746O7bva3afY/XNft3832n/h19vW+m+bZs2K//++tr+fr+2tmyXj/fkH98+x+uP/XPf8QJ1Otnt7TF8L7vvocYGNbccdp7QkOL3yEbr0txYZxZbnankrD769a8eVLeubSdEfPuH63cCf7gkaQcBBGIpQOCPpf5xjv1h6VLNmzdP777/kdQlXcMvu0znmzlzOeYb2vaqCq36aKXWfFamoiGna8bM+80iOlepV545+/1dew3mKsuf3npDryxepI/XVWiUWQ/A3jp36sBijRhubtX7dpfsY/n2mTn8c8zcxIudVfp/2Bm7KODTv56jd1ebx/JNvVl3/fwfeSzfD5na/Yn9IYXH8rUjcfUn9gdiFu1zdYnadS6RAr/9t2SXueq9YsUKff7557rmmmucq/p2lX1eCMS7QJOZ9vDF52u1taJal4260tyl+P1dFDbwHzp4QP98z0xl5PfXIw/PIvDH+xuC8SGAQEgCBP6Q+CKzc4O5Fe7rTRu1bMkS8zicv2pHdbUOmQX97G1syUldlGV+4Dvr7HM06adTdOnF5yvX3E7Y7uy3eTzP15vWq3T525r/4iLtrztk5vf10eifjNPPbpmu7kkNetJcMfpWmbrt1lt05mnFR08W+I9o3ze7zZ0CL+njsq90+eirNOkfrjF3EaT6bxL0x/aH2aqqKufq1YIFC1RQUKBp06Zp8uTJyjBzJX1XEII+QIx2JPDHCD7IwxL4g4SL0W6JFPgtsX0GfWNjow6ZedSnmLna9pZ+eyWXFwLxLmAvXCz73zf04uI/6Ja77tM1Y82CgCkpzrCbW5q0fs1KPfrYk7qg5ErdM+N2s5jj908OCKcNV/jDqUlbCCAQKwECf6zkT3BcO5//wP59Zh5fjfaZuYB19XVqMrfz2x/4cnLzzO2dhWaeYb5ZSCj9GLc8tqq56ZDs84s3b92qvXtNtM/KMQs89VE/s8hTWpdWM3dwh1rMyYMCM/fvFBOw225LbN+pFnOSYY+ZJ1l/sFHZ3XLNPMQ8dfluwaP2W578ZwT+kzeL9R72Svjs2bO1atUqTZw4UY888ojsI8C8/CLwe6t6iRb4vVUdeotA+AQOm1Bf9unHevKp/9Kh1BzdfOM0nTak2CwCaebvb9uqBfOeVkNarmbcdZcuv/Q887NJZE6EEfjDV1NaQgCB2AkQ+GNnf9JHtiH5+zl5ge9u50Xa1Yfd9CLwu6kagfWFwB+Ykxu2sn+/NmzYIDv3++3lpTq7ZJquuOFxpZlFxrz8IvB7uXr0HYGTEWjVwbpv9ecV7+rlRYudxQ0LC/LM3YhH9E1NrZqPJGncxMkaM/JHKsgzT0A41lWLkznccbYl8B8Hhj9GAAFPCRD4PVWu+Oksgd97tSTwe6dmBH7v1IqeIoDA8QTaQv+na9fob1+UmacTVKvJTHMp6NlXl1w6XKcPGeQ8zjBSYd/2isB/vNrw5wgg4CUBAr+XqhVHfSXwe6+YBH7v1IzA751a0VMEEOhcwP57Zh9HfMTcrWg+dNaxsI8AjGTQ9/WIwO+T4HcEEPCyAIHfy9XzcN8J/N4rHoHfOzUj8HunVvQUAQTcK0Dgd29t6BkCCAQuQOAP3IotwyhA4A8jZpSaIvBHCToMhyHwhwGRJhBAIOEFCPwJ/xYAAIG4ECDwx0UZvTcIAr/3akbg907NCPzeqRU9RQAB9woQ+N1bG3qGAAKBCxD4A7diyzAKEPjDiBmlpgj8UYIOw2EI/GFApAkEEEh4AQJ/wr8FAEAgLgQI/HFRRu8NgsDvvZoR+L1TMwK/d2pFTxFAwL0CBH731oaeIYBA4AIE/sCt2DKMAgT+MGJGqSkCf5Sgw3AYAn8YEGkCAQQSXoDAn/BvAQAQiAsBAn9clNF7gyDwe69mBH7v1IzA751a0VMEEHCvAIHfvbWhZwggELgAgT9wK7YMowCBP4yYUWqKwB8l6DAchsAfBkSaQACBhBcg8Cf8WwAABOJCgMAfF2X03iAI/N6rGYHfOzUj8HunVvQUAQTcK0Dgd29t6BkCCAQuQOAP3IotwyhwvMB/7bXXKiMjQ0eOHAnj0aLXlB3X5s2b9cILL2jZsmUaP3687rzzTvXr1y96nYjQkTZu3KjZs2dr1apVmjhxoh599FHl5ORE6GjRaTYpKUl2XPfee682bdqkGTNm6Oqrr1ZxcXF0OhCho9j34fr16zV37ly9vbxUZ5dM0xU3/EZpmVkROmJ0mu3SRdpbXam3n79DtRVrdP1112nOnDnq1atXdDrAURBAIKEECPwJVW4Gi0DcChD447a07h5YPAf+LVu2OIF/6dKlcRX47RX+hx56KO4Cvx3XzJkzjwb+cePGadCgQe7+C3SC3tm/Xxs2bNBTTz11NPCPvDE+An+tCfx/nH+n9lZ8QuA/wfuALyOAQGgCBP7Q/NgbAQTcIUDgd0cdEq4X/oF//vz5ysrK0pgxYzRq1CilpaXJft2LL9vv7du3a8mSJVq5cqVGjBihCRMmqGfPnl4cztE+23FVVlbq+eef17p161RSUqLbb79dXbt2PbqNVz+w43r66aed8U2aNMmpmb0jw6vvQVsH2/fy8nK99tprWrX6ExWde6XOH3unUtK9Xa+k5BTV1VZp1VtPqL5mk66fOpUr/F79i0e/EfCAAIHfA0WiiwggcEIBAv8JidggEgI2kFRVVTlXwp977jnt379f2dnZTvC3t1l7OWw1NTXpwIEDOnjwoBOI7W3vqampkWCMapt2XLW1tWpsbHTGlZ+fL1srr7/suGpqatTc3Kzc3FxnbF6vl62LHde+ffuc92FKepYys/NMvcw98V5+mbfb4ZZmHdy/SxnpKbrxhhsI/F6uJ31HwOUCBH6XF4juIYBAQAIE/oCY2CgSAjt27NDLL7+sZ5991rkqbkN+enq6M4c/OTk5EoeMSZt2XPEQjP3x7Jhsjbx8YqbjeOKlRnYc9uRFfX29U58uZuK7XRcjLc2cdPLmjTP+pZJM6DdvP+fEzJQpUzRr1iwVFha234bPEEAAgTAIEPjDgEgTCCAQcwECf8xLkLgdsFfA16xZoyeeeMJZ4K6lpUUjR450Fk3r3bu3Z2FsCLaBy47HvuwUhZSUFM+Ox9dxOy571dguqGhDpB1XPLz8x2Wv7NuxeTn82/ddWVmZFi5c6NyRUVRUJLsY5nnnnWeCcqCLYbr/zg1bpwEDBuicc85xTmjEw3uRMSCAgLsECPzuqge9QQCB4AQI/MG5sVeYBGyArK6u1p49e3T48GHZ28QLCgqcK/1hOkRMmrEh0v6yLxsevRwg/QF944qnMdnx+Z4KEQ/jsjWqq6tzpszY6Rd2fQy7ir2dWuJ7T/rXtOPHdhvfyaqOX3PT5/YOE/vL69Mv3GRKXxBAoL0Agb+9B58hgIA3BQj83qwbvUYAAQQQQAABBBCIoACBP4K4NI0AAlETIPBHjZoDIYAAAggggAACCHhFgMDvlUrRTwQQ6EyAwN+ZDl9DAAEEEEAAAQQQSEgBAn9Clp1BIxB3AgT+uCspA0IAAQQQQAABBBAIVYDAH6og+yOAgBsECPxuqAJ9QAABBBBAAAEEEHCVAIHfVeWgMwggEKQAgT9IOHZDAAEEEEAAAQQQiF8BAn/81paRIZBIAgT+RKo2Y0UAAQQQQAABBBAISIDAHxATGyGAgMsFCPwuLxDdQwABBBBAAAEEEIi+AIE/+uYcEQEEwi9A4A+/KS0igAACCCCAAAIIeFyAwO/xAtJ9BBBwBAj8vBEQQAABBBBAAAEEEOggQODvAMKnCCDgSQECvyfLRqcRQAABBBBAAAEEIilA4I+kLm0jgEC0BAj80ZLmOAgggAACCCCAAAKeESDwe6ZUdBQBBDoRIPB3gsOXEEAAAQQQQAABBBJTgMCfmHVn1AjEmwCBP94qyngQQAABBBBAAAEEQhYg8IdMSAMIIOACAQK/C4pAFxBAAAEEEEAAAQTcJUDgd1c96A0CCAQnQOAPzo29EEAAAQQQQAABBOJYgMAfx8VlaAgkkACBP4GKzVARQAABBBBAAAEEAhMg8AfmxFYIIOBuAQK/u+tD7xBAAAEEEEAAAQRiIEDgjwE6h0QAgbALEPjDTkqDCCCAAAIIIIAAAl4XIPB7vYL0HwEErACBn/cBAggggAACCCCAAAIdBAj8HUD4FAEEPClA4Pdk2eg0AggggAACCCCAQCQFCPyR1KVtBBCIlgCBP1rSHAcBBBBAAAEEEEDAMwIEfs+Uio4igEAnAgT+TnD4EgIIIIAAAggggEBiChD4E7PujBqBeBMg8MdbRRkPAggggAACCCCAQMgCBP6QCWkAAQRcIEDgd0ER6AICCCCAAAIIIICAuwQI/O6qB71BAIHgBAj8wbmxFwIIIIAAAggggEAcCxD447i4DA2BBBIg8CdQsRkqAggggAACCCCAQGACBP7AnNgKAQTcLUDgd3d96B0CCCCAAAIIIIBADAQI/DFA55AIIBB2AQJ/2ElpEAEEEEAAAQQQQMDrAgR+r1eQ/iOAgBUg8PM+QAABBBBAAAEEEECggwCBvwMInyKAgCcFCPyeLBudRgABBBBAAAEEEIikAIE/krq0jQAC0RIg8EdLmuMggAACCCCAAAIIeEaAwO+ZUtFRBBDoRIDA3wkOX0IAAQQQQAABBBBITAECf2LWnVEjEG8CBP54qyjjQQABBBBAAAEEEAhZgMAfMiENIICACwQI/C4oAl1AAAEEEEAAAQQQcJcAgd9d9aA3CCAQnACBPzg39kIAAQQQQAABBBBwqUBra6vsr2BfSUlJev311/XMM8+opqZG06dP1+TJkzV48OBgm2Q/BBBAICYCBP6YsHNQBBBAAAEEEEAAgUgJfPXVV6qtrVVycnJQh7CBv7S01An99fX1uvXWWzVp0iQCf1Ca7IQAArEUIPDHUp9jI4AAAggggAACCIRdYMGCBfrss8+UmpoaVNs28NuTBmVlZcrOznYC/4QJEzRw4MCg2mMnBBBAIFYCBP5YyXNcBBBAAAEEEEAAgYgIXHfddXrzzTeVkZERdPstLS3q0aOHSkpKNHXqVF144YUqKCgIuj12RAABBGIhQOCPhTrHRAABBBBAAAEEEIiYwJw5c/TBBx8oPT096GPY6QD2ir6du3/BBRcoMzNT9so/LwQQQMBLAgR+L1WLviKAAAIIIIAAAgicUGDPnj1qaGgIOaCnpaUpKyvLuVOAsH9CdjZAAAEXChD4XVgUuoQAAggggAACCCCAAAIIIIBAqAIE/lAF2R8BBBBAAAEEEEAAAQQQQAABFwoQ+F1YFLqEAAIIIIAAAggggAACCCCAQKgCBP5QBdkfAQQQQAABBBBAAAEEEEAAARcKEPhdWBS6hAACCCCAAAIIIIAAAggggECoAgT+UAXZHwEEEEAAAQQQQAABBBBAAAEXChD4XVgUuoQAAggggAACCCCAAAIIIIBAqAIE/lAF2R8BBBBAAAEEEEAAAQQQQAABFwoQ+F1YFLqEAAIIIIAAAggggAACCCCAQKgCBP5QBdkfAQQQQAABBBBAAAEEEEAAARcKEPhdWBS6hAACCCCAAAIIIIAAAggggECoAgT+UAXZHwEEEEAAAQQQQAABBBBAAAEXChD4XVgUuoQAAggggAACCCCAAAIIIIBAqAIE/lAF2R8BBBBAAAEEEEAAAQQQQAABFwoQ+F1YFLqEAAIIIIAAAggggAACCCCAQKgCBP5QBdkfAQQQQAABBBBAAAEEEEAAARcKEPhdWBS6hAACCCCAAAIIIIAAAggggECoAgT+UAXZHwEEEEAAAQQQQAABBBBAAAEXChD4XVgUuoQAAggggAACCCCAAAIIIIBAqAIE/lAF2R8BBBBAAAEEEEAAAQQQQAABFwoQ+F1YFLqEAAIIIIAAAggggAACCCCAQKgCBP5QBdkfAQQQQAABBBBAAAEEEEAAARcKEPhdWBS6hAACCCCAAAIIIIAAAggggECoAv8Pmfn4VLUsSH8AAAAASUVORK5CYII=)"
      ],
      "metadata": {
        "id": "ceLa5CQaMI_1"
      }
    },
    {
      "cell_type": "markdown",
      "source": [
        "Gridsearch: 관심 있는 매개변수들을 대상으로 가능한 모든 조합을 시도하여 최적의 매개변수를 찾는 방법. <br> 즉, 우리에게 필요한 최적의 하이퍼 파라미터를 찾아준다 <br>\n",
        "ex) max_depth를 몇으로 설정하는게 좋은지 등등 <br>\n",
        "\n",
        "GridSearch는 확인하고 싶은 다양한 파라미터값을 넣어주면,\n",
        "그것들을 하나씩 확인하면서 스코어를 내고, <br>\n",
        "가장 좋은 성능의 모델에 대한 결과를 확인하고 사용할 수 있음\n",
        "\n",
        "\n",
        "model_selection 모듈의 GridSearchCV 함수는 GridSearch + Cross validation의 약어로, <br>\n",
        "k개의 폴드에 대해 최적의 하이퍼 파라미터를 모두 종합적으로 고려하여 최적의 파라미터를 출력한다. <br> 이때, 테스트하고자 하는 파라미터 값들을 사전(dictionary) 타입으로 정의해주어야 한다.\n",
        "\n",
        "단점: 상대적으로 시간이 오래 걸린다"
      ],
      "metadata": {
        "id": "uh9MzsioMj16"
      }
    },
    {
      "cell_type": "markdown",
      "source": [
        "max_depth, min_samples_split에 대한 hyperparameter tuning을 실습해보자."
      ],
      "metadata": {
        "id": "KrOnTHjPMshZ"
      }
    },
    {
      "cell_type": "code",
      "source": [
        "from sklearn.model_selection import GridSearchCV\n",
        "\n",
        "#테스트하고자 하는 파라미터 값들을 사전타입으로 정의\n",
        "#max_depth 와 min_samples_split라는 parameter에 대해 범위 지정\n",
        "hyperparams = {'max_depth': list(range(2, 8)),\n",
        "                  'min_samples_split': list(range(2, 20))}\n",
        "\n",
        "GridCV = GridSearchCV(estimator = tree,\n",
        "                      param_grid = hyperparams,\n",
        "                      cv = 5)\n",
        "\n",
        "GridCV.fit(X_train, y_train)"
      ],
      "metadata": {
        "id": "LXC_gQZ3MIdx"
      },
      "execution_count": null,
      "outputs": []
    },
    {
      "cell_type": "code",
      "source": [
        "#가장 좋은 성능을 보였을 때의 parameter\n",
        "GridCV.best_params_"
      ],
      "metadata": {
        "colab": {
          "base_uri": "https://localhost:8080/"
        },
        "id": "tU2zNtEiND7U",
        "outputId": "804d6e53-51b2-4cc3-f1d9-77bb3ba5b924"
      },
      "execution_count": null,
      "outputs": [
        {
          "output_type": "execute_result",
          "data": {
            "text/plain": [
              "{'max_depth': 5, 'min_samples_split': 2}"
            ]
          },
          "metadata": {},
          "execution_count": 91
        }
      ]
    },
    {
      "cell_type": "code",
      "source": [
        "#위 파라미터로 했을 때 성능(평균 정확도)\n",
        "GridCV.best_score_"
      ],
      "metadata": {
        "colab": {
          "base_uri": "https://localhost:8080/"
        },
        "id": "GokrZ1StNK9P",
        "outputId": "a18321ac-47a8-43d3-8336-a8b1246100df"
      },
      "execution_count": null,
      "outputs": [
        {
          "output_type": "execute_result",
          "data": {
            "text/plain": [
              "0.934620253164557"
            ]
          },
          "metadata": {},
          "execution_count": 83
        }
      ]
    },
    {
      "cell_type": "code",
      "source": [
        "#위 파라미터 값들로 모델을 훈련시켜보자\n",
        "tree_new = DecisionTreeClassifier(max_depth = 5,\n",
        "                                  min_samples_split = 2,\n",
        "                                  random_state = 10)\n",
        "tree_new.fit(X_train, y_train)\n",
        "tree_new_pred = tree_new.predict(X_test)"
      ],
      "metadata": {
        "id": "ugAU8o3YNPs_"
      },
      "execution_count": null,
      "outputs": []
    },
    {
      "cell_type": "code",
      "source": [
        "#원래의 트리 성능\n",
        "\n",
        "print(\"Decision Tree accuracy: {:.3f}\".format(metrics.accuracy_score(y_test, y_pred)))\n",
        "print(\"Decision Tree f1 score: {:.3f}\".format(metrics.f1_score(y_test, y_pred)))"
      ],
      "metadata": {
        "colab": {
          "base_uri": "https://localhost:8080/"
        },
        "id": "JWLfX1lCNc5N",
        "outputId": "5fe275f7-08c9-45ac-ee16-9a43ff75dbd1"
      },
      "execution_count": null,
      "outputs": [
        {
          "output_type": "stream",
          "name": "stdout",
          "text": [
            "Decision Tree accuracy: 0.906\n",
            "Decision Tree f1 score: 0.875\n"
          ]
        }
      ]
    },
    {
      "cell_type": "code",
      "source": [
        "#새로운 트리 성능\n",
        "\n",
        "print(\"New Decision Tree accuracy: {:.3f}\".format(metrics.accuracy_score(y_test, tree_new_pred)))\n",
        "print(\"New Decision Tree f1 score: {:.3f}\".format(metrics.f1_score(y_test, tree_new_pred)))"
      ],
      "metadata": {
        "colab": {
          "base_uri": "https://localhost:8080/"
        },
        "id": "rZrM0RRUOGRs",
        "outputId": "75db858f-7bc5-4624-f1c9-1b9073b70143"
      },
      "execution_count": null,
      "outputs": [
        {
          "output_type": "stream",
          "name": "stdout",
          "text": [
            "New Decision Tree accuracy: 0.930\n",
            "New Decision Tree f1 score: 0.910\n"
          ]
        }
      ]
    },
    {
      "cell_type": "markdown",
      "source": [
        "GridSearchCV로 최적의 하이퍼 파라미터를 찾았다. 성능이 보다 좋아진 것을 확인할 수 있다."
      ],
      "metadata": {
        "id": "5eLk4MAoPgjk"
      }
    },
    {
      "cell_type": "markdown",
      "source": [
        "## Ensemble - Voting"
      ],
      "metadata": {
        "id": "oa-yrF0UWeHY"
      }
    },
    {
      "cell_type": "markdown",
      "source": [
        "Voting기법은, 하나의 train set을 가지고 여러 분류 모델을 만든 후 새로운 데이터에 대한 각 모델들의 예측값을 확인한다. 이후 voting을 통해 최종 결과값을 구한다.\n",
        "\n",
        "아래 예시에서는 분류모델로 로지스틱 회귀, decision tree, KNN, SVM을 사용하였다."
      ],
      "metadata": {
        "id": "nX4WLjmyiPNT"
      }
    },
    {
      "cell_type": "code",
      "source": [
        "from sklearn.ensemble import VotingClassifier\n",
        "from sklearn.linear_model import LogisticRegression\n",
        "from sklearn.tree import DecisionTreeClassifier\n",
        "from sklearn.neighbors import KNeighborsClassifier\n",
        "from sklearn.svm import LinearSVC\n",
        "from sklearn.model_selection import cross_validate, cross_val_score, KFold\n",
        "\n",
        "\n",
        "logistic = LogisticRegression(max_iter=10000)\n",
        "tree = DecisionTreeClassifier()\n",
        "knn = KNeighborsClassifier()\n",
        "svm = LinearSVC()\n",
        "\n",
        "voting_estimators = [('logistic', logistic), ('tree', tree), ('knn', knn)]"
      ],
      "metadata": {
        "id": "j6NLCckDWj2D"
      },
      "execution_count": null,
      "outputs": []
    },
    {
      "cell_type": "code",
      "source": [
        "#KFold 객체 생성\n",
        "kfold = KFold(n_splits = 3,\n",
        "              shuffle = True,\n",
        "              random_state = 10)\n",
        "\n",
        "#hard vote\n",
        "hard_vote = VotingClassifier(estimators = voting_estimators,\n",
        "                          voting = 'hard')\n",
        "hard_vote_cv = cross_validate(hard_vote, X_train, y_train, cv = kfold)\n",
        "hard_vote.fit(X_train, y_train)\n",
        "hard_pred = hard_vote.predict(X_test)\n",
        "\n",
        "#soft vote\n",
        "soft_vote = VotingClassifier(estimators = voting_estimators,\n",
        "                          voting = 'soft')\n",
        "soft_vote_cv = cross_validate(soft_vote, X_train, y_train, cv = kfold)\n",
        "soft_vote.fit(X_train, y_train)\n",
        "soft_pred = soft_vote.predict(X_test)"
      ],
      "metadata": {
        "id": "uUxRbwbNqj4d"
      },
      "execution_count": null,
      "outputs": []
    },
    {
      "cell_type": "code",
      "source": [
        "#Ensemble기법과 성능을 비교하기 위해 각 클래스도 따로 학습을 시켜준다.\n",
        "logistic.fit(X_train, y_train)\n",
        "tree.fit(X_train, y_train)\n",
        "knn.fit(X_train, y_train)\n",
        "svm.fit(X_train, y_train)\n",
        "\n",
        "logi_pred = logistic.predict(X_test)\n",
        "tree_pred = tree.predict(X_test)\n",
        "knn_pred = knn.predict(X_test)\n",
        "svm_pred = svm.predict(X_test)"
      ],
      "metadata": {
        "id": "AXdr3eupplcP",
        "colab": {
          "base_uri": "https://localhost:8080/"
        },
        "outputId": "07cf6d1f-62c0-42f0-daa0-ccab3ffb64c6"
      },
      "execution_count": null,
      "outputs": [
        {
          "output_type": "stream",
          "name": "stderr",
          "text": [
            "/usr/local/lib/python3.10/dist-packages/sklearn/svm/_base.py:1244: ConvergenceWarning: Liblinear failed to converge, increase the number of iterations.\n",
            "  warnings.warn(\n"
          ]
        }
      ]
    },
    {
      "cell_type": "code",
      "source": [
        "a = print('logistic accuracy:{:.3f}'.format(metrics.accuracy_score(y_test, logi_pred)))\n",
        "b = print('tree accuracy:{:.3f}'.format(metrics.accuracy_score(y_test, tree_pred)))\n",
        "c = print('knn accuracy:{:.3f}'.format(metrics.accuracy_score(y_test, knn_pred)))\n",
        "d = print('svm accuracy:{:.3f}'.format(metrics.accuracy_score(y_test, svm_pred)))\n",
        "e = print('hard voting accuracy:{:.3f}'.format(metrics.accuracy_score(y_test, hard_pred)))\n",
        "f = print('soft voting accuracy:{:.3f}'.format(metrics.accuracy_score(y_test, soft_pred)))"
      ],
      "metadata": {
        "id": "Pb7vn7yIl7Ni",
        "colab": {
          "base_uri": "https://localhost:8080/"
        },
        "outputId": "6d310fc2-0ce5-41ea-bee3-0758ac4a1980"
      },
      "execution_count": null,
      "outputs": [
        {
          "output_type": "stream",
          "name": "stdout",
          "text": [
            "logistic accuracy:0.924\n",
            "tree accuracy:0.906\n",
            "knn accuracy:0.918\n",
            "svm accuracy:0.912\n",
            "hard voting accuracy:0.930\n",
            "soft voting accuracy:0.918\n"
          ]
        }
      ]
    },
    {
      "cell_type": "markdown",
      "source": [
        "무조건 ensemble의 성능이 가장 좋은 것은 아니다.\n",
        "\n",
        "특히, soft voting은 평균을 내는 것이기 때문에 더 높은 성능의 모델이 존재한다. 다만 soft voting이 내는 결과가 대부분의 경우 합리적이기 때문에 의의가 있다."
      ],
      "metadata": {
        "id": "ao6B8T0p1pwR"
      }
    },
    {
      "cell_type": "markdown",
      "source": [
        "## Ensemble - Bagging"
      ],
      "metadata": {
        "id": "1R83f3OI5ITU"
      }
    },
    {
      "cell_type": "code",
      "source": [
        "from sklearn.ensemble import RandomForestClassifier\n",
        "\n",
        "forest = RandomForestClassifier(criterion = 'gini',\n",
        "                                n_estimators = 5,\n",
        "                                random_state = 10)\n",
        "#n_estimaotrs는 데이터 샘플을 몇 개까지 만들 것이냐는 의미이다.\n",
        "#의사결정트리를 5개 만드는 것\n",
        "forest.fit(X_train, y_train)\n",
        "forest_pred = forest.predict(X_test)\n",
        "print('RandomForest accuracy:{:.3f}'.format(metrics.accuracy_score(y_test, forest_pred)))"
      ],
      "metadata": {
        "colab": {
          "base_uri": "https://localhost:8080/"
        },
        "id": "vezBVgX95LL-",
        "outputId": "1acadcd9-2812-408a-89d7-8bdb2d8b4d15"
      },
      "execution_count": null,
      "outputs": [
        {
          "output_type": "stream",
          "name": "stdout",
          "text": [
            "RandomForest accuracy:0.930\n"
          ]
        }
      ]
    },
    {
      "cell_type": "code",
      "source": [
        "#트리의 개수를 50개로 늘릴 경우\n",
        "forest2 = RandomForestClassifier(criterion = 'gini',\n",
        "                                 n_estimators = 50,\n",
        "                                random_state = 10)\n",
        "forest2.fit(X_train, y_train)\n",
        "forest2_pred = forest2.predict(X_test)\n",
        "print('RandomForest2 accuracy:{:.3f}'.format(metrics.accuracy_score(y_test, forest2_pred)))"
      ],
      "metadata": {
        "colab": {
          "base_uri": "https://localhost:8080/"
        },
        "id": "8B4fufYjvy_V",
        "outputId": "9324de81-41e7-4d75-ee9b-ebc9a56044d8"
      },
      "execution_count": null,
      "outputs": [
        {
          "output_type": "stream",
          "name": "stdout",
          "text": [
            "RandomForest2 accuracy:0.953\n"
          ]
        }
      ]
    },
    {
      "cell_type": "markdown",
      "source": [
        "* 아래 코드는 실행하는 데에 5분 정도 걸립니다!"
      ],
      "metadata": {
        "id": "_oLzVE5Yk_h0"
      }
    },
    {
      "cell_type": "code",
      "source": [
        "#GridSearch로 최적의 파라미터 찾기\n",
        "#이번에는 n_estimators까지 범위를 지정하는 것으로 hyperparameter를 수정해준다.\n",
        "hyperparams2 = {'n_estimators': [10, 100, 500],\n",
        "                'max_depth': list(range(2, 8)),\n",
        "                'min_samples_split': list(range(2, 10))}\n",
        "\n",
        "grid_forest = GridSearchCV(estimator = forest,\n",
        "                      param_grid = hyperparams2,\n",
        "                      cv = 5)\n",
        "grid_forest.fit(X_train, y_train)"
      ],
      "metadata": {
        "colab": {
          "base_uri": "https://localhost:8080/",
          "height": 118
        },
        "id": "HuvqyIGUZMZ0",
        "outputId": "b9c2653c-2569-41c8-d898-699e9df46a58"
      },
      "execution_count": null,
      "outputs": [
        {
          "output_type": "execute_result",
          "data": {
            "text/plain": [
              "GridSearchCV(cv=5,\n",
              "             estimator=RandomForestClassifier(n_estimators=5, random_state=10),\n",
              "             param_grid={'max_depth': [2, 3, 4, 5, 6, 7],\n",
              "                         'min_samples_split': [2, 3, 4, 5, 6, 7, 8, 9],\n",
              "                         'n_estimators': [10, 100, 500]})"
            ],
            "text/html": [
              "<style>#sk-container-id-17 {color: black;background-color: white;}#sk-container-id-17 pre{padding: 0;}#sk-container-id-17 div.sk-toggleable {background-color: white;}#sk-container-id-17 label.sk-toggleable__label {cursor: pointer;display: block;width: 100%;margin-bottom: 0;padding: 0.3em;box-sizing: border-box;text-align: center;}#sk-container-id-17 label.sk-toggleable__label-arrow:before {content: \"▸\";float: left;margin-right: 0.25em;color: #696969;}#sk-container-id-17 label.sk-toggleable__label-arrow:hover:before {color: black;}#sk-container-id-17 div.sk-estimator:hover label.sk-toggleable__label-arrow:before {color: black;}#sk-container-id-17 div.sk-toggleable__content {max-height: 0;max-width: 0;overflow: hidden;text-align: left;background-color: #f0f8ff;}#sk-container-id-17 div.sk-toggleable__content pre {margin: 0.2em;color: black;border-radius: 0.25em;background-color: #f0f8ff;}#sk-container-id-17 input.sk-toggleable__control:checked~div.sk-toggleable__content {max-height: 200px;max-width: 100%;overflow: auto;}#sk-container-id-17 input.sk-toggleable__control:checked~label.sk-toggleable__label-arrow:before {content: \"▾\";}#sk-container-id-17 div.sk-estimator input.sk-toggleable__control:checked~label.sk-toggleable__label {background-color: #d4ebff;}#sk-container-id-17 div.sk-label input.sk-toggleable__control:checked~label.sk-toggleable__label {background-color: #d4ebff;}#sk-container-id-17 input.sk-hidden--visually {border: 0;clip: rect(1px 1px 1px 1px);clip: rect(1px, 1px, 1px, 1px);height: 1px;margin: -1px;overflow: hidden;padding: 0;position: absolute;width: 1px;}#sk-container-id-17 div.sk-estimator {font-family: monospace;background-color: #f0f8ff;border: 1px dotted black;border-radius: 0.25em;box-sizing: border-box;margin-bottom: 0.5em;}#sk-container-id-17 div.sk-estimator:hover {background-color: #d4ebff;}#sk-container-id-17 div.sk-parallel-item::after {content: \"\";width: 100%;border-bottom: 1px solid gray;flex-grow: 1;}#sk-container-id-17 div.sk-label:hover label.sk-toggleable__label {background-color: #d4ebff;}#sk-container-id-17 div.sk-serial::before {content: \"\";position: absolute;border-left: 1px solid gray;box-sizing: border-box;top: 0;bottom: 0;left: 50%;z-index: 0;}#sk-container-id-17 div.sk-serial {display: flex;flex-direction: column;align-items: center;background-color: white;padding-right: 0.2em;padding-left: 0.2em;position: relative;}#sk-container-id-17 div.sk-item {position: relative;z-index: 1;}#sk-container-id-17 div.sk-parallel {display: flex;align-items: stretch;justify-content: center;background-color: white;position: relative;}#sk-container-id-17 div.sk-item::before, #sk-container-id-17 div.sk-parallel-item::before {content: \"\";position: absolute;border-left: 1px solid gray;box-sizing: border-box;top: 0;bottom: 0;left: 50%;z-index: -1;}#sk-container-id-17 div.sk-parallel-item {display: flex;flex-direction: column;z-index: 1;position: relative;background-color: white;}#sk-container-id-17 div.sk-parallel-item:first-child::after {align-self: flex-end;width: 50%;}#sk-container-id-17 div.sk-parallel-item:last-child::after {align-self: flex-start;width: 50%;}#sk-container-id-17 div.sk-parallel-item:only-child::after {width: 0;}#sk-container-id-17 div.sk-dashed-wrapped {border: 1px dashed gray;margin: 0 0.4em 0.5em 0.4em;box-sizing: border-box;padding-bottom: 0.4em;background-color: white;}#sk-container-id-17 div.sk-label label {font-family: monospace;font-weight: bold;display: inline-block;line-height: 1.2em;}#sk-container-id-17 div.sk-label-container {text-align: center;}#sk-container-id-17 div.sk-container {/* jupyter's `normalize.less` sets `[hidden] { display: none; }` but bootstrap.min.css set `[hidden] { display: none !important; }` so we also need the `!important` here to be able to override the default hidden behavior on the sphinx rendered scikit-learn.org. See: https://github.com/scikit-learn/scikit-learn/issues/21755 */display: inline-block !important;position: relative;}#sk-container-id-17 div.sk-text-repr-fallback {display: none;}</style><div id=\"sk-container-id-17\" class=\"sk-top-container\"><div class=\"sk-text-repr-fallback\"><pre>GridSearchCV(cv=5,\n",
              "             estimator=RandomForestClassifier(n_estimators=5, random_state=10),\n",
              "             param_grid={&#x27;max_depth&#x27;: [2, 3, 4, 5, 6, 7],\n",
              "                         &#x27;min_samples_split&#x27;: [2, 3, 4, 5, 6, 7, 8, 9],\n",
              "                         &#x27;n_estimators&#x27;: [10, 100, 500]})</pre><b>In a Jupyter environment, please rerun this cell to show the HTML representation or trust the notebook. <br />On GitHub, the HTML representation is unable to render, please try loading this page with nbviewer.org.</b></div><div class=\"sk-container\" hidden><div class=\"sk-item sk-dashed-wrapped\"><div class=\"sk-label-container\"><div class=\"sk-label sk-toggleable\"><input class=\"sk-toggleable__control sk-hidden--visually\" id=\"sk-estimator-id-45\" type=\"checkbox\" ><label for=\"sk-estimator-id-45\" class=\"sk-toggleable__label sk-toggleable__label-arrow\">GridSearchCV</label><div class=\"sk-toggleable__content\"><pre>GridSearchCV(cv=5,\n",
              "             estimator=RandomForestClassifier(n_estimators=5, random_state=10),\n",
              "             param_grid={&#x27;max_depth&#x27;: [2, 3, 4, 5, 6, 7],\n",
              "                         &#x27;min_samples_split&#x27;: [2, 3, 4, 5, 6, 7, 8, 9],\n",
              "                         &#x27;n_estimators&#x27;: [10, 100, 500]})</pre></div></div></div><div class=\"sk-parallel\"><div class=\"sk-parallel-item\"><div class=\"sk-item\"><div class=\"sk-label-container\"><div class=\"sk-label sk-toggleable\"><input class=\"sk-toggleable__control sk-hidden--visually\" id=\"sk-estimator-id-46\" type=\"checkbox\" ><label for=\"sk-estimator-id-46\" class=\"sk-toggleable__label sk-toggleable__label-arrow\">estimator: RandomForestClassifier</label><div class=\"sk-toggleable__content\"><pre>RandomForestClassifier(n_estimators=5, random_state=10)</pre></div></div></div><div class=\"sk-serial\"><div class=\"sk-item\"><div class=\"sk-estimator sk-toggleable\"><input class=\"sk-toggleable__control sk-hidden--visually\" id=\"sk-estimator-id-47\" type=\"checkbox\" ><label for=\"sk-estimator-id-47\" class=\"sk-toggleable__label sk-toggleable__label-arrow\">RandomForestClassifier</label><div class=\"sk-toggleable__content\"><pre>RandomForestClassifier(n_estimators=5, random_state=10)</pre></div></div></div></div></div></div></div></div></div></div>"
            ]
          },
          "metadata": {},
          "execution_count": 114
        }
      ]
    },
    {
      "cell_type": "code",
      "source": [
        "grid_forest.best_params_"
      ],
      "metadata": {
        "colab": {
          "base_uri": "https://localhost:8080/"
        },
        "id": "sGJLfPKAdDN_",
        "outputId": "60537f62-51b2-4c31-9cc4-fe1be803b1b4"
      },
      "execution_count": null,
      "outputs": [
        {
          "output_type": "execute_result",
          "data": {
            "text/plain": [
              "{'max_depth': 5, 'min_samples_split': 5, 'n_estimators': 10}"
            ]
          },
          "metadata": {},
          "execution_count": 115
        }
      ]
    },
    {
      "cell_type": "code",
      "source": [
        "grid_forest.best_score_"
      ],
      "metadata": {
        "colab": {
          "base_uri": "https://localhost:8080/"
        },
        "id": "DmY9ZYJnepPk",
        "outputId": "9494b36d-1fa6-40cd-c4ce-3b75f5b87884"
      },
      "execution_count": null,
      "outputs": [
        {
          "output_type": "execute_result",
          "data": {
            "text/plain": [
              "0.9673417721518988"
            ]
          },
          "metadata": {},
          "execution_count": 116
        }
      ]
    },
    {
      "cell_type": "markdown",
      "source": [
        "**feature importances**\n",
        "\n",
        "Random Forest의 각 피처의 중요도 시각화\n"
      ],
      "metadata": {
        "id": "kRyLnl7Qo8He"
      }
    },
    {
      "cell_type": "code",
      "source": [
        "import matplotlib.pyplot as plt\n",
        "import seaborn as sns\n",
        "%matplotlib inline\n",
        "\n",
        "ftr_importances_values = forest.feature_importances_\n",
        "ftr_importances = pd.Series(ftr_importances_values, index = X_train.columns)\n",
        "ftr_top20 = ftr_importances.sort_values(ascending=False)[:20]\n",
        "\n",
        "plt.figure(figsize=(8,6))\n",
        "plt.title('Top 20 Feature Importances')\n",
        "sns.barplot(x = ftr_top20, y = ftr_top20.index)\n",
        "plt.show()"
      ],
      "metadata": {
        "colab": {
          "base_uri": "https://localhost:8080/",
          "height": 545
        },
        "id": "MsPXpdFaosO9",
        "outputId": "96a88a46-7016-43a3-ea48-21ebd39b25f9"
      },
      "execution_count": null,
      "outputs": [
        {
          "output_type": "display_data",
          "data": {
            "text/plain": [
              "<Figure size 800x600 with 1 Axes>"
            ],
            "image/png": "[encoded data removed]"
          },
          "metadata": {}
        }
      ]
    },
    {
      "cell_type": "markdown",
      "source": [
        "## Ensemble - Boosting"
      ],
      "metadata": {
        "id": "-wx2iSK6AY-S"
      }
    },
    {
      "cell_type": "markdown",
      "source": [
        "AdaBoost"
      ],
      "metadata": {
        "id": "6ZNKJJHgEcVf"
      }
    },
    {
      "cell_type": "code",
      "source": [
        "from sklearn.ensemble import AdaBoostClassifier\n",
        "\n",
        "adaboost = AdaBoostClassifier(n_estimators = 5,\n",
        "                              learning_rate = 0.1)\n",
        "\n",
        "adaboost.fit(X_train, y_train)\n",
        "adaboost_pred = adaboost.predict(X_test)\n",
        "print('Adaboost accuracy:{:.3f}'.format(metrics.accuracy_score(y_test, adaboost_pred)))\n",
        "print('Adaboost f1 score:{:.3f}'.format(metrics.f1_score(y_test, adaboost_pred)))"
      ],
      "metadata": {
        "colab": {
          "base_uri": "https://localhost:8080/"
        },
        "id": "_aBrRf-FAcdn",
        "outputId": "9fbf2f26-89d8-4597-8d34-ed3f9b1fb593"
      },
      "execution_count": null,
      "outputs": [
        {
          "output_type": "stream",
          "name": "stdout",
          "text": [
            "Adaboost accuracy:0.930\n",
            "Adaboost f1 score:0.909\n"
          ]
        }
      ]
    },
    {
      "cell_type": "code",
      "source": [
        "from sklearn.ensemble import AdaBoostClassifier\n",
        "\n",
        "adaboost2 = AdaBoostClassifier(n_estimators = 50,\n",
        "                              learning_rate = 0.1)\n",
        "\n",
        "adaboost2.fit(X_train, y_train)\n",
        "adaboost2_pred = adaboost2.predict(X_test)\n",
        "print('Adaboost2 accuracy:{:.3f}'.format(metrics.accuracy_score(y_test, adaboost2_pred)))\n",
        "print('Adaboost2 f1 score:{:.3f}'.format(metrics.f1_score(y_test, adaboost2_pred)))"
      ],
      "metadata": {
        "colab": {
          "base_uri": "https://localhost:8080/"
        },
        "id": "cKBxzkCWA0CP",
        "outputId": "e434901c-6242-453d-ded5-3ce9f8e6dd29"
      },
      "execution_count": null,
      "outputs": [
        {
          "output_type": "stream",
          "name": "stdout",
          "text": [
            "Adaboost2 accuracy:0.959\n",
            "Adaboost2 f1 score:0.944\n"
          ]
        }
      ]
    },
    {
      "cell_type": "code",
      "source": [
        "hyperparams3 = {'n_estimators': [5, 10, 100],\n",
        "                'learning_rate': [0.01, 0.1, 1]}\n",
        "\n",
        "grid_adaboost = GridSearchCV(adaboost,\n",
        "                             param_grid = hyperparams3,\n",
        "                             cv = 5)\n",
        "grid_adaboost.fit(X_train, y_train)"
      ],
      "metadata": {
        "colab": {
          "base_uri": "https://localhost:8080/",
          "height": 118
        },
        "id": "2YFwYUT7lULZ",
        "outputId": "f614e8c3-48a7-46e4-cd1e-eee749ece3e1"
      },
      "execution_count": null,
      "outputs": [
        {
          "output_type": "execute_result",
          "data": {
            "text/plain": [
              "GridSearchCV(cv=5,\n",
              "             estimator=AdaBoostClassifier(learning_rate=0.1, n_estimators=5),\n",
              "             param_grid={'learning_rate': [0.01, 0.1, 1],\n",
              "                         'n_estimators': [5, 10, 100]})"
            ],
            "text/html": [
              "<style>#sk-container-id-19 {color: black;background-color: white;}#sk-container-id-19 pre{padding: 0;}#sk-container-id-19 div.sk-toggleable {background-color: white;}#sk-container-id-19 label.sk-toggleable__label {cursor: pointer;display: block;width: 100%;margin-bottom: 0;padding: 0.3em;box-sizing: border-box;text-align: center;}#sk-container-id-19 label.sk-toggleable__label-arrow:before {content: \"▸\";float: left;margin-right: 0.25em;color: #696969;}#sk-container-id-19 label.sk-toggleable__label-arrow:hover:before {color: black;}#sk-container-id-19 div.sk-estimator:hover label.sk-toggleable__label-arrow:before {color: black;}#sk-container-id-19 div.sk-toggleable__content {max-height: 0;max-width: 0;overflow: hidden;text-align: left;background-color: #f0f8ff;}#sk-container-id-19 div.sk-toggleable__content pre {margin: 0.2em;color: black;border-radius: 0.25em;background-color: #f0f8ff;}#sk-container-id-19 input.sk-toggleable__control:checked~div.sk-toggleable__content {max-height: 200px;max-width: 100%;overflow: auto;}#sk-container-id-19 input.sk-toggleable__control:checked~label.sk-toggleable__label-arrow:before {content: \"▾\";}#sk-container-id-19 div.sk-estimator input.sk-toggleable__control:checked~label.sk-toggleable__label {background-color: #d4ebff;}#sk-container-id-19 div.sk-label input.sk-toggleable__control:checked~label.sk-toggleable__label {background-color: #d4ebff;}#sk-container-id-19 input.sk-hidden--visually {border: 0;clip: rect(1px 1px 1px 1px);clip: rect(1px, 1px, 1px, 1px);height: 1px;margin: -1px;overflow: hidden;padding: 0;position: absolute;width: 1px;}#sk-container-id-19 div.sk-estimator {font-family: monospace;background-color: #f0f8ff;border: 1px dotted black;border-radius: 0.25em;box-sizing: border-box;margin-bottom: 0.5em;}#sk-container-id-19 div.sk-estimator:hover {background-color: #d4ebff;}#sk-container-id-19 div.sk-parallel-item::after {content: \"\";width: 100%;border-bottom: 1px solid gray;flex-grow: 1;}#sk-container-id-19 div.sk-label:hover label.sk-toggleable__label {background-color: #d4ebff;}#sk-container-id-19 div.sk-serial::before {content: \"\";position: absolute;border-left: 1px solid gray;box-sizing: border-box;top: 0;bottom: 0;left: 50%;z-index: 0;}#sk-container-id-19 div.sk-serial {display: flex;flex-direction: column;align-items: center;background-color: white;padding-right: 0.2em;padding-left: 0.2em;position: relative;}#sk-container-id-19 div.sk-item {position: relative;z-index: 1;}#sk-container-id-19 div.sk-parallel {display: flex;align-items: stretch;justify-content: center;background-color: white;position: relative;}#sk-container-id-19 div.sk-item::before, #sk-container-id-19 div.sk-parallel-item::before {content: \"\";position: absolute;border-left: 1px solid gray;box-sizing: border-box;top: 0;bottom: 0;left: 50%;z-index: -1;}#sk-container-id-19 div.sk-parallel-item {display: flex;flex-direction: column;z-index: 1;position: relative;background-color: white;}#sk-container-id-19 div.sk-parallel-item:first-child::after {align-self: flex-end;width: 50%;}#sk-container-id-19 div.sk-parallel-item:last-child::after {align-self: flex-start;width: 50%;}#sk-container-id-19 div.sk-parallel-item:only-child::after {width: 0;}#sk-container-id-19 div.sk-dashed-wrapped {border: 1px dashed gray;margin: 0 0.4em 0.5em 0.4em;box-sizing: border-box;padding-bottom: 0.4em;background-color: white;}#sk-container-id-19 div.sk-label label {font-family: monospace;font-weight: bold;display: inline-block;line-height: 1.2em;}#sk-container-id-19 div.sk-label-container {text-align: center;}#sk-container-id-19 div.sk-container {/* jupyter's `normalize.less` sets `[hidden] { display: none; }` but bootstrap.min.css set `[hidden] { display: none !important; }` so we also need the `!important` here to be able to override the default hidden behavior on the sphinx rendered scikit-learn.org. See: https://github.com/scikit-learn/scikit-learn/issues/21755 */display: inline-block !important;position: relative;}#sk-container-id-19 div.sk-text-repr-fallback {display: none;}</style><div id=\"sk-container-id-19\" class=\"sk-top-container\"><div class=\"sk-text-repr-fallback\"><pre>GridSearchCV(cv=5,\n",
              "             estimator=AdaBoostClassifier(learning_rate=0.1, n_estimators=5),\n",
              "             param_grid={&#x27;learning_rate&#x27;: [0.01, 0.1, 1],\n",
              "                         &#x27;n_estimators&#x27;: [5, 10, 100]})</pre><b>In a Jupyter environment, please rerun this cell to show the HTML representation or trust the notebook. <br />On GitHub, the HTML representation is unable to render, please try loading this page with nbviewer.org.</b></div><div class=\"sk-container\" hidden><div class=\"sk-item sk-dashed-wrapped\"><div class=\"sk-label-container\"><div class=\"sk-label sk-toggleable\"><input class=\"sk-toggleable__control sk-hidden--visually\" id=\"sk-estimator-id-51\" type=\"checkbox\" ><label for=\"sk-estimator-id-51\" class=\"sk-toggleable__label sk-toggleable__label-arrow\">GridSearchCV</label><div class=\"sk-toggleable__content\"><pre>GridSearchCV(cv=5,\n",
              "             estimator=AdaBoostClassifier(learning_rate=0.1, n_estimators=5),\n",
              "             param_grid={&#x27;learning_rate&#x27;: [0.01, 0.1, 1],\n",
              "                         &#x27;n_estimators&#x27;: [5, 10, 100]})</pre></div></div></div><div class=\"sk-parallel\"><div class=\"sk-parallel-item\"><div class=\"sk-item\"><div class=\"sk-label-container\"><div class=\"sk-label sk-toggleable\"><input class=\"sk-toggleable__control sk-hidden--visually\" id=\"sk-estimator-id-52\" type=\"checkbox\" ><label for=\"sk-estimator-id-52\" class=\"sk-toggleable__label sk-toggleable__label-arrow\">estimator: AdaBoostClassifier</label><div class=\"sk-toggleable__content\"><pre>AdaBoostClassifier(learning_rate=0.1, n_estimators=5)</pre></div></div></div><div class=\"sk-serial\"><div class=\"sk-item\"><div class=\"sk-estimator sk-toggleable\"><input class=\"sk-toggleable__control sk-hidden--visually\" id=\"sk-estimator-id-53\" type=\"checkbox\" ><label for=\"sk-estimator-id-53\" class=\"sk-toggleable__label sk-toggleable__label-arrow\">AdaBoostClassifier</label><div class=\"sk-toggleable__content\"><pre>AdaBoostClassifier(learning_rate=0.1, n_estimators=5)</pre></div></div></div></div></div></div></div></div></div></div>"
            ]
          },
          "metadata": {},
          "execution_count": 129
        }
      ]
    },
    {
      "cell_type": "code",
      "source": [
        "grid_adaboost.best_params_"
      ],
      "metadata": {
        "colab": {
          "base_uri": "https://localhost:8080/"
        },
        "id": "u5iB9wkjnLfp",
        "outputId": "97b8e0d4-e342-4a16-ca0f-af9d1f865f5e"
      },
      "execution_count": null,
      "outputs": [
        {
          "output_type": "execute_result",
          "data": {
            "text/plain": [
              "{'learning_rate': 1, 'n_estimators': 100}"
            ]
          },
          "metadata": {},
          "execution_count": 130
        }
      ]
    },
    {
      "cell_type": "code",
      "source": [
        "grid_adaboost.best_score_"
      ],
      "metadata": {
        "colab": {
          "base_uri": "https://localhost:8080/"
        },
        "id": "UDiwHohYm1NG",
        "outputId": "2def4372-ab6a-4517-a7d8-6a04672c8487"
      },
      "execution_count": null,
      "outputs": [
        {
          "output_type": "execute_result",
          "data": {
            "text/plain": [
              "0.9723417721518987"
            ]
          },
          "metadata": {},
          "execution_count": 131
        }
      ]
    },
    {
      "cell_type": "markdown",
      "source": [
        "Gradient Boosting Machine(GBM)"
      ],
      "metadata": {
        "id": "wUvPpfg7E6ZK"
      }
    },
    {
      "cell_type": "code",
      "source": [
        "from sklearn.ensemble import GradientBoostingClassifier\n",
        "\n",
        "gbm = GradientBoostingClassifier()\n",
        "gbm.fit(X_train, y_train)\n",
        "gbm_pred = gbm.predict(X_test)\n",
        "\n",
        "print('GBM accuracy:{:.3f}'.format(metrics.accuracy_score(y_test,gbm_pred)))\n",
        "print('GBM f1 score:{:.3f}'.format(metrics.f1_score(y_test,gbm_pred)))"
      ],
      "metadata": {
        "id": "PD-8vYCRFGYp",
        "colab": {
          "base_uri": "https://localhost:8080/"
        },
        "outputId": "30227ab3-6e27-4808-9975-c5657a1d1f01"
      },
      "execution_count": null,
      "outputs": [
        {
          "output_type": "stream",
          "name": "stdout",
          "text": [
            "GBM accuracy:0.947\n",
            "GBM f1 score:0.930\n"
          ]
        }
      ]
    },
    {
      "cell_type": "code",
      "source": [
        "hyperparams4 = {'n_estimators': [5, 10, 100],\n",
        "                'max_depth': list(range(2, 8)),\n",
        "                'min_samples_split': list(range(2, 10))}\n",
        "\n",
        "grid_gbm = GridSearchCV(gbm,\n",
        "                      param_grid = hyperparams4,\n",
        "                      cv = 5)\n",
        "grid_gbm.fit(X_train, y_train)"
      ],
      "metadata": {
        "colab": {
          "base_uri": "https://localhost:8080/",
          "height": 118
        },
        "id": "oyyL_KW6mikV",
        "outputId": "bb941473-fa31-4099-8f84-fae0b0a5ac25"
      },
      "execution_count": null,
      "outputs": [
        {
          "output_type": "execute_result",
          "data": {
            "text/plain": [
              "GridSearchCV(cv=5, estimator=GradientBoostingClassifier(),\n",
              "             param_grid={'max_depth': [2, 3, 4, 5, 6, 7],\n",
              "                         'min_samples_split': [2, 3, 4, 5, 6, 7, 8, 9],\n",
              "                         'n_estimators': [5, 10, 100]})"
            ],
            "text/html": [
              "<style>#sk-container-id-20 {color: black;background-color: white;}#sk-container-id-20 pre{padding: 0;}#sk-container-id-20 div.sk-toggleable {background-color: white;}#sk-container-id-20 label.sk-toggleable__label {cursor: pointer;display: block;width: 100%;margin-bottom: 0;padding: 0.3em;box-sizing: border-box;text-align: center;}#sk-container-id-20 label.sk-toggleable__label-arrow:before {content: \"▸\";float: left;margin-right: 0.25em;color: #696969;}#sk-container-id-20 label.sk-toggleable__label-arrow:hover:before {color: black;}#sk-container-id-20 div.sk-estimator:hover label.sk-toggleable__label-arrow:before {color: black;}#sk-container-id-20 div.sk-toggleable__content {max-height: 0;max-width: 0;overflow: hidden;text-align: left;background-color: #f0f8ff;}#sk-container-id-20 div.sk-toggleable__content pre {margin: 0.2em;color: black;border-radius: 0.25em;background-color: #f0f8ff;}#sk-container-id-20 input.sk-toggleable__control:checked~div.sk-toggleable__content {max-height: 200px;max-width: 100%;overflow: auto;}#sk-container-id-20 input.sk-toggleable__control:checked~label.sk-toggleable__label-arrow:before {content: \"▾\";}#sk-container-id-20 div.sk-estimator input.sk-toggleable__control:checked~label.sk-toggleable__label {background-color: #d4ebff;}#sk-container-id-20 div.sk-label input.sk-toggleable__control:checked~label.sk-toggleable__label {background-color: #d4ebff;}#sk-container-id-20 input.sk-hidden--visually {border: 0;clip: rect(1px 1px 1px 1px);clip: rect(1px, 1px, 1px, 1px);height: 1px;margin: -1px;overflow: hidden;padding: 0;position: absolute;width: 1px;}#sk-container-id-20 div.sk-estimator {font-family: monospace;background-color: #f0f8ff;border: 1px dotted black;border-radius: 0.25em;box-sizing: border-box;margin-bottom: 0.5em;}#sk-container-id-20 div.sk-estimator:hover {background-color: #d4ebff;}#sk-container-id-20 div.sk-parallel-item::after {content: \"\";width: 100%;border-bottom: 1px solid gray;flex-grow: 1;}#sk-container-id-20 div.sk-label:hover label.sk-toggleable__label {background-color: #d4ebff;}#sk-container-id-20 div.sk-serial::before {content: \"\";position: absolute;border-left: 1px solid gray;box-sizing: border-box;top: 0;bottom: 0;left: 50%;z-index: 0;}#sk-container-id-20 div.sk-serial {display: flex;flex-direction: column;align-items: center;background-color: white;padding-right: 0.2em;padding-left: 0.2em;position: relative;}#sk-container-id-20 div.sk-item {position: relative;z-index: 1;}#sk-container-id-20 div.sk-parallel {display: flex;align-items: stretch;justify-content: center;background-color: white;position: relative;}#sk-container-id-20 div.sk-item::before, #sk-container-id-20 div.sk-parallel-item::before {content: \"\";position: absolute;border-left: 1px solid gray;box-sizing: border-box;top: 0;bottom: 0;left: 50%;z-index: -1;}#sk-container-id-20 div.sk-parallel-item {display: flex;flex-direction: column;z-index: 1;position: relative;background-color: white;}#sk-container-id-20 div.sk-parallel-item:first-child::after {align-self: flex-end;width: 50%;}#sk-container-id-20 div.sk-parallel-item:last-child::after {align-self: flex-start;width: 50%;}#sk-container-id-20 div.sk-parallel-item:only-child::after {width: 0;}#sk-container-id-20 div.sk-dashed-wrapped {border: 1px dashed gray;margin: 0 0.4em 0.5em 0.4em;box-sizing: border-box;padding-bottom: 0.4em;background-color: white;}#sk-container-id-20 div.sk-label label {font-family: monospace;font-weight: bold;display: inline-block;line-height: 1.2em;}#sk-container-id-20 div.sk-label-container {text-align: center;}#sk-container-id-20 div.sk-container {/* jupyter's `normalize.less` sets `[hidden] { display: none; }` but bootstrap.min.css set `[hidden] { display: none !important; }` so we also need the `!important` here to be able to override the default hidden behavior on the sphinx rendered scikit-learn.org. See: https://github.com/scikit-learn/scikit-learn/issues/21755 */display: inline-block !important;position: relative;}#sk-container-id-20 div.sk-text-repr-fallback {display: none;}</style><div id=\"sk-container-id-20\" class=\"sk-top-container\"><div class=\"sk-text-repr-fallback\"><pre>GridSearchCV(cv=5, estimator=GradientBoostingClassifier(),\n",
              "             param_grid={&#x27;max_depth&#x27;: [2, 3, 4, 5, 6, 7],\n",
              "                         &#x27;min_samples_split&#x27;: [2, 3, 4, 5, 6, 7, 8, 9],\n",
              "                         &#x27;n_estimators&#x27;: [5, 10, 100]})</pre><b>In a Jupyter environment, please rerun this cell to show the HTML representation or trust the notebook. <br />On GitHub, the HTML representation is unable to render, please try loading this page with nbviewer.org.</b></div><div class=\"sk-container\" hidden><div class=\"sk-item sk-dashed-wrapped\"><div class=\"sk-label-container\"><div class=\"sk-label sk-toggleable\"><input class=\"sk-toggleable__control sk-hidden--visually\" id=\"sk-estimator-id-54\" type=\"checkbox\" ><label for=\"sk-estimator-id-54\" class=\"sk-toggleable__label sk-toggleable__label-arrow\">GridSearchCV</label><div class=\"sk-toggleable__content\"><pre>GridSearchCV(cv=5, estimator=GradientBoostingClassifier(),\n",
              "             param_grid={&#x27;max_depth&#x27;: [2, 3, 4, 5, 6, 7],\n",
              "                         &#x27;min_samples_split&#x27;: [2, 3, 4, 5, 6, 7, 8, 9],\n",
              "                         &#x27;n_estimators&#x27;: [5, 10, 100]})</pre></div></div></div><div class=\"sk-parallel\"><div class=\"sk-parallel-item\"><div class=\"sk-item\"><div class=\"sk-label-container\"><div class=\"sk-label sk-toggleable\"><input class=\"sk-toggleable__control sk-hidden--visually\" id=\"sk-estimator-id-55\" type=\"checkbox\" ><label for=\"sk-estimator-id-55\" class=\"sk-toggleable__label sk-toggleable__label-arrow\">estimator: GradientBoostingClassifier</label><div class=\"sk-toggleable__content\"><pre>GradientBoostingClassifier()</pre></div></div></div><div class=\"sk-serial\"><div class=\"sk-item\"><div class=\"sk-estimator sk-toggleable\"><input class=\"sk-toggleable__control sk-hidden--visually\" id=\"sk-estimator-id-56\" type=\"checkbox\" ><label for=\"sk-estimator-id-56\" class=\"sk-toggleable__label sk-toggleable__label-arrow\">GradientBoostingClassifier</label><div class=\"sk-toggleable__content\"><pre>GradientBoostingClassifier()</pre></div></div></div></div></div></div></div></div></div></div>"
            ]
          },
          "metadata": {},
          "execution_count": 132
        }
      ]
    },
    {
      "cell_type": "code",
      "source": [
        "grid_gbm.best_params_"
      ],
      "metadata": {
        "colab": {
          "base_uri": "https://localhost:8080/"
        },
        "id": "yaGvVlsunUtT",
        "outputId": "6d2328ae-9eef-4583-cbfe-7d6d7eabf3b7"
      },
      "execution_count": null,
      "outputs": [
        {
          "output_type": "execute_result",
          "data": {
            "text/plain": [
              "{'max_depth': 3, 'min_samples_split': 2, 'n_estimators': 100}"
            ]
          },
          "metadata": {},
          "execution_count": 133
        }
      ]
    },
    {
      "cell_type": "code",
      "source": [
        "grid_gbm.best_score_"
      ],
      "metadata": {
        "colab": {
          "base_uri": "https://localhost:8080/"
        },
        "id": "GefYooQhm-RY",
        "outputId": "b565fc4a-7808-45b8-fda7-15698ea1aa4e"
      },
      "execution_count": null,
      "outputs": [
        {
          "output_type": "execute_result",
          "data": {
            "text/plain": [
              "0.9722784810126583"
            ]
          },
          "metadata": {},
          "execution_count": 134
        }
      ]
    },
    {
      "cell_type": "markdown",
      "source": [
        "# Confusion Matrix를 사용한 성능 평가(시각화)"
      ],
      "metadata": {
        "id": "MfPRyjtW7OJh"
      }
    },
    {
      "cell_type": "markdown",
      "source": [
        "Confusion Matrix: Prediction 성능을 측정하기 위해 예측 value와 실제 value를 비교하기 위한 표\n",
        "![confusion matrix.png](data:image/png;base64,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)"
      ],
      "metadata": {
        "id": "MOryuAFDbJH4"
      }
    },
    {
      "cell_type": "markdown",
      "source": [
        "Actual Values는 실제값, Predictive Values는 예측값을 의미한다.\n",
        "\n",
        "TP: 실제 True인 정답을 True라고 예측 (정답)<br>\n",
        "FP: 실제 False인 정답을 True라고 예측 (오답)<br>\n",
        "FN: 실제 True인 정답을 False라고 예측 (오답)<br>\n",
        "TN: 실제 False인 정답을 False라고 예측 (정답)"
      ],
      "metadata": {
        "id": "MxZ8vAb8bquO"
      }
    },
    {
      "cell_type": "code",
      "source": [
        "from sklearn.metrics import confusion_matrix\n",
        "#Logistic Regression\n",
        "y_true = y_test\n",
        "logi_cm = confusion_matrix(y_true, logi_pred)\n",
        "f, ax = plt.subplots(figsize =(5,5))\n",
        "sns.heatmap(logi_cm, annot = True, linewidths = 0.5, linecolor = \"red\", fmt = \".0f\", ax = ax)\n",
        "plt.xlabel(\"logi_pred\")\n",
        "plt.ylabel(\"y_true\")\n",
        "plt.show()"
      ],
      "metadata": {
        "colab": {
          "base_uri": "https://localhost:8080/",
          "height": 465
        },
        "id": "kfTASkBL7R7-",
        "outputId": "b8b3d6e3-0cb4-4771-b29b-a03bad1ed629"
      },
      "execution_count": null,
      "outputs": [
        {
          "output_type": "display_data",
          "data": {
            "text/plain": [
              "<Figure size 500x500 with 2 Axes>"
            ],
            "image/png": "[encoded data removed]"
          },
          "metadata": {}
        }
      ]
    },
    {
      "cell_type": "code",
      "source": [
        "#Random Forest\n",
        "y_true = y_test\n",
        "forest_cm = confusion_matrix(y_true, forest_pred)\n",
        "f, ax = plt.subplots(figsize =(5,5))\n",
        "sns.heatmap(forest_cm, annot = True, linewidths = 0.5, linecolor = \"red\", fmt = \".0f\", ax = ax)\n",
        "plt.xlabel(\"forest_pred\")\n",
        "plt.ylabel(\"y_true\")\n",
        "plt.show()"
      ],
      "metadata": {
        "colab": {
          "base_uri": "https://localhost:8080/",
          "height": 470
        },
        "id": "Qe_QWvRG838T",
        "outputId": "7d6c674d-0ab4-4d45-f9ca-a081e4e98492"
      },
      "execution_count": null,
      "outputs": [
        {
          "output_type": "display_data",
          "data": {
            "text/plain": [
              "<Figure size 500x500 with 2 Axes>"
            ],
            "image/png": "[encoded data removed]"
          },
          "metadata": {}
        }
      ]
    },
    {
      "cell_type": "code",
      "source": [
        "#GBM\n",
        "y_true = y_test\n",
        "gbm_cm = confusion_matrix(y_true, gbm_pred)\n",
        "f, ax = plt.subplots(figsize =(5,5))\n",
        "sns.heatmap(gbm_cm, annot = True, linewidths = 0.5, linecolor = \"red\", fmt = \".0f\", ax = ax)\n",
        "plt.xlabel(\"gbm_pred\")\n",
        "plt.ylabel(\"y_true\")\n",
        "plt.show()"
      ],
      "metadata": {
        "colab": {
          "base_uri": "https://localhost:8080/",
          "height": 465
        },
        "id": "EqQ7KalP9MZX",
        "outputId": "3730f4f2-0fdb-4ee2-cb54-8cb5fd2677c7"
      },
      "execution_count": null,
      "outputs": [
        {
          "output_type": "display_data",
          "data": {
            "text/plain": [
              "<Figure size 500x500 with 2 Axes>"
            ],
            "image/png": "[encoded data removed]"
          },
          "metadata": {}
        }
      ]
    },
    {
      "cell_type": "markdown",
      "source": [
        "참고문헌:\n",
        "8기 장준혁님 코딩 실습 자료\n",
        "\n",
        "https://injo.tistory.com/30\n",
        "\n",
        "https://www.inflearn.com/questions/110501/random-state-%EC%A7%88%EB%AC%B8\n",
        "\n",
        "https://blog.naver.com/PostView.naver?blogId=siniphia&logNo=221396370872\n",
        "\n",
        "https://leedakyeong.tistory.com/entry/%EB%B6%84%EB%A5%98-%EB%AA%A8%EB%8D%B8-%EC%84%B1%EB%8A%A5-%ED%8F%89%EA%B0%80-%EC%A7%80%ED%91%9C-Confusion-Matrix%EB%9E%80-%EC%A0%95%ED%99%95%EB%8F%84Accuracy-%EC%A0%95%EB%B0%80%EB%8F%84Precision-%EC%9E%AC%ED%98%84%EB%8F%84Recall-F1-Score"
      ],
      "metadata": {
        "id": "qb62-8hHRdNX"
      }
    }
  ]
}